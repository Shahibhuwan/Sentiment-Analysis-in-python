{
 "cells": [
  {
   "cell_type": "code",
   "execution_count": 1,
   "metadata": {
    "scrolled": true
   },
   "outputs": [
    {
     "name": "stdout",
     "output_type": "stream",
     "text": [
      "[nltk_data] Downloading package stopwords to\n",
      "[nltk_data]     C:\\Users\\Dell\\AppData\\Roaming\\nltk_data...\n",
      "[nltk_data]   Package stopwords is already up-to-date!\n",
      "[nltk_data] Downloading package wordnet to\n",
      "[nltk_data]     C:\\Users\\Dell\\AppData\\Roaming\\nltk_data...\n",
      "[nltk_data]   Package wordnet is already up-to-date!\n"
     ]
    },
    {
     "data": {
      "text/plain": [
       "True"
      ]
     },
     "execution_count": 1,
     "metadata": {},
     "output_type": "execute_result"
    }
   ],
   "source": [
    "import nltk\n",
    "nltk.download('stopwords')\n",
    "nltk.download('wordnet')\n"
   ]
  },
  {
   "cell_type": "code",
   "execution_count": 2,
   "metadata": {},
   "outputs": [],
   "source": [
    "# from textblob import TextBlob"
   ]
  },
  {
   "cell_type": "code",
   "execution_count": 3,
   "metadata": {},
   "outputs": [
    {
     "data": {
      "text/html": [
       "<div>\n",
       "<style scoped>\n",
       "    .dataframe tbody tr th:only-of-type {\n",
       "        vertical-align: middle;\n",
       "    }\n",
       "\n",
       "    .dataframe tbody tr th {\n",
       "        vertical-align: top;\n",
       "    }\n",
       "\n",
       "    .dataframe thead th {\n",
       "        text-align: right;\n",
       "    }\n",
       "</style>\n",
       "<table border=\"1\" class=\"dataframe\">\n",
       "  <thead>\n",
       "    <tr style=\"text-align: right;\">\n",
       "      <th></th>\n",
       "      <th>reviews</th>\n",
       "      <th>rating</th>\n",
       "    </tr>\n",
       "  </thead>\n",
       "  <tbody>\n",
       "    <tr>\n",
       "      <th>0</th>\n",
       "      <td>1 This product so far has not disappointed. My children love to use it and I like the ability to monitor control what content they see with ease.</td>\n",
       "      <td>5.0</td>\n",
       "    </tr>\n",
       "    <tr>\n",
       "      <th>1</th>\n",
       "      <td>great for beginner or experienced person. Bought as a gift and she loves it</td>\n",
       "      <td>5.0</td>\n",
       "    </tr>\n",
       "    <tr>\n",
       "      <th>2</th>\n",
       "      <td>Inexpensive tablet for him to use and learn on, step up from the NABI. He was thrilled with it, learn how to Skype on it already...</td>\n",
       "      <td>5.0</td>\n",
       "    </tr>\n",
       "    <tr>\n",
       "      <th>3</th>\n",
       "      <td>I've had my Fire HD 8 two weeks now and I love it. This tablet is a great value.We are Prime Members and that is where this tablet SHINES. I love being able to easily access all of the Prime conte...</td>\n",
       "      <td>4.0</td>\n",
       "    </tr>\n",
       "    <tr>\n",
       "      <th>4</th>\n",
       "      <td>I bought this for my grand daughter when she comes over to visit. I set it up with her as the user, entered her age and name and now Amazon makes sure that she only accesses sites and content that...</td>\n",
       "      <td>5.0</td>\n",
       "    </tr>\n",
       "  </tbody>\n",
       "</table>\n",
       "</div>"
      ],
      "text/plain": [
       "                                                                                                                                                                                                   reviews  \\\n",
       "0                                                        1 This product so far has not disappointed. My children love to use it and I like the ability to monitor control what content they see with ease.   \n",
       "1                                                                                                                              great for beginner or experienced person. Bought as a gift and she loves it   \n",
       "2                                                                      Inexpensive tablet for him to use and learn on, step up from the NABI. He was thrilled with it, learn how to Skype on it already...   \n",
       "3  I've had my Fire HD 8 two weeks now and I love it. This tablet is a great value.We are Prime Members and that is where this tablet SHINES. I love being able to easily access all of the Prime conte...   \n",
       "4  I bought this for my grand daughter when she comes over to visit. I set it up with her as the user, entered her age and name and now Amazon makes sure that she only accesses sites and content that...   \n",
       "\n",
       "   rating  \n",
       "0     5.0  \n",
       "1     5.0  \n",
       "2     5.0  \n",
       "3     4.0  \n",
       "4     5.0  "
      ]
     },
     "execution_count": 3,
     "metadata": {},
     "output_type": "execute_result"
    }
   ],
   "source": [
    "import pandas as pd\n",
    "pd.set_option('display.max_colwidth',200)\n",
    "df=pd.read_csv(r\"C:\\Users\\Dell\\Desktop\\1429_1.csv\",encoding='UTF-8',sep=',')\n",
    "\n",
    "df.drop(['id','title'],axis='columns',inplace=True)\n",
    "df.head()"
   ]
  },
  {
   "cell_type": "code",
   "execution_count": 4,
   "metadata": {},
   "outputs": [],
   "source": [
    "# df.reviews=df.reviews.apply(lambda txt: ''.join(textblob.TextBlob(txt).correct()))"
   ]
  },
  {
   "cell_type": "code",
   "execution_count": 5,
   "metadata": {},
   "outputs": [
    {
     "data": {
      "text/html": [
       "<div>\n",
       "<style scoped>\n",
       "    .dataframe tbody tr th:only-of-type {\n",
       "        vertical-align: middle;\n",
       "    }\n",
       "\n",
       "    .dataframe tbody tr th {\n",
       "        vertical-align: top;\n",
       "    }\n",
       "\n",
       "    .dataframe thead th {\n",
       "        text-align: right;\n",
       "    }\n",
       "</style>\n",
       "<table border=\"1\" class=\"dataframe\">\n",
       "  <thead>\n",
       "    <tr style=\"text-align: right;\">\n",
       "      <th></th>\n",
       "      <th>reviews</th>\n",
       "      <th>rating</th>\n",
       "    </tr>\n",
       "  </thead>\n",
       "  <tbody>\n",
       "    <tr>\n",
       "      <th>0</th>\n",
       "      <td>1 This product so far has not disappointed. My children love to use it and I like the ability to monitor control what content they see with ease.</td>\n",
       "      <td>5.0</td>\n",
       "    </tr>\n",
       "    <tr>\n",
       "      <th>1</th>\n",
       "      <td>great for beginner or experienced person. Bought as a gift and she loves it</td>\n",
       "      <td>5.0</td>\n",
       "    </tr>\n",
       "    <tr>\n",
       "      <th>2</th>\n",
       "      <td>Inexpensive tablet for him to use and learn on, step up from the NABI. He was thrilled with it, learn how to Skype on it already...</td>\n",
       "      <td>5.0</td>\n",
       "    </tr>\n",
       "    <tr>\n",
       "      <th>3</th>\n",
       "      <td>I've had my Fire HD 8 two weeks now and I love it. This tablet is a great value.We are Prime Members and that is where this tablet SHINES. I love being able to easily access all of the Prime conte...</td>\n",
       "      <td>4.0</td>\n",
       "    </tr>\n",
       "    <tr>\n",
       "      <th>4</th>\n",
       "      <td>I bought this for my grand daughter when she comes over to visit. I set it up with her as the user, entered her age and name and now Amazon makes sure that she only accesses sites and content that...</td>\n",
       "      <td>5.0</td>\n",
       "    </tr>\n",
       "  </tbody>\n",
       "</table>\n",
       "</div>"
      ],
      "text/plain": [
       "                                                                                                                                                                                                   reviews  \\\n",
       "0                                                        1 This product so far has not disappointed. My children love to use it and I like the ability to monitor control what content they see with ease.   \n",
       "1                                                                                                                              great for beginner or experienced person. Bought as a gift and she loves it   \n",
       "2                                                                      Inexpensive tablet for him to use and learn on, step up from the NABI. He was thrilled with it, learn how to Skype on it already...   \n",
       "3  I've had my Fire HD 8 two weeks now and I love it. This tablet is a great value.We are Prime Members and that is where this tablet SHINES. I love being able to easily access all of the Prime conte...   \n",
       "4  I bought this for my grand daughter when she comes over to visit. I set it up with her as the user, entered her age and name and now Amazon makes sure that she only accesses sites and content that...   \n",
       "\n",
       "   rating  \n",
       "0     5.0  \n",
       "1     5.0  \n",
       "2     5.0  \n",
       "3     4.0  \n",
       "4     5.0  "
      ]
     },
     "execution_count": 5,
     "metadata": {},
     "output_type": "execute_result"
    }
   ],
   "source": [
    "\n",
    "df.reviews = df.reviews.astype(str) \n",
    "df.head()  \n",
    "#I get the feeling that your problems has its root in the pd.read_csv('TrainSA.csv') function. Althought you did not post this routine I assume it is Pandas read_csv. This routine intelligently converts input to python datatypes. However this means that in your case some values could be translated to a float. You can prevent this intelligent (?) behaviour by specifying which datatypes you expect for each column."
   ]
  },
  {
   "cell_type": "code",
   "execution_count": 6,
   "metadata": {},
   "outputs": [
    {
     "data": {
      "text/html": [
       "<div>\n",
       "<style scoped>\n",
       "    .dataframe tbody tr th:only-of-type {\n",
       "        vertical-align: middle;\n",
       "    }\n",
       "\n",
       "    .dataframe tbody tr th {\n",
       "        vertical-align: top;\n",
       "    }\n",
       "\n",
       "    .dataframe thead th {\n",
       "        text-align: right;\n",
       "    }\n",
       "</style>\n",
       "<table border=\"1\" class=\"dataframe\">\n",
       "  <thead>\n",
       "    <tr style=\"text-align: right;\">\n",
       "      <th></th>\n",
       "      <th>reviews</th>\n",
       "      <th>rating</th>\n",
       "    </tr>\n",
       "  </thead>\n",
       "  <tbody>\n",
       "    <tr>\n",
       "      <th>0</th>\n",
       "      <td>1 this product so far has not disappointed. my children love to use it and i like the ability to monitor control what content they see with ease.</td>\n",
       "      <td>5.0</td>\n",
       "    </tr>\n",
       "    <tr>\n",
       "      <th>1</th>\n",
       "      <td>great for beginner or experienced person. bought as a gift and she loves it</td>\n",
       "      <td>5.0</td>\n",
       "    </tr>\n",
       "    <tr>\n",
       "      <th>2</th>\n",
       "      <td>inexpensive tablet for him to use and learn on, step up from the nabi. he was thrilled with it, learn how to skype on it already...</td>\n",
       "      <td>5.0</td>\n",
       "    </tr>\n",
       "    <tr>\n",
       "      <th>3</th>\n",
       "      <td>i've had my fire hd 8 two weeks now and i love it. this tablet is a great value.we are prime members and that is where this tablet shines. i love being able to easily access all of the prime conte...</td>\n",
       "      <td>4.0</td>\n",
       "    </tr>\n",
       "    <tr>\n",
       "      <th>4</th>\n",
       "      <td>i bought this for my grand daughter when she comes over to visit. i set it up with her as the user, entered her age and name and now amazon makes sure that she only accesses sites and content that...</td>\n",
       "      <td>5.0</td>\n",
       "    </tr>\n",
       "  </tbody>\n",
       "</table>\n",
       "</div>"
      ],
      "text/plain": [
       "                                                                                                                                                                                                   reviews  \\\n",
       "0                                                        1 this product so far has not disappointed. my children love to use it and i like the ability to monitor control what content they see with ease.   \n",
       "1                                                                                                                              great for beginner or experienced person. bought as a gift and she loves it   \n",
       "2                                                                      inexpensive tablet for him to use and learn on, step up from the nabi. he was thrilled with it, learn how to skype on it already...   \n",
       "3  i've had my fire hd 8 two weeks now and i love it. this tablet is a great value.we are prime members and that is where this tablet shines. i love being able to easily access all of the prime conte...   \n",
       "4  i bought this for my grand daughter when she comes over to visit. i set it up with her as the user, entered her age and name and now amazon makes sure that she only accesses sites and content that...   \n",
       "\n",
       "   rating  \n",
       "0     5.0  \n",
       "1     5.0  \n",
       "2     5.0  \n",
       "3     4.0  \n",
       "4     5.0  "
      ]
     },
     "execution_count": 6,
     "metadata": {},
     "output_type": "execute_result"
    }
   ],
   "source": [
    "\n",
    "df.reviews = df.reviews.apply(lambda x: x.lower())\n",
    "df.head()"
   ]
  },
  {
   "cell_type": "code",
   "execution_count": 7,
   "metadata": {},
   "outputs": [
    {
     "data": {
      "text/plain": [
       "'!\"#$%&\\'()*+,-./:;<=>?@[\\\\]^_`{|}~'"
      ]
     },
     "execution_count": 7,
     "metadata": {},
     "output_type": "execute_result"
    }
   ],
   "source": [
    "import string\n",
    "string.punctuation"
   ]
  },
  {
   "cell_type": "code",
   "execution_count": 8,
   "metadata": {},
   "outputs": [],
   "source": [
    "# df['new'] = df.reviews.apply(lambda x: x.translate(string.punctuation))\n",
    "# df.head()"
   ]
  },
  {
   "cell_type": "code",
   "execution_count": 9,
   "metadata": {},
   "outputs": [],
   "source": [
    "# def remove_punctuations(text):\n",
    "#     for punctuation in string.punctuation:\n",
    "#         text = text.replace(punctuation, '')\n",
    "#     return text\n",
    "\n",
    "def remove_punctuations(txt):\n",
    "    txt = \"\".join([c for c in txt if c not in string.punctuation])\n",
    "    return txt\n",
    "    "
   ]
  },
  {
   "cell_type": "code",
   "execution_count": 10,
   "metadata": {},
   "outputs": [],
   "source": [
    "df[\"new_column\"] = df['reviews'].apply(remove_punctuations)\n",
    "\n"
   ]
  },
  {
   "cell_type": "code",
   "execution_count": 11,
   "metadata": {},
   "outputs": [
    {
     "data": {
      "text/html": [
       "<div>\n",
       "<style scoped>\n",
       "    .dataframe tbody tr th:only-of-type {\n",
       "        vertical-align: middle;\n",
       "    }\n",
       "\n",
       "    .dataframe tbody tr th {\n",
       "        vertical-align: top;\n",
       "    }\n",
       "\n",
       "    .dataframe thead th {\n",
       "        text-align: right;\n",
       "    }\n",
       "</style>\n",
       "<table border=\"1\" class=\"dataframe\">\n",
       "  <thead>\n",
       "    <tr style=\"text-align: right;\">\n",
       "      <th></th>\n",
       "      <th>reviews</th>\n",
       "      <th>rating</th>\n",
       "      <th>new_column</th>\n",
       "    </tr>\n",
       "  </thead>\n",
       "  <tbody>\n",
       "    <tr>\n",
       "      <th>0</th>\n",
       "      <td>1 this product so far has not disappointed. my children love to use it and i like the ability to monitor control what content they see with ease.</td>\n",
       "      <td>5.0</td>\n",
       "      <td>1 this product so far has not disappointed my children love to use it and i like the ability to monitor control what content they see with ease</td>\n",
       "    </tr>\n",
       "    <tr>\n",
       "      <th>1</th>\n",
       "      <td>great for beginner or experienced person. bought as a gift and she loves it</td>\n",
       "      <td>5.0</td>\n",
       "      <td>great for beginner or experienced person bought as a gift and she loves it</td>\n",
       "    </tr>\n",
       "    <tr>\n",
       "      <th>2</th>\n",
       "      <td>inexpensive tablet for him to use and learn on, step up from the nabi. he was thrilled with it, learn how to skype on it already...</td>\n",
       "      <td>5.0</td>\n",
       "      <td>inexpensive tablet for him to use and learn on step up from the nabi he was thrilled with it learn how to skype on it already</td>\n",
       "    </tr>\n",
       "    <tr>\n",
       "      <th>3</th>\n",
       "      <td>i've had my fire hd 8 two weeks now and i love it. this tablet is a great value.we are prime members and that is where this tablet shines. i love being able to easily access all of the prime conte...</td>\n",
       "      <td>4.0</td>\n",
       "      <td>ive had my fire hd 8 two weeks now and i love it this tablet is a great valuewe are prime members and that is where this tablet shines i love being able to easily access all of the prime content a...</td>\n",
       "    </tr>\n",
       "    <tr>\n",
       "      <th>4</th>\n",
       "      <td>i bought this for my grand daughter when she comes over to visit. i set it up with her as the user, entered her age and name and now amazon makes sure that she only accesses sites and content that...</td>\n",
       "      <td>5.0</td>\n",
       "      <td>i bought this for my grand daughter when she comes over to visit i set it up with her as the user entered her age and name and now amazon makes sure that she only accesses sites and content that a...</td>\n",
       "    </tr>\n",
       "  </tbody>\n",
       "</table>\n",
       "</div>"
      ],
      "text/plain": [
       "                                                                                                                                                                                                   reviews  \\\n",
       "0                                                        1 this product so far has not disappointed. my children love to use it and i like the ability to monitor control what content they see with ease.   \n",
       "1                                                                                                                              great for beginner or experienced person. bought as a gift and she loves it   \n",
       "2                                                                      inexpensive tablet for him to use and learn on, step up from the nabi. he was thrilled with it, learn how to skype on it already...   \n",
       "3  i've had my fire hd 8 two weeks now and i love it. this tablet is a great value.we are prime members and that is where this tablet shines. i love being able to easily access all of the prime conte...   \n",
       "4  i bought this for my grand daughter when she comes over to visit. i set it up with her as the user, entered her age and name and now amazon makes sure that she only accesses sites and content that...   \n",
       "\n",
       "   rating  \\\n",
       "0     5.0   \n",
       "1     5.0   \n",
       "2     5.0   \n",
       "3     4.0   \n",
       "4     5.0   \n",
       "\n",
       "                                                                                                                                                                                                new_column  \n",
       "0                                                          1 this product so far has not disappointed my children love to use it and i like the ability to monitor control what content they see with ease  \n",
       "1                                                                                                                               great for beginner or experienced person bought as a gift and she loves it  \n",
       "2                                                                            inexpensive tablet for him to use and learn on step up from the nabi he was thrilled with it learn how to skype on it already  \n",
       "3  ive had my fire hd 8 two weeks now and i love it this tablet is a great valuewe are prime members and that is where this tablet shines i love being able to easily access all of the prime content a...  \n",
       "4  i bought this for my grand daughter when she comes over to visit i set it up with her as the user entered her age and name and now amazon makes sure that she only accesses sites and content that a...  "
      ]
     },
     "execution_count": 11,
     "metadata": {},
     "output_type": "execute_result"
    }
   ],
   "source": [
    "df.head()"
   ]
  },
  {
   "cell_type": "code",
   "execution_count": 12,
   "metadata": {},
   "outputs": [],
   "source": [
    "df['new_cloumns'] = df['new_column'].str.replace('\\d+', '') # to replace no. by \"\""
   ]
  },
  {
   "cell_type": "code",
   "execution_count": 13,
   "metadata": {},
   "outputs": [
    {
     "data": {
      "text/html": [
       "<div>\n",
       "<style scoped>\n",
       "    .dataframe tbody tr th:only-of-type {\n",
       "        vertical-align: middle;\n",
       "    }\n",
       "\n",
       "    .dataframe tbody tr th {\n",
       "        vertical-align: top;\n",
       "    }\n",
       "\n",
       "    .dataframe thead th {\n",
       "        text-align: right;\n",
       "    }\n",
       "</style>\n",
       "<table border=\"1\" class=\"dataframe\">\n",
       "  <thead>\n",
       "    <tr style=\"text-align: right;\">\n",
       "      <th></th>\n",
       "      <th>reviews</th>\n",
       "      <th>rating</th>\n",
       "      <th>new_column</th>\n",
       "      <th>new_cloumns</th>\n",
       "    </tr>\n",
       "  </thead>\n",
       "  <tbody>\n",
       "    <tr>\n",
       "      <th>0</th>\n",
       "      <td>1 this product so far has not disappointed. my children love to use it and i like the ability to monitor control what content they see with ease.</td>\n",
       "      <td>5.0</td>\n",
       "      <td>1 this product so far has not disappointed my children love to use it and i like the ability to monitor control what content they see with ease</td>\n",
       "      <td>this product so far has not disappointed my children love to use it and i like the ability to monitor control what content they see with ease</td>\n",
       "    </tr>\n",
       "    <tr>\n",
       "      <th>1</th>\n",
       "      <td>great for beginner or experienced person. bought as a gift and she loves it</td>\n",
       "      <td>5.0</td>\n",
       "      <td>great for beginner or experienced person bought as a gift and she loves it</td>\n",
       "      <td>great for beginner or experienced person bought as a gift and she loves it</td>\n",
       "    </tr>\n",
       "    <tr>\n",
       "      <th>2</th>\n",
       "      <td>inexpensive tablet for him to use and learn on, step up from the nabi. he was thrilled with it, learn how to skype on it already...</td>\n",
       "      <td>5.0</td>\n",
       "      <td>inexpensive tablet for him to use and learn on step up from the nabi he was thrilled with it learn how to skype on it already</td>\n",
       "      <td>inexpensive tablet for him to use and learn on step up from the nabi he was thrilled with it learn how to skype on it already</td>\n",
       "    </tr>\n",
       "    <tr>\n",
       "      <th>3</th>\n",
       "      <td>i've had my fire hd 8 two weeks now and i love it. this tablet is a great value.we are prime members and that is where this tablet shines. i love being able to easily access all of the prime conte...</td>\n",
       "      <td>4.0</td>\n",
       "      <td>ive had my fire hd 8 two weeks now and i love it this tablet is a great valuewe are prime members and that is where this tablet shines i love being able to easily access all of the prime content a...</td>\n",
       "      <td>ive had my fire hd  two weeks now and i love it this tablet is a great valuewe are prime members and that is where this tablet shines i love being able to easily access all of the prime content as...</td>\n",
       "    </tr>\n",
       "    <tr>\n",
       "      <th>4</th>\n",
       "      <td>i bought this for my grand daughter when she comes over to visit. i set it up with her as the user, entered her age and name and now amazon makes sure that she only accesses sites and content that...</td>\n",
       "      <td>5.0</td>\n",
       "      <td>i bought this for my grand daughter when she comes over to visit i set it up with her as the user entered her age and name and now amazon makes sure that she only accesses sites and content that a...</td>\n",
       "      <td>i bought this for my grand daughter when she comes over to visit i set it up with her as the user entered her age and name and now amazon makes sure that she only accesses sites and content that a...</td>\n",
       "    </tr>\n",
       "  </tbody>\n",
       "</table>\n",
       "</div>"
      ],
      "text/plain": [
       "                                                                                                                                                                                                   reviews  \\\n",
       "0                                                        1 this product so far has not disappointed. my children love to use it and i like the ability to monitor control what content they see with ease.   \n",
       "1                                                                                                                              great for beginner or experienced person. bought as a gift and she loves it   \n",
       "2                                                                      inexpensive tablet for him to use and learn on, step up from the nabi. he was thrilled with it, learn how to skype on it already...   \n",
       "3  i've had my fire hd 8 two weeks now and i love it. this tablet is a great value.we are prime members and that is where this tablet shines. i love being able to easily access all of the prime conte...   \n",
       "4  i bought this for my grand daughter when she comes over to visit. i set it up with her as the user, entered her age and name and now amazon makes sure that she only accesses sites and content that...   \n",
       "\n",
       "   rating  \\\n",
       "0     5.0   \n",
       "1     5.0   \n",
       "2     5.0   \n",
       "3     4.0   \n",
       "4     5.0   \n",
       "\n",
       "                                                                                                                                                                                                new_column  \\\n",
       "0                                                          1 this product so far has not disappointed my children love to use it and i like the ability to monitor control what content they see with ease   \n",
       "1                                                                                                                               great for beginner or experienced person bought as a gift and she loves it   \n",
       "2                                                                            inexpensive tablet for him to use and learn on step up from the nabi he was thrilled with it learn how to skype on it already   \n",
       "3  ive had my fire hd 8 two weeks now and i love it this tablet is a great valuewe are prime members and that is where this tablet shines i love being able to easily access all of the prime content a...   \n",
       "4  i bought this for my grand daughter when she comes over to visit i set it up with her as the user entered her age and name and now amazon makes sure that she only accesses sites and content that a...   \n",
       "\n",
       "                                                                                                                                                                                               new_cloumns  \n",
       "0                                                            this product so far has not disappointed my children love to use it and i like the ability to monitor control what content they see with ease  \n",
       "1                                                                                                                               great for beginner or experienced person bought as a gift and she loves it  \n",
       "2                                                                            inexpensive tablet for him to use and learn on step up from the nabi he was thrilled with it learn how to skype on it already  \n",
       "3  ive had my fire hd  two weeks now and i love it this tablet is a great valuewe are prime members and that is where this tablet shines i love being able to easily access all of the prime content as...  \n",
       "4  i bought this for my grand daughter when she comes over to visit i set it up with her as the user entered her age and name and now amazon makes sure that she only accesses sites and content that a...  "
      ]
     },
     "execution_count": 13,
     "metadata": {},
     "output_type": "execute_result"
    }
   ],
   "source": [
    "df.head()"
   ]
  },
  {
   "cell_type": "code",
   "execution_count": 14,
   "metadata": {},
   "outputs": [
    {
     "data": {
      "text/html": [
       "<div>\n",
       "<style scoped>\n",
       "    .dataframe tbody tr th:only-of-type {\n",
       "        vertical-align: middle;\n",
       "    }\n",
       "\n",
       "    .dataframe tbody tr th {\n",
       "        vertical-align: top;\n",
       "    }\n",
       "\n",
       "    .dataframe thead th {\n",
       "        text-align: right;\n",
       "    }\n",
       "</style>\n",
       "<table border=\"1\" class=\"dataframe\">\n",
       "  <thead>\n",
       "    <tr style=\"text-align: right;\">\n",
       "      <th></th>\n",
       "      <th>reviews</th>\n",
       "      <th>rating</th>\n",
       "      <th>new_column</th>\n",
       "      <th>new_cloumns</th>\n",
       "      <th>tokenize</th>\n",
       "    </tr>\n",
       "  </thead>\n",
       "  <tbody>\n",
       "    <tr>\n",
       "      <th>0</th>\n",
       "      <td>1 this product so far has not disappointed. my children love to use it and i like the ability to monitor control what content they see with ease.</td>\n",
       "      <td>5.0</td>\n",
       "      <td>1 this product so far has not disappointed my children love to use it and i like the ability to monitor control what content they see with ease</td>\n",
       "      <td>this product so far has not disappointed my children love to use it and i like the ability to monitor control what content they see with ease</td>\n",
       "      <td>[, this, product, so, far, has, not, disappointed, my, children, love, to, use, it, and, i, like, the, ability, to, monitor, control, what, content, they, see, with, ease]</td>\n",
       "    </tr>\n",
       "    <tr>\n",
       "      <th>1</th>\n",
       "      <td>great for beginner or experienced person. bought as a gift and she loves it</td>\n",
       "      <td>5.0</td>\n",
       "      <td>great for beginner or experienced person bought as a gift and she loves it</td>\n",
       "      <td>great for beginner or experienced person bought as a gift and she loves it</td>\n",
       "      <td>[great, for, beginner, or, experienced, person, bought, as, a, gift, and, she, loves, it]</td>\n",
       "    </tr>\n",
       "    <tr>\n",
       "      <th>2</th>\n",
       "      <td>inexpensive tablet for him to use and learn on, step up from the nabi. he was thrilled with it, learn how to skype on it already...</td>\n",
       "      <td>5.0</td>\n",
       "      <td>inexpensive tablet for him to use and learn on step up from the nabi he was thrilled with it learn how to skype on it already</td>\n",
       "      <td>inexpensive tablet for him to use and learn on step up from the nabi he was thrilled with it learn how to skype on it already</td>\n",
       "      <td>[inexpensive, tablet, for, him, to, use, and, learn, on, step, up, from, the, nabi, he, was, thrilled, with, it, learn, how, to, skype, on, it, already]</td>\n",
       "    </tr>\n",
       "    <tr>\n",
       "      <th>3</th>\n",
       "      <td>i've had my fire hd 8 two weeks now and i love it. this tablet is a great value.we are prime members and that is where this tablet shines. i love being able to easily access all of the prime conte...</td>\n",
       "      <td>4.0</td>\n",
       "      <td>ive had my fire hd 8 two weeks now and i love it this tablet is a great valuewe are prime members and that is where this tablet shines i love being able to easily access all of the prime content a...</td>\n",
       "      <td>ive had my fire hd  two weeks now and i love it this tablet is a great valuewe are prime members and that is where this tablet shines i love being able to easily access all of the prime content as...</td>\n",
       "      <td>[ive, had, my, fire, hd, two, weeks, now, and, i, love, it, this, tablet, is, a, great, valuewe, are, prime, members, and, that, is, where, this, tablet, shines, i, love, being, able, to, easily, ...</td>\n",
       "    </tr>\n",
       "    <tr>\n",
       "      <th>4</th>\n",
       "      <td>i bought this for my grand daughter when she comes over to visit. i set it up with her as the user, entered her age and name and now amazon makes sure that she only accesses sites and content that...</td>\n",
       "      <td>5.0</td>\n",
       "      <td>i bought this for my grand daughter when she comes over to visit i set it up with her as the user entered her age and name and now amazon makes sure that she only accesses sites and content that a...</td>\n",
       "      <td>i bought this for my grand daughter when she comes over to visit i set it up with her as the user entered her age and name and now amazon makes sure that she only accesses sites and content that a...</td>\n",
       "      <td>[i, bought, this, for, my, grand, daughter, when, she, comes, over, to, visit, i, set, it, up, with, her, as, the, user, entered, her, age, and, name, and, now, amazon, makes, sure, that, she, onl...</td>\n",
       "    </tr>\n",
       "  </tbody>\n",
       "</table>\n",
       "</div>"
      ],
      "text/plain": [
       "                                                                                                                                                                                                   reviews  \\\n",
       "0                                                        1 this product so far has not disappointed. my children love to use it and i like the ability to monitor control what content they see with ease.   \n",
       "1                                                                                                                              great for beginner or experienced person. bought as a gift and she loves it   \n",
       "2                                                                      inexpensive tablet for him to use and learn on, step up from the nabi. he was thrilled with it, learn how to skype on it already...   \n",
       "3  i've had my fire hd 8 two weeks now and i love it. this tablet is a great value.we are prime members and that is where this tablet shines. i love being able to easily access all of the prime conte...   \n",
       "4  i bought this for my grand daughter when she comes over to visit. i set it up with her as the user, entered her age and name and now amazon makes sure that she only accesses sites and content that...   \n",
       "\n",
       "   rating  \\\n",
       "0     5.0   \n",
       "1     5.0   \n",
       "2     5.0   \n",
       "3     4.0   \n",
       "4     5.0   \n",
       "\n",
       "                                                                                                                                                                                                new_column  \\\n",
       "0                                                          1 this product so far has not disappointed my children love to use it and i like the ability to monitor control what content they see with ease   \n",
       "1                                                                                                                               great for beginner or experienced person bought as a gift and she loves it   \n",
       "2                                                                            inexpensive tablet for him to use and learn on step up from the nabi he was thrilled with it learn how to skype on it already   \n",
       "3  ive had my fire hd 8 two weeks now and i love it this tablet is a great valuewe are prime members and that is where this tablet shines i love being able to easily access all of the prime content a...   \n",
       "4  i bought this for my grand daughter when she comes over to visit i set it up with her as the user entered her age and name and now amazon makes sure that she only accesses sites and content that a...   \n",
       "\n",
       "                                                                                                                                                                                               new_cloumns  \\\n",
       "0                                                            this product so far has not disappointed my children love to use it and i like the ability to monitor control what content they see with ease   \n",
       "1                                                                                                                               great for beginner or experienced person bought as a gift and she loves it   \n",
       "2                                                                            inexpensive tablet for him to use and learn on step up from the nabi he was thrilled with it learn how to skype on it already   \n",
       "3  ive had my fire hd  two weeks now and i love it this tablet is a great valuewe are prime members and that is where this tablet shines i love being able to easily access all of the prime content as...   \n",
       "4  i bought this for my grand daughter when she comes over to visit i set it up with her as the user entered her age and name and now amazon makes sure that she only accesses sites and content that a...   \n",
       "\n",
       "                                                                                                                                                                                                  tokenize  \n",
       "0                              [, this, product, so, far, has, not, disappointed, my, children, love, to, use, it, and, i, like, the, ability, to, monitor, control, what, content, they, see, with, ease]  \n",
       "1                                                                                                                [great, for, beginner, or, experienced, person, bought, as, a, gift, and, she, loves, it]  \n",
       "2                                                 [inexpensive, tablet, for, him, to, use, and, learn, on, step, up, from, the, nabi, he, was, thrilled, with, it, learn, how, to, skype, on, it, already]  \n",
       "3  [ive, had, my, fire, hd, two, weeks, now, and, i, love, it, this, tablet, is, a, great, valuewe, are, prime, members, and, that, is, where, this, tablet, shines, i, love, being, able, to, easily, ...  \n",
       "4  [i, bought, this, for, my, grand, daughter, when, she, comes, over, to, visit, i, set, it, up, with, her, as, the, user, entered, her, age, and, name, and, now, amazon, makes, sure, that, she, onl...  "
      ]
     },
     "execution_count": 14,
     "metadata": {},
     "output_type": "execute_result"
    }
   ],
   "source": [
    "import re\n",
    "\n",
    "def tokenize(txt):\n",
    "    tokens = re.split('\\W+' , txt)\n",
    "    return tokens\n",
    "df['tokenize']=df['new_cloumns'].apply(lambda x: tokenize(x.lower()))\n",
    "df.head()"
   ]
  },
  {
   "cell_type": "code",
   "execution_count": 15,
   "metadata": {},
   "outputs": [
    {
     "data": {
      "text/plain": [
       "['i', 'me', 'my', 'myself', 'we', 'our', 'ours', 'ourselves', 'you', \"you're\"]"
      ]
     },
     "execution_count": 15,
     "metadata": {},
     "output_type": "execute_result"
    }
   ],
   "source": [
    "import nltk\n",
    "stopwords = nltk.corpus.stopwords.words('english')\n",
    "stopwords[0:10]"
   ]
  },
  {
   "cell_type": "code",
   "execution_count": 16,
   "metadata": {},
   "outputs": [],
   "source": [
    "def remove_stopwords(txt_tokenized):\n",
    "    txt_clean = [word for word in txt_tokenized if word not in stopwords]\n",
    "    return txt_clean\n",
    "df['sw']=df['tokenize'].apply(lambda x: remove_stopwords(x))"
   ]
  },
  {
   "cell_type": "code",
   "execution_count": 17,
   "metadata": {},
   "outputs": [
    {
     "data": {
      "text/html": [
       "<div>\n",
       "<style scoped>\n",
       "    .dataframe tbody tr th:only-of-type {\n",
       "        vertical-align: middle;\n",
       "    }\n",
       "\n",
       "    .dataframe tbody tr th {\n",
       "        vertical-align: top;\n",
       "    }\n",
       "\n",
       "    .dataframe thead th {\n",
       "        text-align: right;\n",
       "    }\n",
       "</style>\n",
       "<table border=\"1\" class=\"dataframe\">\n",
       "  <thead>\n",
       "    <tr style=\"text-align: right;\">\n",
       "      <th></th>\n",
       "      <th>reviews</th>\n",
       "      <th>rating</th>\n",
       "      <th>new_column</th>\n",
       "      <th>new_cloumns</th>\n",
       "      <th>tokenize</th>\n",
       "      <th>sw</th>\n",
       "    </tr>\n",
       "  </thead>\n",
       "  <tbody>\n",
       "    <tr>\n",
       "      <th>0</th>\n",
       "      <td>1 this product so far has not disappointed. my children love to use it and i like the ability to monitor control what content they see with ease.</td>\n",
       "      <td>5.0</td>\n",
       "      <td>1 this product so far has not disappointed my children love to use it and i like the ability to monitor control what content they see with ease</td>\n",
       "      <td>this product so far has not disappointed my children love to use it and i like the ability to monitor control what content they see with ease</td>\n",
       "      <td>[, this, product, so, far, has, not, disappointed, my, children, love, to, use, it, and, i, like, the, ability, to, monitor, control, what, content, they, see, with, ease]</td>\n",
       "      <td>[, product, far, disappointed, children, love, use, like, ability, monitor, control, content, see, ease]</td>\n",
       "    </tr>\n",
       "    <tr>\n",
       "      <th>1</th>\n",
       "      <td>great for beginner or experienced person. bought as a gift and she loves it</td>\n",
       "      <td>5.0</td>\n",
       "      <td>great for beginner or experienced person bought as a gift and she loves it</td>\n",
       "      <td>great for beginner or experienced person bought as a gift and she loves it</td>\n",
       "      <td>[great, for, beginner, or, experienced, person, bought, as, a, gift, and, she, loves, it]</td>\n",
       "      <td>[great, beginner, experienced, person, bought, gift, loves]</td>\n",
       "    </tr>\n",
       "    <tr>\n",
       "      <th>2</th>\n",
       "      <td>inexpensive tablet for him to use and learn on, step up from the nabi. he was thrilled with it, learn how to skype on it already...</td>\n",
       "      <td>5.0</td>\n",
       "      <td>inexpensive tablet for him to use and learn on step up from the nabi he was thrilled with it learn how to skype on it already</td>\n",
       "      <td>inexpensive tablet for him to use and learn on step up from the nabi he was thrilled with it learn how to skype on it already</td>\n",
       "      <td>[inexpensive, tablet, for, him, to, use, and, learn, on, step, up, from, the, nabi, he, was, thrilled, with, it, learn, how, to, skype, on, it, already]</td>\n",
       "      <td>[inexpensive, tablet, use, learn, step, nabi, thrilled, learn, skype, already]</td>\n",
       "    </tr>\n",
       "    <tr>\n",
       "      <th>3</th>\n",
       "      <td>i've had my fire hd 8 two weeks now and i love it. this tablet is a great value.we are prime members and that is where this tablet shines. i love being able to easily access all of the prime conte...</td>\n",
       "      <td>4.0</td>\n",
       "      <td>ive had my fire hd 8 two weeks now and i love it this tablet is a great valuewe are prime members and that is where this tablet shines i love being able to easily access all of the prime content a...</td>\n",
       "      <td>ive had my fire hd  two weeks now and i love it this tablet is a great valuewe are prime members and that is where this tablet shines i love being able to easily access all of the prime content as...</td>\n",
       "      <td>[ive, had, my, fire, hd, two, weeks, now, and, i, love, it, this, tablet, is, a, great, valuewe, are, prime, members, and, that, is, where, this, tablet, shines, i, love, being, able, to, easily, ...</td>\n",
       "      <td>[ive, fire, hd, two, weeks, love, tablet, great, valuewe, prime, members, tablet, shines, love, able, easily, access, prime, content, well, movies, download, watch, laterthis, screen, really, nice...</td>\n",
       "    </tr>\n",
       "    <tr>\n",
       "      <th>4</th>\n",
       "      <td>i bought this for my grand daughter when she comes over to visit. i set it up with her as the user, entered her age and name and now amazon makes sure that she only accesses sites and content that...</td>\n",
       "      <td>5.0</td>\n",
       "      <td>i bought this for my grand daughter when she comes over to visit i set it up with her as the user entered her age and name and now amazon makes sure that she only accesses sites and content that a...</td>\n",
       "      <td>i bought this for my grand daughter when she comes over to visit i set it up with her as the user entered her age and name and now amazon makes sure that she only accesses sites and content that a...</td>\n",
       "      <td>[i, bought, this, for, my, grand, daughter, when, she, comes, over, to, visit, i, set, it, up, with, her, as, the, user, entered, her, age, and, name, and, now, amazon, makes, sure, that, she, onl...</td>\n",
       "      <td>[bought, grand, daughter, comes, visit, set, user, entered, age, name, amazon, makes, sure, accesses, sites, content, appropriate, age, simple, loves, capabilities, also, bought, installed, gig, s...</td>\n",
       "    </tr>\n",
       "  </tbody>\n",
       "</table>\n",
       "</div>"
      ],
      "text/plain": [
       "                                                                                                                                                                                                   reviews  \\\n",
       "0                                                        1 this product so far has not disappointed. my children love to use it and i like the ability to monitor control what content they see with ease.   \n",
       "1                                                                                                                              great for beginner or experienced person. bought as a gift and she loves it   \n",
       "2                                                                      inexpensive tablet for him to use and learn on, step up from the nabi. he was thrilled with it, learn how to skype on it already...   \n",
       "3  i've had my fire hd 8 two weeks now and i love it. this tablet is a great value.we are prime members and that is where this tablet shines. i love being able to easily access all of the prime conte...   \n",
       "4  i bought this for my grand daughter when she comes over to visit. i set it up with her as the user, entered her age and name and now amazon makes sure that she only accesses sites and content that...   \n",
       "\n",
       "   rating  \\\n",
       "0     5.0   \n",
       "1     5.0   \n",
       "2     5.0   \n",
       "3     4.0   \n",
       "4     5.0   \n",
       "\n",
       "                                                                                                                                                                                                new_column  \\\n",
       "0                                                          1 this product so far has not disappointed my children love to use it and i like the ability to monitor control what content they see with ease   \n",
       "1                                                                                                                               great for beginner or experienced person bought as a gift and she loves it   \n",
       "2                                                                            inexpensive tablet for him to use and learn on step up from the nabi he was thrilled with it learn how to skype on it already   \n",
       "3  ive had my fire hd 8 two weeks now and i love it this tablet is a great valuewe are prime members and that is where this tablet shines i love being able to easily access all of the prime content a...   \n",
       "4  i bought this for my grand daughter when she comes over to visit i set it up with her as the user entered her age and name and now amazon makes sure that she only accesses sites and content that a...   \n",
       "\n",
       "                                                                                                                                                                                               new_cloumns  \\\n",
       "0                                                            this product so far has not disappointed my children love to use it and i like the ability to monitor control what content they see with ease   \n",
       "1                                                                                                                               great for beginner or experienced person bought as a gift and she loves it   \n",
       "2                                                                            inexpensive tablet for him to use and learn on step up from the nabi he was thrilled with it learn how to skype on it already   \n",
       "3  ive had my fire hd  two weeks now and i love it this tablet is a great valuewe are prime members and that is where this tablet shines i love being able to easily access all of the prime content as...   \n",
       "4  i bought this for my grand daughter when she comes over to visit i set it up with her as the user entered her age and name and now amazon makes sure that she only accesses sites and content that a...   \n",
       "\n",
       "                                                                                                                                                                                                  tokenize  \\\n",
       "0                              [, this, product, so, far, has, not, disappointed, my, children, love, to, use, it, and, i, like, the, ability, to, monitor, control, what, content, they, see, with, ease]   \n",
       "1                                                                                                                [great, for, beginner, or, experienced, person, bought, as, a, gift, and, she, loves, it]   \n",
       "2                                                 [inexpensive, tablet, for, him, to, use, and, learn, on, step, up, from, the, nabi, he, was, thrilled, with, it, learn, how, to, skype, on, it, already]   \n",
       "3  [ive, had, my, fire, hd, two, weeks, now, and, i, love, it, this, tablet, is, a, great, valuewe, are, prime, members, and, that, is, where, this, tablet, shines, i, love, being, able, to, easily, ...   \n",
       "4  [i, bought, this, for, my, grand, daughter, when, she, comes, over, to, visit, i, set, it, up, with, her, as, the, user, entered, her, age, and, name, and, now, amazon, makes, sure, that, she, onl...   \n",
       "\n",
       "                                                                                                                                                                                                        sw  \n",
       "0                                                                                                 [, product, far, disappointed, children, love, use, like, ability, monitor, control, content, see, ease]  \n",
       "1                                                                                                                                              [great, beginner, experienced, person, bought, gift, loves]  \n",
       "2                                                                                                                           [inexpensive, tablet, use, learn, step, nabi, thrilled, learn, skype, already]  \n",
       "3  [ive, fire, hd, two, weeks, love, tablet, great, valuewe, prime, members, tablet, shines, love, able, easily, access, prime, content, well, movies, download, watch, laterthis, screen, really, nice...  \n",
       "4  [bought, grand, daughter, comes, visit, set, user, entered, age, name, amazon, makes, sure, accesses, sites, content, appropriate, age, simple, loves, capabilities, also, bought, installed, gig, s...  "
      ]
     },
     "execution_count": 17,
     "metadata": {},
     "output_type": "execute_result"
    }
   ],
   "source": [
    "df.head()"
   ]
  },
  {
   "cell_type": "raw",
   "metadata": {},
   "source": []
  },
  {
   "cell_type": "raw",
   "metadata": {},
   "source": []
  },
  {
   "cell_type": "code",
   "execution_count": 18,
   "metadata": {},
   "outputs": [
    {
     "data": {
      "text/plain": [
       "['MARTIN_EXTENSIONS',\n",
       " 'NLTK_EXTENSIONS',\n",
       " 'ORIGINAL_ALGORITHM',\n",
       " '__abstractmethods__',\n",
       " '__class__',\n",
       " '__delattr__',\n",
       " '__dict__',\n",
       " '__dir__',\n",
       " '__doc__',\n",
       " '__eq__',\n",
       " '__format__',\n",
       " '__ge__',\n",
       " '__getattribute__',\n",
       " '__gt__',\n",
       " '__hash__',\n",
       " '__init__',\n",
       " '__init_subclass__',\n",
       " '__le__',\n",
       " '__lt__',\n",
       " '__module__',\n",
       " '__ne__',\n",
       " '__new__',\n",
       " '__reduce__',\n",
       " '__reduce_ex__',\n",
       " '__repr__',\n",
       " '__setattr__',\n",
       " '__sizeof__',\n",
       " '__str__',\n",
       " '__subclasshook__',\n",
       " '__unicode__',\n",
       " '__weakref__',\n",
       " '_abc_cache',\n",
       " '_abc_negative_cache',\n",
       " '_abc_negative_cache_version',\n",
       " '_abc_registry',\n",
       " '_apply_rule_list',\n",
       " '_contains_vowel',\n",
       " '_ends_cvc',\n",
       " '_ends_double_consonant',\n",
       " '_has_positive_measure',\n",
       " '_is_consonant',\n",
       " '_measure',\n",
       " '_replace_suffix',\n",
       " '_step1a',\n",
       " '_step1b',\n",
       " '_step1c',\n",
       " '_step2',\n",
       " '_step3',\n",
       " '_step4',\n",
       " '_step5a',\n",
       " '_step5b',\n",
       " 'mode',\n",
       " 'pool',\n",
       " 'stem',\n",
       " 'unicode_repr',\n",
       " 'vowels']"
      ]
     },
     "execution_count": 18,
     "metadata": {},
     "output_type": "execute_result"
    }
   ],
   "source": [
    "import nltk\n",
    "from nltk.stem import PorterStemmer\n",
    "ps= PorterStemmer()\n",
    "dir(ps)\n"
   ]
  },
  {
   "cell_type": "code",
   "execution_count": 19,
   "metadata": {},
   "outputs": [],
   "source": [
    "def stemming(tokenized_text):\n",
    "    text = [ps.stem(word) for word in tokenized_text]\n",
    "    return text\n",
    "    "
   ]
  },
  {
   "cell_type": "code",
   "execution_count": 20,
   "metadata": {},
   "outputs": [],
   "source": [
    "df['stem']= df['sw'].apply(lambda x: stemming(x))"
   ]
  },
  {
   "cell_type": "code",
   "execution_count": 21,
   "metadata": {},
   "outputs": [
    {
     "data": {
      "text/html": [
       "<div>\n",
       "<style scoped>\n",
       "    .dataframe tbody tr th:only-of-type {\n",
       "        vertical-align: middle;\n",
       "    }\n",
       "\n",
       "    .dataframe tbody tr th {\n",
       "        vertical-align: top;\n",
       "    }\n",
       "\n",
       "    .dataframe thead th {\n",
       "        text-align: right;\n",
       "    }\n",
       "</style>\n",
       "<table border=\"1\" class=\"dataframe\">\n",
       "  <thead>\n",
       "    <tr style=\"text-align: right;\">\n",
       "      <th></th>\n",
       "      <th>reviews</th>\n",
       "      <th>rating</th>\n",
       "      <th>new_column</th>\n",
       "      <th>new_cloumns</th>\n",
       "      <th>tokenize</th>\n",
       "      <th>sw</th>\n",
       "      <th>stem</th>\n",
       "    </tr>\n",
       "  </thead>\n",
       "  <tbody>\n",
       "    <tr>\n",
       "      <th>0</th>\n",
       "      <td>1 this product so far has not disappointed. my children love to use it and i like the ability to monitor control what content they see with ease.</td>\n",
       "      <td>5.0</td>\n",
       "      <td>1 this product so far has not disappointed my children love to use it and i like the ability to monitor control what content they see with ease</td>\n",
       "      <td>this product so far has not disappointed my children love to use it and i like the ability to monitor control what content they see with ease</td>\n",
       "      <td>[, this, product, so, far, has, not, disappointed, my, children, love, to, use, it, and, i, like, the, ability, to, monitor, control, what, content, they, see, with, ease]</td>\n",
       "      <td>[, product, far, disappointed, children, love, use, like, ability, monitor, control, content, see, ease]</td>\n",
       "      <td>[, product, far, disappoint, children, love, use, like, abil, monitor, control, content, see, eas]</td>\n",
       "    </tr>\n",
       "    <tr>\n",
       "      <th>1</th>\n",
       "      <td>great for beginner or experienced person. bought as a gift and she loves it</td>\n",
       "      <td>5.0</td>\n",
       "      <td>great for beginner or experienced person bought as a gift and she loves it</td>\n",
       "      <td>great for beginner or experienced person bought as a gift and she loves it</td>\n",
       "      <td>[great, for, beginner, or, experienced, person, bought, as, a, gift, and, she, loves, it]</td>\n",
       "      <td>[great, beginner, experienced, person, bought, gift, loves]</td>\n",
       "      <td>[great, beginn, experienc, person, bought, gift, love]</td>\n",
       "    </tr>\n",
       "    <tr>\n",
       "      <th>2</th>\n",
       "      <td>inexpensive tablet for him to use and learn on, step up from the nabi. he was thrilled with it, learn how to skype on it already...</td>\n",
       "      <td>5.0</td>\n",
       "      <td>inexpensive tablet for him to use and learn on step up from the nabi he was thrilled with it learn how to skype on it already</td>\n",
       "      <td>inexpensive tablet for him to use and learn on step up from the nabi he was thrilled with it learn how to skype on it already</td>\n",
       "      <td>[inexpensive, tablet, for, him, to, use, and, learn, on, step, up, from, the, nabi, he, was, thrilled, with, it, learn, how, to, skype, on, it, already]</td>\n",
       "      <td>[inexpensive, tablet, use, learn, step, nabi, thrilled, learn, skype, already]</td>\n",
       "      <td>[inexpens, tablet, use, learn, step, nabi, thrill, learn, skype, alreadi]</td>\n",
       "    </tr>\n",
       "    <tr>\n",
       "      <th>3</th>\n",
       "      <td>i've had my fire hd 8 two weeks now and i love it. this tablet is a great value.we are prime members and that is where this tablet shines. i love being able to easily access all of the prime conte...</td>\n",
       "      <td>4.0</td>\n",
       "      <td>ive had my fire hd 8 two weeks now and i love it this tablet is a great valuewe are prime members and that is where this tablet shines i love being able to easily access all of the prime content a...</td>\n",
       "      <td>ive had my fire hd  two weeks now and i love it this tablet is a great valuewe are prime members and that is where this tablet shines i love being able to easily access all of the prime content as...</td>\n",
       "      <td>[ive, had, my, fire, hd, two, weeks, now, and, i, love, it, this, tablet, is, a, great, valuewe, are, prime, members, and, that, is, where, this, tablet, shines, i, love, being, able, to, easily, ...</td>\n",
       "      <td>[ive, fire, hd, two, weeks, love, tablet, great, valuewe, prime, members, tablet, shines, love, able, easily, access, prime, content, well, movies, download, watch, laterthis, screen, really, nice...</td>\n",
       "      <td>[ive, fire, hd, two, week, love, tablet, great, valuew, prime, member, tablet, shine, love, abl, easili, access, prime, content, well, movi, download, watch, laterthi, screen, realli, nice, look, ...</td>\n",
       "    </tr>\n",
       "    <tr>\n",
       "      <th>4</th>\n",
       "      <td>i bought this for my grand daughter when she comes over to visit. i set it up with her as the user, entered her age and name and now amazon makes sure that she only accesses sites and content that...</td>\n",
       "      <td>5.0</td>\n",
       "      <td>i bought this for my grand daughter when she comes over to visit i set it up with her as the user entered her age and name and now amazon makes sure that she only accesses sites and content that a...</td>\n",
       "      <td>i bought this for my grand daughter when she comes over to visit i set it up with her as the user entered her age and name and now amazon makes sure that she only accesses sites and content that a...</td>\n",
       "      <td>[i, bought, this, for, my, grand, daughter, when, she, comes, over, to, visit, i, set, it, up, with, her, as, the, user, entered, her, age, and, name, and, now, amazon, makes, sure, that, she, onl...</td>\n",
       "      <td>[bought, grand, daughter, comes, visit, set, user, entered, age, name, amazon, makes, sure, accesses, sites, content, appropriate, age, simple, loves, capabilities, also, bought, installed, gig, s...</td>\n",
       "      <td>[bought, grand, daughter, come, visit, set, user, enter, age, name, amazon, make, sure, access, site, content, appropri, age, simpl, love, capabl, also, bought, instal, gig, sd, card, give, littl,...</td>\n",
       "    </tr>\n",
       "  </tbody>\n",
       "</table>\n",
       "</div>"
      ],
      "text/plain": [
       "                                                                                                                                                                                                   reviews  \\\n",
       "0                                                        1 this product so far has not disappointed. my children love to use it and i like the ability to monitor control what content they see with ease.   \n",
       "1                                                                                                                              great for beginner or experienced person. bought as a gift and she loves it   \n",
       "2                                                                      inexpensive tablet for him to use and learn on, step up from the nabi. he was thrilled with it, learn how to skype on it already...   \n",
       "3  i've had my fire hd 8 two weeks now and i love it. this tablet is a great value.we are prime members and that is where this tablet shines. i love being able to easily access all of the prime conte...   \n",
       "4  i bought this for my grand daughter when she comes over to visit. i set it up with her as the user, entered her age and name and now amazon makes sure that she only accesses sites and content that...   \n",
       "\n",
       "   rating  \\\n",
       "0     5.0   \n",
       "1     5.0   \n",
       "2     5.0   \n",
       "3     4.0   \n",
       "4     5.0   \n",
       "\n",
       "                                                                                                                                                                                                new_column  \\\n",
       "0                                                          1 this product so far has not disappointed my children love to use it and i like the ability to monitor control what content they see with ease   \n",
       "1                                                                                                                               great for beginner or experienced person bought as a gift and she loves it   \n",
       "2                                                                            inexpensive tablet for him to use and learn on step up from the nabi he was thrilled with it learn how to skype on it already   \n",
       "3  ive had my fire hd 8 two weeks now and i love it this tablet is a great valuewe are prime members and that is where this tablet shines i love being able to easily access all of the prime content a...   \n",
       "4  i bought this for my grand daughter when she comes over to visit i set it up with her as the user entered her age and name and now amazon makes sure that she only accesses sites and content that a...   \n",
       "\n",
       "                                                                                                                                                                                               new_cloumns  \\\n",
       "0                                                            this product so far has not disappointed my children love to use it and i like the ability to monitor control what content they see with ease   \n",
       "1                                                                                                                               great for beginner or experienced person bought as a gift and she loves it   \n",
       "2                                                                            inexpensive tablet for him to use and learn on step up from the nabi he was thrilled with it learn how to skype on it already   \n",
       "3  ive had my fire hd  two weeks now and i love it this tablet is a great valuewe are prime members and that is where this tablet shines i love being able to easily access all of the prime content as...   \n",
       "4  i bought this for my grand daughter when she comes over to visit i set it up with her as the user entered her age and name and now amazon makes sure that she only accesses sites and content that a...   \n",
       "\n",
       "                                                                                                                                                                                                  tokenize  \\\n",
       "0                              [, this, product, so, far, has, not, disappointed, my, children, love, to, use, it, and, i, like, the, ability, to, monitor, control, what, content, they, see, with, ease]   \n",
       "1                                                                                                                [great, for, beginner, or, experienced, person, bought, as, a, gift, and, she, loves, it]   \n",
       "2                                                 [inexpensive, tablet, for, him, to, use, and, learn, on, step, up, from, the, nabi, he, was, thrilled, with, it, learn, how, to, skype, on, it, already]   \n",
       "3  [ive, had, my, fire, hd, two, weeks, now, and, i, love, it, this, tablet, is, a, great, valuewe, are, prime, members, and, that, is, where, this, tablet, shines, i, love, being, able, to, easily, ...   \n",
       "4  [i, bought, this, for, my, grand, daughter, when, she, comes, over, to, visit, i, set, it, up, with, her, as, the, user, entered, her, age, and, name, and, now, amazon, makes, sure, that, she, onl...   \n",
       "\n",
       "                                                                                                                                                                                                        sw  \\\n",
       "0                                                                                                 [, product, far, disappointed, children, love, use, like, ability, monitor, control, content, see, ease]   \n",
       "1                                                                                                                                              [great, beginner, experienced, person, bought, gift, loves]   \n",
       "2                                                                                                                           [inexpensive, tablet, use, learn, step, nabi, thrilled, learn, skype, already]   \n",
       "3  [ive, fire, hd, two, weeks, love, tablet, great, valuewe, prime, members, tablet, shines, love, able, easily, access, prime, content, well, movies, download, watch, laterthis, screen, really, nice...   \n",
       "4  [bought, grand, daughter, comes, visit, set, user, entered, age, name, amazon, makes, sure, accesses, sites, content, appropriate, age, simple, loves, capabilities, also, bought, installed, gig, s...   \n",
       "\n",
       "                                                                                                                                                                                                      stem  \n",
       "0                                                                                                       [, product, far, disappoint, children, love, use, like, abil, monitor, control, content, see, eas]  \n",
       "1                                                                                                                                                   [great, beginn, experienc, person, bought, gift, love]  \n",
       "2                                                                                                                                [inexpens, tablet, use, learn, step, nabi, thrill, learn, skype, alreadi]  \n",
       "3  [ive, fire, hd, two, week, love, tablet, great, valuew, prime, member, tablet, shine, love, abl, easili, access, prime, content, well, movi, download, watch, laterthi, screen, realli, nice, look, ...  \n",
       "4  [bought, grand, daughter, come, visit, set, user, enter, age, name, amazon, make, sure, access, site, content, appropri, age, simpl, love, capabl, also, bought, instal, gig, sd, card, give, littl,...  "
      ]
     },
     "execution_count": 21,
     "metadata": {},
     "output_type": "execute_result"
    }
   ],
   "source": [
    "df.head()"
   ]
  },
  {
   "cell_type": "code",
   "execution_count": 22,
   "metadata": {},
   "outputs": [],
   "source": [
    "from nltk.stem import WordNetLemmatizer\n",
    "wn=WordNetLemmatizer()"
   ]
  },
  {
   "cell_type": "code",
   "execution_count": 23,
   "metadata": {},
   "outputs": [],
   "source": [
    "def lemmatization(token_txt):\n",
    "    text = [wn.lemmatize(word) for word in token_txt]\n",
    "    \n",
    "    return text"
   ]
  },
  {
   "cell_type": "code",
   "execution_count": 24,
   "metadata": {},
   "outputs": [],
   "source": [
    "df['lemmatize']= df['stem'].apply(lambda x : lemmatization(x))"
   ]
  },
  {
   "cell_type": "code",
   "execution_count": 25,
   "metadata": {},
   "outputs": [
    {
     "data": {
      "text/html": [
       "<div>\n",
       "<style scoped>\n",
       "    .dataframe tbody tr th:only-of-type {\n",
       "        vertical-align: middle;\n",
       "    }\n",
       "\n",
       "    .dataframe tbody tr th {\n",
       "        vertical-align: top;\n",
       "    }\n",
       "\n",
       "    .dataframe thead th {\n",
       "        text-align: right;\n",
       "    }\n",
       "</style>\n",
       "<table border=\"1\" class=\"dataframe\">\n",
       "  <thead>\n",
       "    <tr style=\"text-align: right;\">\n",
       "      <th></th>\n",
       "      <th>reviews</th>\n",
       "      <th>rating</th>\n",
       "      <th>new_column</th>\n",
       "      <th>new_cloumns</th>\n",
       "      <th>tokenize</th>\n",
       "      <th>sw</th>\n",
       "      <th>stem</th>\n",
       "      <th>lemmatize</th>\n",
       "    </tr>\n",
       "  </thead>\n",
       "  <tbody>\n",
       "    <tr>\n",
       "      <th>0</th>\n",
       "      <td>1 this product so far has not disappointed. my children love to use it and i like the ability to monitor control what content they see with ease.</td>\n",
       "      <td>5.0</td>\n",
       "      <td>1 this product so far has not disappointed my children love to use it and i like the ability to monitor control what content they see with ease</td>\n",
       "      <td>this product so far has not disappointed my children love to use it and i like the ability to monitor control what content they see with ease</td>\n",
       "      <td>[, this, product, so, far, has, not, disappointed, my, children, love, to, use, it, and, i, like, the, ability, to, monitor, control, what, content, they, see, with, ease]</td>\n",
       "      <td>[, product, far, disappointed, children, love, use, like, ability, monitor, control, content, see, ease]</td>\n",
       "      <td>[, product, far, disappoint, children, love, use, like, abil, monitor, control, content, see, eas]</td>\n",
       "      <td>[, product, far, disappoint, child, love, use, like, abil, monitor, control, content, see, ea]</td>\n",
       "    </tr>\n",
       "    <tr>\n",
       "      <th>1</th>\n",
       "      <td>great for beginner or experienced person. bought as a gift and she loves it</td>\n",
       "      <td>5.0</td>\n",
       "      <td>great for beginner or experienced person bought as a gift and she loves it</td>\n",
       "      <td>great for beginner or experienced person bought as a gift and she loves it</td>\n",
       "      <td>[great, for, beginner, or, experienced, person, bought, as, a, gift, and, she, loves, it]</td>\n",
       "      <td>[great, beginner, experienced, person, bought, gift, loves]</td>\n",
       "      <td>[great, beginn, experienc, person, bought, gift, love]</td>\n",
       "      <td>[great, beginn, experienc, person, bought, gift, love]</td>\n",
       "    </tr>\n",
       "    <tr>\n",
       "      <th>2</th>\n",
       "      <td>inexpensive tablet for him to use and learn on, step up from the nabi. he was thrilled with it, learn how to skype on it already...</td>\n",
       "      <td>5.0</td>\n",
       "      <td>inexpensive tablet for him to use and learn on step up from the nabi he was thrilled with it learn how to skype on it already</td>\n",
       "      <td>inexpensive tablet for him to use and learn on step up from the nabi he was thrilled with it learn how to skype on it already</td>\n",
       "      <td>[inexpensive, tablet, for, him, to, use, and, learn, on, step, up, from, the, nabi, he, was, thrilled, with, it, learn, how, to, skype, on, it, already]</td>\n",
       "      <td>[inexpensive, tablet, use, learn, step, nabi, thrilled, learn, skype, already]</td>\n",
       "      <td>[inexpens, tablet, use, learn, step, nabi, thrill, learn, skype, alreadi]</td>\n",
       "      <td>[inexpens, tablet, use, learn, step, nabi, thrill, learn, skype, alreadi]</td>\n",
       "    </tr>\n",
       "    <tr>\n",
       "      <th>3</th>\n",
       "      <td>i've had my fire hd 8 two weeks now and i love it. this tablet is a great value.we are prime members and that is where this tablet shines. i love being able to easily access all of the prime conte...</td>\n",
       "      <td>4.0</td>\n",
       "      <td>ive had my fire hd 8 two weeks now and i love it this tablet is a great valuewe are prime members and that is where this tablet shines i love being able to easily access all of the prime content a...</td>\n",
       "      <td>ive had my fire hd  two weeks now and i love it this tablet is a great valuewe are prime members and that is where this tablet shines i love being able to easily access all of the prime content as...</td>\n",
       "      <td>[ive, had, my, fire, hd, two, weeks, now, and, i, love, it, this, tablet, is, a, great, valuewe, are, prime, members, and, that, is, where, this, tablet, shines, i, love, being, able, to, easily, ...</td>\n",
       "      <td>[ive, fire, hd, two, weeks, love, tablet, great, valuewe, prime, members, tablet, shines, love, able, easily, access, prime, content, well, movies, download, watch, laterthis, screen, really, nice...</td>\n",
       "      <td>[ive, fire, hd, two, week, love, tablet, great, valuew, prime, member, tablet, shine, love, abl, easili, access, prime, content, well, movi, download, watch, laterthi, screen, realli, nice, look, ...</td>\n",
       "      <td>[ive, fire, hd, two, week, love, tablet, great, valuew, prime, member, tablet, shine, love, abl, easili, access, prime, content, well, movi, download, watch, laterthi, screen, realli, nice, look, ...</td>\n",
       "    </tr>\n",
       "    <tr>\n",
       "      <th>4</th>\n",
       "      <td>i bought this for my grand daughter when she comes over to visit. i set it up with her as the user, entered her age and name and now amazon makes sure that she only accesses sites and content that...</td>\n",
       "      <td>5.0</td>\n",
       "      <td>i bought this for my grand daughter when she comes over to visit i set it up with her as the user entered her age and name and now amazon makes sure that she only accesses sites and content that a...</td>\n",
       "      <td>i bought this for my grand daughter when she comes over to visit i set it up with her as the user entered her age and name and now amazon makes sure that she only accesses sites and content that a...</td>\n",
       "      <td>[i, bought, this, for, my, grand, daughter, when, she, comes, over, to, visit, i, set, it, up, with, her, as, the, user, entered, her, age, and, name, and, now, amazon, makes, sure, that, she, onl...</td>\n",
       "      <td>[bought, grand, daughter, comes, visit, set, user, entered, age, name, amazon, makes, sure, accesses, sites, content, appropriate, age, simple, loves, capabilities, also, bought, installed, gig, s...</td>\n",
       "      <td>[bought, grand, daughter, come, visit, set, user, enter, age, name, amazon, make, sure, access, site, content, appropri, age, simpl, love, capabl, also, bought, instal, gig, sd, card, give, littl,...</td>\n",
       "      <td>[bought, grand, daughter, come, visit, set, user, enter, age, name, amazon, make, sure, access, site, content, appropri, age, simpl, love, capabl, also, bought, instal, gig, sd, card, give, littl,...</td>\n",
       "    </tr>\n",
       "  </tbody>\n",
       "</table>\n",
       "</div>"
      ],
      "text/plain": [
       "                                                                                                                                                                                                   reviews  \\\n",
       "0                                                        1 this product so far has not disappointed. my children love to use it and i like the ability to monitor control what content they see with ease.   \n",
       "1                                                                                                                              great for beginner or experienced person. bought as a gift and she loves it   \n",
       "2                                                                      inexpensive tablet for him to use and learn on, step up from the nabi. he was thrilled with it, learn how to skype on it already...   \n",
       "3  i've had my fire hd 8 two weeks now and i love it. this tablet is a great value.we are prime members and that is where this tablet shines. i love being able to easily access all of the prime conte...   \n",
       "4  i bought this for my grand daughter when she comes over to visit. i set it up with her as the user, entered her age and name and now amazon makes sure that she only accesses sites and content that...   \n",
       "\n",
       "   rating  \\\n",
       "0     5.0   \n",
       "1     5.0   \n",
       "2     5.0   \n",
       "3     4.0   \n",
       "4     5.0   \n",
       "\n",
       "                                                                                                                                                                                                new_column  \\\n",
       "0                                                          1 this product so far has not disappointed my children love to use it and i like the ability to monitor control what content they see with ease   \n",
       "1                                                                                                                               great for beginner or experienced person bought as a gift and she loves it   \n",
       "2                                                                            inexpensive tablet for him to use and learn on step up from the nabi he was thrilled with it learn how to skype on it already   \n",
       "3  ive had my fire hd 8 two weeks now and i love it this tablet is a great valuewe are prime members and that is where this tablet shines i love being able to easily access all of the prime content a...   \n",
       "4  i bought this for my grand daughter when she comes over to visit i set it up with her as the user entered her age and name and now amazon makes sure that she only accesses sites and content that a...   \n",
       "\n",
       "                                                                                                                                                                                               new_cloumns  \\\n",
       "0                                                            this product so far has not disappointed my children love to use it and i like the ability to monitor control what content they see with ease   \n",
       "1                                                                                                                               great for beginner or experienced person bought as a gift and she loves it   \n",
       "2                                                                            inexpensive tablet for him to use and learn on step up from the nabi he was thrilled with it learn how to skype on it already   \n",
       "3  ive had my fire hd  two weeks now and i love it this tablet is a great valuewe are prime members and that is where this tablet shines i love being able to easily access all of the prime content as...   \n",
       "4  i bought this for my grand daughter when she comes over to visit i set it up with her as the user entered her age and name and now amazon makes sure that she only accesses sites and content that a...   \n",
       "\n",
       "                                                                                                                                                                                                  tokenize  \\\n",
       "0                              [, this, product, so, far, has, not, disappointed, my, children, love, to, use, it, and, i, like, the, ability, to, monitor, control, what, content, they, see, with, ease]   \n",
       "1                                                                                                                [great, for, beginner, or, experienced, person, bought, as, a, gift, and, she, loves, it]   \n",
       "2                                                 [inexpensive, tablet, for, him, to, use, and, learn, on, step, up, from, the, nabi, he, was, thrilled, with, it, learn, how, to, skype, on, it, already]   \n",
       "3  [ive, had, my, fire, hd, two, weeks, now, and, i, love, it, this, tablet, is, a, great, valuewe, are, prime, members, and, that, is, where, this, tablet, shines, i, love, being, able, to, easily, ...   \n",
       "4  [i, bought, this, for, my, grand, daughter, when, she, comes, over, to, visit, i, set, it, up, with, her, as, the, user, entered, her, age, and, name, and, now, amazon, makes, sure, that, she, onl...   \n",
       "\n",
       "                                                                                                                                                                                                        sw  \\\n",
       "0                                                                                                 [, product, far, disappointed, children, love, use, like, ability, monitor, control, content, see, ease]   \n",
       "1                                                                                                                                              [great, beginner, experienced, person, bought, gift, loves]   \n",
       "2                                                                                                                           [inexpensive, tablet, use, learn, step, nabi, thrilled, learn, skype, already]   \n",
       "3  [ive, fire, hd, two, weeks, love, tablet, great, valuewe, prime, members, tablet, shines, love, able, easily, access, prime, content, well, movies, download, watch, laterthis, screen, really, nice...   \n",
       "4  [bought, grand, daughter, comes, visit, set, user, entered, age, name, amazon, makes, sure, accesses, sites, content, appropriate, age, simple, loves, capabilities, also, bought, installed, gig, s...   \n",
       "\n",
       "                                                                                                                                                                                                      stem  \\\n",
       "0                                                                                                       [, product, far, disappoint, children, love, use, like, abil, monitor, control, content, see, eas]   \n",
       "1                                                                                                                                                   [great, beginn, experienc, person, bought, gift, love]   \n",
       "2                                                                                                                                [inexpens, tablet, use, learn, step, nabi, thrill, learn, skype, alreadi]   \n",
       "3  [ive, fire, hd, two, week, love, tablet, great, valuew, prime, member, tablet, shine, love, abl, easili, access, prime, content, well, movi, download, watch, laterthi, screen, realli, nice, look, ...   \n",
       "4  [bought, grand, daughter, come, visit, set, user, enter, age, name, amazon, make, sure, access, site, content, appropri, age, simpl, love, capabl, also, bought, instal, gig, sd, card, give, littl,...   \n",
       "\n",
       "                                                                                                                                                                                                 lemmatize  \n",
       "0                                                                                                           [, product, far, disappoint, child, love, use, like, abil, monitor, control, content, see, ea]  \n",
       "1                                                                                                                                                   [great, beginn, experienc, person, bought, gift, love]  \n",
       "2                                                                                                                                [inexpens, tablet, use, learn, step, nabi, thrill, learn, skype, alreadi]  \n",
       "3  [ive, fire, hd, two, week, love, tablet, great, valuew, prime, member, tablet, shine, love, abl, easili, access, prime, content, well, movi, download, watch, laterthi, screen, realli, nice, look, ...  \n",
       "4  [bought, grand, daughter, come, visit, set, user, enter, age, name, amazon, make, sure, access, site, content, appropri, age, simpl, love, capabl, also, bought, instal, gig, sd, card, give, littl,...  "
      ]
     },
     "execution_count": 25,
     "metadata": {},
     "output_type": "execute_result"
    }
   ],
   "source": [
    "df.head()"
   ]
  },
  {
   "cell_type": "code",
   "execution_count": null,
   "metadata": {},
   "outputs": [],
   "source": []
  },
  {
   "cell_type": "code",
   "execution_count": 26,
   "metadata": {},
   "outputs": [
    {
     "data": {
      "text/plain": [
       "Index(['rating'], dtype='object')"
      ]
     },
     "execution_count": 26,
     "metadata": {},
     "output_type": "execute_result"
    }
   ],
   "source": [
    "df.columns[df.isna().any()]"
   ]
  },
  {
   "cell_type": "code",
   "execution_count": 27,
   "metadata": {},
   "outputs": [],
   "source": [
    "# df['review'] = df['review'].fillna('missing') "
   ]
  },
  {
   "cell_type": "code",
   "execution_count": 28,
   "metadata": {},
   "outputs": [
    {
     "data": {
      "text/plain": [
       "reviews         0\n",
       "rating         33\n",
       "new_column      0\n",
       "new_cloumns     0\n",
       "tokenize        0\n",
       "sw              0\n",
       "stem            0\n",
       "lemmatize       0\n",
       "dtype: int64"
      ]
     },
     "execution_count": 28,
     "metadata": {},
     "output_type": "execute_result"
    }
   ],
   "source": [
    "df.isna().sum()"
   ]
  },
  {
   "cell_type": "code",
   "execution_count": 29,
   "metadata": {},
   "outputs": [
    {
     "name": "stdout",
     "output_type": "stream",
     "text": [
      "<class 'pandas.core.frame.DataFrame'>\n",
      "RangeIndex: 34660 entries, 0 to 34659\n",
      "Data columns (total 8 columns):\n",
      "reviews        34660 non-null object\n",
      "rating         34627 non-null float64\n",
      "new_column     34660 non-null object\n",
      "new_cloumns    34660 non-null object\n",
      "tokenize       34660 non-null object\n",
      "sw             34660 non-null object\n",
      "stem           34660 non-null object\n",
      "lemmatize      34660 non-null object\n",
      "dtypes: float64(1), object(7)\n",
      "memory usage: 2.1+ MB\n"
     ]
    }
   ],
   "source": [
    "df.info() #provides info of null fields"
   ]
  },
  {
   "cell_type": "code",
   "execution_count": 30,
   "metadata": {},
   "outputs": [],
   "source": [
    "# df.get_dummies() \n"
   ]
  },
  {
   "cell_type": "code",
   "execution_count": 31,
   "metadata": {},
   "outputs": [],
   "source": [
    "df.rating = df.rating.fillna(df.rating.mean())"
   ]
  },
  {
   "cell_type": "code",
   "execution_count": 32,
   "metadata": {},
   "outputs": [
    {
     "data": {
      "text/plain": [
       "reviews        0\n",
       "rating         0\n",
       "new_column     0\n",
       "new_cloumns    0\n",
       "tokenize       0\n",
       "sw             0\n",
       "stem           0\n",
       "lemmatize      0\n",
       "dtype: int64"
      ]
     },
     "execution_count": 32,
     "metadata": {},
     "output_type": "execute_result"
    }
   ],
   "source": [
    "df.isna().sum()"
   ]
  },
  {
   "cell_type": "code",
   "execution_count": null,
   "metadata": {},
   "outputs": [],
   "source": []
  },
  {
   "cell_type": "code",
   "execution_count": null,
   "metadata": {},
   "outputs": [],
   "source": []
  },
  {
   "cell_type": "code",
   "execution_count": 33,
   "metadata": {},
   "outputs": [],
   "source": [
    "# from sklearn.model_selection import train_test_split\n",
    "# X_train, X_test, y_train, y_test = train_test_split(inputs.lemmatize,target,test_size=0.2)"
   ]
  },
  {
   "cell_type": "code",
   "execution_count": 34,
   "metadata": {},
   "outputs": [],
   "source": [
    "# # print(X.vocabulary_)\n",
    "# # print(cv.get_feature_name())\n",
    "\n",
    "# # print(X.shape)\n",
    "# # print(X)\n",
    "# # print(X.toarray())\n",
    "# dfnew = pd.DataFrame(X.toarray, columns = cv.get_feature_name())"
   ]
  },
  {
   "cell_type": "code",
   "execution_count": 35,
   "metadata": {},
   "outputs": [],
   "source": [
    "# def clean_text(txt):\n",
    "#     txt = \"\".join([c for c in txt if c not in string.punctuation])\n",
    "#     tokens = re.split('W+', txt)\n",
    "#     txt = [ps.stem(word) for word in tokens if word not in stopwords]\n",
    "#     return txt"
   ]
  },
  {
   "cell_type": "code",
   "execution_count": 36,
   "metadata": {},
   "outputs": [],
   "source": [
    "# print(X_train)"
   ]
  },
  {
   "cell_type": "code",
   "execution_count": 44,
   "metadata": {},
   "outputs": [],
   "source": [
    "# def detokenize(txt):\n",
    "#     txt = \" \".join(txt)\n",
    "#     return txt"
   ]
  },
  {
   "cell_type": "code",
   "execution_count": 45,
   "metadata": {},
   "outputs": [],
   "source": [
    "# df['detokenized']=df['lemmatize'].apply(lambda x : detokenize(x))"
   ]
  },
  {
   "cell_type": "code",
   "execution_count": 46,
   "metadata": {},
   "outputs": [],
   "source": [
    "# df.drop(['reviews','new_column','new_cloumns','tokenize','sw' ,'stem','lemmatize',],axis='columns',inplace=True)\n",
    "# df.head()"
   ]
  },
  {
   "cell_type": "code",
   "execution_count": 47,
   "metadata": {},
   "outputs": [],
   "source": [
    "#  target=df.rating\n",
    "#  inputs=df.drop('rating',axis='columns')\n",
    "#  target.head()\n",
    " "
   ]
  },
  {
   "cell_type": "code",
   "execution_count": null,
   "metadata": {},
   "outputs": [],
   "source": []
  },
  {
   "cell_type": "code",
   "execution_count": 48,
   "metadata": {},
   "outputs": [],
   "source": [
    "from sklearn.model_selection import train_test_split\n",
    "X_train, X_test, y_train, y_test = train_test_split(df.lemmatize,df.rating,test_size=0.2)"
   ]
  },
  {
   "cell_type": "code",
   "execution_count": null,
   "metadata": {},
   "outputs": [],
   "source": []
  },
  {
   "cell_type": "code",
   "execution_count": 49,
   "metadata": {},
   "outputs": [
    {
     "name": "stdout",
     "output_type": "stream",
     "text": [
      "31712                                                                                       [work, exactli, expect, bought, effort, convert, old, flatscreen, smart, capabl, smart, tv, definit, got, job, done]\n",
      "24087                                                                                     [eye, amazon, echo, best, buy, sale, normal, jump, absolut, love, amazon, echo, everyth, imagin, would, would, paid, ]\n",
      "22829                                                                                                                                                     [one, best, present, ever, control, entir, hous, voic]\n",
      "8736                                                                                                                                                             [look, cheap, tablet, love, like, tablet, work]\n",
      "2643                                                         [rate, start, give, product, fire, hd, show, nice, pictur, use, mostli, watch, netflix, howev, fire, hd, restart, batteri, indic, sure, caus, issu]\n",
      "27085    [use, echo, day, love, use, control, light, fan, home, almost, song, ask, play, tell, traffic, exact, rout, take, work, inform, weather, tell, score, favorit, sport, team, keep, shop, list, settl,...\n",
      "20780                                                                                                         [display, even, better, paperwhit, didnt, think, could, page, button, take, minut, get, use, love]\n",
      "2268                                                                                                                                       [awesom, tablet, super, quick, great, pictur, overal, great, qualiti]\n",
      "22256                                                                                                                                                                   [everi, home, easi, use, speaker, excel]\n",
      "1977                                                                                                                                                       [year, old, use, school, scan, qr, code, onlin, math]\n",
      "8795                                                                                                                                            [realli, enjoy, tablet, everyth, look, tablet, easi, use, small]\n",
      "26442                                                                                                                                                                 [good, product, purchas, addit, app, work]\n",
      "9866                                                                                                                                                                [love, product, pricewould, recommendcustom]\n",
      "31500                                                                                                                    [amazon, fire, tv, easi, learn, wonder, custom, servic, walk, throw, thing, need, help]\n",
      "28406                                                                           [amazon, echo, respons, siri, stereo, terrif, voic, recognit, constantli, learn, new, thing, shortcom, doesnt, play, nice, itun]\n",
      "32463                                                                                                                                                             [great, stream, kodi, much, faster, firestick]\n",
      "20196                                                                                                     [love, tablet, great, indoor, read, well, outdoor, back, light, make, ideal, indoor, space, well, lit]\n",
      "26515                                                                                                                                                [product, everyth, advertis, f, find, new, use, everi, day]\n",
      "15053                                                                                                                                                      [gave, product, nephew, love, easi, carri, easi, use]\n",
      "11676                                                                                                                                                [kindl, fire, tablet, easi, use, simpl, set, great, tablet]\n",
      "15729                                                                                                               [perfect, size, travel, compact, light, amazon, app, includ, great, stream, video, show, go]\n",
      "5229                                                                                                          [bought, son, christma, worth, price, get, protect, cover, amazon, great, kid, anyon, enjoy, read]\n",
      "17884                                                                                                                                                                  [compact, light, extrem, easi, eye, read]\n",
      "2086                                                                                                                                  [impress, tablet, faster, ipad, use, gave, gift, motherinlaw, love, thank]\n",
      "32045                                                                                             [great, littl, devic, react, fast, remot, faster, fire, stick, think, get, one, get, fire, tv, instead, stick]\n",
      "30750                                                                                                                                        [need, littl, patienc, fast, forward, paus, great, pictur, qualiti]\n",
      "23383                                                                                                                  [whole, ai, question, answer, dynam, cool, speaker, weak, bass, non, exist, trebl, harsh]\n",
      "5752                                                                                                                                                                    [great, tablet, price, would, recommend]\n",
      "24513                                                                                                                                                                [easi, set, respons, excel, sound, qualiti]\n",
      "2016     [awesom, tablet, purchas, seven, year, old, daughter, christma, initi, look, purchas, ipad, mini, unfortun, sold, altern, glad, price, perfect, internet, app, access, great, love, thing, miss, fac...\n",
      "                                                                                                          ...                                                                                                   \n",
      "17529                                                                                                                                                                 [alreadi, two, familiar, product, present]\n",
      "33145                                                                                                                                                         [hope, replac, cabl, tv, near, futur, work, great]\n",
      "17045                                                                                                                                                               [kid, love, play, use, netflix, basic, game]\n",
      "16944                                                                                                                                        [bought, one, son, birthday, love, much, bought, second, one, self]\n",
      "24189                                                                                                     [previous, purchas, one, famili, went, sale, purchas, one, daughter, everyday, find, someth, new, use]\n",
      "12357                                                                                                                                      [purchas, kid, christma, come, back, get, one, well, awesom, product]\n",
      "29896                                                                                                                                                   [save, hight, price, cabl, tv, reason, cancel, cabl, tv]\n",
      "3718                                                                                                                                                                     [bought, thanksgiv, day, good, price, ]\n",
      "2026                         [bought, item, christma, gift, granddaught, love, everi, minut, intuit, easi, use, hand, sever, time, everi, day, everyth, research, school, read, book, paw, paw, hit, homer, one]\n",
      "8919                                                                                                                                                                                   [bought, gift, mom, love]\n",
      "26508                                                                                                                                                                  [great, play, favorit, music, news, hand]\n",
      "17265                                                                                                                                                 [amazon, fire, kid, edit, tablet, gb, pink, great, tablet]\n",
      "19881                                   [first, time, buy, kindl, product, price, fairli, good, sinc, get, discount, screen, read, like, real, paper, background, light, think, necessari, reduc, qualiti, read]\n",
      "31937                                                                                                                                           [perfect, compact, power, amazon, fire, tv, amaz, piec, hardwar]\n",
      "26334                                                                                                                                              [set, easi, quick, easi, learn, use, seem, learn, new, thing]\n",
      "75                                                            [famili, member, vision, problem, seenus, kindl, anoth, famili, member, especi, abil, scale, text, devic, make, possibl, read, extrem, difficulti]\n",
      "32487                                                                              [bought, gener, one, internet, suck, decid, use, one, instead, perform, realli, awesom, alexa, help, lot, avoid, type, write]\n",
      "28446                                                                                                                                              [best, thing, happen, life, got, cheaper, best, buy, program]\n",
      "11007    [read, review, skeptic, mainli, use, appl, product, kid, appl, price, rang, perfect, abl, get, tablet, price, appl, ipad, kid, love, dont, mind, commerci, like, manag, fire, tablet, via, phone, ge...\n",
      "8405                                                                                                        [use, tablet, read, ebooksom, watch, movi, screen, qualiti, great, tablet, small, enough, fit, purs]\n",
      "1672                                                                                                                                            [bought, order, watch, nbc, nbc, app, isnt, compat, paperweight]\n",
      "22631                                                                                                                                                                      [use, fun, usei, bought, beach, hous]\n",
      "27642                                                                                                                              [nice, music, home, autom, control, use, habridg, call, home, geni, api, uri]\n",
      "3997     [realli, like, fire, specif, bought, vacat, could, read, check, email, busi, far, love, downsid, connect, speed, somewhat, slow, connect, wifi, home, slower, laptop, also, want, play, game, highli...\n",
      "14447                                               [got, replac, ipad, child, disappoint, charg, die, quickli, charger, wrap, around, tablet, order, charg, week, tablet, low, price, worth, hassl, disappoint]\n",
      "23346                                                                                               [speaker, also, integr, mani, applic, make, home, easier, conveni, far, echo, aver, month, satisfi, product]\n",
      "32443                                                                                                                         [great, addit, ota, tv, program, best, thing, sinc, left, cabl, tv, broadcast, tv]\n",
      "33965                                                                                                                                                     [amazon, fire, tv, best, stream, devic, must, netflix]\n",
      "22872                                [bought, echo, white, think, look, better, black, one, also, bought, dot, bedroom, get, insteon, starter, kit, use, alexa, control, plug, lamp, work, well, recommend, buy]\n",
      "11002                                                                                             [get, paid, machin, much, better, cheap, tab, market, screen, resolut, perform, pretti, decent, grade, tablet]\n",
      "Name: lemmatize, Length: 27728, dtype: object\n"
     ]
    }
   ],
   "source": [
    "len(X_train)\n",
    "print(X_train)"
   ]
  },
  {
   "cell_type": "code",
   "execution_count": 50,
   "metadata": {},
   "outputs": [],
   "source": [
    "from sklearn.feature_extraction.text import CountVectorizer\n",
    "cv = CountVectorizer(analyzer = lemmatization)\n",
    "X = cv.fit_transform(X_train[:10])\n",
    "X_train_count = X.toarray()"
   ]
  },
  {
   "cell_type": "code",
   "execution_count": 51,
   "metadata": {},
   "outputs": [
    {
     "name": "stdout",
     "output_type": "stream",
     "text": [
      "[[0 0 0 ... 1 0 0]\n",
      " [1 1 0 ... 0 2 0]\n",
      " [0 0 0 ... 0 0 0]\n",
      " ...\n",
      " [0 0 0 ... 0 0 0]\n",
      " [0 0 0 ... 0 0 0]\n",
      " [0 0 0 ... 0 0 1]]\n"
     ]
    }
   ],
   "source": [
    "print(X_train_count)"
   ]
  },
  {
   "cell_type": "code",
   "execution_count": 52,
   "metadata": {},
   "outputs": [
    {
     "name": "stdout",
     "output_type": "stream",
     "text": [
      "(10, 131)\n"
     ]
    }
   ],
   "source": [
    "data_sample = X_train[0:10]\n",
    "cv2= CountVectorizer(analyzer=lemmatization)\n",
    "\n",
    "X=cv2.fit_transform(data_sample)\n",
    "print(X.shape)"
   ]
  },
  {
   "cell_type": "code",
   "execution_count": 53,
   "metadata": {},
   "outputs": [
    {
     "data": {
      "text/html": [
       "<div>\n",
       "<style scoped>\n",
       "    .dataframe tbody tr th:only-of-type {\n",
       "        vertical-align: middle;\n",
       "    }\n",
       "\n",
       "    .dataframe tbody tr th {\n",
       "        vertical-align: top;\n",
       "    }\n",
       "\n",
       "    .dataframe thead th {\n",
       "        text-align: right;\n",
       "    }\n",
       "</style>\n",
       "<table border=\"1\" class=\"dataframe\">\n",
       "  <thead>\n",
       "    <tr style=\"text-align: right;\">\n",
       "      <th></th>\n",
       "      <th></th>\n",
       "      <th>absolut</th>\n",
       "      <th>agre</th>\n",
       "      <th>almost</th>\n",
       "      <th>also</th>\n",
       "      <th>amazon</th>\n",
       "      <th>answer</th>\n",
       "      <th>argument</th>\n",
       "      <th>ask</th>\n",
       "      <th>awesom</th>\n",
       "      <th>...</th>\n",
       "      <th>think</th>\n",
       "      <th>traffic</th>\n",
       "      <th>tv</th>\n",
       "      <th>use</th>\n",
       "      <th>voic</th>\n",
       "      <th>watch</th>\n",
       "      <th>weather</th>\n",
       "      <th>work</th>\n",
       "      <th>would</th>\n",
       "      <th>year</th>\n",
       "    </tr>\n",
       "  </thead>\n",
       "  <tbody>\n",
       "    <tr>\n",
       "      <th>0</th>\n",
       "      <td>0</td>\n",
       "      <td>0</td>\n",
       "      <td>0</td>\n",
       "      <td>0</td>\n",
       "      <td>0</td>\n",
       "      <td>0</td>\n",
       "      <td>0</td>\n",
       "      <td>0</td>\n",
       "      <td>0</td>\n",
       "      <td>0</td>\n",
       "      <td>...</td>\n",
       "      <td>0</td>\n",
       "      <td>0</td>\n",
       "      <td>1</td>\n",
       "      <td>0</td>\n",
       "      <td>0</td>\n",
       "      <td>0</td>\n",
       "      <td>0</td>\n",
       "      <td>1</td>\n",
       "      <td>0</td>\n",
       "      <td>0</td>\n",
       "    </tr>\n",
       "    <tr>\n",
       "      <th>1</th>\n",
       "      <td>1</td>\n",
       "      <td>1</td>\n",
       "      <td>0</td>\n",
       "      <td>0</td>\n",
       "      <td>0</td>\n",
       "      <td>2</td>\n",
       "      <td>0</td>\n",
       "      <td>0</td>\n",
       "      <td>0</td>\n",
       "      <td>0</td>\n",
       "      <td>...</td>\n",
       "      <td>0</td>\n",
       "      <td>0</td>\n",
       "      <td>0</td>\n",
       "      <td>0</td>\n",
       "      <td>0</td>\n",
       "      <td>0</td>\n",
       "      <td>0</td>\n",
       "      <td>0</td>\n",
       "      <td>2</td>\n",
       "      <td>0</td>\n",
       "    </tr>\n",
       "    <tr>\n",
       "      <th>2</th>\n",
       "      <td>0</td>\n",
       "      <td>0</td>\n",
       "      <td>0</td>\n",
       "      <td>0</td>\n",
       "      <td>0</td>\n",
       "      <td>0</td>\n",
       "      <td>0</td>\n",
       "      <td>0</td>\n",
       "      <td>0</td>\n",
       "      <td>0</td>\n",
       "      <td>...</td>\n",
       "      <td>0</td>\n",
       "      <td>0</td>\n",
       "      <td>0</td>\n",
       "      <td>0</td>\n",
       "      <td>1</td>\n",
       "      <td>0</td>\n",
       "      <td>0</td>\n",
       "      <td>0</td>\n",
       "      <td>0</td>\n",
       "      <td>0</td>\n",
       "    </tr>\n",
       "    <tr>\n",
       "      <th>3</th>\n",
       "      <td>0</td>\n",
       "      <td>0</td>\n",
       "      <td>0</td>\n",
       "      <td>0</td>\n",
       "      <td>0</td>\n",
       "      <td>0</td>\n",
       "      <td>0</td>\n",
       "      <td>0</td>\n",
       "      <td>0</td>\n",
       "      <td>0</td>\n",
       "      <td>...</td>\n",
       "      <td>0</td>\n",
       "      <td>0</td>\n",
       "      <td>0</td>\n",
       "      <td>0</td>\n",
       "      <td>0</td>\n",
       "      <td>0</td>\n",
       "      <td>0</td>\n",
       "      <td>1</td>\n",
       "      <td>0</td>\n",
       "      <td>0</td>\n",
       "    </tr>\n",
       "    <tr>\n",
       "      <th>4</th>\n",
       "      <td>0</td>\n",
       "      <td>0</td>\n",
       "      <td>0</td>\n",
       "      <td>0</td>\n",
       "      <td>0</td>\n",
       "      <td>0</td>\n",
       "      <td>0</td>\n",
       "      <td>0</td>\n",
       "      <td>0</td>\n",
       "      <td>0</td>\n",
       "      <td>...</td>\n",
       "      <td>0</td>\n",
       "      <td>0</td>\n",
       "      <td>0</td>\n",
       "      <td>1</td>\n",
       "      <td>0</td>\n",
       "      <td>1</td>\n",
       "      <td>0</td>\n",
       "      <td>0</td>\n",
       "      <td>0</td>\n",
       "      <td>0</td>\n",
       "    </tr>\n",
       "    <tr>\n",
       "      <th>5</th>\n",
       "      <td>0</td>\n",
       "      <td>0</td>\n",
       "      <td>1</td>\n",
       "      <td>1</td>\n",
       "      <td>1</td>\n",
       "      <td>1</td>\n",
       "      <td>1</td>\n",
       "      <td>1</td>\n",
       "      <td>1</td>\n",
       "      <td>0</td>\n",
       "      <td>...</td>\n",
       "      <td>0</td>\n",
       "      <td>1</td>\n",
       "      <td>0</td>\n",
       "      <td>2</td>\n",
       "      <td>0</td>\n",
       "      <td>0</td>\n",
       "      <td>1</td>\n",
       "      <td>1</td>\n",
       "      <td>0</td>\n",
       "      <td>0</td>\n",
       "    </tr>\n",
       "    <tr>\n",
       "      <th>6</th>\n",
       "      <td>0</td>\n",
       "      <td>0</td>\n",
       "      <td>0</td>\n",
       "      <td>0</td>\n",
       "      <td>0</td>\n",
       "      <td>0</td>\n",
       "      <td>0</td>\n",
       "      <td>0</td>\n",
       "      <td>0</td>\n",
       "      <td>0</td>\n",
       "      <td>...</td>\n",
       "      <td>1</td>\n",
       "      <td>0</td>\n",
       "      <td>0</td>\n",
       "      <td>1</td>\n",
       "      <td>0</td>\n",
       "      <td>0</td>\n",
       "      <td>0</td>\n",
       "      <td>0</td>\n",
       "      <td>0</td>\n",
       "      <td>0</td>\n",
       "    </tr>\n",
       "    <tr>\n",
       "      <th>7</th>\n",
       "      <td>0</td>\n",
       "      <td>0</td>\n",
       "      <td>0</td>\n",
       "      <td>0</td>\n",
       "      <td>0</td>\n",
       "      <td>0</td>\n",
       "      <td>0</td>\n",
       "      <td>0</td>\n",
       "      <td>0</td>\n",
       "      <td>1</td>\n",
       "      <td>...</td>\n",
       "      <td>0</td>\n",
       "      <td>0</td>\n",
       "      <td>0</td>\n",
       "      <td>0</td>\n",
       "      <td>0</td>\n",
       "      <td>0</td>\n",
       "      <td>0</td>\n",
       "      <td>0</td>\n",
       "      <td>0</td>\n",
       "      <td>0</td>\n",
       "    </tr>\n",
       "    <tr>\n",
       "      <th>8</th>\n",
       "      <td>0</td>\n",
       "      <td>0</td>\n",
       "      <td>0</td>\n",
       "      <td>0</td>\n",
       "      <td>0</td>\n",
       "      <td>0</td>\n",
       "      <td>0</td>\n",
       "      <td>0</td>\n",
       "      <td>0</td>\n",
       "      <td>0</td>\n",
       "      <td>...</td>\n",
       "      <td>0</td>\n",
       "      <td>0</td>\n",
       "      <td>0</td>\n",
       "      <td>1</td>\n",
       "      <td>0</td>\n",
       "      <td>0</td>\n",
       "      <td>0</td>\n",
       "      <td>0</td>\n",
       "      <td>0</td>\n",
       "      <td>0</td>\n",
       "    </tr>\n",
       "    <tr>\n",
       "      <th>9</th>\n",
       "      <td>0</td>\n",
       "      <td>0</td>\n",
       "      <td>0</td>\n",
       "      <td>0</td>\n",
       "      <td>0</td>\n",
       "      <td>0</td>\n",
       "      <td>0</td>\n",
       "      <td>0</td>\n",
       "      <td>0</td>\n",
       "      <td>0</td>\n",
       "      <td>...</td>\n",
       "      <td>0</td>\n",
       "      <td>0</td>\n",
       "      <td>0</td>\n",
       "      <td>1</td>\n",
       "      <td>0</td>\n",
       "      <td>0</td>\n",
       "      <td>0</td>\n",
       "      <td>0</td>\n",
       "      <td>0</td>\n",
       "      <td>1</td>\n",
       "    </tr>\n",
       "  </tbody>\n",
       "</table>\n",
       "<p>10 rows × 131 columns</p>\n",
       "</div>"
      ],
      "text/plain": [
       "      absolut  agre  almost  also  amazon  answer  argument  ask  awesom  \\\n",
       "0  0        0     0       0     0       0       0         0    0       0   \n",
       "1  1        1     0       0     0       2       0         0    0       0   \n",
       "2  0        0     0       0     0       0       0         0    0       0   \n",
       "3  0        0     0       0     0       0       0         0    0       0   \n",
       "4  0        0     0       0     0       0       0         0    0       0   \n",
       "5  0        0     1       1     1       1       1         1    1       0   \n",
       "6  0        0     0       0     0       0       0         0    0       0   \n",
       "7  0        0     0       0     0       0       0         0    0       1   \n",
       "8  0        0     0       0     0       0       0         0    0       0   \n",
       "9  0        0     0       0     0       0       0         0    0       0   \n",
       "\n",
       "   ...   think  traffic  tv  use  voic  watch  weather  work  would  year  \n",
       "0  ...       0        0   1    0     0      0        0     1      0     0  \n",
       "1  ...       0        0   0    0     0      0        0     0      2     0  \n",
       "2  ...       0        0   0    0     1      0        0     0      0     0  \n",
       "3  ...       0        0   0    0     0      0        0     1      0     0  \n",
       "4  ...       0        0   0    1     0      1        0     0      0     0  \n",
       "5  ...       0        1   0    2     0      0        1     1      0     0  \n",
       "6  ...       1        0   0    1     0      0        0     0      0     0  \n",
       "7  ...       0        0   0    0     0      0        0     0      0     0  \n",
       "8  ...       0        0   0    1     0      0        0     0      0     0  \n",
       "9  ...       0        0   0    1     0      0        0     0      0     1  \n",
       "\n",
       "[10 rows x 131 columns]"
      ]
     },
     "execution_count": 53,
     "metadata": {},
     "output_type": "execute_result"
    }
   ],
   "source": [
    "df2= pd.DataFrame(X.toarray(), columns=cv2.get_feature_names())\n",
    "df2.head(10)"
   ]
  },
  {
   "cell_type": "code",
   "execution_count": 54,
   "metadata": {},
   "outputs": [],
   "source": [
    "from sklearn.naive_bayes import GaussianNB\n",
    "model = GaussianNB()\n"
   ]
  },
  {
   "cell_type": "code",
   "execution_count": null,
   "metadata": {},
   "outputs": [],
   "source": [
    "model.fit(X_train_count, y_train)"
   ]
  },
  {
   "cell_type": "markdown",
   "metadata": {},
   "source": []
  },
  {
   "cell_type": "code",
   "execution_count": null,
   "metadata": {},
   "outputs": [],
   "source": [
    "import sys\n",
    "print(sys.path)"
   ]
  },
  {
   "cell_type": "code",
   "execution_count": null,
   "metadata": {},
   "outputs": [],
   "source": []
  },
  {
   "cell_type": "code",
   "execution_count": null,
   "metadata": {},
   "outputs": [],
   "source": []
  },
  {
   "cell_type": "code",
   "execution_count": null,
   "metadata": {},
   "outputs": [],
   "source": []
  },
  {
   "cell_type": "code",
   "execution_count": null,
   "metadata": {},
   "outputs": [],
   "source": []
  },
  {
   "cell_type": "code",
   "execution_count": null,
   "metadata": {},
   "outputs": [],
   "source": []
  },
  {
   "cell_type": "code",
   "execution_count": null,
   "metadata": {},
   "outputs": [],
   "source": []
  },
  {
   "cell_type": "code",
   "execution_count": null,
   "metadata": {},
   "outputs": [],
   "source": []
  },
  {
   "cell_type": "code",
   "execution_count": null,
   "metadata": {},
   "outputs": [],
   "source": []
  },
  {
   "cell_type": "code",
   "execution_count": null,
   "metadata": {},
   "outputs": [],
   "source": []
  },
  {
   "cell_type": "code",
   "execution_count": 1,
   "metadata": {},
   "outputs": [],
   "source": [
    "#reviews length"
   ]
  },
  {
   "cell_type": "code",
   "execution_count": 8,
   "metadata": {},
   "outputs": [],
   "source": [
    "df['reiviews_len']=df['reviews'].apply(lambda x: len(x))"
   ]
  },
  {
   "cell_type": "code",
   "execution_count": 3,
   "metadata": {},
   "outputs": [],
   "source": [
    "#punctuation usage"
   ]
  },
  {
   "cell_type": "code",
   "execution_count": 14,
   "metadata": {},
   "outputs": [],
   "source": [
    "import string\n",
    "def puncation_count(txt):\n",
    "    count = sum([1 for c in txt if c in string.punctuation])\n",
    "    return count/(len(txt))\n",
    "\n",
    "df['punctuation_%']= df['reviews'].apply(lambda x: puncation_count(x) )"
   ]
  },
  {
   "cell_type": "code",
   "execution_count": 15,
   "metadata": {},
   "outputs": [
    {
     "data": {
      "text/html": [
       "<div>\n",
       "<style scoped>\n",
       "    .dataframe tbody tr th:only-of-type {\n",
       "        vertical-align: middle;\n",
       "    }\n",
       "\n",
       "    .dataframe tbody tr th {\n",
       "        vertical-align: top;\n",
       "    }\n",
       "\n",
       "    .dataframe thead th {\n",
       "        text-align: right;\n",
       "    }\n",
       "</style>\n",
       "<table border=\"1\" class=\"dataframe\">\n",
       "  <thead>\n",
       "    <tr style=\"text-align: right;\">\n",
       "      <th></th>\n",
       "      <th>reviews</th>\n",
       "      <th>rating</th>\n",
       "      <th>reiviews_len</th>\n",
       "      <th>punctuation_%</th>\n",
       "      <th>count</th>\n",
       "    </tr>\n",
       "  </thead>\n",
       "  <tbody>\n",
       "    <tr>\n",
       "      <th>0</th>\n",
       "      <td>1 this product so far has not disappointed. my children love to use it and i like the ability to monitor control what content they see with ease.</td>\n",
       "      <td>5.0</td>\n",
       "      <td>145</td>\n",
       "      <td>0.013793</td>\n",
       "      <td>12</td>\n",
       "    </tr>\n",
       "    <tr>\n",
       "      <th>1</th>\n",
       "      <td>great for beginner or experienced person. bought as a gift and she loves it</td>\n",
       "      <td>5.0</td>\n",
       "      <td>75</td>\n",
       "      <td>0.013333</td>\n",
       "      <td>12</td>\n",
       "    </tr>\n",
       "    <tr>\n",
       "      <th>2</th>\n",
       "      <td>inexpensive tablet for him to use and learn on, step up from the nabi. he was thrilled with it, learn how to skype on it already...</td>\n",
       "      <td>5.0</td>\n",
       "      <td>131</td>\n",
       "      <td>0.045802</td>\n",
       "      <td>12</td>\n",
       "    </tr>\n",
       "    <tr>\n",
       "      <th>3</th>\n",
       "      <td>i've had my fire hd 8 two weeks now and i love it. this tablet is a great value.we are prime members and that is where this tablet shines. i love being able to easily access all of the prime conte...</td>\n",
       "      <td>4.0</td>\n",
       "      <td>593</td>\n",
       "      <td>0.015177</td>\n",
       "      <td>12</td>\n",
       "    </tr>\n",
       "    <tr>\n",
       "      <th>4</th>\n",
       "      <td>i bought this for my grand daughter when she comes over to visit. i set it up with her as the user, entered her age and name and now amazon makes sure that she only accesses sites and content that...</td>\n",
       "      <td>5.0</td>\n",
       "      <td>613</td>\n",
       "      <td>0.011419</td>\n",
       "      <td>12</td>\n",
       "    </tr>\n",
       "  </tbody>\n",
       "</table>\n",
       "</div>"
      ],
      "text/plain": [
       "                                                                                                                                                                                                   reviews  \\\n",
       "0                                                        1 this product so far has not disappointed. my children love to use it and i like the ability to monitor control what content they see with ease.   \n",
       "1                                                                                                                              great for beginner or experienced person. bought as a gift and she loves it   \n",
       "2                                                                      inexpensive tablet for him to use and learn on, step up from the nabi. he was thrilled with it, learn how to skype on it already...   \n",
       "3  i've had my fire hd 8 two weeks now and i love it. this tablet is a great value.we are prime members and that is where this tablet shines. i love being able to easily access all of the prime conte...   \n",
       "4  i bought this for my grand daughter when she comes over to visit. i set it up with her as the user, entered her age and name and now amazon makes sure that she only accesses sites and content that...   \n",
       "\n",
       "   rating  reiviews_len  punctuation_%  count  \n",
       "0     5.0           145       0.013793     12  \n",
       "1     5.0            75       0.013333     12  \n",
       "2     5.0           131       0.045802     12  \n",
       "3     4.0           593       0.015177     12  \n",
       "4     5.0           613       0.011419     12  "
      ]
     },
     "execution_count": 15,
     "metadata": {},
     "output_type": "execute_result"
    }
   ],
   "source": [
    "df.head()"
   ]
  },
  {
   "cell_type": "code",
   "execution_count": 16,
   "metadata": {},
   "outputs": [],
   "source": [
    "df.rating = df.rating.astype(str) "
   ]
  },
  {
   "cell_type": "code",
   "execution_count": null,
   "metadata": {},
   "outputs": [],
   "source": [
    "# from matplotlib import pyplot \n"
   ]
  },
  {
   "cell_type": "code",
   "execution_count": null,
   "metadata": {},
   "outputs": [],
   "source": [
    "# from matplotlib import pyplot \n",
    "# import numpy as np\n",
    "# %matplotlib inline\n"
   ]
  },
  {
   "cell_type": "code",
   "execution_count": null,
   "metadata": {},
   "outputs": [],
   "source": [
    "# bins = np.linspace(0, 250, 50)\n",
    "# pyplot.hist(df[df['rating'] == '1']['reviews_len'], bins, label='1', normed=True)\n",
    "# pyplot.hist(df[df['rating'] == '2']['reviews_len'], bins, label='2', normed=True)\n",
    "# pyplot.hist(df[df['rating'] == '3']['reviews_len'], bins, label='3', normed=True)\n",
    "# pyplot.hist(df[df['rating'] == '4']['reviews_len'], bins, label='4', normed=True)\n",
    "# pyplot.hist(df[df['rating'] == '5']['reviews_len'], bins, label='5', normed=True)\n",
    "# pyplot.legend(loc='upper right')\n",
    "# pyplot.show()"
   ]
  },
  {
   "cell_type": "code",
   "execution_count": null,
   "metadata": {},
   "outputs": [],
   "source": [
    "# bins = np.linspace(0, 250, 50)\n",
    "# pyplot.hist(df[df['rating'] == '1']['punctuation_%'], bins, label='1', normed=True)\n",
    "# pyplot.hist(df[df['rating'] == '2']['punctuation_%'], bins, label='2', normed=True)\n",
    "# pyplot.hist(df[df['rating'] == '3']['punctuation_%'], bins, label='3', normed=True)\n",
    "# pyplot.hist(df[df['rating'] == '4']['punctuation_%'], bins, label='4', normed=True)\n",
    "# pyplot.hist(df[df['rating'] == '5']['punctuation_%'], bins, label='5', normed=True)\n",
    "# pyplot.legend(loc='upper right')\n",
    "# pyplot.show()"
   ]
  },
  {
   "cell_type": "code",
   "execution_count": null,
   "metadata": {},
   "outputs": [],
   "source": [
    "#transformation"
   ]
  },
  {
   "cell_type": "code",
   "execution_count": null,
   "metadata": {},
   "outputs": [],
   "source": [
    "# bins = np.linspace(0, 500, 50)\n",
    "# pyplot.hist(df['reviews_len'], bins)\n",
    "# pyplot.title('message length')\n",
    "# pyplot.show()"
   ]
  },
  {
   "cell_type": "code",
   "execution_count": null,
   "metadata": {},
   "outputs": [],
   "source": []
  },
  {
   "cell_type": "code",
   "execution_count": null,
   "metadata": {},
   "outputs": [],
   "source": []
  },
  {
   "cell_type": "code",
   "execution_count": null,
   "metadata": {},
   "outputs": [],
   "source": []
  },
  {
   "cell_type": "code",
   "execution_count": null,
   "metadata": {},
   "outputs": [],
   "source": []
  },
  {
   "cell_type": "code",
   "execution_count": null,
   "metadata": {},
   "outputs": [],
   "source": []
  },
  {
   "cell_type": "code",
   "execution_count": null,
   "metadata": {},
   "outputs": [],
   "source": []
  },
  {
   "cell_type": "code",
   "execution_count": null,
   "metadata": {},
   "outputs": [],
   "source": []
  },
  {
   "cell_type": "code",
   "execution_count": null,
   "metadata": {},
   "outputs": [],
   "source": []
  },
  {
   "cell_type": "code",
   "execution_count": null,
   "metadata": {},
   "outputs": [],
   "source": []
  },
  {
   "cell_type": "code",
   "execution_count": null,
   "metadata": {},
   "outputs": [],
   "source": []
  },
  {
   "cell_type": "code",
   "execution_count": null,
   "metadata": {},
   "outputs": [],
   "source": []
  },
  {
   "cell_type": "code",
   "execution_count": null,
   "metadata": {},
   "outputs": [],
   "source": []
  },
  {
   "cell_type": "code",
   "execution_count": null,
   "metadata": {},
   "outputs": [],
   "source": []
  },
  {
   "cell_type": "code",
   "execution_count": null,
   "metadata": {},
   "outputs": [],
   "source": []
  },
  {
   "cell_type": "code",
   "execution_count": null,
   "metadata": {},
   "outputs": [],
   "source": []
  },
  {
   "cell_type": "code",
   "execution_count": null,
   "metadata": {},
   "outputs": [],
   "source": []
  },
  {
   "cell_type": "code",
   "execution_count": null,
   "metadata": {},
   "outputs": [],
   "source": []
  },
  {
   "cell_type": "code",
   "execution_count": null,
   "metadata": {},
   "outputs": [],
   "source": []
  },
  {
   "cell_type": "code",
   "execution_count": null,
   "metadata": {},
   "outputs": [],
   "source": []
  },
  {
   "cell_type": "code",
   "execution_count": null,
   "metadata": {},
   "outputs": [],
   "source": []
  },
  {
   "cell_type": "code",
   "execution_count": null,
   "metadata": {},
   "outputs": [],
   "source": []
  },
  {
   "cell_type": "code",
   "execution_count": null,
   "metadata": {},
   "outputs": [],
   "source": []
  },
  {
   "cell_type": "code",
   "execution_count": null,
   "metadata": {},
   "outputs": [],
   "source": []
  },
  {
   "cell_type": "code",
   "execution_count": null,
   "metadata": {},
   "outputs": [],
   "source": []
  },
  {
   "cell_type": "code",
   "execution_count": null,
   "metadata": {},
   "outputs": [],
   "source": []
  },
  {
   "cell_type": "code",
   "execution_count": null,
   "metadata": {},
   "outputs": [],
   "source": []
  },
  {
   "cell_type": "code",
   "execution_count": null,
   "metadata": {},
   "outputs": [],
   "source": []
  },
  {
   "cell_type": "code",
   "execution_count": null,
   "metadata": {},
   "outputs": [],
   "source": []
  },
  {
   "cell_type": "code",
   "execution_count": null,
   "metadata": {},
   "outputs": [],
   "source": []
  },
  {
   "cell_type": "code",
   "execution_count": null,
   "metadata": {},
   "outputs": [],
   "source": []
  },
  {
   "cell_type": "code",
   "execution_count": null,
   "metadata": {},
   "outputs": [],
   "source": []
  },
  {
   "cell_type": "code",
   "execution_count": null,
   "metadata": {},
   "outputs": [],
   "source": []
  },
  {
   "cell_type": "code",
   "execution_count": null,
   "metadata": {},
   "outputs": [],
   "source": []
  },
  {
   "cell_type": "code",
   "execution_count": null,
   "metadata": {},
   "outputs": [],
   "source": []
  },
  {
   "cell_type": "code",
   "execution_count": null,
   "metadata": {},
   "outputs": [],
   "source": []
  },
  {
   "cell_type": "code",
   "execution_count": null,
   "metadata": {},
   "outputs": [],
   "source": []
  },
  {
   "cell_type": "code",
   "execution_count": null,
   "metadata": {},
   "outputs": [],
   "source": []
  },
  {
   "cell_type": "code",
   "execution_count": null,
   "metadata": {},
   "outputs": [],
   "source": []
  },
  {
   "cell_type": "code",
   "execution_count": null,
   "metadata": {},
   "outputs": [],
   "source": []
  },
  {
   "cell_type": "code",
   "execution_count": null,
   "metadata": {},
   "outputs": [],
   "source": []
  },
  {
   "cell_type": "code",
   "execution_count": null,
   "metadata": {},
   "outputs": [],
   "source": []
  },
  {
   "cell_type": "code",
   "execution_count": null,
   "metadata": {},
   "outputs": [],
   "source": []
  },
  {
   "cell_type": "code",
   "execution_count": null,
   "metadata": {},
   "outputs": [],
   "source": []
  },
  {
   "cell_type": "code",
   "execution_count": null,
   "metadata": {},
   "outputs": [],
   "source": []
  },
  {
   "cell_type": "code",
   "execution_count": null,
   "metadata": {},
   "outputs": [],
   "source": []
  },
  {
   "cell_type": "code",
   "execution_count": null,
   "metadata": {},
   "outputs": [],
   "source": []
  },
  {
   "cell_type": "code",
   "execution_count": null,
   "metadata": {},
   "outputs": [],
   "source": []
  },
  {
   "cell_type": "code",
   "execution_count": null,
   "metadata": {},
   "outputs": [],
   "source": []
  },
  {
   "cell_type": "code",
   "execution_count": null,
   "metadata": {},
   "outputs": [],
   "source": []
  },
  {
   "cell_type": "code",
   "execution_count": null,
   "metadata": {},
   "outputs": [],
   "source": []
  },
  {
   "cell_type": "code",
   "execution_count": null,
   "metadata": {},
   "outputs": [],
   "source": []
  },
  {
   "cell_type": "code",
   "execution_count": null,
   "metadata": {},
   "outputs": [],
   "source": []
  },
  {
   "cell_type": "code",
   "execution_count": null,
   "metadata": {},
   "outputs": [],
   "source": []
  },
  {
   "cell_type": "code",
   "execution_count": null,
   "metadata": {},
   "outputs": [],
   "source": []
  },
  {
   "cell_type": "code",
   "execution_count": null,
   "metadata": {},
   "outputs": [],
   "source": []
  },
  {
   "cell_type": "code",
   "execution_count": null,
   "metadata": {},
   "outputs": [],
   "source": []
  },
  {
   "cell_type": "code",
   "execution_count": null,
   "metadata": {},
   "outputs": [],
   "source": []
  },
  {
   "cell_type": "code",
   "execution_count": null,
   "metadata": {},
   "outputs": [],
   "source": []
  },
  {
   "cell_type": "code",
   "execution_count": null,
   "metadata": {},
   "outputs": [],
   "source": []
  },
  {
   "cell_type": "code",
   "execution_count": null,
   "metadata": {},
   "outputs": [],
   "source": []
  },
  {
   "cell_type": "code",
   "execution_count": null,
   "metadata": {},
   "outputs": [],
   "source": []
  },
  {
   "cell_type": "code",
   "execution_count": null,
   "metadata": {},
   "outputs": [],
   "source": []
  },
  {
   "cell_type": "code",
   "execution_count": null,
   "metadata": {},
   "outputs": [],
   "source": [
    "\n",
    "\n"
   ]
  },
  {
   "cell_type": "code",
   "execution_count": null,
   "metadata": {},
   "outputs": [],
   "source": []
  },
  {
   "cell_type": "code",
   "execution_count": null,
   "metadata": {},
   "outputs": [],
   "source": []
  }
 ],
 "metadata": {
  "kernelspec": {
   "display_name": "Python 3",
   "language": "python",
   "name": "python3"
  },
  "language_info": {
   "codemirror_mode": {
    "name": "ipython",
    "version": 3
   },
   "file_extension": ".py",
   "mimetype": "text/x-python",
   "name": "python",
   "nbconvert_exporter": "python",
   "pygments_lexer": "ipython3",
   "version": "3.6.5"
  }
 },
 "nbformat": 4,
 "nbformat_minor": 2
}
