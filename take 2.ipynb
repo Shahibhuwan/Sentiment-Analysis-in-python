{
 "cells": [
  {
   "cell_type": "code",
   "execution_count": 1,
   "metadata": {},
   "outputs": [
    {
     "name": "stdout",
     "output_type": "stream",
     "text": [
      "[nltk_data] Downloading package stopwords to\n",
      "[nltk_data]     C:\\Users\\Dell\\AppData\\Roaming\\nltk_data...\n",
      "[nltk_data]   Package stopwords is already up-to-date!\n",
      "[nltk_data] Downloading package wordnet to\n",
      "[nltk_data]     C:\\Users\\Dell\\AppData\\Roaming\\nltk_data...\n",
      "[nltk_data]   Package wordnet is already up-to-date!\n"
     ]
    },
    {
     "data": {
      "text/plain": [
       "True"
      ]
     },
     "execution_count": 1,
     "metadata": {},
     "output_type": "execute_result"
    }
   ],
   "source": [
    "import nltk\n",
    "\n",
    "\n",
    "nltk.download('stopwords')\n",
    "nltk.download('wordnet')\n"
   ]
  },
  {
   "cell_type": "code",
   "execution_count": 2,
   "metadata": {},
   "outputs": [],
   "source": [
    "# from textblob import TextBlob"
   ]
  },
  {
   "cell_type": "code",
   "execution_count": 3,
   "metadata": {},
   "outputs": [
    {
     "data": {
      "text/html": [
       "<div>\n",
       "<style scoped>\n",
       "    .dataframe tbody tr th:only-of-type {\n",
       "        vertical-align: middle;\n",
       "    }\n",
       "\n",
       "    .dataframe tbody tr th {\n",
       "        vertical-align: top;\n",
       "    }\n",
       "\n",
       "    .dataframe thead th {\n",
       "        text-align: right;\n",
       "    }\n",
       "</style>\n",
       "<table border=\"1\" class=\"dataframe\">\n",
       "  <thead>\n",
       "    <tr style=\"text-align: right;\">\n",
       "      <th></th>\n",
       "      <th>reviews</th>\n",
       "      <th>rating</th>\n",
       "    </tr>\n",
       "  </thead>\n",
       "  <tbody>\n",
       "    <tr>\n",
       "      <th>0</th>\n",
       "      <td>1 This product so far has not disappointed. My children love to use it and I like the ability to monitor control what content they see with ease.</td>\n",
       "      <td>5.0</td>\n",
       "    </tr>\n",
       "    <tr>\n",
       "      <th>1</th>\n",
       "      <td>great for beginner or experienced person. Bought as a gift and she loves it</td>\n",
       "      <td>5.0</td>\n",
       "    </tr>\n",
       "    <tr>\n",
       "      <th>2</th>\n",
       "      <td>Inexpensive tablet for him to use and learn on, step up from the NABI. He was thrilled with it, learn how to Skype on it already...</td>\n",
       "      <td>5.0</td>\n",
       "    </tr>\n",
       "    <tr>\n",
       "      <th>3</th>\n",
       "      <td>I've had my Fire HD 8 two weeks now and I love it. This tablet is a great value.We are Prime Members and that is where this tablet SHINES. I love being able to easily access all of the Prime conte...</td>\n",
       "      <td>4.0</td>\n",
       "    </tr>\n",
       "    <tr>\n",
       "      <th>4</th>\n",
       "      <td>I bought this for my grand daughter when she comes over to visit. I set it up with her as the user, entered her age and name and now Amazon makes sure that she only accesses sites and content that...</td>\n",
       "      <td>5.0</td>\n",
       "    </tr>\n",
       "  </tbody>\n",
       "</table>\n",
       "</div>"
      ],
      "text/plain": [
       "                                                                                                                                                                                                   reviews  \\\n",
       "0                                                        1 This product so far has not disappointed. My children love to use it and I like the ability to monitor control what content they see with ease.   \n",
       "1                                                                                                                              great for beginner or experienced person. Bought as a gift and she loves it   \n",
       "2                                                                      Inexpensive tablet for him to use and learn on, step up from the NABI. He was thrilled with it, learn how to Skype on it already...   \n",
       "3  I've had my Fire HD 8 two weeks now and I love it. This tablet is a great value.We are Prime Members and that is where this tablet SHINES. I love being able to easily access all of the Prime conte...   \n",
       "4  I bought this for my grand daughter when she comes over to visit. I set it up with her as the user, entered her age and name and now Amazon makes sure that she only accesses sites and content that...   \n",
       "\n",
       "   rating  \n",
       "0     5.0  \n",
       "1     5.0  \n",
       "2     5.0  \n",
       "3     4.0  \n",
       "4     5.0  "
      ]
     },
     "execution_count": 3,
     "metadata": {},
     "output_type": "execute_result"
    }
   ],
   "source": [
    "import pandas as pd\n",
    "pd.set_option('display.max_colwidth',200)\n",
    "df=pd.read_csv(r\"C:\\Users\\Dell\\Desktop\\1429_1.csv\",encoding='UTF-8',sep=',')\n",
    "\n",
    "df.drop(['id','title'],axis='columns',inplace=True)\n",
    "df.head()"
   ]
  },
  {
   "cell_type": "code",
   "execution_count": 4,
   "metadata": {},
   "outputs": [],
   "source": [
    "# df.reviews=df.reviews.apply(lambda txt: ''.join(textblob.TextBlob(txt).correct()))"
   ]
  },
  {
   "cell_type": "code",
   "execution_count": 5,
   "metadata": {},
   "outputs": [
    {
     "data": {
      "text/html": [
       "<div>\n",
       "<style scoped>\n",
       "    .dataframe tbody tr th:only-of-type {\n",
       "        vertical-align: middle;\n",
       "    }\n",
       "\n",
       "    .dataframe tbody tr th {\n",
       "        vertical-align: top;\n",
       "    }\n",
       "\n",
       "    .dataframe thead th {\n",
       "        text-align: right;\n",
       "    }\n",
       "</style>\n",
       "<table border=\"1\" class=\"dataframe\">\n",
       "  <thead>\n",
       "    <tr style=\"text-align: right;\">\n",
       "      <th></th>\n",
       "      <th>reviews</th>\n",
       "      <th>rating</th>\n",
       "    </tr>\n",
       "  </thead>\n",
       "  <tbody>\n",
       "    <tr>\n",
       "      <th>0</th>\n",
       "      <td>1 This product so far has not disappointed. My children love to use it and I like the ability to monitor control what content they see with ease.</td>\n",
       "      <td>5.0</td>\n",
       "    </tr>\n",
       "    <tr>\n",
       "      <th>1</th>\n",
       "      <td>great for beginner or experienced person. Bought as a gift and she loves it</td>\n",
       "      <td>5.0</td>\n",
       "    </tr>\n",
       "    <tr>\n",
       "      <th>2</th>\n",
       "      <td>Inexpensive tablet for him to use and learn on, step up from the NABI. He was thrilled with it, learn how to Skype on it already...</td>\n",
       "      <td>5.0</td>\n",
       "    </tr>\n",
       "    <tr>\n",
       "      <th>3</th>\n",
       "      <td>I've had my Fire HD 8 two weeks now and I love it. This tablet is a great value.We are Prime Members and that is where this tablet SHINES. I love being able to easily access all of the Prime conte...</td>\n",
       "      <td>4.0</td>\n",
       "    </tr>\n",
       "    <tr>\n",
       "      <th>4</th>\n",
       "      <td>I bought this for my grand daughter when she comes over to visit. I set it up with her as the user, entered her age and name and now Amazon makes sure that she only accesses sites and content that...</td>\n",
       "      <td>5.0</td>\n",
       "    </tr>\n",
       "  </tbody>\n",
       "</table>\n",
       "</div>"
      ],
      "text/plain": [
       "                                                                                                                                                                                                   reviews  \\\n",
       "0                                                        1 This product so far has not disappointed. My children love to use it and I like the ability to monitor control what content they see with ease.   \n",
       "1                                                                                                                              great for beginner or experienced person. Bought as a gift and she loves it   \n",
       "2                                                                      Inexpensive tablet for him to use and learn on, step up from the NABI. He was thrilled with it, learn how to Skype on it already...   \n",
       "3  I've had my Fire HD 8 two weeks now and I love it. This tablet is a great value.We are Prime Members and that is where this tablet SHINES. I love being able to easily access all of the Prime conte...   \n",
       "4  I bought this for my grand daughter when she comes over to visit. I set it up with her as the user, entered her age and name and now Amazon makes sure that she only accesses sites and content that...   \n",
       "\n",
       "   rating  \n",
       "0     5.0  \n",
       "1     5.0  \n",
       "2     5.0  \n",
       "3     4.0  \n",
       "4     5.0  "
      ]
     },
     "execution_count": 5,
     "metadata": {},
     "output_type": "execute_result"
    }
   ],
   "source": [
    "\n",
    "df.reviews = df.reviews.astype(str) \n",
    "df.head()  \n",
    "#I get the feeling that your problems has its root in the pd.read_csv('TrainSA.csv') function. Althought you did not post this routine I assume it is Pandas read_csv. This routine intelligently converts input to python datatypes. However this means that in your case some values could be translated to a float. You can prevent this intelligent (?) behaviour by specifying which datatypes you expect for each column."
   ]
  },
  {
   "cell_type": "code",
   "execution_count": 6,
   "metadata": {},
   "outputs": [
    {
     "data": {
      "text/html": [
       "<div>\n",
       "<style scoped>\n",
       "    .dataframe tbody tr th:only-of-type {\n",
       "        vertical-align: middle;\n",
       "    }\n",
       "\n",
       "    .dataframe tbody tr th {\n",
       "        vertical-align: top;\n",
       "    }\n",
       "\n",
       "    .dataframe thead th {\n",
       "        text-align: right;\n",
       "    }\n",
       "</style>\n",
       "<table border=\"1\" class=\"dataframe\">\n",
       "  <thead>\n",
       "    <tr style=\"text-align: right;\">\n",
       "      <th></th>\n",
       "      <th>reviews</th>\n",
       "      <th>rating</th>\n",
       "    </tr>\n",
       "  </thead>\n",
       "  <tbody>\n",
       "    <tr>\n",
       "      <th>0</th>\n",
       "      <td>1 this product so far has not disappointed. my children love to use it and i like the ability to monitor control what content they see with ease.</td>\n",
       "      <td>5.0</td>\n",
       "    </tr>\n",
       "    <tr>\n",
       "      <th>1</th>\n",
       "      <td>great for beginner or experienced person. bought as a gift and she loves it</td>\n",
       "      <td>5.0</td>\n",
       "    </tr>\n",
       "    <tr>\n",
       "      <th>2</th>\n",
       "      <td>inexpensive tablet for him to use and learn on, step up from the nabi. he was thrilled with it, learn how to skype on it already...</td>\n",
       "      <td>5.0</td>\n",
       "    </tr>\n",
       "    <tr>\n",
       "      <th>3</th>\n",
       "      <td>i've had my fire hd 8 two weeks now and i love it. this tablet is a great value.we are prime members and that is where this tablet shines. i love being able to easily access all of the prime conte...</td>\n",
       "      <td>4.0</td>\n",
       "    </tr>\n",
       "    <tr>\n",
       "      <th>4</th>\n",
       "      <td>i bought this for my grand daughter when she comes over to visit. i set it up with her as the user, entered her age and name and now amazon makes sure that she only accesses sites and content that...</td>\n",
       "      <td>5.0</td>\n",
       "    </tr>\n",
       "  </tbody>\n",
       "</table>\n",
       "</div>"
      ],
      "text/plain": [
       "                                                                                                                                                                                                   reviews  \\\n",
       "0                                                        1 this product so far has not disappointed. my children love to use it and i like the ability to monitor control what content they see with ease.   \n",
       "1                                                                                                                              great for beginner or experienced person. bought as a gift and she loves it   \n",
       "2                                                                      inexpensive tablet for him to use and learn on, step up from the nabi. he was thrilled with it, learn how to skype on it already...   \n",
       "3  i've had my fire hd 8 two weeks now and i love it. this tablet is a great value.we are prime members and that is where this tablet shines. i love being able to easily access all of the prime conte...   \n",
       "4  i bought this for my grand daughter when she comes over to visit. i set it up with her as the user, entered her age and name and now amazon makes sure that she only accesses sites and content that...   \n",
       "\n",
       "   rating  \n",
       "0     5.0  \n",
       "1     5.0  \n",
       "2     5.0  \n",
       "3     4.0  \n",
       "4     5.0  "
      ]
     },
     "execution_count": 6,
     "metadata": {},
     "output_type": "execute_result"
    }
   ],
   "source": [
    "\n",
    "df.reviews = df.reviews.apply(lambda x: x.lower())\n",
    "df.head()"
   ]
  },
  {
   "cell_type": "code",
   "execution_count": 7,
   "metadata": {},
   "outputs": [
    {
     "data": {
      "text/plain": [
       "'!\"#$%&\\'()*+,-./:;<=>?@[\\\\]^_`{|}~'"
      ]
     },
     "execution_count": 7,
     "metadata": {},
     "output_type": "execute_result"
    }
   ],
   "source": [
    "import string\n",
    "string.punctuation"
   ]
  },
  {
   "cell_type": "code",
   "execution_count": 8,
   "metadata": {},
   "outputs": [],
   "source": [
    "# df['new'] = df.reviews.apply(lambda x: x.translate(string.punctuation))\n",
    "# df.head()"
   ]
  },
  {
   "cell_type": "code",
   "execution_count": 9,
   "metadata": {},
   "outputs": [],
   "source": [
    "# def remove_punctuations(text):\n",
    "#     for punctuation in string.punctuation:\n",
    "#         text = text.replace(punctuation, '')\n",
    "#     return text\n",
    "\n",
    "def remove_punctuations(txt):\n",
    "    txt = \"\".join([c for c in txt if c not in string.punctuation])\n",
    "    return txt\n",
    "    "
   ]
  },
  {
   "cell_type": "code",
   "execution_count": 10,
   "metadata": {},
   "outputs": [],
   "source": [
    "df[\"new_column\"] = df['reviews'].apply(remove_punctuations)\n",
    "\n"
   ]
  },
  {
   "cell_type": "code",
   "execution_count": 11,
   "metadata": {},
   "outputs": [
    {
     "data": {
      "text/html": [
       "<div>\n",
       "<style scoped>\n",
       "    .dataframe tbody tr th:only-of-type {\n",
       "        vertical-align: middle;\n",
       "    }\n",
       "\n",
       "    .dataframe tbody tr th {\n",
       "        vertical-align: top;\n",
       "    }\n",
       "\n",
       "    .dataframe thead th {\n",
       "        text-align: right;\n",
       "    }\n",
       "</style>\n",
       "<table border=\"1\" class=\"dataframe\">\n",
       "  <thead>\n",
       "    <tr style=\"text-align: right;\">\n",
       "      <th></th>\n",
       "      <th>reviews</th>\n",
       "      <th>rating</th>\n",
       "      <th>new_column</th>\n",
       "    </tr>\n",
       "  </thead>\n",
       "  <tbody>\n",
       "    <tr>\n",
       "      <th>0</th>\n",
       "      <td>1 this product so far has not disappointed. my children love to use it and i like the ability to monitor control what content they see with ease.</td>\n",
       "      <td>5.0</td>\n",
       "      <td>1 this product so far has not disappointed my children love to use it and i like the ability to monitor control what content they see with ease</td>\n",
       "    </tr>\n",
       "    <tr>\n",
       "      <th>1</th>\n",
       "      <td>great for beginner or experienced person. bought as a gift and she loves it</td>\n",
       "      <td>5.0</td>\n",
       "      <td>great for beginner or experienced person bought as a gift and she loves it</td>\n",
       "    </tr>\n",
       "    <tr>\n",
       "      <th>2</th>\n",
       "      <td>inexpensive tablet for him to use and learn on, step up from the nabi. he was thrilled with it, learn how to skype on it already...</td>\n",
       "      <td>5.0</td>\n",
       "      <td>inexpensive tablet for him to use and learn on step up from the nabi he was thrilled with it learn how to skype on it already</td>\n",
       "    </tr>\n",
       "    <tr>\n",
       "      <th>3</th>\n",
       "      <td>i've had my fire hd 8 two weeks now and i love it. this tablet is a great value.we are prime members and that is where this tablet shines. i love being able to easily access all of the prime conte...</td>\n",
       "      <td>4.0</td>\n",
       "      <td>ive had my fire hd 8 two weeks now and i love it this tablet is a great valuewe are prime members and that is where this tablet shines i love being able to easily access all of the prime content a...</td>\n",
       "    </tr>\n",
       "    <tr>\n",
       "      <th>4</th>\n",
       "      <td>i bought this for my grand daughter when she comes over to visit. i set it up with her as the user, entered her age and name and now amazon makes sure that she only accesses sites and content that...</td>\n",
       "      <td>5.0</td>\n",
       "      <td>i bought this for my grand daughter when she comes over to visit i set it up with her as the user entered her age and name and now amazon makes sure that she only accesses sites and content that a...</td>\n",
       "    </tr>\n",
       "  </tbody>\n",
       "</table>\n",
       "</div>"
      ],
      "text/plain": [
       "                                                                                                                                                                                                   reviews  \\\n",
       "0                                                        1 this product so far has not disappointed. my children love to use it and i like the ability to monitor control what content they see with ease.   \n",
       "1                                                                                                                              great for beginner or experienced person. bought as a gift and she loves it   \n",
       "2                                                                      inexpensive tablet for him to use and learn on, step up from the nabi. he was thrilled with it, learn how to skype on it already...   \n",
       "3  i've had my fire hd 8 two weeks now and i love it. this tablet is a great value.we are prime members and that is where this tablet shines. i love being able to easily access all of the prime conte...   \n",
       "4  i bought this for my grand daughter when she comes over to visit. i set it up with her as the user, entered her age and name and now amazon makes sure that she only accesses sites and content that...   \n",
       "\n",
       "   rating  \\\n",
       "0     5.0   \n",
       "1     5.0   \n",
       "2     5.0   \n",
       "3     4.0   \n",
       "4     5.0   \n",
       "\n",
       "                                                                                                                                                                                                new_column  \n",
       "0                                                          1 this product so far has not disappointed my children love to use it and i like the ability to monitor control what content they see with ease  \n",
       "1                                                                                                                               great for beginner or experienced person bought as a gift and she loves it  \n",
       "2                                                                            inexpensive tablet for him to use and learn on step up from the nabi he was thrilled with it learn how to skype on it already  \n",
       "3  ive had my fire hd 8 two weeks now and i love it this tablet is a great valuewe are prime members and that is where this tablet shines i love being able to easily access all of the prime content a...  \n",
       "4  i bought this for my grand daughter when she comes over to visit i set it up with her as the user entered her age and name and now amazon makes sure that she only accesses sites and content that a...  "
      ]
     },
     "execution_count": 11,
     "metadata": {},
     "output_type": "execute_result"
    }
   ],
   "source": [
    "df.head()"
   ]
  },
  {
   "cell_type": "code",
   "execution_count": 12,
   "metadata": {},
   "outputs": [],
   "source": [
    "df['new_cloumns'] = df['new_column'].str.replace('\\d+', '') # to replace no. by \"\""
   ]
  },
  {
   "cell_type": "code",
   "execution_count": 13,
   "metadata": {},
   "outputs": [
    {
     "data": {
      "text/html": [
       "<div>\n",
       "<style scoped>\n",
       "    .dataframe tbody tr th:only-of-type {\n",
       "        vertical-align: middle;\n",
       "    }\n",
       "\n",
       "    .dataframe tbody tr th {\n",
       "        vertical-align: top;\n",
       "    }\n",
       "\n",
       "    .dataframe thead th {\n",
       "        text-align: right;\n",
       "    }\n",
       "</style>\n",
       "<table border=\"1\" class=\"dataframe\">\n",
       "  <thead>\n",
       "    <tr style=\"text-align: right;\">\n",
       "      <th></th>\n",
       "      <th>reviews</th>\n",
       "      <th>rating</th>\n",
       "      <th>new_column</th>\n",
       "      <th>new_cloumns</th>\n",
       "    </tr>\n",
       "  </thead>\n",
       "  <tbody>\n",
       "    <tr>\n",
       "      <th>0</th>\n",
       "      <td>1 this product so far has not disappointed. my children love to use it and i like the ability to monitor control what content they see with ease.</td>\n",
       "      <td>5.0</td>\n",
       "      <td>1 this product so far has not disappointed my children love to use it and i like the ability to monitor control what content they see with ease</td>\n",
       "      <td>this product so far has not disappointed my children love to use it and i like the ability to monitor control what content they see with ease</td>\n",
       "    </tr>\n",
       "    <tr>\n",
       "      <th>1</th>\n",
       "      <td>great for beginner or experienced person. bought as a gift and she loves it</td>\n",
       "      <td>5.0</td>\n",
       "      <td>great for beginner or experienced person bought as a gift and she loves it</td>\n",
       "      <td>great for beginner or experienced person bought as a gift and she loves it</td>\n",
       "    </tr>\n",
       "    <tr>\n",
       "      <th>2</th>\n",
       "      <td>inexpensive tablet for him to use and learn on, step up from the nabi. he was thrilled with it, learn how to skype on it already...</td>\n",
       "      <td>5.0</td>\n",
       "      <td>inexpensive tablet for him to use and learn on step up from the nabi he was thrilled with it learn how to skype on it already</td>\n",
       "      <td>inexpensive tablet for him to use and learn on step up from the nabi he was thrilled with it learn how to skype on it already</td>\n",
       "    </tr>\n",
       "    <tr>\n",
       "      <th>3</th>\n",
       "      <td>i've had my fire hd 8 two weeks now and i love it. this tablet is a great value.we are prime members and that is where this tablet shines. i love being able to easily access all of the prime conte...</td>\n",
       "      <td>4.0</td>\n",
       "      <td>ive had my fire hd 8 two weeks now and i love it this tablet is a great valuewe are prime members and that is where this tablet shines i love being able to easily access all of the prime content a...</td>\n",
       "      <td>ive had my fire hd  two weeks now and i love it this tablet is a great valuewe are prime members and that is where this tablet shines i love being able to easily access all of the prime content as...</td>\n",
       "    </tr>\n",
       "    <tr>\n",
       "      <th>4</th>\n",
       "      <td>i bought this for my grand daughter when she comes over to visit. i set it up with her as the user, entered her age and name and now amazon makes sure that she only accesses sites and content that...</td>\n",
       "      <td>5.0</td>\n",
       "      <td>i bought this for my grand daughter when she comes over to visit i set it up with her as the user entered her age and name and now amazon makes sure that she only accesses sites and content that a...</td>\n",
       "      <td>i bought this for my grand daughter when she comes over to visit i set it up with her as the user entered her age and name and now amazon makes sure that she only accesses sites and content that a...</td>\n",
       "    </tr>\n",
       "  </tbody>\n",
       "</table>\n",
       "</div>"
      ],
      "text/plain": [
       "                                                                                                                                                                                                   reviews  \\\n",
       "0                                                        1 this product so far has not disappointed. my children love to use it and i like the ability to monitor control what content they see with ease.   \n",
       "1                                                                                                                              great for beginner or experienced person. bought as a gift and she loves it   \n",
       "2                                                                      inexpensive tablet for him to use and learn on, step up from the nabi. he was thrilled with it, learn how to skype on it already...   \n",
       "3  i've had my fire hd 8 two weeks now and i love it. this tablet is a great value.we are prime members and that is where this tablet shines. i love being able to easily access all of the prime conte...   \n",
       "4  i bought this for my grand daughter when she comes over to visit. i set it up with her as the user, entered her age and name and now amazon makes sure that she only accesses sites and content that...   \n",
       "\n",
       "   rating  \\\n",
       "0     5.0   \n",
       "1     5.0   \n",
       "2     5.0   \n",
       "3     4.0   \n",
       "4     5.0   \n",
       "\n",
       "                                                                                                                                                                                                new_column  \\\n",
       "0                                                          1 this product so far has not disappointed my children love to use it and i like the ability to monitor control what content they see with ease   \n",
       "1                                                                                                                               great for beginner or experienced person bought as a gift and she loves it   \n",
       "2                                                                            inexpensive tablet for him to use and learn on step up from the nabi he was thrilled with it learn how to skype on it already   \n",
       "3  ive had my fire hd 8 two weeks now and i love it this tablet is a great valuewe are prime members and that is where this tablet shines i love being able to easily access all of the prime content a...   \n",
       "4  i bought this for my grand daughter when she comes over to visit i set it up with her as the user entered her age and name and now amazon makes sure that she only accesses sites and content that a...   \n",
       "\n",
       "                                                                                                                                                                                               new_cloumns  \n",
       "0                                                            this product so far has not disappointed my children love to use it and i like the ability to monitor control what content they see with ease  \n",
       "1                                                                                                                               great for beginner or experienced person bought as a gift and she loves it  \n",
       "2                                                                            inexpensive tablet for him to use and learn on step up from the nabi he was thrilled with it learn how to skype on it already  \n",
       "3  ive had my fire hd  two weeks now and i love it this tablet is a great valuewe are prime members and that is where this tablet shines i love being able to easily access all of the prime content as...  \n",
       "4  i bought this for my grand daughter when she comes over to visit i set it up with her as the user entered her age and name and now amazon makes sure that she only accesses sites and content that a...  "
      ]
     },
     "execution_count": 13,
     "metadata": {},
     "output_type": "execute_result"
    }
   ],
   "source": [
    "df.head()"
   ]
  },
  {
   "cell_type": "code",
   "execution_count": 14,
   "metadata": {},
   "outputs": [
    {
     "data": {
      "text/html": [
       "<div>\n",
       "<style scoped>\n",
       "    .dataframe tbody tr th:only-of-type {\n",
       "        vertical-align: middle;\n",
       "    }\n",
       "\n",
       "    .dataframe tbody tr th {\n",
       "        vertical-align: top;\n",
       "    }\n",
       "\n",
       "    .dataframe thead th {\n",
       "        text-align: right;\n",
       "    }\n",
       "</style>\n",
       "<table border=\"1\" class=\"dataframe\">\n",
       "  <thead>\n",
       "    <tr style=\"text-align: right;\">\n",
       "      <th></th>\n",
       "      <th>reviews</th>\n",
       "      <th>rating</th>\n",
       "      <th>new_column</th>\n",
       "      <th>new_cloumns</th>\n",
       "      <th>tokenize</th>\n",
       "    </tr>\n",
       "  </thead>\n",
       "  <tbody>\n",
       "    <tr>\n",
       "      <th>0</th>\n",
       "      <td>1 this product so far has not disappointed. my children love to use it and i like the ability to monitor control what content they see with ease.</td>\n",
       "      <td>5.0</td>\n",
       "      <td>1 this product so far has not disappointed my children love to use it and i like the ability to monitor control what content they see with ease</td>\n",
       "      <td>this product so far has not disappointed my children love to use it and i like the ability to monitor control what content they see with ease</td>\n",
       "      <td>[, this, product, so, far, has, not, disappointed, my, children, love, to, use, it, and, i, like, the, ability, to, monitor, control, what, content, they, see, with, ease]</td>\n",
       "    </tr>\n",
       "    <tr>\n",
       "      <th>1</th>\n",
       "      <td>great for beginner or experienced person. bought as a gift and she loves it</td>\n",
       "      <td>5.0</td>\n",
       "      <td>great for beginner or experienced person bought as a gift and she loves it</td>\n",
       "      <td>great for beginner or experienced person bought as a gift and she loves it</td>\n",
       "      <td>[great, for, beginner, or, experienced, person, bought, as, a, gift, and, she, loves, it]</td>\n",
       "    </tr>\n",
       "    <tr>\n",
       "      <th>2</th>\n",
       "      <td>inexpensive tablet for him to use and learn on, step up from the nabi. he was thrilled with it, learn how to skype on it already...</td>\n",
       "      <td>5.0</td>\n",
       "      <td>inexpensive tablet for him to use and learn on step up from the nabi he was thrilled with it learn how to skype on it already</td>\n",
       "      <td>inexpensive tablet for him to use and learn on step up from the nabi he was thrilled with it learn how to skype on it already</td>\n",
       "      <td>[inexpensive, tablet, for, him, to, use, and, learn, on, step, up, from, the, nabi, he, was, thrilled, with, it, learn, how, to, skype, on, it, already]</td>\n",
       "    </tr>\n",
       "    <tr>\n",
       "      <th>3</th>\n",
       "      <td>i've had my fire hd 8 two weeks now and i love it. this tablet is a great value.we are prime members and that is where this tablet shines. i love being able to easily access all of the prime conte...</td>\n",
       "      <td>4.0</td>\n",
       "      <td>ive had my fire hd 8 two weeks now and i love it this tablet is a great valuewe are prime members and that is where this tablet shines i love being able to easily access all of the prime content a...</td>\n",
       "      <td>ive had my fire hd  two weeks now and i love it this tablet is a great valuewe are prime members and that is where this tablet shines i love being able to easily access all of the prime content as...</td>\n",
       "      <td>[ive, had, my, fire, hd, two, weeks, now, and, i, love, it, this, tablet, is, a, great, valuewe, are, prime, members, and, that, is, where, this, tablet, shines, i, love, being, able, to, easily, ...</td>\n",
       "    </tr>\n",
       "    <tr>\n",
       "      <th>4</th>\n",
       "      <td>i bought this for my grand daughter when she comes over to visit. i set it up with her as the user, entered her age and name and now amazon makes sure that she only accesses sites and content that...</td>\n",
       "      <td>5.0</td>\n",
       "      <td>i bought this for my grand daughter when she comes over to visit i set it up with her as the user entered her age and name and now amazon makes sure that she only accesses sites and content that a...</td>\n",
       "      <td>i bought this for my grand daughter when she comes over to visit i set it up with her as the user entered her age and name and now amazon makes sure that she only accesses sites and content that a...</td>\n",
       "      <td>[i, bought, this, for, my, grand, daughter, when, she, comes, over, to, visit, i, set, it, up, with, her, as, the, user, entered, her, age, and, name, and, now, amazon, makes, sure, that, she, onl...</td>\n",
       "    </tr>\n",
       "  </tbody>\n",
       "</table>\n",
       "</div>"
      ],
      "text/plain": [
       "                                                                                                                                                                                                   reviews  \\\n",
       "0                                                        1 this product so far has not disappointed. my children love to use it and i like the ability to monitor control what content they see with ease.   \n",
       "1                                                                                                                              great for beginner or experienced person. bought as a gift and she loves it   \n",
       "2                                                                      inexpensive tablet for him to use and learn on, step up from the nabi. he was thrilled with it, learn how to skype on it already...   \n",
       "3  i've had my fire hd 8 two weeks now and i love it. this tablet is a great value.we are prime members and that is where this tablet shines. i love being able to easily access all of the prime conte...   \n",
       "4  i bought this for my grand daughter when she comes over to visit. i set it up with her as the user, entered her age and name and now amazon makes sure that she only accesses sites and content that...   \n",
       "\n",
       "   rating  \\\n",
       "0     5.0   \n",
       "1     5.0   \n",
       "2     5.0   \n",
       "3     4.0   \n",
       "4     5.0   \n",
       "\n",
       "                                                                                                                                                                                                new_column  \\\n",
       "0                                                          1 this product so far has not disappointed my children love to use it and i like the ability to monitor control what content they see with ease   \n",
       "1                                                                                                                               great for beginner or experienced person bought as a gift and she loves it   \n",
       "2                                                                            inexpensive tablet for him to use and learn on step up from the nabi he was thrilled with it learn how to skype on it already   \n",
       "3  ive had my fire hd 8 two weeks now and i love it this tablet is a great valuewe are prime members and that is where this tablet shines i love being able to easily access all of the prime content a...   \n",
       "4  i bought this for my grand daughter when she comes over to visit i set it up with her as the user entered her age and name and now amazon makes sure that she only accesses sites and content that a...   \n",
       "\n",
       "                                                                                                                                                                                               new_cloumns  \\\n",
       "0                                                            this product so far has not disappointed my children love to use it and i like the ability to monitor control what content they see with ease   \n",
       "1                                                                                                                               great for beginner or experienced person bought as a gift and she loves it   \n",
       "2                                                                            inexpensive tablet for him to use and learn on step up from the nabi he was thrilled with it learn how to skype on it already   \n",
       "3  ive had my fire hd  two weeks now and i love it this tablet is a great valuewe are prime members and that is where this tablet shines i love being able to easily access all of the prime content as...   \n",
       "4  i bought this for my grand daughter when she comes over to visit i set it up with her as the user entered her age and name and now amazon makes sure that she only accesses sites and content that a...   \n",
       "\n",
       "                                                                                                                                                                                                  tokenize  \n",
       "0                              [, this, product, so, far, has, not, disappointed, my, children, love, to, use, it, and, i, like, the, ability, to, monitor, control, what, content, they, see, with, ease]  \n",
       "1                                                                                                                [great, for, beginner, or, experienced, person, bought, as, a, gift, and, she, loves, it]  \n",
       "2                                                 [inexpensive, tablet, for, him, to, use, and, learn, on, step, up, from, the, nabi, he, was, thrilled, with, it, learn, how, to, skype, on, it, already]  \n",
       "3  [ive, had, my, fire, hd, two, weeks, now, and, i, love, it, this, tablet, is, a, great, valuewe, are, prime, members, and, that, is, where, this, tablet, shines, i, love, being, able, to, easily, ...  \n",
       "4  [i, bought, this, for, my, grand, daughter, when, she, comes, over, to, visit, i, set, it, up, with, her, as, the, user, entered, her, age, and, name, and, now, amazon, makes, sure, that, she, onl...  "
      ]
     },
     "execution_count": 14,
     "metadata": {},
     "output_type": "execute_result"
    }
   ],
   "source": [
    "import re\n",
    "\n",
    "def tokenize(txt):\n",
    "    tokens = re.split('\\W+' , txt)\n",
    "    return tokens\n",
    "df['tokenize']=df['new_cloumns'].apply(lambda x: tokenize(x.lower()))\n",
    "df.head()"
   ]
  },
  {
   "cell_type": "code",
   "execution_count": 15,
   "metadata": {},
   "outputs": [
    {
     "data": {
      "text/plain": [
       "['i', 'me', 'my', 'myself', 'we', 'our', 'ours', 'ourselves', 'you', \"you're\"]"
      ]
     },
     "execution_count": 15,
     "metadata": {},
     "output_type": "execute_result"
    }
   ],
   "source": [
    "import nltk\n",
    "stopwords = nltk.corpus.stopwords.words('english')\n",
    "stopwords[0:10]"
   ]
  },
  {
   "cell_type": "code",
   "execution_count": 16,
   "metadata": {},
   "outputs": [],
   "source": [
    "def remove_stopwords(txt_tokenized):\n",
    "    txt_clean = [word for word in txt_tokenized if word not in stopwords]\n",
    "    return txt_clean\n",
    "df['sw']=df['tokenize'].apply(lambda x: remove_stopwords(x))"
   ]
  },
  {
   "cell_type": "code",
   "execution_count": 17,
   "metadata": {},
   "outputs": [
    {
     "data": {
      "text/html": [
       "<div>\n",
       "<style scoped>\n",
       "    .dataframe tbody tr th:only-of-type {\n",
       "        vertical-align: middle;\n",
       "    }\n",
       "\n",
       "    .dataframe tbody tr th {\n",
       "        vertical-align: top;\n",
       "    }\n",
       "\n",
       "    .dataframe thead th {\n",
       "        text-align: right;\n",
       "    }\n",
       "</style>\n",
       "<table border=\"1\" class=\"dataframe\">\n",
       "  <thead>\n",
       "    <tr style=\"text-align: right;\">\n",
       "      <th></th>\n",
       "      <th>reviews</th>\n",
       "      <th>rating</th>\n",
       "      <th>new_column</th>\n",
       "      <th>new_cloumns</th>\n",
       "      <th>tokenize</th>\n",
       "      <th>sw</th>\n",
       "    </tr>\n",
       "  </thead>\n",
       "  <tbody>\n",
       "    <tr>\n",
       "      <th>0</th>\n",
       "      <td>1 this product so far has not disappointed. my children love to use it and i like the ability to monitor control what content they see with ease.</td>\n",
       "      <td>5.0</td>\n",
       "      <td>1 this product so far has not disappointed my children love to use it and i like the ability to monitor control what content they see with ease</td>\n",
       "      <td>this product so far has not disappointed my children love to use it and i like the ability to monitor control what content they see with ease</td>\n",
       "      <td>[, this, product, so, far, has, not, disappointed, my, children, love, to, use, it, and, i, like, the, ability, to, monitor, control, what, content, they, see, with, ease]</td>\n",
       "      <td>[, product, far, disappointed, children, love, use, like, ability, monitor, control, content, see, ease]</td>\n",
       "    </tr>\n",
       "    <tr>\n",
       "      <th>1</th>\n",
       "      <td>great for beginner or experienced person. bought as a gift and she loves it</td>\n",
       "      <td>5.0</td>\n",
       "      <td>great for beginner or experienced person bought as a gift and she loves it</td>\n",
       "      <td>great for beginner or experienced person bought as a gift and she loves it</td>\n",
       "      <td>[great, for, beginner, or, experienced, person, bought, as, a, gift, and, she, loves, it]</td>\n",
       "      <td>[great, beginner, experienced, person, bought, gift, loves]</td>\n",
       "    </tr>\n",
       "    <tr>\n",
       "      <th>2</th>\n",
       "      <td>inexpensive tablet for him to use and learn on, step up from the nabi. he was thrilled with it, learn how to skype on it already...</td>\n",
       "      <td>5.0</td>\n",
       "      <td>inexpensive tablet for him to use and learn on step up from the nabi he was thrilled with it learn how to skype on it already</td>\n",
       "      <td>inexpensive tablet for him to use and learn on step up from the nabi he was thrilled with it learn how to skype on it already</td>\n",
       "      <td>[inexpensive, tablet, for, him, to, use, and, learn, on, step, up, from, the, nabi, he, was, thrilled, with, it, learn, how, to, skype, on, it, already]</td>\n",
       "      <td>[inexpensive, tablet, use, learn, step, nabi, thrilled, learn, skype, already]</td>\n",
       "    </tr>\n",
       "    <tr>\n",
       "      <th>3</th>\n",
       "      <td>i've had my fire hd 8 two weeks now and i love it. this tablet is a great value.we are prime members and that is where this tablet shines. i love being able to easily access all of the prime conte...</td>\n",
       "      <td>4.0</td>\n",
       "      <td>ive had my fire hd 8 two weeks now and i love it this tablet is a great valuewe are prime members and that is where this tablet shines i love being able to easily access all of the prime content a...</td>\n",
       "      <td>ive had my fire hd  two weeks now and i love it this tablet is a great valuewe are prime members and that is where this tablet shines i love being able to easily access all of the prime content as...</td>\n",
       "      <td>[ive, had, my, fire, hd, two, weeks, now, and, i, love, it, this, tablet, is, a, great, valuewe, are, prime, members, and, that, is, where, this, tablet, shines, i, love, being, able, to, easily, ...</td>\n",
       "      <td>[ive, fire, hd, two, weeks, love, tablet, great, valuewe, prime, members, tablet, shines, love, able, easily, access, prime, content, well, movies, download, watch, laterthis, screen, really, nice...</td>\n",
       "    </tr>\n",
       "    <tr>\n",
       "      <th>4</th>\n",
       "      <td>i bought this for my grand daughter when she comes over to visit. i set it up with her as the user, entered her age and name and now amazon makes sure that she only accesses sites and content that...</td>\n",
       "      <td>5.0</td>\n",
       "      <td>i bought this for my grand daughter when she comes over to visit i set it up with her as the user entered her age and name and now amazon makes sure that she only accesses sites and content that a...</td>\n",
       "      <td>i bought this for my grand daughter when she comes over to visit i set it up with her as the user entered her age and name and now amazon makes sure that she only accesses sites and content that a...</td>\n",
       "      <td>[i, bought, this, for, my, grand, daughter, when, she, comes, over, to, visit, i, set, it, up, with, her, as, the, user, entered, her, age, and, name, and, now, amazon, makes, sure, that, she, onl...</td>\n",
       "      <td>[bought, grand, daughter, comes, visit, set, user, entered, age, name, amazon, makes, sure, accesses, sites, content, appropriate, age, simple, loves, capabilities, also, bought, installed, gig, s...</td>\n",
       "    </tr>\n",
       "  </tbody>\n",
       "</table>\n",
       "</div>"
      ],
      "text/plain": [
       "                                                                                                                                                                                                   reviews  \\\n",
       "0                                                        1 this product so far has not disappointed. my children love to use it and i like the ability to monitor control what content they see with ease.   \n",
       "1                                                                                                                              great for beginner or experienced person. bought as a gift and she loves it   \n",
       "2                                                                      inexpensive tablet for him to use and learn on, step up from the nabi. he was thrilled with it, learn how to skype on it already...   \n",
       "3  i've had my fire hd 8 two weeks now and i love it. this tablet is a great value.we are prime members and that is where this tablet shines. i love being able to easily access all of the prime conte...   \n",
       "4  i bought this for my grand daughter when she comes over to visit. i set it up with her as the user, entered her age and name and now amazon makes sure that she only accesses sites and content that...   \n",
       "\n",
       "   rating  \\\n",
       "0     5.0   \n",
       "1     5.0   \n",
       "2     5.0   \n",
       "3     4.0   \n",
       "4     5.0   \n",
       "\n",
       "                                                                                                                                                                                                new_column  \\\n",
       "0                                                          1 this product so far has not disappointed my children love to use it and i like the ability to monitor control what content they see with ease   \n",
       "1                                                                                                                               great for beginner or experienced person bought as a gift and she loves it   \n",
       "2                                                                            inexpensive tablet for him to use and learn on step up from the nabi he was thrilled with it learn how to skype on it already   \n",
       "3  ive had my fire hd 8 two weeks now and i love it this tablet is a great valuewe are prime members and that is where this tablet shines i love being able to easily access all of the prime content a...   \n",
       "4  i bought this for my grand daughter when she comes over to visit i set it up with her as the user entered her age and name and now amazon makes sure that she only accesses sites and content that a...   \n",
       "\n",
       "                                                                                                                                                                                               new_cloumns  \\\n",
       "0                                                            this product so far has not disappointed my children love to use it and i like the ability to monitor control what content they see with ease   \n",
       "1                                                                                                                               great for beginner or experienced person bought as a gift and she loves it   \n",
       "2                                                                            inexpensive tablet for him to use and learn on step up from the nabi he was thrilled with it learn how to skype on it already   \n",
       "3  ive had my fire hd  two weeks now and i love it this tablet is a great valuewe are prime members and that is where this tablet shines i love being able to easily access all of the prime content as...   \n",
       "4  i bought this for my grand daughter when she comes over to visit i set it up with her as the user entered her age and name and now amazon makes sure that she only accesses sites and content that a...   \n",
       "\n",
       "                                                                                                                                                                                                  tokenize  \\\n",
       "0                              [, this, product, so, far, has, not, disappointed, my, children, love, to, use, it, and, i, like, the, ability, to, monitor, control, what, content, they, see, with, ease]   \n",
       "1                                                                                                                [great, for, beginner, or, experienced, person, bought, as, a, gift, and, she, loves, it]   \n",
       "2                                                 [inexpensive, tablet, for, him, to, use, and, learn, on, step, up, from, the, nabi, he, was, thrilled, with, it, learn, how, to, skype, on, it, already]   \n",
       "3  [ive, had, my, fire, hd, two, weeks, now, and, i, love, it, this, tablet, is, a, great, valuewe, are, prime, members, and, that, is, where, this, tablet, shines, i, love, being, able, to, easily, ...   \n",
       "4  [i, bought, this, for, my, grand, daughter, when, she, comes, over, to, visit, i, set, it, up, with, her, as, the, user, entered, her, age, and, name, and, now, amazon, makes, sure, that, she, onl...   \n",
       "\n",
       "                                                                                                                                                                                                        sw  \n",
       "0                                                                                                 [, product, far, disappointed, children, love, use, like, ability, monitor, control, content, see, ease]  \n",
       "1                                                                                                                                              [great, beginner, experienced, person, bought, gift, loves]  \n",
       "2                                                                                                                           [inexpensive, tablet, use, learn, step, nabi, thrilled, learn, skype, already]  \n",
       "3  [ive, fire, hd, two, weeks, love, tablet, great, valuewe, prime, members, tablet, shines, love, able, easily, access, prime, content, well, movies, download, watch, laterthis, screen, really, nice...  \n",
       "4  [bought, grand, daughter, comes, visit, set, user, entered, age, name, amazon, makes, sure, accesses, sites, content, appropriate, age, simple, loves, capabilities, also, bought, installed, gig, s...  "
      ]
     },
     "execution_count": 17,
     "metadata": {},
     "output_type": "execute_result"
    }
   ],
   "source": [
    "df.head()"
   ]
  },
  {
   "cell_type": "raw",
   "metadata": {},
   "source": []
  },
  {
   "cell_type": "raw",
   "metadata": {},
   "source": []
  },
  {
   "cell_type": "code",
   "execution_count": 18,
   "metadata": {},
   "outputs": [
    {
     "data": {
      "text/plain": [
       "['MARTIN_EXTENSIONS',\n",
       " 'NLTK_EXTENSIONS',\n",
       " 'ORIGINAL_ALGORITHM',\n",
       " '__abstractmethods__',\n",
       " '__class__',\n",
       " '__delattr__',\n",
       " '__dict__',\n",
       " '__dir__',\n",
       " '__doc__',\n",
       " '__eq__',\n",
       " '__format__',\n",
       " '__ge__',\n",
       " '__getattribute__',\n",
       " '__gt__',\n",
       " '__hash__',\n",
       " '__init__',\n",
       " '__init_subclass__',\n",
       " '__le__',\n",
       " '__lt__',\n",
       " '__module__',\n",
       " '__ne__',\n",
       " '__new__',\n",
       " '__reduce__',\n",
       " '__reduce_ex__',\n",
       " '__repr__',\n",
       " '__setattr__',\n",
       " '__sizeof__',\n",
       " '__str__',\n",
       " '__subclasshook__',\n",
       " '__unicode__',\n",
       " '__weakref__',\n",
       " '_abc_cache',\n",
       " '_abc_negative_cache',\n",
       " '_abc_negative_cache_version',\n",
       " '_abc_registry',\n",
       " '_apply_rule_list',\n",
       " '_contains_vowel',\n",
       " '_ends_cvc',\n",
       " '_ends_double_consonant',\n",
       " '_has_positive_measure',\n",
       " '_is_consonant',\n",
       " '_measure',\n",
       " '_replace_suffix',\n",
       " '_step1a',\n",
       " '_step1b',\n",
       " '_step1c',\n",
       " '_step2',\n",
       " '_step3',\n",
       " '_step4',\n",
       " '_step5a',\n",
       " '_step5b',\n",
       " 'mode',\n",
       " 'pool',\n",
       " 'stem',\n",
       " 'unicode_repr',\n",
       " 'vowels']"
      ]
     },
     "execution_count": 18,
     "metadata": {},
     "output_type": "execute_result"
    }
   ],
   "source": [
    "import nltk\n",
    "from nltk.stem import PorterStemmer\n",
    "ps= PorterStemmer()\n",
    "dir(ps)\n"
   ]
  },
  {
   "cell_type": "code",
   "execution_count": 19,
   "metadata": {},
   "outputs": [],
   "source": [
    "def stemming(tokenized_text):\n",
    "    text = [ps.stem(word) for word in tokenized_text]\n",
    "    return text\n",
    "    "
   ]
  },
  {
   "cell_type": "code",
   "execution_count": 20,
   "metadata": {},
   "outputs": [],
   "source": [
    "df['stem']= df['sw'].apply(lambda x: stemming(x))"
   ]
  },
  {
   "cell_type": "code",
   "execution_count": 21,
   "metadata": {},
   "outputs": [
    {
     "data": {
      "text/html": [
       "<div>\n",
       "<style scoped>\n",
       "    .dataframe tbody tr th:only-of-type {\n",
       "        vertical-align: middle;\n",
       "    }\n",
       "\n",
       "    .dataframe tbody tr th {\n",
       "        vertical-align: top;\n",
       "    }\n",
       "\n",
       "    .dataframe thead th {\n",
       "        text-align: right;\n",
       "    }\n",
       "</style>\n",
       "<table border=\"1\" class=\"dataframe\">\n",
       "  <thead>\n",
       "    <tr style=\"text-align: right;\">\n",
       "      <th></th>\n",
       "      <th>reviews</th>\n",
       "      <th>rating</th>\n",
       "      <th>new_column</th>\n",
       "      <th>new_cloumns</th>\n",
       "      <th>tokenize</th>\n",
       "      <th>sw</th>\n",
       "      <th>stem</th>\n",
       "    </tr>\n",
       "  </thead>\n",
       "  <tbody>\n",
       "    <tr>\n",
       "      <th>0</th>\n",
       "      <td>1 this product so far has not disappointed. my children love to use it and i like the ability to monitor control what content they see with ease.</td>\n",
       "      <td>5.0</td>\n",
       "      <td>1 this product so far has not disappointed my children love to use it and i like the ability to monitor control what content they see with ease</td>\n",
       "      <td>this product so far has not disappointed my children love to use it and i like the ability to monitor control what content they see with ease</td>\n",
       "      <td>[, this, product, so, far, has, not, disappointed, my, children, love, to, use, it, and, i, like, the, ability, to, monitor, control, what, content, they, see, with, ease]</td>\n",
       "      <td>[, product, far, disappointed, children, love, use, like, ability, monitor, control, content, see, ease]</td>\n",
       "      <td>[, product, far, disappoint, children, love, use, like, abil, monitor, control, content, see, eas]</td>\n",
       "    </tr>\n",
       "    <tr>\n",
       "      <th>1</th>\n",
       "      <td>great for beginner or experienced person. bought as a gift and she loves it</td>\n",
       "      <td>5.0</td>\n",
       "      <td>great for beginner or experienced person bought as a gift and she loves it</td>\n",
       "      <td>great for beginner or experienced person bought as a gift and she loves it</td>\n",
       "      <td>[great, for, beginner, or, experienced, person, bought, as, a, gift, and, she, loves, it]</td>\n",
       "      <td>[great, beginner, experienced, person, bought, gift, loves]</td>\n",
       "      <td>[great, beginn, experienc, person, bought, gift, love]</td>\n",
       "    </tr>\n",
       "    <tr>\n",
       "      <th>2</th>\n",
       "      <td>inexpensive tablet for him to use and learn on, step up from the nabi. he was thrilled with it, learn how to skype on it already...</td>\n",
       "      <td>5.0</td>\n",
       "      <td>inexpensive tablet for him to use and learn on step up from the nabi he was thrilled with it learn how to skype on it already</td>\n",
       "      <td>inexpensive tablet for him to use and learn on step up from the nabi he was thrilled with it learn how to skype on it already</td>\n",
       "      <td>[inexpensive, tablet, for, him, to, use, and, learn, on, step, up, from, the, nabi, he, was, thrilled, with, it, learn, how, to, skype, on, it, already]</td>\n",
       "      <td>[inexpensive, tablet, use, learn, step, nabi, thrilled, learn, skype, already]</td>\n",
       "      <td>[inexpens, tablet, use, learn, step, nabi, thrill, learn, skype, alreadi]</td>\n",
       "    </tr>\n",
       "    <tr>\n",
       "      <th>3</th>\n",
       "      <td>i've had my fire hd 8 two weeks now and i love it. this tablet is a great value.we are prime members and that is where this tablet shines. i love being able to easily access all of the prime conte...</td>\n",
       "      <td>4.0</td>\n",
       "      <td>ive had my fire hd 8 two weeks now and i love it this tablet is a great valuewe are prime members and that is where this tablet shines i love being able to easily access all of the prime content a...</td>\n",
       "      <td>ive had my fire hd  two weeks now and i love it this tablet is a great valuewe are prime members and that is where this tablet shines i love being able to easily access all of the prime content as...</td>\n",
       "      <td>[ive, had, my, fire, hd, two, weeks, now, and, i, love, it, this, tablet, is, a, great, valuewe, are, prime, members, and, that, is, where, this, tablet, shines, i, love, being, able, to, easily, ...</td>\n",
       "      <td>[ive, fire, hd, two, weeks, love, tablet, great, valuewe, prime, members, tablet, shines, love, able, easily, access, prime, content, well, movies, download, watch, laterthis, screen, really, nice...</td>\n",
       "      <td>[ive, fire, hd, two, week, love, tablet, great, valuew, prime, member, tablet, shine, love, abl, easili, access, prime, content, well, movi, download, watch, laterthi, screen, realli, nice, look, ...</td>\n",
       "    </tr>\n",
       "    <tr>\n",
       "      <th>4</th>\n",
       "      <td>i bought this for my grand daughter when she comes over to visit. i set it up with her as the user, entered her age and name and now amazon makes sure that she only accesses sites and content that...</td>\n",
       "      <td>5.0</td>\n",
       "      <td>i bought this for my grand daughter when she comes over to visit i set it up with her as the user entered her age and name and now amazon makes sure that she only accesses sites and content that a...</td>\n",
       "      <td>i bought this for my grand daughter when she comes over to visit i set it up with her as the user entered her age and name and now amazon makes sure that she only accesses sites and content that a...</td>\n",
       "      <td>[i, bought, this, for, my, grand, daughter, when, she, comes, over, to, visit, i, set, it, up, with, her, as, the, user, entered, her, age, and, name, and, now, amazon, makes, sure, that, she, onl...</td>\n",
       "      <td>[bought, grand, daughter, comes, visit, set, user, entered, age, name, amazon, makes, sure, accesses, sites, content, appropriate, age, simple, loves, capabilities, also, bought, installed, gig, s...</td>\n",
       "      <td>[bought, grand, daughter, come, visit, set, user, enter, age, name, amazon, make, sure, access, site, content, appropri, age, simpl, love, capabl, also, bought, instal, gig, sd, card, give, littl,...</td>\n",
       "    </tr>\n",
       "  </tbody>\n",
       "</table>\n",
       "</div>"
      ],
      "text/plain": [
       "                                                                                                                                                                                                   reviews  \\\n",
       "0                                                        1 this product so far has not disappointed. my children love to use it and i like the ability to monitor control what content they see with ease.   \n",
       "1                                                                                                                              great for beginner or experienced person. bought as a gift and she loves it   \n",
       "2                                                                      inexpensive tablet for him to use and learn on, step up from the nabi. he was thrilled with it, learn how to skype on it already...   \n",
       "3  i've had my fire hd 8 two weeks now and i love it. this tablet is a great value.we are prime members and that is where this tablet shines. i love being able to easily access all of the prime conte...   \n",
       "4  i bought this for my grand daughter when she comes over to visit. i set it up with her as the user, entered her age and name and now amazon makes sure that she only accesses sites and content that...   \n",
       "\n",
       "   rating  \\\n",
       "0     5.0   \n",
       "1     5.0   \n",
       "2     5.0   \n",
       "3     4.0   \n",
       "4     5.0   \n",
       "\n",
       "                                                                                                                                                                                                new_column  \\\n",
       "0                                                          1 this product so far has not disappointed my children love to use it and i like the ability to monitor control what content they see with ease   \n",
       "1                                                                                                                               great for beginner or experienced person bought as a gift and she loves it   \n",
       "2                                                                            inexpensive tablet for him to use and learn on step up from the nabi he was thrilled with it learn how to skype on it already   \n",
       "3  ive had my fire hd 8 two weeks now and i love it this tablet is a great valuewe are prime members and that is where this tablet shines i love being able to easily access all of the prime content a...   \n",
       "4  i bought this for my grand daughter when she comes over to visit i set it up with her as the user entered her age and name and now amazon makes sure that she only accesses sites and content that a...   \n",
       "\n",
       "                                                                                                                                                                                               new_cloumns  \\\n",
       "0                                                            this product so far has not disappointed my children love to use it and i like the ability to monitor control what content they see with ease   \n",
       "1                                                                                                                               great for beginner or experienced person bought as a gift and she loves it   \n",
       "2                                                                            inexpensive tablet for him to use and learn on step up from the nabi he was thrilled with it learn how to skype on it already   \n",
       "3  ive had my fire hd  two weeks now and i love it this tablet is a great valuewe are prime members and that is where this tablet shines i love being able to easily access all of the prime content as...   \n",
       "4  i bought this for my grand daughter when she comes over to visit i set it up with her as the user entered her age and name and now amazon makes sure that she only accesses sites and content that a...   \n",
       "\n",
       "                                                                                                                                                                                                  tokenize  \\\n",
       "0                              [, this, product, so, far, has, not, disappointed, my, children, love, to, use, it, and, i, like, the, ability, to, monitor, control, what, content, they, see, with, ease]   \n",
       "1                                                                                                                [great, for, beginner, or, experienced, person, bought, as, a, gift, and, she, loves, it]   \n",
       "2                                                 [inexpensive, tablet, for, him, to, use, and, learn, on, step, up, from, the, nabi, he, was, thrilled, with, it, learn, how, to, skype, on, it, already]   \n",
       "3  [ive, had, my, fire, hd, two, weeks, now, and, i, love, it, this, tablet, is, a, great, valuewe, are, prime, members, and, that, is, where, this, tablet, shines, i, love, being, able, to, easily, ...   \n",
       "4  [i, bought, this, for, my, grand, daughter, when, she, comes, over, to, visit, i, set, it, up, with, her, as, the, user, entered, her, age, and, name, and, now, amazon, makes, sure, that, she, onl...   \n",
       "\n",
       "                                                                                                                                                                                                        sw  \\\n",
       "0                                                                                                 [, product, far, disappointed, children, love, use, like, ability, monitor, control, content, see, ease]   \n",
       "1                                                                                                                                              [great, beginner, experienced, person, bought, gift, loves]   \n",
       "2                                                                                                                           [inexpensive, tablet, use, learn, step, nabi, thrilled, learn, skype, already]   \n",
       "3  [ive, fire, hd, two, weeks, love, tablet, great, valuewe, prime, members, tablet, shines, love, able, easily, access, prime, content, well, movies, download, watch, laterthis, screen, really, nice...   \n",
       "4  [bought, grand, daughter, comes, visit, set, user, entered, age, name, amazon, makes, sure, accesses, sites, content, appropriate, age, simple, loves, capabilities, also, bought, installed, gig, s...   \n",
       "\n",
       "                                                                                                                                                                                                      stem  \n",
       "0                                                                                                       [, product, far, disappoint, children, love, use, like, abil, monitor, control, content, see, eas]  \n",
       "1                                                                                                                                                   [great, beginn, experienc, person, bought, gift, love]  \n",
       "2                                                                                                                                [inexpens, tablet, use, learn, step, nabi, thrill, learn, skype, alreadi]  \n",
       "3  [ive, fire, hd, two, week, love, tablet, great, valuew, prime, member, tablet, shine, love, abl, easili, access, prime, content, well, movi, download, watch, laterthi, screen, realli, nice, look, ...  \n",
       "4  [bought, grand, daughter, come, visit, set, user, enter, age, name, amazon, make, sure, access, site, content, appropri, age, simpl, love, capabl, also, bought, instal, gig, sd, card, give, littl,...  "
      ]
     },
     "execution_count": 21,
     "metadata": {},
     "output_type": "execute_result"
    }
   ],
   "source": [
    "df.head()"
   ]
  },
  {
   "cell_type": "code",
   "execution_count": 22,
   "metadata": {},
   "outputs": [],
   "source": [
    "from nltk.stem import WordNetLemmatizer\n",
    "wn=WordNetLemmatizer()"
   ]
  },
  {
   "cell_type": "code",
   "execution_count": 23,
   "metadata": {},
   "outputs": [],
   "source": [
    "def lemmatization(token_txt):\n",
    "    text = [wn.lemmatize(word) for word in token_txt]\n",
    "    \n",
    "    return text"
   ]
  },
  {
   "cell_type": "code",
   "execution_count": 24,
   "metadata": {},
   "outputs": [],
   "source": [
    "df['lemmatize']= df['stem'].apply(lambda x : lemmatization(x))"
   ]
  },
  {
   "cell_type": "code",
   "execution_count": 25,
   "metadata": {},
   "outputs": [
    {
     "data": {
      "text/html": [
       "<div>\n",
       "<style scoped>\n",
       "    .dataframe tbody tr th:only-of-type {\n",
       "        vertical-align: middle;\n",
       "    }\n",
       "\n",
       "    .dataframe tbody tr th {\n",
       "        vertical-align: top;\n",
       "    }\n",
       "\n",
       "    .dataframe thead th {\n",
       "        text-align: right;\n",
       "    }\n",
       "</style>\n",
       "<table border=\"1\" class=\"dataframe\">\n",
       "  <thead>\n",
       "    <tr style=\"text-align: right;\">\n",
       "      <th></th>\n",
       "      <th>reviews</th>\n",
       "      <th>rating</th>\n",
       "      <th>new_column</th>\n",
       "      <th>new_cloumns</th>\n",
       "      <th>tokenize</th>\n",
       "      <th>sw</th>\n",
       "      <th>stem</th>\n",
       "      <th>lemmatize</th>\n",
       "    </tr>\n",
       "  </thead>\n",
       "  <tbody>\n",
       "    <tr>\n",
       "      <th>0</th>\n",
       "      <td>1 this product so far has not disappointed. my children love to use it and i like the ability to monitor control what content they see with ease.</td>\n",
       "      <td>5.0</td>\n",
       "      <td>1 this product so far has not disappointed my children love to use it and i like the ability to monitor control what content they see with ease</td>\n",
       "      <td>this product so far has not disappointed my children love to use it and i like the ability to monitor control what content they see with ease</td>\n",
       "      <td>[, this, product, so, far, has, not, disappointed, my, children, love, to, use, it, and, i, like, the, ability, to, monitor, control, what, content, they, see, with, ease]</td>\n",
       "      <td>[, product, far, disappointed, children, love, use, like, ability, monitor, control, content, see, ease]</td>\n",
       "      <td>[, product, far, disappoint, children, love, use, like, abil, monitor, control, content, see, eas]</td>\n",
       "      <td>[, product, far, disappoint, child, love, use, like, abil, monitor, control, content, see, ea]</td>\n",
       "    </tr>\n",
       "    <tr>\n",
       "      <th>1</th>\n",
       "      <td>great for beginner or experienced person. bought as a gift and she loves it</td>\n",
       "      <td>5.0</td>\n",
       "      <td>great for beginner or experienced person bought as a gift and she loves it</td>\n",
       "      <td>great for beginner or experienced person bought as a gift and she loves it</td>\n",
       "      <td>[great, for, beginner, or, experienced, person, bought, as, a, gift, and, she, loves, it]</td>\n",
       "      <td>[great, beginner, experienced, person, bought, gift, loves]</td>\n",
       "      <td>[great, beginn, experienc, person, bought, gift, love]</td>\n",
       "      <td>[great, beginn, experienc, person, bought, gift, love]</td>\n",
       "    </tr>\n",
       "    <tr>\n",
       "      <th>2</th>\n",
       "      <td>inexpensive tablet for him to use and learn on, step up from the nabi. he was thrilled with it, learn how to skype on it already...</td>\n",
       "      <td>5.0</td>\n",
       "      <td>inexpensive tablet for him to use and learn on step up from the nabi he was thrilled with it learn how to skype on it already</td>\n",
       "      <td>inexpensive tablet for him to use and learn on step up from the nabi he was thrilled with it learn how to skype on it already</td>\n",
       "      <td>[inexpensive, tablet, for, him, to, use, and, learn, on, step, up, from, the, nabi, he, was, thrilled, with, it, learn, how, to, skype, on, it, already]</td>\n",
       "      <td>[inexpensive, tablet, use, learn, step, nabi, thrilled, learn, skype, already]</td>\n",
       "      <td>[inexpens, tablet, use, learn, step, nabi, thrill, learn, skype, alreadi]</td>\n",
       "      <td>[inexpens, tablet, use, learn, step, nabi, thrill, learn, skype, alreadi]</td>\n",
       "    </tr>\n",
       "    <tr>\n",
       "      <th>3</th>\n",
       "      <td>i've had my fire hd 8 two weeks now and i love it. this tablet is a great value.we are prime members and that is where this tablet shines. i love being able to easily access all of the prime conte...</td>\n",
       "      <td>4.0</td>\n",
       "      <td>ive had my fire hd 8 two weeks now and i love it this tablet is a great valuewe are prime members and that is where this tablet shines i love being able to easily access all of the prime content a...</td>\n",
       "      <td>ive had my fire hd  two weeks now and i love it this tablet is a great valuewe are prime members and that is where this tablet shines i love being able to easily access all of the prime content as...</td>\n",
       "      <td>[ive, had, my, fire, hd, two, weeks, now, and, i, love, it, this, tablet, is, a, great, valuewe, are, prime, members, and, that, is, where, this, tablet, shines, i, love, being, able, to, easily, ...</td>\n",
       "      <td>[ive, fire, hd, two, weeks, love, tablet, great, valuewe, prime, members, tablet, shines, love, able, easily, access, prime, content, well, movies, download, watch, laterthis, screen, really, nice...</td>\n",
       "      <td>[ive, fire, hd, two, week, love, tablet, great, valuew, prime, member, tablet, shine, love, abl, easili, access, prime, content, well, movi, download, watch, laterthi, screen, realli, nice, look, ...</td>\n",
       "      <td>[ive, fire, hd, two, week, love, tablet, great, valuew, prime, member, tablet, shine, love, abl, easili, access, prime, content, well, movi, download, watch, laterthi, screen, realli, nice, look, ...</td>\n",
       "    </tr>\n",
       "    <tr>\n",
       "      <th>4</th>\n",
       "      <td>i bought this for my grand daughter when she comes over to visit. i set it up with her as the user, entered her age and name and now amazon makes sure that she only accesses sites and content that...</td>\n",
       "      <td>5.0</td>\n",
       "      <td>i bought this for my grand daughter when she comes over to visit i set it up with her as the user entered her age and name and now amazon makes sure that she only accesses sites and content that a...</td>\n",
       "      <td>i bought this for my grand daughter when she comes over to visit i set it up with her as the user entered her age and name and now amazon makes sure that she only accesses sites and content that a...</td>\n",
       "      <td>[i, bought, this, for, my, grand, daughter, when, she, comes, over, to, visit, i, set, it, up, with, her, as, the, user, entered, her, age, and, name, and, now, amazon, makes, sure, that, she, onl...</td>\n",
       "      <td>[bought, grand, daughter, comes, visit, set, user, entered, age, name, amazon, makes, sure, accesses, sites, content, appropriate, age, simple, loves, capabilities, also, bought, installed, gig, s...</td>\n",
       "      <td>[bought, grand, daughter, come, visit, set, user, enter, age, name, amazon, make, sure, access, site, content, appropri, age, simpl, love, capabl, also, bought, instal, gig, sd, card, give, littl,...</td>\n",
       "      <td>[bought, grand, daughter, come, visit, set, user, enter, age, name, amazon, make, sure, access, site, content, appropri, age, simpl, love, capabl, also, bought, instal, gig, sd, card, give, littl,...</td>\n",
       "    </tr>\n",
       "  </tbody>\n",
       "</table>\n",
       "</div>"
      ],
      "text/plain": [
       "                                                                                                                                                                                                   reviews  \\\n",
       "0                                                        1 this product so far has not disappointed. my children love to use it and i like the ability to monitor control what content they see with ease.   \n",
       "1                                                                                                                              great for beginner or experienced person. bought as a gift and she loves it   \n",
       "2                                                                      inexpensive tablet for him to use and learn on, step up from the nabi. he was thrilled with it, learn how to skype on it already...   \n",
       "3  i've had my fire hd 8 two weeks now and i love it. this tablet is a great value.we are prime members and that is where this tablet shines. i love being able to easily access all of the prime conte...   \n",
       "4  i bought this for my grand daughter when she comes over to visit. i set it up with her as the user, entered her age and name and now amazon makes sure that she only accesses sites and content that...   \n",
       "\n",
       "   rating  \\\n",
       "0     5.0   \n",
       "1     5.0   \n",
       "2     5.0   \n",
       "3     4.0   \n",
       "4     5.0   \n",
       "\n",
       "                                                                                                                                                                                                new_column  \\\n",
       "0                                                          1 this product so far has not disappointed my children love to use it and i like the ability to monitor control what content they see with ease   \n",
       "1                                                                                                                               great for beginner or experienced person bought as a gift and she loves it   \n",
       "2                                                                            inexpensive tablet for him to use and learn on step up from the nabi he was thrilled with it learn how to skype on it already   \n",
       "3  ive had my fire hd 8 two weeks now and i love it this tablet is a great valuewe are prime members and that is where this tablet shines i love being able to easily access all of the prime content a...   \n",
       "4  i bought this for my grand daughter when she comes over to visit i set it up with her as the user entered her age and name and now amazon makes sure that she only accesses sites and content that a...   \n",
       "\n",
       "                                                                                                                                                                                               new_cloumns  \\\n",
       "0                                                            this product so far has not disappointed my children love to use it and i like the ability to monitor control what content they see with ease   \n",
       "1                                                                                                                               great for beginner or experienced person bought as a gift and she loves it   \n",
       "2                                                                            inexpensive tablet for him to use and learn on step up from the nabi he was thrilled with it learn how to skype on it already   \n",
       "3  ive had my fire hd  two weeks now and i love it this tablet is a great valuewe are prime members and that is where this tablet shines i love being able to easily access all of the prime content as...   \n",
       "4  i bought this for my grand daughter when she comes over to visit i set it up with her as the user entered her age and name and now amazon makes sure that she only accesses sites and content that a...   \n",
       "\n",
       "                                                                                                                                                                                                  tokenize  \\\n",
       "0                              [, this, product, so, far, has, not, disappointed, my, children, love, to, use, it, and, i, like, the, ability, to, monitor, control, what, content, they, see, with, ease]   \n",
       "1                                                                                                                [great, for, beginner, or, experienced, person, bought, as, a, gift, and, she, loves, it]   \n",
       "2                                                 [inexpensive, tablet, for, him, to, use, and, learn, on, step, up, from, the, nabi, he, was, thrilled, with, it, learn, how, to, skype, on, it, already]   \n",
       "3  [ive, had, my, fire, hd, two, weeks, now, and, i, love, it, this, tablet, is, a, great, valuewe, are, prime, members, and, that, is, where, this, tablet, shines, i, love, being, able, to, easily, ...   \n",
       "4  [i, bought, this, for, my, grand, daughter, when, she, comes, over, to, visit, i, set, it, up, with, her, as, the, user, entered, her, age, and, name, and, now, amazon, makes, sure, that, she, onl...   \n",
       "\n",
       "                                                                                                                                                                                                        sw  \\\n",
       "0                                                                                                 [, product, far, disappointed, children, love, use, like, ability, monitor, control, content, see, ease]   \n",
       "1                                                                                                                                              [great, beginner, experienced, person, bought, gift, loves]   \n",
       "2                                                                                                                           [inexpensive, tablet, use, learn, step, nabi, thrilled, learn, skype, already]   \n",
       "3  [ive, fire, hd, two, weeks, love, tablet, great, valuewe, prime, members, tablet, shines, love, able, easily, access, prime, content, well, movies, download, watch, laterthis, screen, really, nice...   \n",
       "4  [bought, grand, daughter, comes, visit, set, user, entered, age, name, amazon, makes, sure, accesses, sites, content, appropriate, age, simple, loves, capabilities, also, bought, installed, gig, s...   \n",
       "\n",
       "                                                                                                                                                                                                      stem  \\\n",
       "0                                                                                                       [, product, far, disappoint, children, love, use, like, abil, monitor, control, content, see, eas]   \n",
       "1                                                                                                                                                   [great, beginn, experienc, person, bought, gift, love]   \n",
       "2                                                                                                                                [inexpens, tablet, use, learn, step, nabi, thrill, learn, skype, alreadi]   \n",
       "3  [ive, fire, hd, two, week, love, tablet, great, valuew, prime, member, tablet, shine, love, abl, easili, access, prime, content, well, movi, download, watch, laterthi, screen, realli, nice, look, ...   \n",
       "4  [bought, grand, daughter, come, visit, set, user, enter, age, name, amazon, make, sure, access, site, content, appropri, age, simpl, love, capabl, also, bought, instal, gig, sd, card, give, littl,...   \n",
       "\n",
       "                                                                                                                                                                                                 lemmatize  \n",
       "0                                                                                                           [, product, far, disappoint, child, love, use, like, abil, monitor, control, content, see, ea]  \n",
       "1                                                                                                                                                   [great, beginn, experienc, person, bought, gift, love]  \n",
       "2                                                                                                                                [inexpens, tablet, use, learn, step, nabi, thrill, learn, skype, alreadi]  \n",
       "3  [ive, fire, hd, two, week, love, tablet, great, valuew, prime, member, tablet, shine, love, abl, easili, access, prime, content, well, movi, download, watch, laterthi, screen, realli, nice, look, ...  \n",
       "4  [bought, grand, daughter, come, visit, set, user, enter, age, name, amazon, make, sure, access, site, content, appropri, age, simpl, love, capabl, also, bought, instal, gig, sd, card, give, littl,...  "
      ]
     },
     "execution_count": 25,
     "metadata": {},
     "output_type": "execute_result"
    }
   ],
   "source": [
    "df.head()"
   ]
  },
  {
   "cell_type": "code",
   "execution_count": null,
   "metadata": {},
   "outputs": [],
   "source": []
  },
  {
   "cell_type": "code",
   "execution_count": 26,
   "metadata": {},
   "outputs": [
    {
     "data": {
      "text/plain": [
       "Index(['rating'], dtype='object')"
      ]
     },
     "execution_count": 26,
     "metadata": {},
     "output_type": "execute_result"
    }
   ],
   "source": [
    "df.columns[df.isna().any()]"
   ]
  },
  {
   "cell_type": "code",
   "execution_count": 27,
   "metadata": {},
   "outputs": [],
   "source": [
    "# df['review'] = df['review'].fillna('missing') "
   ]
  },
  {
   "cell_type": "code",
   "execution_count": 28,
   "metadata": {},
   "outputs": [
    {
     "data": {
      "text/plain": [
       "reviews         0\n",
       "rating         33\n",
       "new_column      0\n",
       "new_cloumns     0\n",
       "tokenize        0\n",
       "sw              0\n",
       "stem            0\n",
       "lemmatize       0\n",
       "dtype: int64"
      ]
     },
     "execution_count": 28,
     "metadata": {},
     "output_type": "execute_result"
    }
   ],
   "source": [
    "df.isna().sum()"
   ]
  },
  {
   "cell_type": "code",
   "execution_count": 29,
   "metadata": {},
   "outputs": [
    {
     "name": "stdout",
     "output_type": "stream",
     "text": [
      "<class 'pandas.core.frame.DataFrame'>\n",
      "RangeIndex: 34660 entries, 0 to 34659\n",
      "Data columns (total 8 columns):\n",
      "reviews        34660 non-null object\n",
      "rating         34627 non-null float64\n",
      "new_column     34660 non-null object\n",
      "new_cloumns    34660 non-null object\n",
      "tokenize       34660 non-null object\n",
      "sw             34660 non-null object\n",
      "stem           34660 non-null object\n",
      "lemmatize      34660 non-null object\n",
      "dtypes: float64(1), object(7)\n",
      "memory usage: 2.1+ MB\n"
     ]
    }
   ],
   "source": [
    "df.info() #provides info of null fields"
   ]
  },
  {
   "cell_type": "code",
   "execution_count": 30,
   "metadata": {},
   "outputs": [],
   "source": [
    "# df.get_dummies() \n"
   ]
  },
  {
   "cell_type": "code",
   "execution_count": 31,
   "metadata": {},
   "outputs": [],
   "source": [
    "df.rating = df.rating.fillna(df.rating.mean())"
   ]
  },
  {
   "cell_type": "code",
   "execution_count": 32,
   "metadata": {},
   "outputs": [
    {
     "data": {
      "text/plain": [
       "reviews        0\n",
       "rating         0\n",
       "new_column     0\n",
       "new_cloumns    0\n",
       "tokenize       0\n",
       "sw             0\n",
       "stem           0\n",
       "lemmatize      0\n",
       "dtype: int64"
      ]
     },
     "execution_count": 32,
     "metadata": {},
     "output_type": "execute_result"
    }
   ],
   "source": [
    "df.isna().sum()"
   ]
  },
  {
   "cell_type": "code",
   "execution_count": null,
   "metadata": {},
   "outputs": [],
   "source": []
  },
  {
   "cell_type": "code",
   "execution_count": null,
   "metadata": {},
   "outputs": [],
   "source": []
  },
  {
   "cell_type": "code",
   "execution_count": 33,
   "metadata": {},
   "outputs": [],
   "source": [
    "# from sklearn.model_selection import train_test_split\n",
    "# X_train, X_test, y_train, y_test = train_test_split(inputs.lemmatize,target,test_size=0.2)"
   ]
  },
  {
   "cell_type": "code",
   "execution_count": 34,
   "metadata": {},
   "outputs": [],
   "source": [
    "# # print(X.vocabulary_)\n",
    "# # print(cv.get_feature_name())\n",
    "\n",
    "# # print(X.shape)\n",
    "# # print(X)\n",
    "# # print(X.toarray())\n",
    "# dfnew = pd.DataFrame(X.toarray, columns = cv.get_feature_name())"
   ]
  },
  {
   "cell_type": "code",
   "execution_count": 35,
   "metadata": {},
   "outputs": [],
   "source": [
    "# def clean_text(txt):\n",
    "#     txt = \"\".join([c for c in txt if c not in string.punctuation])\n",
    "#     tokens = re.split('W+', txt)\n",
    "#     txt = [ps.stem(word) for word in tokens if word not in stopwords]\n",
    "#     return txt"
   ]
  },
  {
   "cell_type": "code",
   "execution_count": 36,
   "metadata": {},
   "outputs": [],
   "source": [
    "# print(X_train)"
   ]
  },
  {
   "cell_type": "code",
   "execution_count": 37,
   "metadata": {},
   "outputs": [],
   "source": [
    "# def detokenize(txt):\n",
    "#     txt = \" \".join(txt)\n",
    "#     return txt"
   ]
  },
  {
   "cell_type": "code",
   "execution_count": 38,
   "metadata": {},
   "outputs": [],
   "source": [
    "# df['detokenized']=df['lemmatize'].apply(lambda x : detokenize(x))"
   ]
  },
  {
   "cell_type": "code",
   "execution_count": 39,
   "metadata": {},
   "outputs": [],
   "source": [
    "# df.drop(['reviews','new_column','new_cloumns','tokenize','sw' ,'stem','lemmatize',],axis='columns',inplace=True)\n",
    "# df.head()"
   ]
  },
  {
   "cell_type": "code",
   "execution_count": 40,
   "metadata": {},
   "outputs": [
    {
     "data": {
      "text/plain": [
       "0    5.0\n",
       "1    5.0\n",
       "2    5.0\n",
       "3    4.0\n",
       "4    5.0\n",
       "Name: rating, dtype: float64"
      ]
     },
     "execution_count": 40,
     "metadata": {},
     "output_type": "execute_result"
    }
   ],
   "source": [
    " target=df.rating\n",
    " inputs=df.drop('rating',axis='columns')\n",
    " target.head()\n",
    " "
   ]
  },
  {
   "cell_type": "code",
   "execution_count": 41,
   "metadata": {},
   "outputs": [
    {
     "data": {
      "text/html": [
       "<div>\n",
       "<style scoped>\n",
       "    .dataframe tbody tr th:only-of-type {\n",
       "        vertical-align: middle;\n",
       "    }\n",
       "\n",
       "    .dataframe tbody tr th {\n",
       "        vertical-align: top;\n",
       "    }\n",
       "\n",
       "    .dataframe thead th {\n",
       "        text-align: right;\n",
       "    }\n",
       "</style>\n",
       "<table border=\"1\" class=\"dataframe\">\n",
       "  <thead>\n",
       "    <tr style=\"text-align: right;\">\n",
       "      <th></th>\n",
       "      <th>reviews</th>\n",
       "      <th>new_column</th>\n",
       "      <th>new_cloumns</th>\n",
       "      <th>tokenize</th>\n",
       "      <th>sw</th>\n",
       "      <th>stem</th>\n",
       "      <th>lemmatize</th>\n",
       "    </tr>\n",
       "  </thead>\n",
       "  <tbody>\n",
       "    <tr>\n",
       "      <th>0</th>\n",
       "      <td>1 this product so far has not disappointed. my children love to use it and i like the ability to monitor control what content they see with ease.</td>\n",
       "      <td>1 this product so far has not disappointed my children love to use it and i like the ability to monitor control what content they see with ease</td>\n",
       "      <td>this product so far has not disappointed my children love to use it and i like the ability to monitor control what content they see with ease</td>\n",
       "      <td>[, this, product, so, far, has, not, disappointed, my, children, love, to, use, it, and, i, like, the, ability, to, monitor, control, what, content, they, see, with, ease]</td>\n",
       "      <td>[, product, far, disappointed, children, love, use, like, ability, monitor, control, content, see, ease]</td>\n",
       "      <td>[, product, far, disappoint, children, love, use, like, abil, monitor, control, content, see, eas]</td>\n",
       "      <td>[, product, far, disappoint, child, love, use, like, abil, monitor, control, content, see, ea]</td>\n",
       "    </tr>\n",
       "    <tr>\n",
       "      <th>1</th>\n",
       "      <td>great for beginner or experienced person. bought as a gift and she loves it</td>\n",
       "      <td>great for beginner or experienced person bought as a gift and she loves it</td>\n",
       "      <td>great for beginner or experienced person bought as a gift and she loves it</td>\n",
       "      <td>[great, for, beginner, or, experienced, person, bought, as, a, gift, and, she, loves, it]</td>\n",
       "      <td>[great, beginner, experienced, person, bought, gift, loves]</td>\n",
       "      <td>[great, beginn, experienc, person, bought, gift, love]</td>\n",
       "      <td>[great, beginn, experienc, person, bought, gift, love]</td>\n",
       "    </tr>\n",
       "    <tr>\n",
       "      <th>2</th>\n",
       "      <td>inexpensive tablet for him to use and learn on, step up from the nabi. he was thrilled with it, learn how to skype on it already...</td>\n",
       "      <td>inexpensive tablet for him to use and learn on step up from the nabi he was thrilled with it learn how to skype on it already</td>\n",
       "      <td>inexpensive tablet for him to use and learn on step up from the nabi he was thrilled with it learn how to skype on it already</td>\n",
       "      <td>[inexpensive, tablet, for, him, to, use, and, learn, on, step, up, from, the, nabi, he, was, thrilled, with, it, learn, how, to, skype, on, it, already]</td>\n",
       "      <td>[inexpensive, tablet, use, learn, step, nabi, thrilled, learn, skype, already]</td>\n",
       "      <td>[inexpens, tablet, use, learn, step, nabi, thrill, learn, skype, alreadi]</td>\n",
       "      <td>[inexpens, tablet, use, learn, step, nabi, thrill, learn, skype, alreadi]</td>\n",
       "    </tr>\n",
       "    <tr>\n",
       "      <th>3</th>\n",
       "      <td>i've had my fire hd 8 two weeks now and i love it. this tablet is a great value.we are prime members and that is where this tablet shines. i love being able to easily access all of the prime conte...</td>\n",
       "      <td>ive had my fire hd 8 two weeks now and i love it this tablet is a great valuewe are prime members and that is where this tablet shines i love being able to easily access all of the prime content a...</td>\n",
       "      <td>ive had my fire hd  two weeks now and i love it this tablet is a great valuewe are prime members and that is where this tablet shines i love being able to easily access all of the prime content as...</td>\n",
       "      <td>[ive, had, my, fire, hd, two, weeks, now, and, i, love, it, this, tablet, is, a, great, valuewe, are, prime, members, and, that, is, where, this, tablet, shines, i, love, being, able, to, easily, ...</td>\n",
       "      <td>[ive, fire, hd, two, weeks, love, tablet, great, valuewe, prime, members, tablet, shines, love, able, easily, access, prime, content, well, movies, download, watch, laterthis, screen, really, nice...</td>\n",
       "      <td>[ive, fire, hd, two, week, love, tablet, great, valuew, prime, member, tablet, shine, love, abl, easili, access, prime, content, well, movi, download, watch, laterthi, screen, realli, nice, look, ...</td>\n",
       "      <td>[ive, fire, hd, two, week, love, tablet, great, valuew, prime, member, tablet, shine, love, abl, easili, access, prime, content, well, movi, download, watch, laterthi, screen, realli, nice, look, ...</td>\n",
       "    </tr>\n",
       "    <tr>\n",
       "      <th>4</th>\n",
       "      <td>i bought this for my grand daughter when she comes over to visit. i set it up with her as the user, entered her age and name and now amazon makes sure that she only accesses sites and content that...</td>\n",
       "      <td>i bought this for my grand daughter when she comes over to visit i set it up with her as the user entered her age and name and now amazon makes sure that she only accesses sites and content that a...</td>\n",
       "      <td>i bought this for my grand daughter when she comes over to visit i set it up with her as the user entered her age and name and now amazon makes sure that she only accesses sites and content that a...</td>\n",
       "      <td>[i, bought, this, for, my, grand, daughter, when, she, comes, over, to, visit, i, set, it, up, with, her, as, the, user, entered, her, age, and, name, and, now, amazon, makes, sure, that, she, onl...</td>\n",
       "      <td>[bought, grand, daughter, comes, visit, set, user, entered, age, name, amazon, makes, sure, accesses, sites, content, appropriate, age, simple, loves, capabilities, also, bought, installed, gig, s...</td>\n",
       "      <td>[bought, grand, daughter, come, visit, set, user, enter, age, name, amazon, make, sure, access, site, content, appropri, age, simpl, love, capabl, also, bought, instal, gig, sd, card, give, littl,...</td>\n",
       "      <td>[bought, grand, daughter, come, visit, set, user, enter, age, name, amazon, make, sure, access, site, content, appropri, age, simpl, love, capabl, also, bought, instal, gig, sd, card, give, littl,...</td>\n",
       "    </tr>\n",
       "  </tbody>\n",
       "</table>\n",
       "</div>"
      ],
      "text/plain": [
       "                                                                                                                                                                                                   reviews  \\\n",
       "0                                                        1 this product so far has not disappointed. my children love to use it and i like the ability to monitor control what content they see with ease.   \n",
       "1                                                                                                                              great for beginner or experienced person. bought as a gift and she loves it   \n",
       "2                                                                      inexpensive tablet for him to use and learn on, step up from the nabi. he was thrilled with it, learn how to skype on it already...   \n",
       "3  i've had my fire hd 8 two weeks now and i love it. this tablet is a great value.we are prime members and that is where this tablet shines. i love being able to easily access all of the prime conte...   \n",
       "4  i bought this for my grand daughter when she comes over to visit. i set it up with her as the user, entered her age and name and now amazon makes sure that she only accesses sites and content that...   \n",
       "\n",
       "                                                                                                                                                                                                new_column  \\\n",
       "0                                                          1 this product so far has not disappointed my children love to use it and i like the ability to monitor control what content they see with ease   \n",
       "1                                                                                                                               great for beginner or experienced person bought as a gift and she loves it   \n",
       "2                                                                            inexpensive tablet for him to use and learn on step up from the nabi he was thrilled with it learn how to skype on it already   \n",
       "3  ive had my fire hd 8 two weeks now and i love it this tablet is a great valuewe are prime members and that is where this tablet shines i love being able to easily access all of the prime content a...   \n",
       "4  i bought this for my grand daughter when she comes over to visit i set it up with her as the user entered her age and name and now amazon makes sure that she only accesses sites and content that a...   \n",
       "\n",
       "                                                                                                                                                                                               new_cloumns  \\\n",
       "0                                                            this product so far has not disappointed my children love to use it and i like the ability to monitor control what content they see with ease   \n",
       "1                                                                                                                               great for beginner or experienced person bought as a gift and she loves it   \n",
       "2                                                                            inexpensive tablet for him to use and learn on step up from the nabi he was thrilled with it learn how to skype on it already   \n",
       "3  ive had my fire hd  two weeks now and i love it this tablet is a great valuewe are prime members and that is where this tablet shines i love being able to easily access all of the prime content as...   \n",
       "4  i bought this for my grand daughter when she comes over to visit i set it up with her as the user entered her age and name and now amazon makes sure that she only accesses sites and content that a...   \n",
       "\n",
       "                                                                                                                                                                                                  tokenize  \\\n",
       "0                              [, this, product, so, far, has, not, disappointed, my, children, love, to, use, it, and, i, like, the, ability, to, monitor, control, what, content, they, see, with, ease]   \n",
       "1                                                                                                                [great, for, beginner, or, experienced, person, bought, as, a, gift, and, she, loves, it]   \n",
       "2                                                 [inexpensive, tablet, for, him, to, use, and, learn, on, step, up, from, the, nabi, he, was, thrilled, with, it, learn, how, to, skype, on, it, already]   \n",
       "3  [ive, had, my, fire, hd, two, weeks, now, and, i, love, it, this, tablet, is, a, great, valuewe, are, prime, members, and, that, is, where, this, tablet, shines, i, love, being, able, to, easily, ...   \n",
       "4  [i, bought, this, for, my, grand, daughter, when, she, comes, over, to, visit, i, set, it, up, with, her, as, the, user, entered, her, age, and, name, and, now, amazon, makes, sure, that, she, onl...   \n",
       "\n",
       "                                                                                                                                                                                                        sw  \\\n",
       "0                                                                                                 [, product, far, disappointed, children, love, use, like, ability, monitor, control, content, see, ease]   \n",
       "1                                                                                                                                              [great, beginner, experienced, person, bought, gift, loves]   \n",
       "2                                                                                                                           [inexpensive, tablet, use, learn, step, nabi, thrilled, learn, skype, already]   \n",
       "3  [ive, fire, hd, two, weeks, love, tablet, great, valuewe, prime, members, tablet, shines, love, able, easily, access, prime, content, well, movies, download, watch, laterthis, screen, really, nice...   \n",
       "4  [bought, grand, daughter, comes, visit, set, user, entered, age, name, amazon, makes, sure, accesses, sites, content, appropriate, age, simple, loves, capabilities, also, bought, installed, gig, s...   \n",
       "\n",
       "                                                                                                                                                                                                      stem  \\\n",
       "0                                                                                                       [, product, far, disappoint, children, love, use, like, abil, monitor, control, content, see, eas]   \n",
       "1                                                                                                                                                   [great, beginn, experienc, person, bought, gift, love]   \n",
       "2                                                                                                                                [inexpens, tablet, use, learn, step, nabi, thrill, learn, skype, alreadi]   \n",
       "3  [ive, fire, hd, two, week, love, tablet, great, valuew, prime, member, tablet, shine, love, abl, easili, access, prime, content, well, movi, download, watch, laterthi, screen, realli, nice, look, ...   \n",
       "4  [bought, grand, daughter, come, visit, set, user, enter, age, name, amazon, make, sure, access, site, content, appropri, age, simpl, love, capabl, also, bought, instal, gig, sd, card, give, littl,...   \n",
       "\n",
       "                                                                                                                                                                                                 lemmatize  \n",
       "0                                                                                                           [, product, far, disappoint, child, love, use, like, abil, monitor, control, content, see, ea]  \n",
       "1                                                                                                                                                   [great, beginn, experienc, person, bought, gift, love]  \n",
       "2                                                                                                                                [inexpens, tablet, use, learn, step, nabi, thrill, learn, skype, alreadi]  \n",
       "3  [ive, fire, hd, two, week, love, tablet, great, valuew, prime, member, tablet, shine, love, abl, easili, access, prime, content, well, movi, download, watch, laterthi, screen, realli, nice, look, ...  \n",
       "4  [bought, grand, daughter, come, visit, set, user, enter, age, name, amazon, make, sure, access, site, content, appropri, age, simpl, love, capabl, also, bought, instal, gig, sd, card, give, littl,...  "
      ]
     },
     "execution_count": 41,
     "metadata": {},
     "output_type": "execute_result"
    }
   ],
   "source": [
    "inputs.head()"
   ]
  },
  {
   "cell_type": "code",
   "execution_count": 43,
   "metadata": {},
   "outputs": [],
   "source": [
    "from sklearn.model_selection import train_test_split\n",
    "X_train, X_test, y_train, y_test = train_test_split(inputs.lemmatize,target,test_size=0.2)"
   ]
  },
  {
   "cell_type": "code",
   "execution_count": null,
   "metadata": {},
   "outputs": [],
   "source": []
  },
  {
   "cell_type": "code",
   "execution_count": 44,
   "metadata": {},
   "outputs": [
    {
     "name": "stdout",
     "output_type": "stream",
     "text": [
      "10130                                                                                                                                                               [love, bought, one, daughter, end, buy, one]\n",
      "13896                                                                                                   [look, someth, easier, read, email, phone, small, light, travel, right, size, inch, tablet, larg, heavi]\n",
      "24524                                                                                                                               [simpl, hook, smart, phone, internet, love, product, learn, use, everi, day]\n",
      "23433                                                                                                    [although, havent, util, smart, featur, eventu, enjoy, ask, question, listen, music, entertain, famili]\n",
      "8891                                                                                                                                                                        [tablet, easi, use, setup, daughter]\n",
      "30842                                                                      [simpl, setup, within, minut, use, discov, fun, entertain, amazon, prime, member, yet, expect, member, open, even, wonder, entertain]\n",
      "18684                                                                             [bought, ladi, kept, get, distract, tri, read, thing, ipad, plu, light, ipad, bit, harsh, read, night, perfect, answer, thing]\n",
      "12017                                                                                                                                                   [lot, thing, well, expens, tablet, strong, money, spent]\n",
      "7993                                                                                                                                                                   [afford, rate, thrill, purchas, fir, son]\n",
      "12207                                                                                                                                                   [son, daughter, love, dont, hard, time, understand, use]\n",
      "32448                                                                                                                                                        [amazon, fire, tv, model, work, great, easi, setup]\n",
      "22669                                                                                                                                                                     [excel, speaker, handl, request, song]\n",
      "33022                                                                                                                               [skeptic, first, thought, would, fire, stickboy, wrongk, awesom, k, tetevis]\n",
      "25228                                                                                                                                                    [high, qualiti, devic, easi, set, easi, oper, lot, fun]\n",
      "34268                                                                                                                                                            [easi, instal, oper, took, minut, begin, watch]\n",
      "24592                                                                                   [awesom, product, sound, pretti, impress, small, cylind, news, sport, weather, joke, nearli, whole, hous, control, love]\n",
      "14924                                                                                                                                                                         [use, tablet, time, conecct, good]\n",
      "12885                                                                                                                                     [purchas, grandchilden, realli, enjoy, use, download, new, game, play]\n",
      "6227                                                              [like, option, tablet, one, thing, overlook, intern, microphon, program, limit, translat, app, cell, phone, app, biggi, nice, tablet, bargain]\n",
      "28345    [good, addit, gadget, alexa, help, manag, shop, list, connect, phone, use, bluetooth, play, music, apart, music, amazon, prime, alexa, pretti, good, collect, joke, keep, kid, home, entertainedi, p...\n",
      "13162                                                                                                     [bought, unit, black, friday, gift, good, thu, far, wish, easier, get, back, home, screen, like, unit]\n",
      "3947                                                                                                                                                                   [dont, like, tablet, android, work, well]\n",
      "27560                                                                                                                                                    [understand, differ, accent, info, readi, avail, alway]\n",
      "32894    [amazon, fire, tv, product, great, highli, recommend, anyon, best, buy, servic, sale, order, item, onlin, store, pick, next, day, went, pick, said, schedul, deliveri, home, address, day, although,...\n",
      "3502                                                                                                                                                                      [wife, like, read, differ, kind, book]\n",
      "556                                                                                                                                                               [disappoint, inabl, download, app, use, phone]\n",
      "23342                                                                                                                                            [great, serviv, best, buy, price, match, great, use, best, buy]\n",
      "6293                                                                                                                                                                     [need, abl, keep, book, brow, web, etc]\n",
      "25728    [wow, miss, fun, conveni, applic, littl, thing, thought, oh, like, toy, ill, get, tire, wrong, light, set, drop, friend, ask, question, need, answer, get, step, step, recip, thousand, thing, mani,...\n",
      "16016                                                                                                                                            [great, kid, play, easi, monitor, time, spent, content, access]\n",
      "                                                                                                          ...                                                                                                   \n",
      "28994                                                                                                                                                            [charg, take, anywher, hous, hold, long, charg]\n",
      "30971                               [better, perform, option, firestick, extra, cost, ad, size, still, nice, compact, littl, packag, though, happi, purchas, run, program, use, well, expand, storag, huge, plu]\n",
      "1089                                                                                                                                                              [work, great, wife, love, alway, happi, kindl]\n",
      "19482                                                                                                                                                        [love, product, light, weight, easi, eye, glarefre]\n",
      "18045                           [comfort, devic, easi, hold, even, cover, eye, strain, light, doesnt, disturb, anyon, el, make, possibl, read, dark, space, batteri, last, long, time, like, much, better, nook]\n",
      "18928                                                                                                                                                  [realli, cant, go, wrong, exactli, want, e, reader, noth]\n",
      "14215                                                                                                                                                               [bought, tablet, best, tablet, ever, bought]\n",
      "14822                                                                 [alway, big, fan, kindl, third, one, purchas, mani, may, ask, never, get, use, everi, one, el, famili, grab, great, surf, amd, read, book]\n",
      "12247                                                                                                                                 [good, product, o, kind, slowalso, connect, internet, sometim, disconnect]\n",
      "19082                                                                                                          [resolut, contrast, good, comfort, read, book, devic, price, ok, would, say, good, read, devic, ]\n",
      "11839                                                                                                                                                [bought, tablet, high, review, great, price, first, tablet]\n",
      "16066                                                                                                                                                                 [offer, lot, price, good, parent, control]\n",
      "12306                                                                                                                                     [nice, tablet, great, price, purchas, per, black, friday, sale, onlin]\n",
      "11525                                          [wife, actual, bought, two, two, younger, child, love, give, u, control, much, screen, time, get, theyr, avail, turn, turn, well, play, game, read, time, awesom]\n",
      "1463                                                                                                                                                              [look, easi, use, tablet, beginn, met, need, ]\n",
      "11126                                                                                                 [love, could, buy, card, increas, storag, pictur, qualiti, awesom, price, reason, one, happi, granddaught]\n",
      "3035     [bought, yr, old, said, came, gb, storag, actual, storag, littl, le, cant, rememb, exactli, much, probabl, around, gb, necessari, program, come, alreadi, preinstal, mainli, use, game, download, ma...\n",
      "30612    [amazon, fire, work, great, easi, setup, pictur, qualiti, excel, alexi, talk, bottom, make, search, stuff, easi, got, rid, cabl, kept, internet, weve, save, bill, stream, show, devic, simpl, somet...\n",
      "20765                                                                                                                                                               [love, new, kindl, much, brighter, old, one]\n",
      "32605                                                                                                                                                                            [best, stream, tool, seen, use]\n",
      "11032                                                                                                                                                              [easi, use, tablet, girl, love, great, price]\n",
      "10162                                                                                                                                                     [excel, tablet, kid, easi, use, good, parent, protect]\n",
      "10665                                                                                                  [bought, two, kid, happi, problem, abl, download, movi, sd, card, keep, get, messag, say, kindl, support]\n",
      "30996                                                                                                                                                [fire, tv, load, faster, stick, work, great, amazon, prime]\n",
      "27826    [alexa, great, ask, weather, want, play, music, quickli, howev, major, question, ask, cannot, find, think, question, pretti, simpl, answer, question, direct, answer, like, what, go, much, wont, re...\n",
      "4870                                                                                                                                      [doesnt, work, good, slow, abil, good, work, tablet, would, recommend]\n",
      "13407                                                                                                                             [got, gift, daughter, she, colleg, help, keep, track, schedul, email, appoint]\n",
      "18421                                     [guess, sinc, im, say, perfect, read, star, seem, cheeki, sinc, im, use, use, use, tablet, definit, faster, least, read, anywher, glare, sun, bright, help, eyestrain]\n",
      "2355                                                                                                    [bought, tablet, christma, ive, enjoy, ea, use, price, paid, great, fact, purchas, anoth, son, christma]\n",
      "14793                                                                                                                                 [forth, kindl, bought, grandchild, spongi, protect, case, take, everywher]\n",
      "Name: lemmatize, Length: 27728, dtype: object\n"
     ]
    }
   ],
   "source": [
    "len(X_train)\n",
    "print(X_train)"
   ]
  },
  {
   "cell_type": "code",
   "execution_count": 47,
   "metadata": {},
   "outputs": [],
   "source": [
    "from sklearn.feature_extraction.text import CountVectorizer\n",
    "cv = CountVectorizer(analyzer = lemmatization)\n",
    "X = cv.fit_transform(X_train)\n",
    "\n",
    "X_train_count = X.toarray()"
   ]
  },
  {
   "cell_type": "code",
   "execution_count": 48,
   "metadata": {},
   "outputs": [
    {
     "name": "stdout",
     "output_type": "stream",
     "text": [
      "[[0 0 0 ... 0 0 0]\n",
      " [0 0 0 ... 0 0 0]\n",
      " [0 0 0 ... 0 0 0]\n",
      " ...\n",
      " [0 0 0 ... 0 0 0]\n",
      " [0 0 0 ... 0 0 0]\n",
      " [0 0 0 ... 0 0 0]]\n"
     ]
    }
   ],
   "source": [
    "print(X_train_count)"
   ]
  },
  {
   "cell_type": "code",
   "execution_count": 49,
   "metadata": {},
   "outputs": [
    {
     "name": "stdout",
     "output_type": "stream",
     "text": [
      "(10, 85)\n"
     ]
    }
   ],
   "source": [
    "data_sample = X_train[0:10]\n",
    "cv2= CountVectorizer(analyzer=lemmatization)\n",
    "\n",
    "X=cv2.fit_transform(data_sample)\n",
    "print(X.shape)"
   ]
  },
  {
   "cell_type": "code",
   "execution_count": 50,
   "metadata": {},
   "outputs": [
    {
     "data": {
      "text/html": [
       "<div>\n",
       "<style scoped>\n",
       "    .dataframe tbody tr th:only-of-type {\n",
       "        vertical-align: middle;\n",
       "    }\n",
       "\n",
       "    .dataframe tbody tr th {\n",
       "        vertical-align: top;\n",
       "    }\n",
       "\n",
       "    .dataframe thead th {\n",
       "        text-align: right;\n",
       "    }\n",
       "</style>\n",
       "<table border=\"1\" class=\"dataframe\">\n",
       "  <thead>\n",
       "    <tr style=\"text-align: right;\">\n",
       "      <th></th>\n",
       "      <th>afford</th>\n",
       "      <th>although</th>\n",
       "      <th>amazon</th>\n",
       "      <th>answer</th>\n",
       "      <th>ask</th>\n",
       "      <th>bit</th>\n",
       "      <th>bought</th>\n",
       "      <th>buy</th>\n",
       "      <th>daughter</th>\n",
       "      <th>day</th>\n",
       "      <th>...</th>\n",
       "      <th>time</th>\n",
       "      <th>travel</th>\n",
       "      <th>tri</th>\n",
       "      <th>understand</th>\n",
       "      <th>use</th>\n",
       "      <th>util</th>\n",
       "      <th>well</th>\n",
       "      <th>within</th>\n",
       "      <th>wonder</th>\n",
       "      <th>yet</th>\n",
       "    </tr>\n",
       "  </thead>\n",
       "  <tbody>\n",
       "    <tr>\n",
       "      <th>0</th>\n",
       "      <td>0</td>\n",
       "      <td>0</td>\n",
       "      <td>0</td>\n",
       "      <td>0</td>\n",
       "      <td>0</td>\n",
       "      <td>0</td>\n",
       "      <td>1</td>\n",
       "      <td>1</td>\n",
       "      <td>1</td>\n",
       "      <td>0</td>\n",
       "      <td>...</td>\n",
       "      <td>0</td>\n",
       "      <td>0</td>\n",
       "      <td>0</td>\n",
       "      <td>0</td>\n",
       "      <td>0</td>\n",
       "      <td>0</td>\n",
       "      <td>0</td>\n",
       "      <td>0</td>\n",
       "      <td>0</td>\n",
       "      <td>0</td>\n",
       "    </tr>\n",
       "    <tr>\n",
       "      <th>1</th>\n",
       "      <td>0</td>\n",
       "      <td>0</td>\n",
       "      <td>0</td>\n",
       "      <td>0</td>\n",
       "      <td>0</td>\n",
       "      <td>0</td>\n",
       "      <td>0</td>\n",
       "      <td>0</td>\n",
       "      <td>0</td>\n",
       "      <td>0</td>\n",
       "      <td>...</td>\n",
       "      <td>0</td>\n",
       "      <td>1</td>\n",
       "      <td>0</td>\n",
       "      <td>0</td>\n",
       "      <td>0</td>\n",
       "      <td>0</td>\n",
       "      <td>0</td>\n",
       "      <td>0</td>\n",
       "      <td>0</td>\n",
       "      <td>0</td>\n",
       "    </tr>\n",
       "    <tr>\n",
       "      <th>2</th>\n",
       "      <td>0</td>\n",
       "      <td>0</td>\n",
       "      <td>0</td>\n",
       "      <td>0</td>\n",
       "      <td>0</td>\n",
       "      <td>0</td>\n",
       "      <td>0</td>\n",
       "      <td>0</td>\n",
       "      <td>0</td>\n",
       "      <td>1</td>\n",
       "      <td>...</td>\n",
       "      <td>0</td>\n",
       "      <td>0</td>\n",
       "      <td>0</td>\n",
       "      <td>0</td>\n",
       "      <td>1</td>\n",
       "      <td>0</td>\n",
       "      <td>0</td>\n",
       "      <td>0</td>\n",
       "      <td>0</td>\n",
       "      <td>0</td>\n",
       "    </tr>\n",
       "    <tr>\n",
       "      <th>3</th>\n",
       "      <td>0</td>\n",
       "      <td>1</td>\n",
       "      <td>0</td>\n",
       "      <td>0</td>\n",
       "      <td>1</td>\n",
       "      <td>0</td>\n",
       "      <td>0</td>\n",
       "      <td>0</td>\n",
       "      <td>0</td>\n",
       "      <td>0</td>\n",
       "      <td>...</td>\n",
       "      <td>0</td>\n",
       "      <td>0</td>\n",
       "      <td>0</td>\n",
       "      <td>0</td>\n",
       "      <td>0</td>\n",
       "      <td>1</td>\n",
       "      <td>0</td>\n",
       "      <td>0</td>\n",
       "      <td>0</td>\n",
       "      <td>0</td>\n",
       "    </tr>\n",
       "    <tr>\n",
       "      <th>4</th>\n",
       "      <td>0</td>\n",
       "      <td>0</td>\n",
       "      <td>0</td>\n",
       "      <td>0</td>\n",
       "      <td>0</td>\n",
       "      <td>0</td>\n",
       "      <td>0</td>\n",
       "      <td>0</td>\n",
       "      <td>1</td>\n",
       "      <td>0</td>\n",
       "      <td>...</td>\n",
       "      <td>0</td>\n",
       "      <td>0</td>\n",
       "      <td>0</td>\n",
       "      <td>0</td>\n",
       "      <td>1</td>\n",
       "      <td>0</td>\n",
       "      <td>0</td>\n",
       "      <td>0</td>\n",
       "      <td>0</td>\n",
       "      <td>0</td>\n",
       "    </tr>\n",
       "    <tr>\n",
       "      <th>5</th>\n",
       "      <td>0</td>\n",
       "      <td>0</td>\n",
       "      <td>1</td>\n",
       "      <td>0</td>\n",
       "      <td>0</td>\n",
       "      <td>0</td>\n",
       "      <td>0</td>\n",
       "      <td>0</td>\n",
       "      <td>0</td>\n",
       "      <td>0</td>\n",
       "      <td>...</td>\n",
       "      <td>0</td>\n",
       "      <td>0</td>\n",
       "      <td>0</td>\n",
       "      <td>0</td>\n",
       "      <td>1</td>\n",
       "      <td>0</td>\n",
       "      <td>0</td>\n",
       "      <td>1</td>\n",
       "      <td>1</td>\n",
       "      <td>1</td>\n",
       "    </tr>\n",
       "    <tr>\n",
       "      <th>6</th>\n",
       "      <td>0</td>\n",
       "      <td>0</td>\n",
       "      <td>0</td>\n",
       "      <td>1</td>\n",
       "      <td>0</td>\n",
       "      <td>1</td>\n",
       "      <td>1</td>\n",
       "      <td>0</td>\n",
       "      <td>0</td>\n",
       "      <td>0</td>\n",
       "      <td>...</td>\n",
       "      <td>0</td>\n",
       "      <td>0</td>\n",
       "      <td>1</td>\n",
       "      <td>0</td>\n",
       "      <td>0</td>\n",
       "      <td>0</td>\n",
       "      <td>0</td>\n",
       "      <td>0</td>\n",
       "      <td>0</td>\n",
       "      <td>0</td>\n",
       "    </tr>\n",
       "    <tr>\n",
       "      <th>7</th>\n",
       "      <td>0</td>\n",
       "      <td>0</td>\n",
       "      <td>0</td>\n",
       "      <td>0</td>\n",
       "      <td>0</td>\n",
       "      <td>0</td>\n",
       "      <td>0</td>\n",
       "      <td>0</td>\n",
       "      <td>0</td>\n",
       "      <td>0</td>\n",
       "      <td>...</td>\n",
       "      <td>0</td>\n",
       "      <td>0</td>\n",
       "      <td>0</td>\n",
       "      <td>0</td>\n",
       "      <td>0</td>\n",
       "      <td>0</td>\n",
       "      <td>1</td>\n",
       "      <td>0</td>\n",
       "      <td>0</td>\n",
       "      <td>0</td>\n",
       "    </tr>\n",
       "    <tr>\n",
       "      <th>8</th>\n",
       "      <td>1</td>\n",
       "      <td>0</td>\n",
       "      <td>0</td>\n",
       "      <td>0</td>\n",
       "      <td>0</td>\n",
       "      <td>0</td>\n",
       "      <td>0</td>\n",
       "      <td>0</td>\n",
       "      <td>0</td>\n",
       "      <td>0</td>\n",
       "      <td>...</td>\n",
       "      <td>0</td>\n",
       "      <td>0</td>\n",
       "      <td>0</td>\n",
       "      <td>0</td>\n",
       "      <td>0</td>\n",
       "      <td>0</td>\n",
       "      <td>0</td>\n",
       "      <td>0</td>\n",
       "      <td>0</td>\n",
       "      <td>0</td>\n",
       "    </tr>\n",
       "    <tr>\n",
       "      <th>9</th>\n",
       "      <td>0</td>\n",
       "      <td>0</td>\n",
       "      <td>0</td>\n",
       "      <td>0</td>\n",
       "      <td>0</td>\n",
       "      <td>0</td>\n",
       "      <td>0</td>\n",
       "      <td>0</td>\n",
       "      <td>1</td>\n",
       "      <td>0</td>\n",
       "      <td>...</td>\n",
       "      <td>1</td>\n",
       "      <td>0</td>\n",
       "      <td>0</td>\n",
       "      <td>1</td>\n",
       "      <td>1</td>\n",
       "      <td>0</td>\n",
       "      <td>0</td>\n",
       "      <td>0</td>\n",
       "      <td>0</td>\n",
       "      <td>0</td>\n",
       "    </tr>\n",
       "  </tbody>\n",
       "</table>\n",
       "<p>10 rows × 85 columns</p>\n",
       "</div>"
      ],
      "text/plain": [
       "   afford  although  amazon  answer  ask  bit  bought  buy  daughter  day  \\\n",
       "0       0         0       0       0    0    0       1    1         1    0   \n",
       "1       0         0       0       0    0    0       0    0         0    0   \n",
       "2       0         0       0       0    0    0       0    0         0    1   \n",
       "3       0         1       0       0    1    0       0    0         0    0   \n",
       "4       0         0       0       0    0    0       0    0         1    0   \n",
       "5       0         0       1       0    0    0       0    0         0    0   \n",
       "6       0         0       0       1    0    1       1    0         0    0   \n",
       "7       0         0       0       0    0    0       0    0         0    0   \n",
       "8       1         0       0       0    0    0       0    0         0    0   \n",
       "9       0         0       0       0    0    0       0    0         1    0   \n",
       "\n",
       "  ...   time  travel  tri  understand  use  util  well  within  wonder  yet  \n",
       "0 ...      0       0    0           0    0     0     0       0       0    0  \n",
       "1 ...      0       1    0           0    0     0     0       0       0    0  \n",
       "2 ...      0       0    0           0    1     0     0       0       0    0  \n",
       "3 ...      0       0    0           0    0     1     0       0       0    0  \n",
       "4 ...      0       0    0           0    1     0     0       0       0    0  \n",
       "5 ...      0       0    0           0    1     0     0       1       1    1  \n",
       "6 ...      0       0    1           0    0     0     0       0       0    0  \n",
       "7 ...      0       0    0           0    0     0     1       0       0    0  \n",
       "8 ...      0       0    0           0    0     0     0       0       0    0  \n",
       "9 ...      1       0    0           1    1     0     0       0       0    0  \n",
       "\n",
       "[10 rows x 85 columns]"
      ]
     },
     "execution_count": 50,
     "metadata": {},
     "output_type": "execute_result"
    }
   ],
   "source": [
    "df2= pd.DataFrame(X.toarray(), columns=cv2.get_feature_names())\n",
    "df2.head(10)"
   ]
  },
  {
   "cell_type": "code",
   "execution_count": 51,
   "metadata": {},
   "outputs": [],
   "source": [
    "from sklearn.naive_bayes import GaussianNB\n",
    "model = GaussianNB()\n"
   ]
  },
  {
   "cell_type": "code",
   "execution_count": 53,
   "metadata": {},
   "outputs": [
    {
     "ename": "KeyboardInterrupt",
     "evalue": "",
     "output_type": "error",
     "traceback": [
      "\u001b[1;31m---------------------------------------------------------------------------\u001b[0m",
      "\u001b[1;31mKeyboardInterrupt\u001b[0m                         Traceback (most recent call last)",
      "\u001b[1;32m<ipython-input-53-f1933a5b33ff>\u001b[0m in \u001b[0;36m<module>\u001b[1;34m()\u001b[0m\n\u001b[1;32m----> 1\u001b[1;33m \u001b[0mmodel\u001b[0m\u001b[1;33m.\u001b[0m\u001b[0mfit\u001b[0m\u001b[1;33m(\u001b[0m\u001b[0mX_train_count\u001b[0m\u001b[1;33m,\u001b[0m \u001b[0my_train\u001b[0m\u001b[1;33m)\u001b[0m\u001b[1;33m\u001b[0m\u001b[0m\n\u001b[0m",
      "\u001b[1;32m~\\Anaconda3\\lib\\site-packages\\sklearn\\naive_bayes.py\u001b[0m in \u001b[0;36mfit\u001b[1;34m(self, X, y, sample_weight)\u001b[0m\n\u001b[0;32m    183\u001b[0m         \u001b[0mX\u001b[0m\u001b[1;33m,\u001b[0m \u001b[0my\u001b[0m \u001b[1;33m=\u001b[0m \u001b[0mcheck_X_y\u001b[0m\u001b[1;33m(\u001b[0m\u001b[0mX\u001b[0m\u001b[1;33m,\u001b[0m \u001b[0my\u001b[0m\u001b[1;33m)\u001b[0m\u001b[1;33m\u001b[0m\u001b[0m\n\u001b[0;32m    184\u001b[0m         return self._partial_fit(X, y, np.unique(y), _refit=True,\n\u001b[1;32m--> 185\u001b[1;33m                                  sample_weight=sample_weight)\n\u001b[0m\u001b[0;32m    186\u001b[0m \u001b[1;33m\u001b[0m\u001b[0m\n\u001b[0;32m    187\u001b[0m     \u001b[1;33m@\u001b[0m\u001b[0mstaticmethod\u001b[0m\u001b[1;33m\u001b[0m\u001b[0m\n",
      "\u001b[1;32m~\\Anaconda3\\lib\\site-packages\\sklearn\\naive_bayes.py\u001b[0m in \u001b[0;36m_partial_fit\u001b[1;34m(self, X, y, classes, _refit, sample_weight)\u001b[0m\n\u001b[0;32m    343\u001b[0m         \u001b[1;31m# boost the variance by epsilon, a small fraction of the standard\u001b[0m\u001b[1;33m\u001b[0m\u001b[1;33m\u001b[0m\u001b[0m\n\u001b[0;32m    344\u001b[0m         \u001b[1;31m# deviation of the largest dimension.\u001b[0m\u001b[1;33m\u001b[0m\u001b[1;33m\u001b[0m\u001b[0m\n\u001b[1;32m--> 345\u001b[1;33m         \u001b[0mepsilon\u001b[0m \u001b[1;33m=\u001b[0m \u001b[1;36m1e-9\u001b[0m \u001b[1;33m*\u001b[0m \u001b[0mnp\u001b[0m\u001b[1;33m.\u001b[0m\u001b[0mvar\u001b[0m\u001b[1;33m(\u001b[0m\u001b[0mX\u001b[0m\u001b[1;33m,\u001b[0m \u001b[0maxis\u001b[0m\u001b[1;33m=\u001b[0m\u001b[1;36m0\u001b[0m\u001b[1;33m)\u001b[0m\u001b[1;33m.\u001b[0m\u001b[0mmax\u001b[0m\u001b[1;33m(\u001b[0m\u001b[1;33m)\u001b[0m\u001b[1;33m\u001b[0m\u001b[0m\n\u001b[0m\u001b[0;32m    346\u001b[0m \u001b[1;33m\u001b[0m\u001b[0m\n\u001b[0;32m    347\u001b[0m         \u001b[1;32mif\u001b[0m \u001b[0m_refit\u001b[0m\u001b[1;33m:\u001b[0m\u001b[1;33m\u001b[0m\u001b[0m\n",
      "\u001b[1;32m~\\Anaconda3\\lib\\site-packages\\numpy\\core\\fromnumeric.py\u001b[0m in \u001b[0;36mvar\u001b[1;34m(a, axis, dtype, out, ddof, keepdims)\u001b[0m\n\u001b[0;32m   3192\u001b[0m \u001b[1;33m\u001b[0m\u001b[0m\n\u001b[0;32m   3193\u001b[0m     return _methods._var(a, axis=axis, dtype=dtype, out=out, ddof=ddof,\n\u001b[1;32m-> 3194\u001b[1;33m                          **kwargs)\n\u001b[0m",
      "\u001b[1;32m~\\Anaconda3\\lib\\site-packages\\numpy\\core\\_methods.py\u001b[0m in \u001b[0;36m_var\u001b[1;34m(a, axis, dtype, out, ddof, keepdims)\u001b[0m\n\u001b[0;32m    114\u001b[0m         \u001b[0mx\u001b[0m \u001b[1;33m=\u001b[0m \u001b[0mum\u001b[0m\u001b[1;33m.\u001b[0m\u001b[0mmultiply\u001b[0m\u001b[1;33m(\u001b[0m\u001b[0mx\u001b[0m\u001b[1;33m,\u001b[0m \u001b[0mum\u001b[0m\u001b[1;33m.\u001b[0m\u001b[0mconjugate\u001b[0m\u001b[1;33m(\u001b[0m\u001b[0mx\u001b[0m\u001b[1;33m)\u001b[0m\u001b[1;33m,\u001b[0m \u001b[0mout\u001b[0m\u001b[1;33m=\u001b[0m\u001b[0mx\u001b[0m\u001b[1;33m)\u001b[0m\u001b[1;33m.\u001b[0m\u001b[0mreal\u001b[0m\u001b[1;33m\u001b[0m\u001b[0m\n\u001b[0;32m    115\u001b[0m     \u001b[1;32melse\u001b[0m\u001b[1;33m:\u001b[0m\u001b[1;33m\u001b[0m\u001b[0m\n\u001b[1;32m--> 116\u001b[1;33m         \u001b[0mx\u001b[0m \u001b[1;33m=\u001b[0m \u001b[0mum\u001b[0m\u001b[1;33m.\u001b[0m\u001b[0mmultiply\u001b[0m\u001b[1;33m(\u001b[0m\u001b[0mx\u001b[0m\u001b[1;33m,\u001b[0m \u001b[0mx\u001b[0m\u001b[1;33m,\u001b[0m \u001b[0mout\u001b[0m\u001b[1;33m=\u001b[0m\u001b[0mx\u001b[0m\u001b[1;33m)\u001b[0m\u001b[1;33m\u001b[0m\u001b[0m\n\u001b[0m\u001b[0;32m    117\u001b[0m     \u001b[0mret\u001b[0m \u001b[1;33m=\u001b[0m \u001b[0mumr_sum\u001b[0m\u001b[1;33m(\u001b[0m\u001b[0mx\u001b[0m\u001b[1;33m,\u001b[0m \u001b[0maxis\u001b[0m\u001b[1;33m,\u001b[0m \u001b[0mdtype\u001b[0m\u001b[1;33m,\u001b[0m \u001b[0mout\u001b[0m\u001b[1;33m,\u001b[0m \u001b[0mkeepdims\u001b[0m\u001b[1;33m)\u001b[0m\u001b[1;33m\u001b[0m\u001b[0m\n\u001b[0;32m    118\u001b[0m \u001b[1;33m\u001b[0m\u001b[0m\n",
      "\u001b[1;31mKeyboardInterrupt\u001b[0m: "
     ]
    }
   ],
   "source": [
    "# model.fit(X_train_count, y_train)"
   ]
  },
  {
   "cell_type": "markdown",
   "metadata": {},
   "source": []
  },
  {
   "cell_type": "code",
   "execution_count": null,
   "metadata": {},
   "outputs": [],
   "source": []
  },
  {
   "cell_type": "code",
   "execution_count": null,
   "metadata": {},
   "outputs": [],
   "source": []
  },
  {
   "cell_type": "code",
   "execution_count": null,
   "metadata": {},
   "outputs": [],
   "source": []
  },
  {
   "cell_type": "code",
   "execution_count": null,
   "metadata": {},
   "outputs": [],
   "source": []
  },
  {
   "cell_type": "code",
   "execution_count": null,
   "metadata": {},
   "outputs": [],
   "source": []
  },
  {
   "cell_type": "code",
   "execution_count": null,
   "metadata": {},
   "outputs": [],
   "source": []
  },
  {
   "cell_type": "code",
   "execution_count": null,
   "metadata": {},
   "outputs": [],
   "source": []
  },
  {
   "cell_type": "code",
   "execution_count": null,
   "metadata": {},
   "outputs": [],
   "source": []
  },
  {
   "cell_type": "code",
   "execution_count": null,
   "metadata": {},
   "outputs": [],
   "source": []
  },
  {
   "cell_type": "code",
   "execution_count": null,
   "metadata": {},
   "outputs": [],
   "source": []
  },
  {
   "cell_type": "code",
   "execution_count": null,
   "metadata": {},
   "outputs": [],
   "source": []
  },
  {
   "cell_type": "code",
   "execution_count": null,
   "metadata": {},
   "outputs": [],
   "source": []
  },
  {
   "cell_type": "code",
   "execution_count": null,
   "metadata": {},
   "outputs": [],
   "source": []
  },
  {
   "cell_type": "code",
   "execution_count": null,
   "metadata": {},
   "outputs": [],
   "source": []
  },
  {
   "cell_type": "code",
   "execution_count": null,
   "metadata": {},
   "outputs": [],
   "source": []
  },
  {
   "cell_type": "code",
   "execution_count": null,
   "metadata": {},
   "outputs": [],
   "source": []
  },
  {
   "cell_type": "code",
   "execution_count": null,
   "metadata": {},
   "outputs": [],
   "source": []
  },
  {
   "cell_type": "code",
   "execution_count": null,
   "metadata": {},
   "outputs": [],
   "source": []
  },
  {
   "cell_type": "code",
   "execution_count": null,
   "metadata": {},
   "outputs": [],
   "source": []
  },
  {
   "cell_type": "code",
   "execution_count": null,
   "metadata": {},
   "outputs": [],
   "source": []
  },
  {
   "cell_type": "code",
   "execution_count": null,
   "metadata": {},
   "outputs": [],
   "source": []
  },
  {
   "cell_type": "code",
   "execution_count": null,
   "metadata": {},
   "outputs": [],
   "source": []
  },
  {
   "cell_type": "code",
   "execution_count": null,
   "metadata": {},
   "outputs": [],
   "source": []
  },
  {
   "cell_type": "code",
   "execution_count": null,
   "metadata": {},
   "outputs": [],
   "source": []
  },
  {
   "cell_type": "code",
   "execution_count": null,
   "metadata": {},
   "outputs": [],
   "source": []
  },
  {
   "cell_type": "code",
   "execution_count": null,
   "metadata": {},
   "outputs": [],
   "source": []
  },
  {
   "cell_type": "code",
   "execution_count": null,
   "metadata": {},
   "outputs": [],
   "source": []
  },
  {
   "cell_type": "code",
   "execution_count": null,
   "metadata": {},
   "outputs": [],
   "source": []
  },
  {
   "cell_type": "code",
   "execution_count": null,
   "metadata": {},
   "outputs": [],
   "source": []
  },
  {
   "cell_type": "code",
   "execution_count": null,
   "metadata": {},
   "outputs": [],
   "source": []
  },
  {
   "cell_type": "code",
   "execution_count": null,
   "metadata": {},
   "outputs": [],
   "source": []
  },
  {
   "cell_type": "code",
   "execution_count": null,
   "metadata": {},
   "outputs": [],
   "source": []
  },
  {
   "cell_type": "code",
   "execution_count": null,
   "metadata": {},
   "outputs": [],
   "source": []
  },
  {
   "cell_type": "code",
   "execution_count": null,
   "metadata": {},
   "outputs": [],
   "source": []
  },
  {
   "cell_type": "code",
   "execution_count": null,
   "metadata": {},
   "outputs": [],
   "source": []
  },
  {
   "cell_type": "code",
   "execution_count": null,
   "metadata": {},
   "outputs": [],
   "source": []
  },
  {
   "cell_type": "code",
   "execution_count": null,
   "metadata": {},
   "outputs": [],
   "source": []
  },
  {
   "cell_type": "code",
   "execution_count": null,
   "metadata": {},
   "outputs": [],
   "source": []
  },
  {
   "cell_type": "code",
   "execution_count": null,
   "metadata": {},
   "outputs": [],
   "source": []
  },
  {
   "cell_type": "code",
   "execution_count": null,
   "metadata": {},
   "outputs": [],
   "source": []
  },
  {
   "cell_type": "code",
   "execution_count": null,
   "metadata": {},
   "outputs": [],
   "source": []
  },
  {
   "cell_type": "code",
   "execution_count": null,
   "metadata": {},
   "outputs": [],
   "source": []
  },
  {
   "cell_type": "code",
   "execution_count": null,
   "metadata": {},
   "outputs": [],
   "source": []
  },
  {
   "cell_type": "code",
   "execution_count": null,
   "metadata": {},
   "outputs": [],
   "source": []
  },
  {
   "cell_type": "code",
   "execution_count": null,
   "metadata": {},
   "outputs": [],
   "source": []
  },
  {
   "cell_type": "code",
   "execution_count": null,
   "metadata": {},
   "outputs": [],
   "source": []
  },
  {
   "cell_type": "code",
   "execution_count": null,
   "metadata": {},
   "outputs": [],
   "source": []
  },
  {
   "cell_type": "code",
   "execution_count": null,
   "metadata": {},
   "outputs": [],
   "source": []
  },
  {
   "cell_type": "code",
   "execution_count": null,
   "metadata": {},
   "outputs": [],
   "source": []
  },
  {
   "cell_type": "code",
   "execution_count": null,
   "metadata": {},
   "outputs": [],
   "source": []
  },
  {
   "cell_type": "code",
   "execution_count": null,
   "metadata": {},
   "outputs": [],
   "source": []
  },
  {
   "cell_type": "code",
   "execution_count": null,
   "metadata": {},
   "outputs": [],
   "source": []
  },
  {
   "cell_type": "code",
   "execution_count": null,
   "metadata": {},
   "outputs": [],
   "source": []
  },
  {
   "cell_type": "code",
   "execution_count": null,
   "metadata": {},
   "outputs": [],
   "source": []
  },
  {
   "cell_type": "code",
   "execution_count": null,
   "metadata": {},
   "outputs": [],
   "source": []
  },
  {
   "cell_type": "code",
   "execution_count": null,
   "metadata": {},
   "outputs": [],
   "source": []
  },
  {
   "cell_type": "code",
   "execution_count": null,
   "metadata": {},
   "outputs": [],
   "source": []
  },
  {
   "cell_type": "code",
   "execution_count": null,
   "metadata": {},
   "outputs": [],
   "source": []
  },
  {
   "cell_type": "code",
   "execution_count": null,
   "metadata": {},
   "outputs": [],
   "source": []
  },
  {
   "cell_type": "code",
   "execution_count": null,
   "metadata": {},
   "outputs": [],
   "source": []
  },
  {
   "cell_type": "code",
   "execution_count": null,
   "metadata": {},
   "outputs": [],
   "source": []
  },
  {
   "cell_type": "code",
   "execution_count": null,
   "metadata": {},
   "outputs": [],
   "source": []
  },
  {
   "cell_type": "code",
   "execution_count": null,
   "metadata": {},
   "outputs": [],
   "source": []
  },
  {
   "cell_type": "code",
   "execution_count": null,
   "metadata": {},
   "outputs": [],
   "source": []
  },
  {
   "cell_type": "code",
   "execution_count": null,
   "metadata": {},
   "outputs": [],
   "source": []
  },
  {
   "cell_type": "code",
   "execution_count": null,
   "metadata": {},
   "outputs": [],
   "source": []
  },
  {
   "cell_type": "code",
   "execution_count": null,
   "metadata": {},
   "outputs": [],
   "source": []
  },
  {
   "cell_type": "code",
   "execution_count": null,
   "metadata": {},
   "outputs": [],
   "source": []
  },
  {
   "cell_type": "code",
   "execution_count": null,
   "metadata": {},
   "outputs": [],
   "source": []
  },
  {
   "cell_type": "code",
   "execution_count": null,
   "metadata": {},
   "outputs": [],
   "source": []
  },
  {
   "cell_type": "code",
   "execution_count": null,
   "metadata": {},
   "outputs": [],
   "source": []
  },
  {
   "cell_type": "code",
   "execution_count": null,
   "metadata": {},
   "outputs": [],
   "source": []
  },
  {
   "cell_type": "code",
   "execution_count": null,
   "metadata": {},
   "outputs": [],
   "source": []
  },
  {
   "cell_type": "code",
   "execution_count": null,
   "metadata": {},
   "outputs": [],
   "source": []
  },
  {
   "cell_type": "code",
   "execution_count": null,
   "metadata": {},
   "outputs": [],
   "source": []
  },
  {
   "cell_type": "code",
   "execution_count": null,
   "metadata": {},
   "outputs": [],
   "source": []
  },
  {
   "cell_type": "code",
   "execution_count": null,
   "metadata": {},
   "outputs": [],
   "source": []
  },
  {
   "cell_type": "code",
   "execution_count": null,
   "metadata": {},
   "outputs": [],
   "source": []
  },
  {
   "cell_type": "code",
   "execution_count": null,
   "metadata": {},
   "outputs": [],
   "source": []
  },
  {
   "cell_type": "code",
   "execution_count": null,
   "metadata": {},
   "outputs": [],
   "source": []
  },
  {
   "cell_type": "code",
   "execution_count": null,
   "metadata": {},
   "outputs": [],
   "source": []
  },
  {
   "cell_type": "code",
   "execution_count": null,
   "metadata": {},
   "outputs": [],
   "source": []
  },
  {
   "cell_type": "code",
   "execution_count": null,
   "metadata": {},
   "outputs": [],
   "source": []
  },
  {
   "cell_type": "code",
   "execution_count": null,
   "metadata": {},
   "outputs": [],
   "source": [
    "\n",
    "\n"
   ]
  },
  {
   "cell_type": "code",
   "execution_count": null,
   "metadata": {},
   "outputs": [],
   "source": []
  },
  {
   "cell_type": "code",
   "execution_count": null,
   "metadata": {},
   "outputs": [],
   "source": []
  }
 ],
 "metadata": {
  "kernelspec": {
   "display_name": "Python 3",
   "language": "python",
   "name": "python3"
  }
 },
 "nbformat": 4,
 "nbformat_minor": 2
}
