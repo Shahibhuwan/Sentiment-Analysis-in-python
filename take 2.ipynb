{
 "cells": [
  {
   "cell_type": "code",
   "execution_count": 1,
   "metadata": {
    "scrolled": true
   },
   "outputs": [
    {
     "name": "stdout",
     "output_type": "stream",
     "text": [
      "[nltk_data] Downloading package stopwords to\n",
      "[nltk_data]     C:\\Users\\Dell\\AppData\\Roaming\\nltk_data...\n",
      "[nltk_data]   Package stopwords is already up-to-date!\n",
      "[nltk_data] Downloading package wordnet to\n",
      "[nltk_data]     C:\\Users\\Dell\\AppData\\Roaming\\nltk_data...\n",
      "[nltk_data]   Package wordnet is already up-to-date!\n"
     ]
    },
    {
     "data": {
      "text/plain": [
       "True"
      ]
     },
     "execution_count": 1,
     "metadata": {},
     "output_type": "execute_result"
    }
   ],
   "source": [
    "import nltk\n",
    "nltk.download('stopwords')\n",
    "nltk.download('wordnet')\n"
   ]
  },
  {
   "cell_type": "code",
   "execution_count": 2,
   "metadata": {},
   "outputs": [],
   "source": [
    "# from textblob import TextBlob"
   ]
  },
  {
   "cell_type": "code",
   "execution_count": 3,
   "metadata": {},
   "outputs": [
    {
     "data": {
      "text/html": [
       "<div>\n",
       "<style scoped>\n",
       "    .dataframe tbody tr th:only-of-type {\n",
       "        vertical-align: middle;\n",
       "    }\n",
       "\n",
       "    .dataframe tbody tr th {\n",
       "        vertical-align: top;\n",
       "    }\n",
       "\n",
       "    .dataframe thead th {\n",
       "        text-align: right;\n",
       "    }\n",
       "</style>\n",
       "<table border=\"1\" class=\"dataframe\">\n",
       "  <thead>\n",
       "    <tr style=\"text-align: right;\">\n",
       "      <th></th>\n",
       "      <th>reviews</th>\n",
       "      <th>rating</th>\n",
       "    </tr>\n",
       "  </thead>\n",
       "  <tbody>\n",
       "    <tr>\n",
       "      <th>0</th>\n",
       "      <td>1 This product so far has not disappointed. My children love to use it and I like the ability to monitor control what content they see with ease.</td>\n",
       "      <td>5.0</td>\n",
       "    </tr>\n",
       "    <tr>\n",
       "      <th>1</th>\n",
       "      <td>great for beginner or experienced person. Bought as a gift and she loves it</td>\n",
       "      <td>5.0</td>\n",
       "    </tr>\n",
       "    <tr>\n",
       "      <th>2</th>\n",
       "      <td>Inexpensive tablet for him to use and learn on, step up from the NABI. He was thrilled with it, learn how to Skype on it already...</td>\n",
       "      <td>5.0</td>\n",
       "    </tr>\n",
       "    <tr>\n",
       "      <th>3</th>\n",
       "      <td>I've had my Fire HD 8 two weeks now and I love it. This tablet is a great value.We are Prime Members and that is where this tablet SHINES. I love being able to easily access all of the Prime conte...</td>\n",
       "      <td>4.0</td>\n",
       "    </tr>\n",
       "    <tr>\n",
       "      <th>4</th>\n",
       "      <td>I bought this for my grand daughter when she comes over to visit. I set it up with her as the user, entered her age and name and now Amazon makes sure that she only accesses sites and content that...</td>\n",
       "      <td>5.0</td>\n",
       "    </tr>\n",
       "  </tbody>\n",
       "</table>\n",
       "</div>"
      ],
      "text/plain": [
       "                                                                                                                                                                                                   reviews  \\\n",
       "0                                                        1 This product so far has not disappointed. My children love to use it and I like the ability to monitor control what content they see with ease.   \n",
       "1                                                                                                                              great for beginner or experienced person. Bought as a gift and she loves it   \n",
       "2                                                                      Inexpensive tablet for him to use and learn on, step up from the NABI. He was thrilled with it, learn how to Skype on it already...   \n",
       "3  I've had my Fire HD 8 two weeks now and I love it. This tablet is a great value.We are Prime Members and that is where this tablet SHINES. I love being able to easily access all of the Prime conte...   \n",
       "4  I bought this for my grand daughter when she comes over to visit. I set it up with her as the user, entered her age and name and now Amazon makes sure that she only accesses sites and content that...   \n",
       "\n",
       "   rating  \n",
       "0     5.0  \n",
       "1     5.0  \n",
       "2     5.0  \n",
       "3     4.0  \n",
       "4     5.0  "
      ]
     },
     "execution_count": 3,
     "metadata": {},
     "output_type": "execute_result"
    }
   ],
   "source": [
    "import pandas as pd\n",
    "pd.set_option('display.max_colwidth',200)\n",
    "df=pd.read_csv(r\"C:\\Users\\Dell\\Desktop\\1429_1.csv\",encoding='UTF-8',sep=',')\n",
    "\n",
    "df.drop(['id','title'],axis='columns',inplace=True)\n",
    "df.head()"
   ]
  },
  {
   "cell_type": "code",
   "execution_count": 4,
   "metadata": {},
   "outputs": [],
   "source": [
    "# df.reviews=df.reviews.apply(lambda txt: ''.join(textblob.TextBlob(txt).correct()))"
   ]
  },
  {
   "cell_type": "code",
   "execution_count": 5,
   "metadata": {},
   "outputs": [
    {
     "data": {
      "text/html": [
       "<div>\n",
       "<style scoped>\n",
       "    .dataframe tbody tr th:only-of-type {\n",
       "        vertical-align: middle;\n",
       "    }\n",
       "\n",
       "    .dataframe tbody tr th {\n",
       "        vertical-align: top;\n",
       "    }\n",
       "\n",
       "    .dataframe thead th {\n",
       "        text-align: right;\n",
       "    }\n",
       "</style>\n",
       "<table border=\"1\" class=\"dataframe\">\n",
       "  <thead>\n",
       "    <tr style=\"text-align: right;\">\n",
       "      <th></th>\n",
       "      <th>reviews</th>\n",
       "      <th>rating</th>\n",
       "    </tr>\n",
       "  </thead>\n",
       "  <tbody>\n",
       "    <tr>\n",
       "      <th>0</th>\n",
       "      <td>1 This product so far has not disappointed. My children love to use it and I like the ability to monitor control what content they see with ease.</td>\n",
       "      <td>5.0</td>\n",
       "    </tr>\n",
       "    <tr>\n",
       "      <th>1</th>\n",
       "      <td>great for beginner or experienced person. Bought as a gift and she loves it</td>\n",
       "      <td>5.0</td>\n",
       "    </tr>\n",
       "    <tr>\n",
       "      <th>2</th>\n",
       "      <td>Inexpensive tablet for him to use and learn on, step up from the NABI. He was thrilled with it, learn how to Skype on it already...</td>\n",
       "      <td>5.0</td>\n",
       "    </tr>\n",
       "    <tr>\n",
       "      <th>3</th>\n",
       "      <td>I've had my Fire HD 8 two weeks now and I love it. This tablet is a great value.We are Prime Members and that is where this tablet SHINES. I love being able to easily access all of the Prime conte...</td>\n",
       "      <td>4.0</td>\n",
       "    </tr>\n",
       "    <tr>\n",
       "      <th>4</th>\n",
       "      <td>I bought this for my grand daughter when she comes over to visit. I set it up with her as the user, entered her age and name and now Amazon makes sure that she only accesses sites and content that...</td>\n",
       "      <td>5.0</td>\n",
       "    </tr>\n",
       "  </tbody>\n",
       "</table>\n",
       "</div>"
      ],
      "text/plain": [
       "                                                                                                                                                                                                   reviews  \\\n",
       "0                                                        1 This product so far has not disappointed. My children love to use it and I like the ability to monitor control what content they see with ease.   \n",
       "1                                                                                                                              great for beginner or experienced person. Bought as a gift and she loves it   \n",
       "2                                                                      Inexpensive tablet for him to use and learn on, step up from the NABI. He was thrilled with it, learn how to Skype on it already...   \n",
       "3  I've had my Fire HD 8 two weeks now and I love it. This tablet is a great value.We are Prime Members and that is where this tablet SHINES. I love being able to easily access all of the Prime conte...   \n",
       "4  I bought this for my grand daughter when she comes over to visit. I set it up with her as the user, entered her age and name and now Amazon makes sure that she only accesses sites and content that...   \n",
       "\n",
       "   rating  \n",
       "0     5.0  \n",
       "1     5.0  \n",
       "2     5.0  \n",
       "3     4.0  \n",
       "4     5.0  "
      ]
     },
     "execution_count": 5,
     "metadata": {},
     "output_type": "execute_result"
    }
   ],
   "source": [
    "\n",
    "df.reviews = df.reviews.astype(str) \n",
    "df.head()  \n",
    "#I get the feeling that your problems has its root in the pd.read_csv('TrainSA.csv') function. Althought you did not post this routine I assume it is Pandas read_csv. This routine intelligently converts input to python datatypes. However this means that in your case some values could be translated to a float. You can prevent this intelligent (?) behaviour by specifying which datatypes you expect for each column."
   ]
  },
  {
   "cell_type": "code",
   "execution_count": 6,
   "metadata": {},
   "outputs": [
    {
     "data": {
      "text/html": [
       "<div>\n",
       "<style scoped>\n",
       "    .dataframe tbody tr th:only-of-type {\n",
       "        vertical-align: middle;\n",
       "    }\n",
       "\n",
       "    .dataframe tbody tr th {\n",
       "        vertical-align: top;\n",
       "    }\n",
       "\n",
       "    .dataframe thead th {\n",
       "        text-align: right;\n",
       "    }\n",
       "</style>\n",
       "<table border=\"1\" class=\"dataframe\">\n",
       "  <thead>\n",
       "    <tr style=\"text-align: right;\">\n",
       "      <th></th>\n",
       "      <th>reviews</th>\n",
       "      <th>rating</th>\n",
       "    </tr>\n",
       "  </thead>\n",
       "  <tbody>\n",
       "    <tr>\n",
       "      <th>0</th>\n",
       "      <td>1 this product so far has not disappointed. my children love to use it and i like the ability to monitor control what content they see with ease.</td>\n",
       "      <td>5.0</td>\n",
       "    </tr>\n",
       "    <tr>\n",
       "      <th>1</th>\n",
       "      <td>great for beginner or experienced person. bought as a gift and she loves it</td>\n",
       "      <td>5.0</td>\n",
       "    </tr>\n",
       "    <tr>\n",
       "      <th>2</th>\n",
       "      <td>inexpensive tablet for him to use and learn on, step up from the nabi. he was thrilled with it, learn how to skype on it already...</td>\n",
       "      <td>5.0</td>\n",
       "    </tr>\n",
       "    <tr>\n",
       "      <th>3</th>\n",
       "      <td>i've had my fire hd 8 two weeks now and i love it. this tablet is a great value.we are prime members and that is where this tablet shines. i love being able to easily access all of the prime conte...</td>\n",
       "      <td>4.0</td>\n",
       "    </tr>\n",
       "    <tr>\n",
       "      <th>4</th>\n",
       "      <td>i bought this for my grand daughter when she comes over to visit. i set it up with her as the user, entered her age and name and now amazon makes sure that she only accesses sites and content that...</td>\n",
       "      <td>5.0</td>\n",
       "    </tr>\n",
       "  </tbody>\n",
       "</table>\n",
       "</div>"
      ],
      "text/plain": [
       "                                                                                                                                                                                                   reviews  \\\n",
       "0                                                        1 this product so far has not disappointed. my children love to use it and i like the ability to monitor control what content they see with ease.   \n",
       "1                                                                                                                              great for beginner or experienced person. bought as a gift and she loves it   \n",
       "2                                                                      inexpensive tablet for him to use and learn on, step up from the nabi. he was thrilled with it, learn how to skype on it already...   \n",
       "3  i've had my fire hd 8 two weeks now and i love it. this tablet is a great value.we are prime members and that is where this tablet shines. i love being able to easily access all of the prime conte...   \n",
       "4  i bought this for my grand daughter when she comes over to visit. i set it up with her as the user, entered her age and name and now amazon makes sure that she only accesses sites and content that...   \n",
       "\n",
       "   rating  \n",
       "0     5.0  \n",
       "1     5.0  \n",
       "2     5.0  \n",
       "3     4.0  \n",
       "4     5.0  "
      ]
     },
     "execution_count": 6,
     "metadata": {},
     "output_type": "execute_result"
    }
   ],
   "source": [
    "\n",
    "df.reviews = df.reviews.apply(lambda x: x.lower())\n",
    "df.head()"
   ]
  },
  {
   "cell_type": "code",
   "execution_count": 7,
   "metadata": {},
   "outputs": [
    {
     "data": {
      "text/plain": [
       "'!\"#$%&\\'()*+,-./:;<=>?@[\\\\]^_`{|}~'"
      ]
     },
     "execution_count": 7,
     "metadata": {},
     "output_type": "execute_result"
    }
   ],
   "source": [
    "import string\n",
    "string.punctuation"
   ]
  },
  {
   "cell_type": "code",
   "execution_count": 8,
   "metadata": {},
   "outputs": [],
   "source": [
    "# df['new'] = df.reviews.apply(lambda x: x.translate(string.punctuation))\n",
    "# df.head()"
   ]
  },
  {
   "cell_type": "code",
   "execution_count": 9,
   "metadata": {},
   "outputs": [],
   "source": [
    "# def remove_punctuations(text):\n",
    "#     for punctuation in string.punctuation:\n",
    "#         text = text.replace(punctuation, '')\n",
    "#     return text\n",
    "\n",
    "def remove_punctuations(txt):\n",
    "    txt = \"\".join([c for c in txt if c not in string.punctuation])\n",
    "    return txt\n",
    "    "
   ]
  },
  {
   "cell_type": "code",
   "execution_count": 10,
   "metadata": {},
   "outputs": [],
   "source": [
    "df[\"new_column\"] = df['reviews'].apply(remove_punctuations)\n",
    "\n"
   ]
  },
  {
   "cell_type": "code",
   "execution_count": 11,
   "metadata": {},
   "outputs": [
    {
     "data": {
      "text/html": [
       "<div>\n",
       "<style scoped>\n",
       "    .dataframe tbody tr th:only-of-type {\n",
       "        vertical-align: middle;\n",
       "    }\n",
       "\n",
       "    .dataframe tbody tr th {\n",
       "        vertical-align: top;\n",
       "    }\n",
       "\n",
       "    .dataframe thead th {\n",
       "        text-align: right;\n",
       "    }\n",
       "</style>\n",
       "<table border=\"1\" class=\"dataframe\">\n",
       "  <thead>\n",
       "    <tr style=\"text-align: right;\">\n",
       "      <th></th>\n",
       "      <th>reviews</th>\n",
       "      <th>rating</th>\n",
       "      <th>new_column</th>\n",
       "    </tr>\n",
       "  </thead>\n",
       "  <tbody>\n",
       "    <tr>\n",
       "      <th>0</th>\n",
       "      <td>1 this product so far has not disappointed. my children love to use it and i like the ability to monitor control what content they see with ease.</td>\n",
       "      <td>5.0</td>\n",
       "      <td>1 this product so far has not disappointed my children love to use it and i like the ability to monitor control what content they see with ease</td>\n",
       "    </tr>\n",
       "    <tr>\n",
       "      <th>1</th>\n",
       "      <td>great for beginner or experienced person. bought as a gift and she loves it</td>\n",
       "      <td>5.0</td>\n",
       "      <td>great for beginner or experienced person bought as a gift and she loves it</td>\n",
       "    </tr>\n",
       "    <tr>\n",
       "      <th>2</th>\n",
       "      <td>inexpensive tablet for him to use and learn on, step up from the nabi. he was thrilled with it, learn how to skype on it already...</td>\n",
       "      <td>5.0</td>\n",
       "      <td>inexpensive tablet for him to use and learn on step up from the nabi he was thrilled with it learn how to skype on it already</td>\n",
       "    </tr>\n",
       "    <tr>\n",
       "      <th>3</th>\n",
       "      <td>i've had my fire hd 8 two weeks now and i love it. this tablet is a great value.we are prime members and that is where this tablet shines. i love being able to easily access all of the prime conte...</td>\n",
       "      <td>4.0</td>\n",
       "      <td>ive had my fire hd 8 two weeks now and i love it this tablet is a great valuewe are prime members and that is where this tablet shines i love being able to easily access all of the prime content a...</td>\n",
       "    </tr>\n",
       "    <tr>\n",
       "      <th>4</th>\n",
       "      <td>i bought this for my grand daughter when she comes over to visit. i set it up with her as the user, entered her age and name and now amazon makes sure that she only accesses sites and content that...</td>\n",
       "      <td>5.0</td>\n",
       "      <td>i bought this for my grand daughter when she comes over to visit i set it up with her as the user entered her age and name and now amazon makes sure that she only accesses sites and content that a...</td>\n",
       "    </tr>\n",
       "  </tbody>\n",
       "</table>\n",
       "</div>"
      ],
      "text/plain": [
       "                                                                                                                                                                                                   reviews  \\\n",
       "0                                                        1 this product so far has not disappointed. my children love to use it and i like the ability to monitor control what content they see with ease.   \n",
       "1                                                                                                                              great for beginner or experienced person. bought as a gift and she loves it   \n",
       "2                                                                      inexpensive tablet for him to use and learn on, step up from the nabi. he was thrilled with it, learn how to skype on it already...   \n",
       "3  i've had my fire hd 8 two weeks now and i love it. this tablet is a great value.we are prime members and that is where this tablet shines. i love being able to easily access all of the prime conte...   \n",
       "4  i bought this for my grand daughter when she comes over to visit. i set it up with her as the user, entered her age and name and now amazon makes sure that she only accesses sites and content that...   \n",
       "\n",
       "   rating  \\\n",
       "0     5.0   \n",
       "1     5.0   \n",
       "2     5.0   \n",
       "3     4.0   \n",
       "4     5.0   \n",
       "\n",
       "                                                                                                                                                                                                new_column  \n",
       "0                                                          1 this product so far has not disappointed my children love to use it and i like the ability to monitor control what content they see with ease  \n",
       "1                                                                                                                               great for beginner or experienced person bought as a gift and she loves it  \n",
       "2                                                                            inexpensive tablet for him to use and learn on step up from the nabi he was thrilled with it learn how to skype on it already  \n",
       "3  ive had my fire hd 8 two weeks now and i love it this tablet is a great valuewe are prime members and that is where this tablet shines i love being able to easily access all of the prime content a...  \n",
       "4  i bought this for my grand daughter when she comes over to visit i set it up with her as the user entered her age and name and now amazon makes sure that she only accesses sites and content that a...  "
      ]
     },
     "execution_count": 11,
     "metadata": {},
     "output_type": "execute_result"
    }
   ],
   "source": [
    "df.head()"
   ]
  },
  {
   "cell_type": "code",
   "execution_count": 12,
   "metadata": {},
   "outputs": [],
   "source": [
    "df['new_cloumns'] = df['new_column'].str.replace('\\d+', '') # to replace no. by \"\""
   ]
  },
  {
   "cell_type": "code",
   "execution_count": 13,
   "metadata": {},
   "outputs": [
    {
     "data": {
      "text/html": [
       "<div>\n",
       "<style scoped>\n",
       "    .dataframe tbody tr th:only-of-type {\n",
       "        vertical-align: middle;\n",
       "    }\n",
       "\n",
       "    .dataframe tbody tr th {\n",
       "        vertical-align: top;\n",
       "    }\n",
       "\n",
       "    .dataframe thead th {\n",
       "        text-align: right;\n",
       "    }\n",
       "</style>\n",
       "<table border=\"1\" class=\"dataframe\">\n",
       "  <thead>\n",
       "    <tr style=\"text-align: right;\">\n",
       "      <th></th>\n",
       "      <th>reviews</th>\n",
       "      <th>rating</th>\n",
       "      <th>new_column</th>\n",
       "      <th>new_cloumns</th>\n",
       "    </tr>\n",
       "  </thead>\n",
       "  <tbody>\n",
       "    <tr>\n",
       "      <th>0</th>\n",
       "      <td>1 this product so far has not disappointed. my children love to use it and i like the ability to monitor control what content they see with ease.</td>\n",
       "      <td>5.0</td>\n",
       "      <td>1 this product so far has not disappointed my children love to use it and i like the ability to monitor control what content they see with ease</td>\n",
       "      <td>this product so far has not disappointed my children love to use it and i like the ability to monitor control what content they see with ease</td>\n",
       "    </tr>\n",
       "    <tr>\n",
       "      <th>1</th>\n",
       "      <td>great for beginner or experienced person. bought as a gift and she loves it</td>\n",
       "      <td>5.0</td>\n",
       "      <td>great for beginner or experienced person bought as a gift and she loves it</td>\n",
       "      <td>great for beginner or experienced person bought as a gift and she loves it</td>\n",
       "    </tr>\n",
       "    <tr>\n",
       "      <th>2</th>\n",
       "      <td>inexpensive tablet for him to use and learn on, step up from the nabi. he was thrilled with it, learn how to skype on it already...</td>\n",
       "      <td>5.0</td>\n",
       "      <td>inexpensive tablet for him to use and learn on step up from the nabi he was thrilled with it learn how to skype on it already</td>\n",
       "      <td>inexpensive tablet for him to use and learn on step up from the nabi he was thrilled with it learn how to skype on it already</td>\n",
       "    </tr>\n",
       "    <tr>\n",
       "      <th>3</th>\n",
       "      <td>i've had my fire hd 8 two weeks now and i love it. this tablet is a great value.we are prime members and that is where this tablet shines. i love being able to easily access all of the prime conte...</td>\n",
       "      <td>4.0</td>\n",
       "      <td>ive had my fire hd 8 two weeks now and i love it this tablet is a great valuewe are prime members and that is where this tablet shines i love being able to easily access all of the prime content a...</td>\n",
       "      <td>ive had my fire hd  two weeks now and i love it this tablet is a great valuewe are prime members and that is where this tablet shines i love being able to easily access all of the prime content as...</td>\n",
       "    </tr>\n",
       "    <tr>\n",
       "      <th>4</th>\n",
       "      <td>i bought this for my grand daughter when she comes over to visit. i set it up with her as the user, entered her age and name and now amazon makes sure that she only accesses sites and content that...</td>\n",
       "      <td>5.0</td>\n",
       "      <td>i bought this for my grand daughter when she comes over to visit i set it up with her as the user entered her age and name and now amazon makes sure that she only accesses sites and content that a...</td>\n",
       "      <td>i bought this for my grand daughter when she comes over to visit i set it up with her as the user entered her age and name and now amazon makes sure that she only accesses sites and content that a...</td>\n",
       "    </tr>\n",
       "  </tbody>\n",
       "</table>\n",
       "</div>"
      ],
      "text/plain": [
       "                                                                                                                                                                                                   reviews  \\\n",
       "0                                                        1 this product so far has not disappointed. my children love to use it and i like the ability to monitor control what content they see with ease.   \n",
       "1                                                                                                                              great for beginner or experienced person. bought as a gift and she loves it   \n",
       "2                                                                      inexpensive tablet for him to use and learn on, step up from the nabi. he was thrilled with it, learn how to skype on it already...   \n",
       "3  i've had my fire hd 8 two weeks now and i love it. this tablet is a great value.we are prime members and that is where this tablet shines. i love being able to easily access all of the prime conte...   \n",
       "4  i bought this for my grand daughter when she comes over to visit. i set it up with her as the user, entered her age and name and now amazon makes sure that she only accesses sites and content that...   \n",
       "\n",
       "   rating  \\\n",
       "0     5.0   \n",
       "1     5.0   \n",
       "2     5.0   \n",
       "3     4.0   \n",
       "4     5.0   \n",
       "\n",
       "                                                                                                                                                                                                new_column  \\\n",
       "0                                                          1 this product so far has not disappointed my children love to use it and i like the ability to monitor control what content they see with ease   \n",
       "1                                                                                                                               great for beginner or experienced person bought as a gift and she loves it   \n",
       "2                                                                            inexpensive tablet for him to use and learn on step up from the nabi he was thrilled with it learn how to skype on it already   \n",
       "3  ive had my fire hd 8 two weeks now and i love it this tablet is a great valuewe are prime members and that is where this tablet shines i love being able to easily access all of the prime content a...   \n",
       "4  i bought this for my grand daughter when she comes over to visit i set it up with her as the user entered her age and name and now amazon makes sure that she only accesses sites and content that a...   \n",
       "\n",
       "                                                                                                                                                                                               new_cloumns  \n",
       "0                                                            this product so far has not disappointed my children love to use it and i like the ability to monitor control what content they see with ease  \n",
       "1                                                                                                                               great for beginner or experienced person bought as a gift and she loves it  \n",
       "2                                                                            inexpensive tablet for him to use and learn on step up from the nabi he was thrilled with it learn how to skype on it already  \n",
       "3  ive had my fire hd  two weeks now and i love it this tablet is a great valuewe are prime members and that is where this tablet shines i love being able to easily access all of the prime content as...  \n",
       "4  i bought this for my grand daughter when she comes over to visit i set it up with her as the user entered her age and name and now amazon makes sure that she only accesses sites and content that a...  "
      ]
     },
     "execution_count": 13,
     "metadata": {},
     "output_type": "execute_result"
    }
   ],
   "source": [
    "df.head()"
   ]
  },
  {
   "cell_type": "code",
   "execution_count": 14,
   "metadata": {},
   "outputs": [
    {
     "data": {
      "text/html": [
       "<div>\n",
       "<style scoped>\n",
       "    .dataframe tbody tr th:only-of-type {\n",
       "        vertical-align: middle;\n",
       "    }\n",
       "\n",
       "    .dataframe tbody tr th {\n",
       "        vertical-align: top;\n",
       "    }\n",
       "\n",
       "    .dataframe thead th {\n",
       "        text-align: right;\n",
       "    }\n",
       "</style>\n",
       "<table border=\"1\" class=\"dataframe\">\n",
       "  <thead>\n",
       "    <tr style=\"text-align: right;\">\n",
       "      <th></th>\n",
       "      <th>reviews</th>\n",
       "      <th>rating</th>\n",
       "      <th>new_column</th>\n",
       "      <th>new_cloumns</th>\n",
       "      <th>tokenize</th>\n",
       "    </tr>\n",
       "  </thead>\n",
       "  <tbody>\n",
       "    <tr>\n",
       "      <th>0</th>\n",
       "      <td>1 this product so far has not disappointed. my children love to use it and i like the ability to monitor control what content they see with ease.</td>\n",
       "      <td>5.0</td>\n",
       "      <td>1 this product so far has not disappointed my children love to use it and i like the ability to monitor control what content they see with ease</td>\n",
       "      <td>this product so far has not disappointed my children love to use it and i like the ability to monitor control what content they see with ease</td>\n",
       "      <td>[, this, product, so, far, has, not, disappointed, my, children, love, to, use, it, and, i, like, the, ability, to, monitor, control, what, content, they, see, with, ease]</td>\n",
       "    </tr>\n",
       "    <tr>\n",
       "      <th>1</th>\n",
       "      <td>great for beginner or experienced person. bought as a gift and she loves it</td>\n",
       "      <td>5.0</td>\n",
       "      <td>great for beginner or experienced person bought as a gift and she loves it</td>\n",
       "      <td>great for beginner or experienced person bought as a gift and she loves it</td>\n",
       "      <td>[great, for, beginner, or, experienced, person, bought, as, a, gift, and, she, loves, it]</td>\n",
       "    </tr>\n",
       "    <tr>\n",
       "      <th>2</th>\n",
       "      <td>inexpensive tablet for him to use and learn on, step up from the nabi. he was thrilled with it, learn how to skype on it already...</td>\n",
       "      <td>5.0</td>\n",
       "      <td>inexpensive tablet for him to use and learn on step up from the nabi he was thrilled with it learn how to skype on it already</td>\n",
       "      <td>inexpensive tablet for him to use and learn on step up from the nabi he was thrilled with it learn how to skype on it already</td>\n",
       "      <td>[inexpensive, tablet, for, him, to, use, and, learn, on, step, up, from, the, nabi, he, was, thrilled, with, it, learn, how, to, skype, on, it, already]</td>\n",
       "    </tr>\n",
       "    <tr>\n",
       "      <th>3</th>\n",
       "      <td>i've had my fire hd 8 two weeks now and i love it. this tablet is a great value.we are prime members and that is where this tablet shines. i love being able to easily access all of the prime conte...</td>\n",
       "      <td>4.0</td>\n",
       "      <td>ive had my fire hd 8 two weeks now and i love it this tablet is a great valuewe are prime members and that is where this tablet shines i love being able to easily access all of the prime content a...</td>\n",
       "      <td>ive had my fire hd  two weeks now and i love it this tablet is a great valuewe are prime members and that is where this tablet shines i love being able to easily access all of the prime content as...</td>\n",
       "      <td>[ive, had, my, fire, hd, two, weeks, now, and, i, love, it, this, tablet, is, a, great, valuewe, are, prime, members, and, that, is, where, this, tablet, shines, i, love, being, able, to, easily, ...</td>\n",
       "    </tr>\n",
       "    <tr>\n",
       "      <th>4</th>\n",
       "      <td>i bought this for my grand daughter when she comes over to visit. i set it up with her as the user, entered her age and name and now amazon makes sure that she only accesses sites and content that...</td>\n",
       "      <td>5.0</td>\n",
       "      <td>i bought this for my grand daughter when she comes over to visit i set it up with her as the user entered her age and name and now amazon makes sure that she only accesses sites and content that a...</td>\n",
       "      <td>i bought this for my grand daughter when she comes over to visit i set it up with her as the user entered her age and name and now amazon makes sure that she only accesses sites and content that a...</td>\n",
       "      <td>[i, bought, this, for, my, grand, daughter, when, she, comes, over, to, visit, i, set, it, up, with, her, as, the, user, entered, her, age, and, name, and, now, amazon, makes, sure, that, she, onl...</td>\n",
       "    </tr>\n",
       "  </tbody>\n",
       "</table>\n",
       "</div>"
      ],
      "text/plain": [
       "                                                                                                                                                                                                   reviews  \\\n",
       "0                                                        1 this product so far has not disappointed. my children love to use it and i like the ability to monitor control what content they see with ease.   \n",
       "1                                                                                                                              great for beginner or experienced person. bought as a gift and she loves it   \n",
       "2                                                                      inexpensive tablet for him to use and learn on, step up from the nabi. he was thrilled with it, learn how to skype on it already...   \n",
       "3  i've had my fire hd 8 two weeks now and i love it. this tablet is a great value.we are prime members and that is where this tablet shines. i love being able to easily access all of the prime conte...   \n",
       "4  i bought this for my grand daughter when she comes over to visit. i set it up with her as the user, entered her age and name and now amazon makes sure that she only accesses sites and content that...   \n",
       "\n",
       "   rating  \\\n",
       "0     5.0   \n",
       "1     5.0   \n",
       "2     5.0   \n",
       "3     4.0   \n",
       "4     5.0   \n",
       "\n",
       "                                                                                                                                                                                                new_column  \\\n",
       "0                                                          1 this product so far has not disappointed my children love to use it and i like the ability to monitor control what content they see with ease   \n",
       "1                                                                                                                               great for beginner or experienced person bought as a gift and she loves it   \n",
       "2                                                                            inexpensive tablet for him to use and learn on step up from the nabi he was thrilled with it learn how to skype on it already   \n",
       "3  ive had my fire hd 8 two weeks now and i love it this tablet is a great valuewe are prime members and that is where this tablet shines i love being able to easily access all of the prime content a...   \n",
       "4  i bought this for my grand daughter when she comes over to visit i set it up with her as the user entered her age and name and now amazon makes sure that she only accesses sites and content that a...   \n",
       "\n",
       "                                                                                                                                                                                               new_cloumns  \\\n",
       "0                                                            this product so far has not disappointed my children love to use it and i like the ability to monitor control what content they see with ease   \n",
       "1                                                                                                                               great for beginner or experienced person bought as a gift and she loves it   \n",
       "2                                                                            inexpensive tablet for him to use and learn on step up from the nabi he was thrilled with it learn how to skype on it already   \n",
       "3  ive had my fire hd  two weeks now and i love it this tablet is a great valuewe are prime members and that is where this tablet shines i love being able to easily access all of the prime content as...   \n",
       "4  i bought this for my grand daughter when she comes over to visit i set it up with her as the user entered her age and name and now amazon makes sure that she only accesses sites and content that a...   \n",
       "\n",
       "                                                                                                                                                                                                  tokenize  \n",
       "0                              [, this, product, so, far, has, not, disappointed, my, children, love, to, use, it, and, i, like, the, ability, to, monitor, control, what, content, they, see, with, ease]  \n",
       "1                                                                                                                [great, for, beginner, or, experienced, person, bought, as, a, gift, and, she, loves, it]  \n",
       "2                                                 [inexpensive, tablet, for, him, to, use, and, learn, on, step, up, from, the, nabi, he, was, thrilled, with, it, learn, how, to, skype, on, it, already]  \n",
       "3  [ive, had, my, fire, hd, two, weeks, now, and, i, love, it, this, tablet, is, a, great, valuewe, are, prime, members, and, that, is, where, this, tablet, shines, i, love, being, able, to, easily, ...  \n",
       "4  [i, bought, this, for, my, grand, daughter, when, she, comes, over, to, visit, i, set, it, up, with, her, as, the, user, entered, her, age, and, name, and, now, amazon, makes, sure, that, she, onl...  "
      ]
     },
     "execution_count": 14,
     "metadata": {},
     "output_type": "execute_result"
    }
   ],
   "source": [
    "import re\n",
    "\n",
    "def tokenize(txt):\n",
    "    tokens = re.split('\\W+' , txt)\n",
    "    return tokens\n",
    "df['tokenize']=df['new_cloumns'].apply(lambda x: tokenize(x.lower()))\n",
    "df.head()"
   ]
  },
  {
   "cell_type": "code",
   "execution_count": 15,
   "metadata": {},
   "outputs": [
    {
     "data": {
      "text/plain": [
       "['i', 'me', 'my', 'myself', 'we', 'our', 'ours', 'ourselves', 'you', \"you're\"]"
      ]
     },
     "execution_count": 15,
     "metadata": {},
     "output_type": "execute_result"
    }
   ],
   "source": [
    "import nltk\n",
    "stopwords = nltk.corpus.stopwords.words('english')\n",
    "stopwords[0:10]"
   ]
  },
  {
   "cell_type": "code",
   "execution_count": 16,
   "metadata": {},
   "outputs": [],
   "source": [
    "def remove_stopwords(txt_tokenized):\n",
    "    txt_clean = [word for word in txt_tokenized if word not in stopwords]\n",
    "    return txt_clean\n",
    "df['sw']=df['tokenize'].apply(lambda x: remove_stopwords(x))"
   ]
  },
  {
   "cell_type": "code",
   "execution_count": 17,
   "metadata": {},
   "outputs": [
    {
     "data": {
      "text/html": [
       "<div>\n",
       "<style scoped>\n",
       "    .dataframe tbody tr th:only-of-type {\n",
       "        vertical-align: middle;\n",
       "    }\n",
       "\n",
       "    .dataframe tbody tr th {\n",
       "        vertical-align: top;\n",
       "    }\n",
       "\n",
       "    .dataframe thead th {\n",
       "        text-align: right;\n",
       "    }\n",
       "</style>\n",
       "<table border=\"1\" class=\"dataframe\">\n",
       "  <thead>\n",
       "    <tr style=\"text-align: right;\">\n",
       "      <th></th>\n",
       "      <th>reviews</th>\n",
       "      <th>rating</th>\n",
       "      <th>new_column</th>\n",
       "      <th>new_cloumns</th>\n",
       "      <th>tokenize</th>\n",
       "      <th>sw</th>\n",
       "    </tr>\n",
       "  </thead>\n",
       "  <tbody>\n",
       "    <tr>\n",
       "      <th>0</th>\n",
       "      <td>1 this product so far has not disappointed. my children love to use it and i like the ability to monitor control what content they see with ease.</td>\n",
       "      <td>5.0</td>\n",
       "      <td>1 this product so far has not disappointed my children love to use it and i like the ability to monitor control what content they see with ease</td>\n",
       "      <td>this product so far has not disappointed my children love to use it and i like the ability to monitor control what content they see with ease</td>\n",
       "      <td>[, this, product, so, far, has, not, disappointed, my, children, love, to, use, it, and, i, like, the, ability, to, monitor, control, what, content, they, see, with, ease]</td>\n",
       "      <td>[, product, far, disappointed, children, love, use, like, ability, monitor, control, content, see, ease]</td>\n",
       "    </tr>\n",
       "    <tr>\n",
       "      <th>1</th>\n",
       "      <td>great for beginner or experienced person. bought as a gift and she loves it</td>\n",
       "      <td>5.0</td>\n",
       "      <td>great for beginner or experienced person bought as a gift and she loves it</td>\n",
       "      <td>great for beginner or experienced person bought as a gift and she loves it</td>\n",
       "      <td>[great, for, beginner, or, experienced, person, bought, as, a, gift, and, she, loves, it]</td>\n",
       "      <td>[great, beginner, experienced, person, bought, gift, loves]</td>\n",
       "    </tr>\n",
       "    <tr>\n",
       "      <th>2</th>\n",
       "      <td>inexpensive tablet for him to use and learn on, step up from the nabi. he was thrilled with it, learn how to skype on it already...</td>\n",
       "      <td>5.0</td>\n",
       "      <td>inexpensive tablet for him to use and learn on step up from the nabi he was thrilled with it learn how to skype on it already</td>\n",
       "      <td>inexpensive tablet for him to use and learn on step up from the nabi he was thrilled with it learn how to skype on it already</td>\n",
       "      <td>[inexpensive, tablet, for, him, to, use, and, learn, on, step, up, from, the, nabi, he, was, thrilled, with, it, learn, how, to, skype, on, it, already]</td>\n",
       "      <td>[inexpensive, tablet, use, learn, step, nabi, thrilled, learn, skype, already]</td>\n",
       "    </tr>\n",
       "    <tr>\n",
       "      <th>3</th>\n",
       "      <td>i've had my fire hd 8 two weeks now and i love it. this tablet is a great value.we are prime members and that is where this tablet shines. i love being able to easily access all of the prime conte...</td>\n",
       "      <td>4.0</td>\n",
       "      <td>ive had my fire hd 8 two weeks now and i love it this tablet is a great valuewe are prime members and that is where this tablet shines i love being able to easily access all of the prime content a...</td>\n",
       "      <td>ive had my fire hd  two weeks now and i love it this tablet is a great valuewe are prime members and that is where this tablet shines i love being able to easily access all of the prime content as...</td>\n",
       "      <td>[ive, had, my, fire, hd, two, weeks, now, and, i, love, it, this, tablet, is, a, great, valuewe, are, prime, members, and, that, is, where, this, tablet, shines, i, love, being, able, to, easily, ...</td>\n",
       "      <td>[ive, fire, hd, two, weeks, love, tablet, great, valuewe, prime, members, tablet, shines, love, able, easily, access, prime, content, well, movies, download, watch, laterthis, screen, really, nice...</td>\n",
       "    </tr>\n",
       "    <tr>\n",
       "      <th>4</th>\n",
       "      <td>i bought this for my grand daughter when she comes over to visit. i set it up with her as the user, entered her age and name and now amazon makes sure that she only accesses sites and content that...</td>\n",
       "      <td>5.0</td>\n",
       "      <td>i bought this for my grand daughter when she comes over to visit i set it up with her as the user entered her age and name and now amazon makes sure that she only accesses sites and content that a...</td>\n",
       "      <td>i bought this for my grand daughter when she comes over to visit i set it up with her as the user entered her age and name and now amazon makes sure that she only accesses sites and content that a...</td>\n",
       "      <td>[i, bought, this, for, my, grand, daughter, when, she, comes, over, to, visit, i, set, it, up, with, her, as, the, user, entered, her, age, and, name, and, now, amazon, makes, sure, that, she, onl...</td>\n",
       "      <td>[bought, grand, daughter, comes, visit, set, user, entered, age, name, amazon, makes, sure, accesses, sites, content, appropriate, age, simple, loves, capabilities, also, bought, installed, gig, s...</td>\n",
       "    </tr>\n",
       "  </tbody>\n",
       "</table>\n",
       "</div>"
      ],
      "text/plain": [
       "                                                                                                                                                                                                   reviews  \\\n",
       "0                                                        1 this product so far has not disappointed. my children love to use it and i like the ability to monitor control what content they see with ease.   \n",
       "1                                                                                                                              great for beginner or experienced person. bought as a gift and she loves it   \n",
       "2                                                                      inexpensive tablet for him to use and learn on, step up from the nabi. he was thrilled with it, learn how to skype on it already...   \n",
       "3  i've had my fire hd 8 two weeks now and i love it. this tablet is a great value.we are prime members and that is where this tablet shines. i love being able to easily access all of the prime conte...   \n",
       "4  i bought this for my grand daughter when she comes over to visit. i set it up with her as the user, entered her age and name and now amazon makes sure that she only accesses sites and content that...   \n",
       "\n",
       "   rating  \\\n",
       "0     5.0   \n",
       "1     5.0   \n",
       "2     5.0   \n",
       "3     4.0   \n",
       "4     5.0   \n",
       "\n",
       "                                                                                                                                                                                                new_column  \\\n",
       "0                                                          1 this product so far has not disappointed my children love to use it and i like the ability to monitor control what content they see with ease   \n",
       "1                                                                                                                               great for beginner or experienced person bought as a gift and she loves it   \n",
       "2                                                                            inexpensive tablet for him to use and learn on step up from the nabi he was thrilled with it learn how to skype on it already   \n",
       "3  ive had my fire hd 8 two weeks now and i love it this tablet is a great valuewe are prime members and that is where this tablet shines i love being able to easily access all of the prime content a...   \n",
       "4  i bought this for my grand daughter when she comes over to visit i set it up with her as the user entered her age and name and now amazon makes sure that she only accesses sites and content that a...   \n",
       "\n",
       "                                                                                                                                                                                               new_cloumns  \\\n",
       "0                                                            this product so far has not disappointed my children love to use it and i like the ability to monitor control what content they see with ease   \n",
       "1                                                                                                                               great for beginner or experienced person bought as a gift and she loves it   \n",
       "2                                                                            inexpensive tablet for him to use and learn on step up from the nabi he was thrilled with it learn how to skype on it already   \n",
       "3  ive had my fire hd  two weeks now and i love it this tablet is a great valuewe are prime members and that is where this tablet shines i love being able to easily access all of the prime content as...   \n",
       "4  i bought this for my grand daughter when she comes over to visit i set it up with her as the user entered her age and name and now amazon makes sure that she only accesses sites and content that a...   \n",
       "\n",
       "                                                                                                                                                                                                  tokenize  \\\n",
       "0                              [, this, product, so, far, has, not, disappointed, my, children, love, to, use, it, and, i, like, the, ability, to, monitor, control, what, content, they, see, with, ease]   \n",
       "1                                                                                                                [great, for, beginner, or, experienced, person, bought, as, a, gift, and, she, loves, it]   \n",
       "2                                                 [inexpensive, tablet, for, him, to, use, and, learn, on, step, up, from, the, nabi, he, was, thrilled, with, it, learn, how, to, skype, on, it, already]   \n",
       "3  [ive, had, my, fire, hd, two, weeks, now, and, i, love, it, this, tablet, is, a, great, valuewe, are, prime, members, and, that, is, where, this, tablet, shines, i, love, being, able, to, easily, ...   \n",
       "4  [i, bought, this, for, my, grand, daughter, when, she, comes, over, to, visit, i, set, it, up, with, her, as, the, user, entered, her, age, and, name, and, now, amazon, makes, sure, that, she, onl...   \n",
       "\n",
       "                                                                                                                                                                                                        sw  \n",
       "0                                                                                                 [, product, far, disappointed, children, love, use, like, ability, monitor, control, content, see, ease]  \n",
       "1                                                                                                                                              [great, beginner, experienced, person, bought, gift, loves]  \n",
       "2                                                                                                                           [inexpensive, tablet, use, learn, step, nabi, thrilled, learn, skype, already]  \n",
       "3  [ive, fire, hd, two, weeks, love, tablet, great, valuewe, prime, members, tablet, shines, love, able, easily, access, prime, content, well, movies, download, watch, laterthis, screen, really, nice...  \n",
       "4  [bought, grand, daughter, comes, visit, set, user, entered, age, name, amazon, makes, sure, accesses, sites, content, appropriate, age, simple, loves, capabilities, also, bought, installed, gig, s...  "
      ]
     },
     "execution_count": 17,
     "metadata": {},
     "output_type": "execute_result"
    }
   ],
   "source": [
    "df.head()"
   ]
  },
  {
   "cell_type": "raw",
   "metadata": {},
   "source": []
  },
  {
   "cell_type": "raw",
   "metadata": {},
   "source": []
  },
  {
   "cell_type": "code",
   "execution_count": 18,
   "metadata": {},
   "outputs": [
    {
     "data": {
      "text/plain": [
       "['MARTIN_EXTENSIONS',\n",
       " 'NLTK_EXTENSIONS',\n",
       " 'ORIGINAL_ALGORITHM',\n",
       " '__abstractmethods__',\n",
       " '__class__',\n",
       " '__delattr__',\n",
       " '__dict__',\n",
       " '__dir__',\n",
       " '__doc__',\n",
       " '__eq__',\n",
       " '__format__',\n",
       " '__ge__',\n",
       " '__getattribute__',\n",
       " '__gt__',\n",
       " '__hash__',\n",
       " '__init__',\n",
       " '__init_subclass__',\n",
       " '__le__',\n",
       " '__lt__',\n",
       " '__module__',\n",
       " '__ne__',\n",
       " '__new__',\n",
       " '__reduce__',\n",
       " '__reduce_ex__',\n",
       " '__repr__',\n",
       " '__setattr__',\n",
       " '__sizeof__',\n",
       " '__str__',\n",
       " '__subclasshook__',\n",
       " '__unicode__',\n",
       " '__weakref__',\n",
       " '_abc_cache',\n",
       " '_abc_negative_cache',\n",
       " '_abc_negative_cache_version',\n",
       " '_abc_registry',\n",
       " '_apply_rule_list',\n",
       " '_contains_vowel',\n",
       " '_ends_cvc',\n",
       " '_ends_double_consonant',\n",
       " '_has_positive_measure',\n",
       " '_is_consonant',\n",
       " '_measure',\n",
       " '_replace_suffix',\n",
       " '_step1a',\n",
       " '_step1b',\n",
       " '_step1c',\n",
       " '_step2',\n",
       " '_step3',\n",
       " '_step4',\n",
       " '_step5a',\n",
       " '_step5b',\n",
       " 'mode',\n",
       " 'pool',\n",
       " 'stem',\n",
       " 'unicode_repr',\n",
       " 'vowels']"
      ]
     },
     "execution_count": 18,
     "metadata": {},
     "output_type": "execute_result"
    }
   ],
   "source": [
    "import nltk\n",
    "from nltk.stem import PorterStemmer\n",
    "ps= PorterStemmer()\n",
    "dir(ps)\n"
   ]
  },
  {
   "cell_type": "code",
   "execution_count": 19,
   "metadata": {},
   "outputs": [],
   "source": [
    "def stemming(tokenized_text):\n",
    "    text = [ps.stem(word) for word in tokenized_text]\n",
    "    return text\n",
    "    "
   ]
  },
  {
   "cell_type": "code",
   "execution_count": 20,
   "metadata": {},
   "outputs": [],
   "source": [
    "df['stem']= df['sw'].apply(lambda x: stemming(x))"
   ]
  },
  {
   "cell_type": "code",
   "execution_count": 21,
   "metadata": {},
   "outputs": [
    {
     "data": {
      "text/html": [
       "<div>\n",
       "<style scoped>\n",
       "    .dataframe tbody tr th:only-of-type {\n",
       "        vertical-align: middle;\n",
       "    }\n",
       "\n",
       "    .dataframe tbody tr th {\n",
       "        vertical-align: top;\n",
       "    }\n",
       "\n",
       "    .dataframe thead th {\n",
       "        text-align: right;\n",
       "    }\n",
       "</style>\n",
       "<table border=\"1\" class=\"dataframe\">\n",
       "  <thead>\n",
       "    <tr style=\"text-align: right;\">\n",
       "      <th></th>\n",
       "      <th>reviews</th>\n",
       "      <th>rating</th>\n",
       "      <th>new_column</th>\n",
       "      <th>new_cloumns</th>\n",
       "      <th>tokenize</th>\n",
       "      <th>sw</th>\n",
       "      <th>stem</th>\n",
       "    </tr>\n",
       "  </thead>\n",
       "  <tbody>\n",
       "    <tr>\n",
       "      <th>0</th>\n",
       "      <td>1 this product so far has not disappointed. my children love to use it and i like the ability to monitor control what content they see with ease.</td>\n",
       "      <td>5.0</td>\n",
       "      <td>1 this product so far has not disappointed my children love to use it and i like the ability to monitor control what content they see with ease</td>\n",
       "      <td>this product so far has not disappointed my children love to use it and i like the ability to monitor control what content they see with ease</td>\n",
       "      <td>[, this, product, so, far, has, not, disappointed, my, children, love, to, use, it, and, i, like, the, ability, to, monitor, control, what, content, they, see, with, ease]</td>\n",
       "      <td>[, product, far, disappointed, children, love, use, like, ability, monitor, control, content, see, ease]</td>\n",
       "      <td>[, product, far, disappoint, children, love, use, like, abil, monitor, control, content, see, eas]</td>\n",
       "    </tr>\n",
       "    <tr>\n",
       "      <th>1</th>\n",
       "      <td>great for beginner or experienced person. bought as a gift and she loves it</td>\n",
       "      <td>5.0</td>\n",
       "      <td>great for beginner or experienced person bought as a gift and she loves it</td>\n",
       "      <td>great for beginner or experienced person bought as a gift and she loves it</td>\n",
       "      <td>[great, for, beginner, or, experienced, person, bought, as, a, gift, and, she, loves, it]</td>\n",
       "      <td>[great, beginner, experienced, person, bought, gift, loves]</td>\n",
       "      <td>[great, beginn, experienc, person, bought, gift, love]</td>\n",
       "    </tr>\n",
       "    <tr>\n",
       "      <th>2</th>\n",
       "      <td>inexpensive tablet for him to use and learn on, step up from the nabi. he was thrilled with it, learn how to skype on it already...</td>\n",
       "      <td>5.0</td>\n",
       "      <td>inexpensive tablet for him to use and learn on step up from the nabi he was thrilled with it learn how to skype on it already</td>\n",
       "      <td>inexpensive tablet for him to use and learn on step up from the nabi he was thrilled with it learn how to skype on it already</td>\n",
       "      <td>[inexpensive, tablet, for, him, to, use, and, learn, on, step, up, from, the, nabi, he, was, thrilled, with, it, learn, how, to, skype, on, it, already]</td>\n",
       "      <td>[inexpensive, tablet, use, learn, step, nabi, thrilled, learn, skype, already]</td>\n",
       "      <td>[inexpens, tablet, use, learn, step, nabi, thrill, learn, skype, alreadi]</td>\n",
       "    </tr>\n",
       "    <tr>\n",
       "      <th>3</th>\n",
       "      <td>i've had my fire hd 8 two weeks now and i love it. this tablet is a great value.we are prime members and that is where this tablet shines. i love being able to easily access all of the prime conte...</td>\n",
       "      <td>4.0</td>\n",
       "      <td>ive had my fire hd 8 two weeks now and i love it this tablet is a great valuewe are prime members and that is where this tablet shines i love being able to easily access all of the prime content a...</td>\n",
       "      <td>ive had my fire hd  two weeks now and i love it this tablet is a great valuewe are prime members and that is where this tablet shines i love being able to easily access all of the prime content as...</td>\n",
       "      <td>[ive, had, my, fire, hd, two, weeks, now, and, i, love, it, this, tablet, is, a, great, valuewe, are, prime, members, and, that, is, where, this, tablet, shines, i, love, being, able, to, easily, ...</td>\n",
       "      <td>[ive, fire, hd, two, weeks, love, tablet, great, valuewe, prime, members, tablet, shines, love, able, easily, access, prime, content, well, movies, download, watch, laterthis, screen, really, nice...</td>\n",
       "      <td>[ive, fire, hd, two, week, love, tablet, great, valuew, prime, member, tablet, shine, love, abl, easili, access, prime, content, well, movi, download, watch, laterthi, screen, realli, nice, look, ...</td>\n",
       "    </tr>\n",
       "    <tr>\n",
       "      <th>4</th>\n",
       "      <td>i bought this for my grand daughter when she comes over to visit. i set it up with her as the user, entered her age and name and now amazon makes sure that she only accesses sites and content that...</td>\n",
       "      <td>5.0</td>\n",
       "      <td>i bought this for my grand daughter when she comes over to visit i set it up with her as the user entered her age and name and now amazon makes sure that she only accesses sites and content that a...</td>\n",
       "      <td>i bought this for my grand daughter when she comes over to visit i set it up with her as the user entered her age and name and now amazon makes sure that she only accesses sites and content that a...</td>\n",
       "      <td>[i, bought, this, for, my, grand, daughter, when, she, comes, over, to, visit, i, set, it, up, with, her, as, the, user, entered, her, age, and, name, and, now, amazon, makes, sure, that, she, onl...</td>\n",
       "      <td>[bought, grand, daughter, comes, visit, set, user, entered, age, name, amazon, makes, sure, accesses, sites, content, appropriate, age, simple, loves, capabilities, also, bought, installed, gig, s...</td>\n",
       "      <td>[bought, grand, daughter, come, visit, set, user, enter, age, name, amazon, make, sure, access, site, content, appropri, age, simpl, love, capabl, also, bought, instal, gig, sd, card, give, littl,...</td>\n",
       "    </tr>\n",
       "  </tbody>\n",
       "</table>\n",
       "</div>"
      ],
      "text/plain": [
       "                                                                                                                                                                                                   reviews  \\\n",
       "0                                                        1 this product so far has not disappointed. my children love to use it and i like the ability to monitor control what content they see with ease.   \n",
       "1                                                                                                                              great for beginner or experienced person. bought as a gift and she loves it   \n",
       "2                                                                      inexpensive tablet for him to use and learn on, step up from the nabi. he was thrilled with it, learn how to skype on it already...   \n",
       "3  i've had my fire hd 8 two weeks now and i love it. this tablet is a great value.we are prime members and that is where this tablet shines. i love being able to easily access all of the prime conte...   \n",
       "4  i bought this for my grand daughter when she comes over to visit. i set it up with her as the user, entered her age and name and now amazon makes sure that she only accesses sites and content that...   \n",
       "\n",
       "   rating  \\\n",
       "0     5.0   \n",
       "1     5.0   \n",
       "2     5.0   \n",
       "3     4.0   \n",
       "4     5.0   \n",
       "\n",
       "                                                                                                                                                                                                new_column  \\\n",
       "0                                                          1 this product so far has not disappointed my children love to use it and i like the ability to monitor control what content they see with ease   \n",
       "1                                                                                                                               great for beginner or experienced person bought as a gift and she loves it   \n",
       "2                                                                            inexpensive tablet for him to use and learn on step up from the nabi he was thrilled with it learn how to skype on it already   \n",
       "3  ive had my fire hd 8 two weeks now and i love it this tablet is a great valuewe are prime members and that is where this tablet shines i love being able to easily access all of the prime content a...   \n",
       "4  i bought this for my grand daughter when she comes over to visit i set it up with her as the user entered her age and name and now amazon makes sure that she only accesses sites and content that a...   \n",
       "\n",
       "                                                                                                                                                                                               new_cloumns  \\\n",
       "0                                                            this product so far has not disappointed my children love to use it and i like the ability to monitor control what content they see with ease   \n",
       "1                                                                                                                               great for beginner or experienced person bought as a gift and she loves it   \n",
       "2                                                                            inexpensive tablet for him to use and learn on step up from the nabi he was thrilled with it learn how to skype on it already   \n",
       "3  ive had my fire hd  two weeks now and i love it this tablet is a great valuewe are prime members and that is where this tablet shines i love being able to easily access all of the prime content as...   \n",
       "4  i bought this for my grand daughter when she comes over to visit i set it up with her as the user entered her age and name and now amazon makes sure that she only accesses sites and content that a...   \n",
       "\n",
       "                                                                                                                                                                                                  tokenize  \\\n",
       "0                              [, this, product, so, far, has, not, disappointed, my, children, love, to, use, it, and, i, like, the, ability, to, monitor, control, what, content, they, see, with, ease]   \n",
       "1                                                                                                                [great, for, beginner, or, experienced, person, bought, as, a, gift, and, she, loves, it]   \n",
       "2                                                 [inexpensive, tablet, for, him, to, use, and, learn, on, step, up, from, the, nabi, he, was, thrilled, with, it, learn, how, to, skype, on, it, already]   \n",
       "3  [ive, had, my, fire, hd, two, weeks, now, and, i, love, it, this, tablet, is, a, great, valuewe, are, prime, members, and, that, is, where, this, tablet, shines, i, love, being, able, to, easily, ...   \n",
       "4  [i, bought, this, for, my, grand, daughter, when, she, comes, over, to, visit, i, set, it, up, with, her, as, the, user, entered, her, age, and, name, and, now, amazon, makes, sure, that, she, onl...   \n",
       "\n",
       "                                                                                                                                                                                                        sw  \\\n",
       "0                                                                                                 [, product, far, disappointed, children, love, use, like, ability, monitor, control, content, see, ease]   \n",
       "1                                                                                                                                              [great, beginner, experienced, person, bought, gift, loves]   \n",
       "2                                                                                                                           [inexpensive, tablet, use, learn, step, nabi, thrilled, learn, skype, already]   \n",
       "3  [ive, fire, hd, two, weeks, love, tablet, great, valuewe, prime, members, tablet, shines, love, able, easily, access, prime, content, well, movies, download, watch, laterthis, screen, really, nice...   \n",
       "4  [bought, grand, daughter, comes, visit, set, user, entered, age, name, amazon, makes, sure, accesses, sites, content, appropriate, age, simple, loves, capabilities, also, bought, installed, gig, s...   \n",
       "\n",
       "                                                                                                                                                                                                      stem  \n",
       "0                                                                                                       [, product, far, disappoint, children, love, use, like, abil, monitor, control, content, see, eas]  \n",
       "1                                                                                                                                                   [great, beginn, experienc, person, bought, gift, love]  \n",
       "2                                                                                                                                [inexpens, tablet, use, learn, step, nabi, thrill, learn, skype, alreadi]  \n",
       "3  [ive, fire, hd, two, week, love, tablet, great, valuew, prime, member, tablet, shine, love, abl, easili, access, prime, content, well, movi, download, watch, laterthi, screen, realli, nice, look, ...  \n",
       "4  [bought, grand, daughter, come, visit, set, user, enter, age, name, amazon, make, sure, access, site, content, appropri, age, simpl, love, capabl, also, bought, instal, gig, sd, card, give, littl,...  "
      ]
     },
     "execution_count": 21,
     "metadata": {},
     "output_type": "execute_result"
    }
   ],
   "source": [
    "df.head()"
   ]
  },
  {
   "cell_type": "code",
   "execution_count": 22,
   "metadata": {},
   "outputs": [],
   "source": [
    "from nltk.stem import WordNetLemmatizer\n",
    "wn=WordNetLemmatizer()"
   ]
  },
  {
   "cell_type": "code",
   "execution_count": 23,
   "metadata": {},
   "outputs": [],
   "source": [
    "def lemmatization(token_txt):\n",
    "    text = [wn.lemmatize(word) for word in token_txt]\n",
    "    \n",
    "    return text"
   ]
  },
  {
   "cell_type": "code",
   "execution_count": 24,
   "metadata": {},
   "outputs": [],
   "source": [
    "df['lemmatize']= df['stem'].apply(lambda x : lemmatization(x))"
   ]
  },
  {
   "cell_type": "code",
   "execution_count": 25,
   "metadata": {},
   "outputs": [
    {
     "data": {
      "text/html": [
       "<div>\n",
       "<style scoped>\n",
       "    .dataframe tbody tr th:only-of-type {\n",
       "        vertical-align: middle;\n",
       "    }\n",
       "\n",
       "    .dataframe tbody tr th {\n",
       "        vertical-align: top;\n",
       "    }\n",
       "\n",
       "    .dataframe thead th {\n",
       "        text-align: right;\n",
       "    }\n",
       "</style>\n",
       "<table border=\"1\" class=\"dataframe\">\n",
       "  <thead>\n",
       "    <tr style=\"text-align: right;\">\n",
       "      <th></th>\n",
       "      <th>reviews</th>\n",
       "      <th>rating</th>\n",
       "      <th>new_column</th>\n",
       "      <th>new_cloumns</th>\n",
       "      <th>tokenize</th>\n",
       "      <th>sw</th>\n",
       "      <th>stem</th>\n",
       "      <th>lemmatize</th>\n",
       "    </tr>\n",
       "  </thead>\n",
       "  <tbody>\n",
       "    <tr>\n",
       "      <th>0</th>\n",
       "      <td>1 this product so far has not disappointed. my children love to use it and i like the ability to monitor control what content they see with ease.</td>\n",
       "      <td>5.0</td>\n",
       "      <td>1 this product so far has not disappointed my children love to use it and i like the ability to monitor control what content they see with ease</td>\n",
       "      <td>this product so far has not disappointed my children love to use it and i like the ability to monitor control what content they see with ease</td>\n",
       "      <td>[, this, product, so, far, has, not, disappointed, my, children, love, to, use, it, and, i, like, the, ability, to, monitor, control, what, content, they, see, with, ease]</td>\n",
       "      <td>[, product, far, disappointed, children, love, use, like, ability, monitor, control, content, see, ease]</td>\n",
       "      <td>[, product, far, disappoint, children, love, use, like, abil, monitor, control, content, see, eas]</td>\n",
       "      <td>[, product, far, disappoint, child, love, use, like, abil, monitor, control, content, see, ea]</td>\n",
       "    </tr>\n",
       "    <tr>\n",
       "      <th>1</th>\n",
       "      <td>great for beginner or experienced person. bought as a gift and she loves it</td>\n",
       "      <td>5.0</td>\n",
       "      <td>great for beginner or experienced person bought as a gift and she loves it</td>\n",
       "      <td>great for beginner or experienced person bought as a gift and she loves it</td>\n",
       "      <td>[great, for, beginner, or, experienced, person, bought, as, a, gift, and, she, loves, it]</td>\n",
       "      <td>[great, beginner, experienced, person, bought, gift, loves]</td>\n",
       "      <td>[great, beginn, experienc, person, bought, gift, love]</td>\n",
       "      <td>[great, beginn, experienc, person, bought, gift, love]</td>\n",
       "    </tr>\n",
       "    <tr>\n",
       "      <th>2</th>\n",
       "      <td>inexpensive tablet for him to use and learn on, step up from the nabi. he was thrilled with it, learn how to skype on it already...</td>\n",
       "      <td>5.0</td>\n",
       "      <td>inexpensive tablet for him to use and learn on step up from the nabi he was thrilled with it learn how to skype on it already</td>\n",
       "      <td>inexpensive tablet for him to use and learn on step up from the nabi he was thrilled with it learn how to skype on it already</td>\n",
       "      <td>[inexpensive, tablet, for, him, to, use, and, learn, on, step, up, from, the, nabi, he, was, thrilled, with, it, learn, how, to, skype, on, it, already]</td>\n",
       "      <td>[inexpensive, tablet, use, learn, step, nabi, thrilled, learn, skype, already]</td>\n",
       "      <td>[inexpens, tablet, use, learn, step, nabi, thrill, learn, skype, alreadi]</td>\n",
       "      <td>[inexpens, tablet, use, learn, step, nabi, thrill, learn, skype, alreadi]</td>\n",
       "    </tr>\n",
       "    <tr>\n",
       "      <th>3</th>\n",
       "      <td>i've had my fire hd 8 two weeks now and i love it. this tablet is a great value.we are prime members and that is where this tablet shines. i love being able to easily access all of the prime conte...</td>\n",
       "      <td>4.0</td>\n",
       "      <td>ive had my fire hd 8 two weeks now and i love it this tablet is a great valuewe are prime members and that is where this tablet shines i love being able to easily access all of the prime content a...</td>\n",
       "      <td>ive had my fire hd  two weeks now and i love it this tablet is a great valuewe are prime members and that is where this tablet shines i love being able to easily access all of the prime content as...</td>\n",
       "      <td>[ive, had, my, fire, hd, two, weeks, now, and, i, love, it, this, tablet, is, a, great, valuewe, are, prime, members, and, that, is, where, this, tablet, shines, i, love, being, able, to, easily, ...</td>\n",
       "      <td>[ive, fire, hd, two, weeks, love, tablet, great, valuewe, prime, members, tablet, shines, love, able, easily, access, prime, content, well, movies, download, watch, laterthis, screen, really, nice...</td>\n",
       "      <td>[ive, fire, hd, two, week, love, tablet, great, valuew, prime, member, tablet, shine, love, abl, easili, access, prime, content, well, movi, download, watch, laterthi, screen, realli, nice, look, ...</td>\n",
       "      <td>[ive, fire, hd, two, week, love, tablet, great, valuew, prime, member, tablet, shine, love, abl, easili, access, prime, content, well, movi, download, watch, laterthi, screen, realli, nice, look, ...</td>\n",
       "    </tr>\n",
       "    <tr>\n",
       "      <th>4</th>\n",
       "      <td>i bought this for my grand daughter when she comes over to visit. i set it up with her as the user, entered her age and name and now amazon makes sure that she only accesses sites and content that...</td>\n",
       "      <td>5.0</td>\n",
       "      <td>i bought this for my grand daughter when she comes over to visit i set it up with her as the user entered her age and name and now amazon makes sure that she only accesses sites and content that a...</td>\n",
       "      <td>i bought this for my grand daughter when she comes over to visit i set it up with her as the user entered her age and name and now amazon makes sure that she only accesses sites and content that a...</td>\n",
       "      <td>[i, bought, this, for, my, grand, daughter, when, she, comes, over, to, visit, i, set, it, up, with, her, as, the, user, entered, her, age, and, name, and, now, amazon, makes, sure, that, she, onl...</td>\n",
       "      <td>[bought, grand, daughter, comes, visit, set, user, entered, age, name, amazon, makes, sure, accesses, sites, content, appropriate, age, simple, loves, capabilities, also, bought, installed, gig, s...</td>\n",
       "      <td>[bought, grand, daughter, come, visit, set, user, enter, age, name, amazon, make, sure, access, site, content, appropri, age, simpl, love, capabl, also, bought, instal, gig, sd, card, give, littl,...</td>\n",
       "      <td>[bought, grand, daughter, come, visit, set, user, enter, age, name, amazon, make, sure, access, site, content, appropri, age, simpl, love, capabl, also, bought, instal, gig, sd, card, give, littl,...</td>\n",
       "    </tr>\n",
       "  </tbody>\n",
       "</table>\n",
       "</div>"
      ],
      "text/plain": [
       "                                                                                                                                                                                                   reviews  \\\n",
       "0                                                        1 this product so far has not disappointed. my children love to use it and i like the ability to monitor control what content they see with ease.   \n",
       "1                                                                                                                              great for beginner or experienced person. bought as a gift and she loves it   \n",
       "2                                                                      inexpensive tablet for him to use and learn on, step up from the nabi. he was thrilled with it, learn how to skype on it already...   \n",
       "3  i've had my fire hd 8 two weeks now and i love it. this tablet is a great value.we are prime members and that is where this tablet shines. i love being able to easily access all of the prime conte...   \n",
       "4  i bought this for my grand daughter when she comes over to visit. i set it up with her as the user, entered her age and name and now amazon makes sure that she only accesses sites and content that...   \n",
       "\n",
       "   rating  \\\n",
       "0     5.0   \n",
       "1     5.0   \n",
       "2     5.0   \n",
       "3     4.0   \n",
       "4     5.0   \n",
       "\n",
       "                                                                                                                                                                                                new_column  \\\n",
       "0                                                          1 this product so far has not disappointed my children love to use it and i like the ability to monitor control what content they see with ease   \n",
       "1                                                                                                                               great for beginner or experienced person bought as a gift and she loves it   \n",
       "2                                                                            inexpensive tablet for him to use and learn on step up from the nabi he was thrilled with it learn how to skype on it already   \n",
       "3  ive had my fire hd 8 two weeks now and i love it this tablet is a great valuewe are prime members and that is where this tablet shines i love being able to easily access all of the prime content a...   \n",
       "4  i bought this for my grand daughter when she comes over to visit i set it up with her as the user entered her age and name and now amazon makes sure that she only accesses sites and content that a...   \n",
       "\n",
       "                                                                                                                                                                                               new_cloumns  \\\n",
       "0                                                            this product so far has not disappointed my children love to use it and i like the ability to monitor control what content they see with ease   \n",
       "1                                                                                                                               great for beginner or experienced person bought as a gift and she loves it   \n",
       "2                                                                            inexpensive tablet for him to use and learn on step up from the nabi he was thrilled with it learn how to skype on it already   \n",
       "3  ive had my fire hd  two weeks now and i love it this tablet is a great valuewe are prime members and that is where this tablet shines i love being able to easily access all of the prime content as...   \n",
       "4  i bought this for my grand daughter when she comes over to visit i set it up with her as the user entered her age and name and now amazon makes sure that she only accesses sites and content that a...   \n",
       "\n",
       "                                                                                                                                                                                                  tokenize  \\\n",
       "0                              [, this, product, so, far, has, not, disappointed, my, children, love, to, use, it, and, i, like, the, ability, to, monitor, control, what, content, they, see, with, ease]   \n",
       "1                                                                                                                [great, for, beginner, or, experienced, person, bought, as, a, gift, and, she, loves, it]   \n",
       "2                                                 [inexpensive, tablet, for, him, to, use, and, learn, on, step, up, from, the, nabi, he, was, thrilled, with, it, learn, how, to, skype, on, it, already]   \n",
       "3  [ive, had, my, fire, hd, two, weeks, now, and, i, love, it, this, tablet, is, a, great, valuewe, are, prime, members, and, that, is, where, this, tablet, shines, i, love, being, able, to, easily, ...   \n",
       "4  [i, bought, this, for, my, grand, daughter, when, she, comes, over, to, visit, i, set, it, up, with, her, as, the, user, entered, her, age, and, name, and, now, amazon, makes, sure, that, she, onl...   \n",
       "\n",
       "                                                                                                                                                                                                        sw  \\\n",
       "0                                                                                                 [, product, far, disappointed, children, love, use, like, ability, monitor, control, content, see, ease]   \n",
       "1                                                                                                                                              [great, beginner, experienced, person, bought, gift, loves]   \n",
       "2                                                                                                                           [inexpensive, tablet, use, learn, step, nabi, thrilled, learn, skype, already]   \n",
       "3  [ive, fire, hd, two, weeks, love, tablet, great, valuewe, prime, members, tablet, shines, love, able, easily, access, prime, content, well, movies, download, watch, laterthis, screen, really, nice...   \n",
       "4  [bought, grand, daughter, comes, visit, set, user, entered, age, name, amazon, makes, sure, accesses, sites, content, appropriate, age, simple, loves, capabilities, also, bought, installed, gig, s...   \n",
       "\n",
       "                                                                                                                                                                                                      stem  \\\n",
       "0                                                                                                       [, product, far, disappoint, children, love, use, like, abil, monitor, control, content, see, eas]   \n",
       "1                                                                                                                                                   [great, beginn, experienc, person, bought, gift, love]   \n",
       "2                                                                                                                                [inexpens, tablet, use, learn, step, nabi, thrill, learn, skype, alreadi]   \n",
       "3  [ive, fire, hd, two, week, love, tablet, great, valuew, prime, member, tablet, shine, love, abl, easili, access, prime, content, well, movi, download, watch, laterthi, screen, realli, nice, look, ...   \n",
       "4  [bought, grand, daughter, come, visit, set, user, enter, age, name, amazon, make, sure, access, site, content, appropri, age, simpl, love, capabl, also, bought, instal, gig, sd, card, give, littl,...   \n",
       "\n",
       "                                                                                                                                                                                                 lemmatize  \n",
       "0                                                                                                           [, product, far, disappoint, child, love, use, like, abil, monitor, control, content, see, ea]  \n",
       "1                                                                                                                                                   [great, beginn, experienc, person, bought, gift, love]  \n",
       "2                                                                                                                                [inexpens, tablet, use, learn, step, nabi, thrill, learn, skype, alreadi]  \n",
       "3  [ive, fire, hd, two, week, love, tablet, great, valuew, prime, member, tablet, shine, love, abl, easili, access, prime, content, well, movi, download, watch, laterthi, screen, realli, nice, look, ...  \n",
       "4  [bought, grand, daughter, come, visit, set, user, enter, age, name, amazon, make, sure, access, site, content, appropri, age, simpl, love, capabl, also, bought, instal, gig, sd, card, give, littl,...  "
      ]
     },
     "execution_count": 25,
     "metadata": {},
     "output_type": "execute_result"
    }
   ],
   "source": [
    "df.head()"
   ]
  },
  {
   "cell_type": "code",
   "execution_count": null,
   "metadata": {},
   "outputs": [],
   "source": []
  },
  {
   "cell_type": "code",
   "execution_count": 26,
   "metadata": {},
   "outputs": [
    {
     "data": {
      "text/plain": [
       "Index(['rating'], dtype='object')"
      ]
     },
     "execution_count": 26,
     "metadata": {},
     "output_type": "execute_result"
    }
   ],
   "source": [
    "df.columns[df.isna().any()]"
   ]
  },
  {
   "cell_type": "code",
   "execution_count": 27,
   "metadata": {},
   "outputs": [],
   "source": [
    "# df['review'] = df['review'].fillna('missing') "
   ]
  },
  {
   "cell_type": "code",
   "execution_count": 28,
   "metadata": {},
   "outputs": [
    {
     "data": {
      "text/plain": [
       "reviews         0\n",
       "rating         33\n",
       "new_column      0\n",
       "new_cloumns     0\n",
       "tokenize        0\n",
       "sw              0\n",
       "stem            0\n",
       "lemmatize       0\n",
       "dtype: int64"
      ]
     },
     "execution_count": 28,
     "metadata": {},
     "output_type": "execute_result"
    }
   ],
   "source": [
    "df.isna().sum()"
   ]
  },
  {
   "cell_type": "code",
   "execution_count": 29,
   "metadata": {},
   "outputs": [
    {
     "name": "stdout",
     "output_type": "stream",
     "text": [
      "<class 'pandas.core.frame.DataFrame'>\n",
      "RangeIndex: 34660 entries, 0 to 34659\n",
      "Data columns (total 8 columns):\n",
      "reviews        34660 non-null object\n",
      "rating         34627 non-null float64\n",
      "new_column     34660 non-null object\n",
      "new_cloumns    34660 non-null object\n",
      "tokenize       34660 non-null object\n",
      "sw             34660 non-null object\n",
      "stem           34660 non-null object\n",
      "lemmatize      34660 non-null object\n",
      "dtypes: float64(1), object(7)\n",
      "memory usage: 2.1+ MB\n"
     ]
    }
   ],
   "source": [
    "df.info() #provides info of null fields"
   ]
  },
  {
   "cell_type": "code",
   "execution_count": 30,
   "metadata": {},
   "outputs": [],
   "source": [
    "# df.get_dummies() \n"
   ]
  },
  {
   "cell_type": "code",
   "execution_count": 31,
   "metadata": {},
   "outputs": [],
   "source": [
    "df.rating = df.rating.fillna(df.rating.mean())"
   ]
  },
  {
   "cell_type": "code",
   "execution_count": 32,
   "metadata": {},
   "outputs": [
    {
     "data": {
      "text/plain": [
       "reviews        0\n",
       "rating         0\n",
       "new_column     0\n",
       "new_cloumns    0\n",
       "tokenize       0\n",
       "sw             0\n",
       "stem           0\n",
       "lemmatize      0\n",
       "dtype: int64"
      ]
     },
     "execution_count": 32,
     "metadata": {},
     "output_type": "execute_result"
    }
   ],
   "source": [
    "df.isna().sum()"
   ]
  },
  {
   "cell_type": "code",
   "execution_count": null,
   "metadata": {},
   "outputs": [],
   "source": []
  },
  {
   "cell_type": "code",
   "execution_count": null,
   "metadata": {},
   "outputs": [],
   "source": []
  },
  {
   "cell_type": "code",
   "execution_count": 33,
   "metadata": {},
   "outputs": [],
   "source": [
    "# from sklearn.model_selection import train_test_split\n",
    "# X_train, X_test, y_train, y_test = train_test_split(inputs.lemmatize,target,test_size=0.2)"
   ]
  },
  {
   "cell_type": "code",
   "execution_count": 34,
   "metadata": {},
   "outputs": [],
   "source": [
    "# # print(X.vocabulary_)\n",
    "# # print(cv.get_feature_name())\n",
    "\n",
    "# # print(X.shape)\n",
    "# # print(X)\n",
    "# # print(X.toarray())\n",
    "# dfnew = pd.DataFrame(X.toarray, columns = cv.get_feature_name())"
   ]
  },
  {
   "cell_type": "code",
   "execution_count": 35,
   "metadata": {},
   "outputs": [],
   "source": [
    "# def clean_text(txt):\n",
    "#     txt = \"\".join([c for c in txt if c not in string.punctuation])\n",
    "#     tokens = re.split('W+', txt)\n",
    "#     txt = [ps.stem(word) for word in tokens if word not in stopwords]\n",
    "#     return txt"
   ]
  },
  {
   "cell_type": "code",
   "execution_count": 36,
   "metadata": {},
   "outputs": [],
   "source": [
    "# print(X_train)"
   ]
  },
  {
   "cell_type": "code",
   "execution_count": 37,
   "metadata": {},
   "outputs": [],
   "source": [
    "# def detokenize(txt):\n",
    "#     txt = \" \".join(txt)\n",
    "#     return txt"
   ]
  },
  {
   "cell_type": "code",
   "execution_count": 38,
   "metadata": {},
   "outputs": [],
   "source": [
    "# df['detokenized']=df['lemmatize'].apply(lambda x : detokenize(x))"
   ]
  },
  {
   "cell_type": "code",
   "execution_count": 39,
   "metadata": {},
   "outputs": [],
   "source": [
    "# df.drop(['reviews','new_column','new_cloumns','tokenize','sw' ,'stem','lemmatize',],axis='columns',inplace=True)\n",
    "# df.head()"
   ]
  },
  {
   "cell_type": "code",
   "execution_count": 40,
   "metadata": {},
   "outputs": [],
   "source": [
    "#  target=df.rating\n",
    "#  inputs=df.drop('rating',axis='columns')\n",
    "#  target.head()\n",
    " "
   ]
  },
  {
   "cell_type": "code",
   "execution_count": null,
   "metadata": {},
   "outputs": [],
   "source": []
  },
  {
   "cell_type": "code",
   "execution_count": 41,
   "metadata": {},
   "outputs": [],
   "source": [
    "from sklearn.model_selection import train_test_split\n",
    "X_train, X_test, y_train, y_test = train_test_split(df.lemmatize,df.rating,test_size=0.2,random_state=1)"
   ]
  },
  {
   "cell_type": "code",
   "execution_count": null,
   "metadata": {},
   "outputs": [],
   "source": []
  },
  {
   "cell_type": "code",
   "execution_count": 42,
   "metadata": {},
   "outputs": [
    {
     "name": "stdout",
     "output_type": "stream",
     "text": [
      "918                                                                                                                                                 [better, expect, price, work, good, would, fulli, recommend]\n",
      "11726                                    [would, recommend, product, anyon, budget, want, someth, bigger, iphon, search, purpos, everyth, iphon, want, tablet, read, spotifi, netflix, ea, bigger, screen, buck]\n",
      "9592                                                                                                                                                    [bought, mom, love, use, kindl, past, need, someth, new]\n",
      "17123                                                                                                   [kindl, fire, great, especi, kid, version, free, time, app, keep, kid, file, prevent, mess, tablet, set]\n",
      "6868                                                                                                                                                                      [year, old, love, easi, use, lot, app]\n",
      "2097     [last, got, fire, kid, amazon, freetim, subscript, good, price, two, flaw, screen, good, much, better, android, devic, great, got, mb, version, would, recommend, hindsight, android, subpar, manag,...\n",
      "3125                                                                                                                                                            [realli, expect, chord, price, paid, dissapoint]\n",
      "33009                                                                                                    [purchas, box, replac, roku, box, awesom, thing, roku, cannot, best, decis, ever, made, term, electron]\n",
      "15401                                                                                                                                                              [perfect, secondari, tablet, son, take, road]\n",
      "9131                       [gave, tablet, christma, gift, use, time, love, thrill, get, bought, extend, warranti, tablet, would, covererd, case, someth, happen, mother, seen, advertis, bought, thanksgiv, day]\n",
      "12558                                                                                                                                                                [ok, would, recommend, friend, sure, futur]\n",
      "30215                                                                                                                                     [great, devic, medium, need, plug, right, readi, go, isnt, hard, oper]\n",
      "20688                                                           [excel, eread, look, probabl, bit, price, casual, reader, voyag, wonder, look, best, read, experi, will, pay, price, tag, trade, lack, function]\n",
      "32829                                                                                                                                              [bought, get, rid, uvers, instal, playstat, vue, work, great]\n",
      "18562                                                                                                        [want, kindl, light, featur, read, bed, night, done, homework, would, purchas, kindl, bell, whistl]\n",
      "4088                                                                                                                                            [purchas, dad, complaint, he, abl, download, game, easili, fast]\n",
      "25706                                                                                                                                                                 [small, issu, set, start, kid, took, care]\n",
      "13991                                                                                                                                                   [got, tablet, great, price, work, well, fast, processor]\n",
      "24715                                                                                  [echo, great, companion, without, fail, bring, smile, face, say, good, night, good, morn, tell, joke, laker, last, night]\n",
      "20070                                                                                                                                              [love, kindl, screen, good, low, light, read, also, sunlight]\n",
      "34012                                                                                                                                              [realli, love, product, fast, portabl, stream, favorit, show]\n",
      "20261                                                                                                                                                    [easi, replac, old, kindl, like, larger, screen, light]\n",
      "2963                                                                                                                                                         [bought, grandkid, christma, like, parent, control]\n",
      "24335    [alexa, pretti, fun, feel, though, updat, skill, come, futur, even, help, actual, speaker, sound, system, ok, dont, realli, get, deep, rich, tone, would, larger, higher, qualiti, system, like, ech...\n",
      "28293                                                                                                                                                          [great, product, best, buy, best, place, purchas]\n",
      "17126                                                                                                                                       [durabl, easi, work, love, function, kid, love, tablet, good, stuff]\n",
      "18039                                                                                                                                                       [littl, improv, previou, version, good, deal, price]\n",
      "21555                                                                                          [use, time, far, like, lightweight, pretti, easi, navig, perfect, screen, size, end, purchas, second, one, fianc]\n",
      "12652                                                                                                                                             [nice, simpl, great, deal, money, good, buy, would, recommend]\n",
      "6053                                                                                                                                                                               [thing, cant, download, good]\n",
      "                                                                                                          ...                                                                                                   \n",
      "9287                                                                                                                                                                     [onsal, cheap, good, new, star, tablet]\n",
      "16926                                                                                                                                                              [grandson, happi, kindl, case, protect, well]\n",
      "431                                                                                                                              [good, starter, unit, easi, beginn, use, price, low, give, tast, tablet, world]\n",
      "32397                                                [box, give, everyth, fire, tv, stick, lot, expand, sd, storag, usb, storag, use, app, person, video, also, connect, game, control, p, control, work, great]\n",
      "29960                                                                                                                                                                  [worth, price, easi, use, user, friendli]\n",
      "2561                                                                                                                                                  [simpl, use, great, dad, want, play, game, check, weather]\n",
      "3606                                                         [use, everi, day, commut, great, batteri, life, backlight, readabl, normal, light, like, built, dictionari, email, pdf, mobi, file, easi, transfer]\n",
      "33799                                                                                                                                                       [love, firestick, great, product, price, bad, offer]\n",
      "33878                                                                                                                                                                           [realli, like, watch, lot, movi]\n",
      "26103                                                                                                                                               [happi, purchas, easi, setup, request, inform, music, anyth]\n",
      "17137    [, year, old, boy, broke, le, month, even, bumper, guard, wont, power, work, limit, storag, ran, space, hour, wifi, wouldnt, work, go, explain, couldnt, download, hand, full, app, time, doesnt, ma...\n",
      "19433                                                                                                                                          [absolut, love, kindl, paper, white, read, ton, book, love, time]\n",
      "24535                                                                                                                                                      [love, alexa, amazon, echo, would, highli, recommend]\n",
      "31959                                                                                                              [excel, pictur, speed, overal, qualiti, movi, select, rang, date, uhd, reason, made, purchas]\n",
      "27204                                                                                                                                                            [great, product, use, weather, traffic, report]\n",
      "22926                                                                                    [exce, expect, great, fun, whole, famili, daili, jepordi, lot, fun, add, nest, thermostat, light, control, wont, sorri]\n",
      "19946                                                                                                                                   [sunlight, still, read, clariti, dont, need, extra, perfect, read, book]\n",
      "8444                                                                                                                                                             [great, birthday, gift, year, old, enjoy, much]\n",
      "21758                                                                                                                                           [good, kid, buck, wont, hurt, much, kid, accident, break, damag]\n",
      "32025                                                                   [replac, fire, stick, hope, would, faster, definit, keep, app, open, last, left, load, app, everi, time, turn, tv, well, worth, extra, ]\n",
      "31228                                                                                                                                                            [great, product, easi, use, instal, kodi, love]\n",
      "7751                                                                                                                                             [cant, use, plane, kid, scroll, kinda, sluggish, compar, phone]\n",
      "20609                                                                                                                                              [gen, kindl, glad, move, great, outdoor, sunni, read, must, ]\n",
      "32912        [work, well, howev, sometim, doesnt, connect, requir, user, unplug, replug, get, connect, need, simpler, way, store, home, video, background, sound, music, weaken, dialog, sound, requir, subtitl]\n",
      "21440                                                                                            [great, inexpens, tablet, beginn, also, access, amazon, prime, librari, music, video, would, highli, recommend]\n",
      "7813                                                                                                                                           [three, year, old, one, make, work, like, dinosaur, mani, improv]\n",
      "32511                                                                                                                            [amazon, fire, tv, great, product, wish, voic, command, option, user, friendli]\n",
      "5192                                                                                                                                                                             [gave, gift, heard, work, well]\n",
      "12172                                                                                                                                           [kind, slowbut, price, accept, bought, son, doesnt, care, speed]\n",
      "33003                                                                                                                                   [way, faster, stick, better, qualiti, worth, extra, money, especi, kodi]\n",
      "Name: lemmatize, Length: 27728, dtype: object\n"
     ]
    }
   ],
   "source": [
    "len(X_train)\n",
    "print(X_train)"
   ]
  },
  {
   "cell_type": "code",
   "execution_count": 47,
   "metadata": {},
   "outputs": [],
   "source": [
    "#t automatically converts all tokenized words to their lower case form so that it does not treat words like ‘He’ and ‘he’ differently.\n",
    "from sklearn.feature_extraction.text import CountVectorizer\n",
    "cv = CountVectorizer(analyzer = lemmatization)\n",
    "training_data = cv.fit_transform(X_train)\n",
    "training_data_toarray= training_data.toarray()"
   ]
  },
  {
   "cell_type": "code",
   "execution_count": 48,
   "metadata": {},
   "outputs": [],
   "source": [
    "testing_data = cv.transform(X_test)\n"
   ]
  },
  {
   "cell_type": "code",
   "execution_count": null,
   "metadata": {},
   "outputs": [],
   "source": []
  },
  {
   "cell_type": "code",
   "execution_count": 49,
   "metadata": {},
   "outputs": [
    {
     "name": "stdout",
     "output_type": "stream",
     "text": [
      "[[0 0 0 ... 0 0 0]\n",
      " [0 0 0 ... 0 0 0]\n",
      " [0 0 0 ... 0 0 0]\n",
      " ...\n",
      " [0 0 0 ... 0 0 0]\n",
      " [0 0 0 ... 0 0 0]\n",
      " [0 0 0 ... 0 0 0]]\n"
     ]
    }
   ],
   "source": [
    "print(training_data_toarray)"
   ]
  },
  {
   "cell_type": "code",
   "execution_count": 50,
   "metadata": {},
   "outputs": [
    {
     "name": "stdout",
     "output_type": "stream",
     "text": [
      "(10, 147)\n"
     ]
    }
   ],
   "source": [
    "data_sample = X_train[0:10]\n",
    "cv2= CountVectorizer(analyzer=lemmatization)\n",
    "\n",
    "X=cv2.fit_transform(data_sample)\n",
    "print(X.shape)"
   ]
  },
  {
   "cell_type": "code",
   "execution_count": 51,
   "metadata": {},
   "outputs": [
    {
     "data": {
      "text/html": [
       "<div>\n",
       "<style scoped>\n",
       "    .dataframe tbody tr th:only-of-type {\n",
       "        vertical-align: middle;\n",
       "    }\n",
       "\n",
       "    .dataframe tbody tr th {\n",
       "        vertical-align: top;\n",
       "    }\n",
       "\n",
       "    .dataframe thead th {\n",
       "        text-align: right;\n",
       "    }\n",
       "</style>\n",
       "<table border=\"1\" class=\"dataframe\">\n",
       "  <thead>\n",
       "    <tr style=\"text-align: right;\">\n",
       "      <th></th>\n",
       "      <th>access</th>\n",
       "      <th>account</th>\n",
       "      <th>adequ</th>\n",
       "      <th>advertis</th>\n",
       "      <th>age</th>\n",
       "      <th>ageappropri</th>\n",
       "      <th>alexa</th>\n",
       "      <th>also</th>\n",
       "      <th>amazon</th>\n",
       "      <th>amount</th>\n",
       "      <th>...</th>\n",
       "      <th>unlimit</th>\n",
       "      <th>use</th>\n",
       "      <th>version</th>\n",
       "      <th>voic</th>\n",
       "      <th>want</th>\n",
       "      <th>warranti</th>\n",
       "      <th>web</th>\n",
       "      <th>work</th>\n",
       "      <th>would</th>\n",
       "      <th>year</th>\n",
       "    </tr>\n",
       "  </thead>\n",
       "  <tbody>\n",
       "    <tr>\n",
       "      <th>0</th>\n",
       "      <td>0</td>\n",
       "      <td>0</td>\n",
       "      <td>0</td>\n",
       "      <td>0</td>\n",
       "      <td>0</td>\n",
       "      <td>0</td>\n",
       "      <td>0</td>\n",
       "      <td>0</td>\n",
       "      <td>0</td>\n",
       "      <td>0</td>\n",
       "      <td>...</td>\n",
       "      <td>0</td>\n",
       "      <td>0</td>\n",
       "      <td>0</td>\n",
       "      <td>0</td>\n",
       "      <td>0</td>\n",
       "      <td>0</td>\n",
       "      <td>0</td>\n",
       "      <td>1</td>\n",
       "      <td>1</td>\n",
       "      <td>0</td>\n",
       "    </tr>\n",
       "    <tr>\n",
       "      <th>1</th>\n",
       "      <td>0</td>\n",
       "      <td>0</td>\n",
       "      <td>0</td>\n",
       "      <td>0</td>\n",
       "      <td>0</td>\n",
       "      <td>0</td>\n",
       "      <td>0</td>\n",
       "      <td>0</td>\n",
       "      <td>0</td>\n",
       "      <td>0</td>\n",
       "      <td>...</td>\n",
       "      <td>0</td>\n",
       "      <td>0</td>\n",
       "      <td>0</td>\n",
       "      <td>0</td>\n",
       "      <td>2</td>\n",
       "      <td>0</td>\n",
       "      <td>0</td>\n",
       "      <td>0</td>\n",
       "      <td>1</td>\n",
       "      <td>0</td>\n",
       "    </tr>\n",
       "    <tr>\n",
       "      <th>2</th>\n",
       "      <td>0</td>\n",
       "      <td>0</td>\n",
       "      <td>0</td>\n",
       "      <td>0</td>\n",
       "      <td>0</td>\n",
       "      <td>0</td>\n",
       "      <td>0</td>\n",
       "      <td>0</td>\n",
       "      <td>0</td>\n",
       "      <td>0</td>\n",
       "      <td>...</td>\n",
       "      <td>0</td>\n",
       "      <td>1</td>\n",
       "      <td>0</td>\n",
       "      <td>0</td>\n",
       "      <td>0</td>\n",
       "      <td>0</td>\n",
       "      <td>0</td>\n",
       "      <td>0</td>\n",
       "      <td>0</td>\n",
       "      <td>0</td>\n",
       "    </tr>\n",
       "    <tr>\n",
       "      <th>3</th>\n",
       "      <td>0</td>\n",
       "      <td>0</td>\n",
       "      <td>0</td>\n",
       "      <td>0</td>\n",
       "      <td>0</td>\n",
       "      <td>0</td>\n",
       "      <td>0</td>\n",
       "      <td>0</td>\n",
       "      <td>0</td>\n",
       "      <td>0</td>\n",
       "      <td>...</td>\n",
       "      <td>0</td>\n",
       "      <td>0</td>\n",
       "      <td>1</td>\n",
       "      <td>0</td>\n",
       "      <td>0</td>\n",
       "      <td>0</td>\n",
       "      <td>0</td>\n",
       "      <td>0</td>\n",
       "      <td>0</td>\n",
       "      <td>0</td>\n",
       "    </tr>\n",
       "    <tr>\n",
       "      <th>4</th>\n",
       "      <td>0</td>\n",
       "      <td>0</td>\n",
       "      <td>0</td>\n",
       "      <td>0</td>\n",
       "      <td>0</td>\n",
       "      <td>0</td>\n",
       "      <td>0</td>\n",
       "      <td>0</td>\n",
       "      <td>0</td>\n",
       "      <td>0</td>\n",
       "      <td>...</td>\n",
       "      <td>0</td>\n",
       "      <td>1</td>\n",
       "      <td>0</td>\n",
       "      <td>0</td>\n",
       "      <td>0</td>\n",
       "      <td>0</td>\n",
       "      <td>0</td>\n",
       "      <td>0</td>\n",
       "      <td>0</td>\n",
       "      <td>1</td>\n",
       "    </tr>\n",
       "    <tr>\n",
       "      <th>5</th>\n",
       "      <td>2</td>\n",
       "      <td>1</td>\n",
       "      <td>1</td>\n",
       "      <td>0</td>\n",
       "      <td>1</td>\n",
       "      <td>1</td>\n",
       "      <td>1</td>\n",
       "      <td>2</td>\n",
       "      <td>2</td>\n",
       "      <td>2</td>\n",
       "      <td>...</td>\n",
       "      <td>1</td>\n",
       "      <td>2</td>\n",
       "      <td>1</td>\n",
       "      <td>1</td>\n",
       "      <td>0</td>\n",
       "      <td>0</td>\n",
       "      <td>1</td>\n",
       "      <td>1</td>\n",
       "      <td>1</td>\n",
       "      <td>1</td>\n",
       "    </tr>\n",
       "    <tr>\n",
       "      <th>6</th>\n",
       "      <td>0</td>\n",
       "      <td>0</td>\n",
       "      <td>0</td>\n",
       "      <td>0</td>\n",
       "      <td>0</td>\n",
       "      <td>0</td>\n",
       "      <td>0</td>\n",
       "      <td>0</td>\n",
       "      <td>0</td>\n",
       "      <td>0</td>\n",
       "      <td>...</td>\n",
       "      <td>0</td>\n",
       "      <td>0</td>\n",
       "      <td>0</td>\n",
       "      <td>0</td>\n",
       "      <td>0</td>\n",
       "      <td>0</td>\n",
       "      <td>0</td>\n",
       "      <td>0</td>\n",
       "      <td>0</td>\n",
       "      <td>0</td>\n",
       "    </tr>\n",
       "    <tr>\n",
       "      <th>7</th>\n",
       "      <td>0</td>\n",
       "      <td>0</td>\n",
       "      <td>0</td>\n",
       "      <td>0</td>\n",
       "      <td>0</td>\n",
       "      <td>0</td>\n",
       "      <td>0</td>\n",
       "      <td>0</td>\n",
       "      <td>0</td>\n",
       "      <td>0</td>\n",
       "      <td>...</td>\n",
       "      <td>0</td>\n",
       "      <td>0</td>\n",
       "      <td>0</td>\n",
       "      <td>0</td>\n",
       "      <td>0</td>\n",
       "      <td>0</td>\n",
       "      <td>0</td>\n",
       "      <td>0</td>\n",
       "      <td>0</td>\n",
       "      <td>0</td>\n",
       "    </tr>\n",
       "    <tr>\n",
       "      <th>8</th>\n",
       "      <td>0</td>\n",
       "      <td>0</td>\n",
       "      <td>0</td>\n",
       "      <td>0</td>\n",
       "      <td>0</td>\n",
       "      <td>0</td>\n",
       "      <td>0</td>\n",
       "      <td>0</td>\n",
       "      <td>0</td>\n",
       "      <td>0</td>\n",
       "      <td>...</td>\n",
       "      <td>0</td>\n",
       "      <td>0</td>\n",
       "      <td>0</td>\n",
       "      <td>0</td>\n",
       "      <td>0</td>\n",
       "      <td>0</td>\n",
       "      <td>0</td>\n",
       "      <td>0</td>\n",
       "      <td>0</td>\n",
       "      <td>0</td>\n",
       "    </tr>\n",
       "    <tr>\n",
       "      <th>9</th>\n",
       "      <td>0</td>\n",
       "      <td>0</td>\n",
       "      <td>0</td>\n",
       "      <td>1</td>\n",
       "      <td>0</td>\n",
       "      <td>0</td>\n",
       "      <td>0</td>\n",
       "      <td>0</td>\n",
       "      <td>0</td>\n",
       "      <td>0</td>\n",
       "      <td>...</td>\n",
       "      <td>0</td>\n",
       "      <td>1</td>\n",
       "      <td>0</td>\n",
       "      <td>0</td>\n",
       "      <td>0</td>\n",
       "      <td>1</td>\n",
       "      <td>0</td>\n",
       "      <td>0</td>\n",
       "      <td>1</td>\n",
       "      <td>0</td>\n",
       "    </tr>\n",
       "  </tbody>\n",
       "</table>\n",
       "<p>10 rows × 147 columns</p>\n",
       "</div>"
      ],
      "text/plain": [
       "   access  account  adequ  advertis  age  ageappropri  alexa  also  amazon  \\\n",
       "0       0        0      0         0    0            0      0     0       0   \n",
       "1       0        0      0         0    0            0      0     0       0   \n",
       "2       0        0      0         0    0            0      0     0       0   \n",
       "3       0        0      0         0    0            0      0     0       0   \n",
       "4       0        0      0         0    0            0      0     0       0   \n",
       "5       2        1      1         0    1            1      1     2       2   \n",
       "6       0        0      0         0    0            0      0     0       0   \n",
       "7       0        0      0         0    0            0      0     0       0   \n",
       "8       0        0      0         0    0            0      0     0       0   \n",
       "9       0        0      0         1    0            0      0     0       0   \n",
       "\n",
       "   amount  ...   unlimit  use  version  voic  want  warranti  web  work  \\\n",
       "0       0  ...         0    0        0     0     0         0    0     1   \n",
       "1       0  ...         0    0        0     0     2         0    0     0   \n",
       "2       0  ...         0    1        0     0     0         0    0     0   \n",
       "3       0  ...         0    0        1     0     0         0    0     0   \n",
       "4       0  ...         0    1        0     0     0         0    0     0   \n",
       "5       2  ...         1    2        1     1     0         0    1     1   \n",
       "6       0  ...         0    0        0     0     0         0    0     0   \n",
       "7       0  ...         0    0        0     0     0         0    0     0   \n",
       "8       0  ...         0    0        0     0     0         0    0     0   \n",
       "9       0  ...         0    1        0     0     0         1    0     0   \n",
       "\n",
       "   would  year  \n",
       "0      1     0  \n",
       "1      1     0  \n",
       "2      0     0  \n",
       "3      0     0  \n",
       "4      0     1  \n",
       "5      1     1  \n",
       "6      0     0  \n",
       "7      0     0  \n",
       "8      0     0  \n",
       "9      1     0  \n",
       "\n",
       "[10 rows x 147 columns]"
      ]
     },
     "execution_count": 51,
     "metadata": {},
     "output_type": "execute_result"
    }
   ],
   "source": [
    "df2= pd.DataFrame(X.toarray(), columns=cv2.get_feature_names())\n",
    "df2.head(10)"
   ]
  },
  {
   "cell_type": "code",
   "execution_count": 59,
   "metadata": {},
   "outputs": [],
   "source": [
    "# from sklearn.naive_bayes import GaussianNB\n",
    "# model = GaussianNB()\n",
    "y_train=y_train.astype('int')"
   ]
  },
  {
   "cell_type": "code",
   "execution_count": 53,
   "metadata": {},
   "outputs": [],
   "source": [
    "# model.fit(X_train_count, y_train)"
   ]
  },
  {
   "cell_type": "markdown",
   "metadata": {},
   "source": []
  },
  {
   "cell_type": "code",
   "execution_count": 54,
   "metadata": {},
   "outputs": [],
   "source": [
    "# import sys\n",
    "# print(sys.path)"
   ]
  },
  {
   "cell_type": "code",
   "execution_count": 68,
   "metadata": {
    "scrolled": true
   },
   "outputs": [
    {
     "data": {
      "text/plain": [
       "MultinomialNB(alpha=1.0, class_prior=None, fit_prior=True)"
      ]
     },
     "execution_count": 68,
     "metadata": {},
     "output_type": "execute_result"
    }
   ],
   "source": [
    "from sklearn.naive_bayes import MultinomialNB\n",
    "naive_bayes = MultinomialNB()\n",
    "naive_bayes.fit(training_data, y_train)\n"
   ]
  },
  {
   "cell_type": "code",
   "execution_count": 67,
   "metadata": {},
   "outputs": [
    {
     "data": {
      "text/plain": [
       "array([5, 5, 5, ..., 5, 4, 5])"
      ]
     },
     "execution_count": 67,
     "metadata": {},
     "output_type": "execute_result"
    }
   ],
   "source": [
    "# # naive_bayes.score(testing_data ,y_test)\n",
    "# naive_bayes.predict(training_data) \n",
    "# # predictions = naive_bayes.predict(testing_data)"
   ]
  },
  {
   "cell_type": "code",
   "execution_count": 71,
   "metadata": {},
   "outputs": [
    {
     "ename": "ValueError",
     "evalue": "setting an array element with a sequence.",
     "output_type": "error",
     "traceback": [
      "\u001b[1;31m---------------------------------------------------------------------------\u001b[0m",
      "\u001b[1;31mValueError\u001b[0m                                Traceback (most recent call last)",
      "\u001b[1;32m<ipython-input-71-c9bcf8057e38>\u001b[0m in \u001b[0;36m<module>\u001b[1;34m()\u001b[0m\n\u001b[1;32m----> 1\u001b[1;33m \u001b[0mprint\u001b[0m\u001b[1;33m(\u001b[0m\u001b[0mnaive_bayes\u001b[0m\u001b[1;33m.\u001b[0m\u001b[0mpredict\u001b[0m\u001b[1;33m(\u001b[0m\u001b[0mX_train\u001b[0m\u001b[1;33m[\u001b[0m\u001b[1;36m2\u001b[0m\u001b[1;33m:\u001b[0m\u001b[1;36m3\u001b[0m\u001b[1;33m]\u001b[0m\u001b[1;33m)\u001b[0m\u001b[1;33m)\u001b[0m\u001b[1;33m\u001b[0m\u001b[0m\n\u001b[0m",
      "\u001b[1;32m~\\Anaconda3\\lib\\site-packages\\sklearn\\naive_bayes.py\u001b[0m in \u001b[0;36mpredict\u001b[1;34m(self, X)\u001b[0m\n\u001b[0;32m     64\u001b[0m             \u001b[0mPredicted\u001b[0m \u001b[0mtarget\u001b[0m \u001b[0mvalues\u001b[0m \u001b[1;32mfor\u001b[0m \u001b[0mX\u001b[0m\u001b[1;33m\u001b[0m\u001b[0m\n\u001b[0;32m     65\u001b[0m         \"\"\"\n\u001b[1;32m---> 66\u001b[1;33m         \u001b[0mjll\u001b[0m \u001b[1;33m=\u001b[0m \u001b[0mself\u001b[0m\u001b[1;33m.\u001b[0m\u001b[0m_joint_log_likelihood\u001b[0m\u001b[1;33m(\u001b[0m\u001b[0mX\u001b[0m\u001b[1;33m)\u001b[0m\u001b[1;33m\u001b[0m\u001b[0m\n\u001b[0m\u001b[0;32m     67\u001b[0m         \u001b[1;32mreturn\u001b[0m \u001b[0mself\u001b[0m\u001b[1;33m.\u001b[0m\u001b[0mclasses_\u001b[0m\u001b[1;33m[\u001b[0m\u001b[0mnp\u001b[0m\u001b[1;33m.\u001b[0m\u001b[0margmax\u001b[0m\u001b[1;33m(\u001b[0m\u001b[0mjll\u001b[0m\u001b[1;33m,\u001b[0m \u001b[0maxis\u001b[0m\u001b[1;33m=\u001b[0m\u001b[1;36m1\u001b[0m\u001b[1;33m)\u001b[0m\u001b[1;33m]\u001b[0m\u001b[1;33m\u001b[0m\u001b[0m\n\u001b[0;32m     68\u001b[0m \u001b[1;33m\u001b[0m\u001b[0m\n",
      "\u001b[1;32m~\\Anaconda3\\lib\\site-packages\\sklearn\\naive_bayes.py\u001b[0m in \u001b[0;36m_joint_log_likelihood\u001b[1;34m(self, X)\u001b[0m\n\u001b[0;32m    722\u001b[0m         \u001b[0mcheck_is_fitted\u001b[0m\u001b[1;33m(\u001b[0m\u001b[0mself\u001b[0m\u001b[1;33m,\u001b[0m \u001b[1;34m\"classes_\"\u001b[0m\u001b[1;33m)\u001b[0m\u001b[1;33m\u001b[0m\u001b[0m\n\u001b[0;32m    723\u001b[0m \u001b[1;33m\u001b[0m\u001b[0m\n\u001b[1;32m--> 724\u001b[1;33m         \u001b[0mX\u001b[0m \u001b[1;33m=\u001b[0m \u001b[0mcheck_array\u001b[0m\u001b[1;33m(\u001b[0m\u001b[0mX\u001b[0m\u001b[1;33m,\u001b[0m \u001b[0maccept_sparse\u001b[0m\u001b[1;33m=\u001b[0m\u001b[1;34m'csr'\u001b[0m\u001b[1;33m)\u001b[0m\u001b[1;33m\u001b[0m\u001b[0m\n\u001b[0m\u001b[0;32m    725\u001b[0m         return (safe_sparse_dot(X, self.feature_log_prob_.T) +\n\u001b[0;32m    726\u001b[0m                 self.class_log_prior_)\n",
      "\u001b[1;32m~\\Anaconda3\\lib\\site-packages\\sklearn\\utils\\validation.py\u001b[0m in \u001b[0;36mcheck_array\u001b[1;34m(array, accept_sparse, dtype, order, copy, force_all_finite, ensure_2d, allow_nd, ensure_min_samples, ensure_min_features, warn_on_dtype, estimator)\u001b[0m\n\u001b[0;32m    431\u001b[0m                                       force_all_finite)\n\u001b[0;32m    432\u001b[0m     \u001b[1;32melse\u001b[0m\u001b[1;33m:\u001b[0m\u001b[1;33m\u001b[0m\u001b[0m\n\u001b[1;32m--> 433\u001b[1;33m         \u001b[0marray\u001b[0m \u001b[1;33m=\u001b[0m \u001b[0mnp\u001b[0m\u001b[1;33m.\u001b[0m\u001b[0marray\u001b[0m\u001b[1;33m(\u001b[0m\u001b[0marray\u001b[0m\u001b[1;33m,\u001b[0m \u001b[0mdtype\u001b[0m\u001b[1;33m=\u001b[0m\u001b[0mdtype\u001b[0m\u001b[1;33m,\u001b[0m \u001b[0morder\u001b[0m\u001b[1;33m=\u001b[0m\u001b[0morder\u001b[0m\u001b[1;33m,\u001b[0m \u001b[0mcopy\u001b[0m\u001b[1;33m=\u001b[0m\u001b[0mcopy\u001b[0m\u001b[1;33m)\u001b[0m\u001b[1;33m\u001b[0m\u001b[0m\n\u001b[0m\u001b[0;32m    434\u001b[0m \u001b[1;33m\u001b[0m\u001b[0m\n\u001b[0;32m    435\u001b[0m         \u001b[1;32mif\u001b[0m \u001b[0mensure_2d\u001b[0m\u001b[1;33m:\u001b[0m\u001b[1;33m\u001b[0m\u001b[0m\n",
      "\u001b[1;31mValueError\u001b[0m: setting an array element with a sequence."
     ]
    }
   ],
   "source": [
    "# print(naive_bayes.predict(X_train[2:3]))"
   ]
  },
  {
   "cell_type": "code",
   "execution_count": 69,
   "metadata": {},
   "outputs": [],
   "source": [
    "predictions = naive_bayes.predict(testing_data)"
   ]
  },
  {
   "cell_type": "code",
   "execution_count": 70,
   "metadata": {},
   "outputs": [
    {
     "ename": "SyntaxError",
     "evalue": "invalid syntax (<ipython-input-70-2bb97635b9ca>, line 1)",
     "output_type": "error",
     "traceback": [
      "\u001b[1;36m  File \u001b[1;32m\"<ipython-input-70-2bb97635b9ca>\"\u001b[1;36m, line \u001b[1;32m1\u001b[0m\n\u001b[1;33m    Precision = [True Positives/(True Positives + False Positives)]\u001b[0m\n\u001b[1;37m                              ^\u001b[0m\n\u001b[1;31mSyntaxError\u001b[0m\u001b[1;31m:\u001b[0m invalid syntax\n"
     ]
    }
   ],
   "source": [
    "# Precision = [True Positives/(True Positives + False Positives)]"
   ]
  },
  {
   "cell_type": "code",
   "execution_count": null,
   "metadata": {},
   "outputs": [],
   "source": []
  },
  {
   "cell_type": "code",
   "execution_count": null,
   "metadata": {},
   "outputs": [],
   "source": []
  },
  {
   "cell_type": "code",
   "execution_count": null,
   "metadata": {},
   "outputs": [],
   "source": []
  },
  {
   "cell_type": "code",
   "execution_count": null,
   "metadata": {},
   "outputs": [],
   "source": []
  },
  {
   "cell_type": "code",
   "execution_count": null,
   "metadata": {},
   "outputs": [],
   "source": []
  },
  {
   "cell_type": "code",
   "execution_count": null,
   "metadata": {},
   "outputs": [],
   "source": [
    "#reviews length"
   ]
  },
  {
   "cell_type": "code",
   "execution_count": null,
   "metadata": {},
   "outputs": [],
   "source": [
    "df['reiviews_len']=df['reviews'].apply(lambda x: len(x))"
   ]
  },
  {
   "cell_type": "code",
   "execution_count": null,
   "metadata": {},
   "outputs": [],
   "source": [
    "#punctuation usage"
   ]
  },
  {
   "cell_type": "code",
   "execution_count": null,
   "metadata": {},
   "outputs": [],
   "source": [
    "import string\n",
    "def puncation_count(txt):\n",
    "    count = sum([1 for c in txt if c in string.punctuation])\n",
    "    return count/(len(txt))\n",
    "\n",
    "df['punctuation_%']= df['reviews'].apply(lambda x: puncation_count(x) )"
   ]
  },
  {
   "cell_type": "code",
   "execution_count": null,
   "metadata": {},
   "outputs": [],
   "source": [
    "df.head()"
   ]
  },
  {
   "cell_type": "code",
   "execution_count": null,
   "metadata": {},
   "outputs": [],
   "source": [
    "df.rating = df.rating.astype(str) "
   ]
  },
  {
   "cell_type": "code",
   "execution_count": null,
   "metadata": {},
   "outputs": [],
   "source": [
    "# from matplotlib import pyplot \n"
   ]
  },
  {
   "cell_type": "code",
   "execution_count": null,
   "metadata": {},
   "outputs": [],
   "source": [
    "# from matplotlib import pyplot \n",
    "# import numpy as np\n",
    "# %matplotlib inline\n"
   ]
  },
  {
   "cell_type": "code",
   "execution_count": null,
   "metadata": {},
   "outputs": [],
   "source": [
    "# bins = np.linspace(0, 250, 50)\n",
    "# pyplot.hist(df[df['rating'] == '1']['reviews_len'], bins, label='1', normed=True)\n",
    "# pyplot.hist(df[df['rating'] == '2']['reviews_len'], bins, label='2', normed=True)\n",
    "# pyplot.hist(df[df['rating'] == '3']['reviews_len'], bins, label='3', normed=True)\n",
    "# pyplot.hist(df[df['rating'] == '4']['reviews_len'], bins, label='4', normed=True)\n",
    "# pyplot.hist(df[df['rating'] == '5']['reviews_len'], bins, label='5', normed=True)\n",
    "# pyplot.legend(loc='upper right')\n",
    "# pyplot.show()"
   ]
  },
  {
   "cell_type": "code",
   "execution_count": null,
   "metadata": {},
   "outputs": [],
   "source": [
    "# bins = np.linspace(0, 250, 50)\n",
    "# pyplot.hist(df[df['rating'] == '1']['punctuation_%'], bins, label='1', normed=True)\n",
    "# pyplot.hist(df[df['rating'] == '2']['punctuation_%'], bins, label='2', normed=True)\n",
    "# pyplot.hist(df[df['rating'] == '3']['punctuation_%'], bins, label='3', normed=True)\n",
    "# pyplot.hist(df[df['rating'] == '4']['punctuation_%'], bins, label='4', normed=True)\n",
    "# pyplot.hist(df[df['rating'] == '5']['punctuation_%'], bins, label='5', normed=True)\n",
    "# pyplot.legend(loc='upper right')\n",
    "# pyplot.show()"
   ]
  },
  {
   "cell_type": "code",
   "execution_count": null,
   "metadata": {},
   "outputs": [],
   "source": [
    "#transformation"
   ]
  },
  {
   "cell_type": "code",
   "execution_count": null,
   "metadata": {},
   "outputs": [],
   "source": [
    "# bins = np.linspace(0, 500, 50)\n",
    "# pyplot.hist(df['reviews_len'], bins)\n",
    "# pyplot.title('message length')\n",
    "# pyplot.show()"
   ]
  },
  {
   "cell_type": "code",
   "execution_count": null,
   "metadata": {},
   "outputs": [],
   "source": []
  },
  {
   "cell_type": "code",
   "execution_count": null,
   "metadata": {},
   "outputs": [],
   "source": []
  },
  {
   "cell_type": "code",
   "execution_count": null,
   "metadata": {},
   "outputs": [],
   "source": []
  },
  {
   "cell_type": "code",
   "execution_count": null,
   "metadata": {},
   "outputs": [],
   "source": []
  },
  {
   "cell_type": "code",
   "execution_count": null,
   "metadata": {},
   "outputs": [],
   "source": []
  },
  {
   "cell_type": "code",
   "execution_count": null,
   "metadata": {},
   "outputs": [],
   "source": []
  },
  {
   "cell_type": "code",
   "execution_count": null,
   "metadata": {},
   "outputs": [],
   "source": []
  },
  {
   "cell_type": "code",
   "execution_count": null,
   "metadata": {},
   "outputs": [],
   "source": []
  },
  {
   "cell_type": "code",
   "execution_count": null,
   "metadata": {},
   "outputs": [],
   "source": []
  },
  {
   "cell_type": "code",
   "execution_count": null,
   "metadata": {},
   "outputs": [],
   "source": []
  },
  {
   "cell_type": "code",
   "execution_count": null,
   "metadata": {},
   "outputs": [],
   "source": []
  },
  {
   "cell_type": "code",
   "execution_count": null,
   "metadata": {},
   "outputs": [],
   "source": []
  },
  {
   "cell_type": "code",
   "execution_count": null,
   "metadata": {},
   "outputs": [],
   "source": []
  },
  {
   "cell_type": "code",
   "execution_count": null,
   "metadata": {},
   "outputs": [],
   "source": []
  },
  {
   "cell_type": "code",
   "execution_count": null,
   "metadata": {},
   "outputs": [],
   "source": []
  },
  {
   "cell_type": "code",
   "execution_count": null,
   "metadata": {},
   "outputs": [],
   "source": []
  },
  {
   "cell_type": "code",
   "execution_count": null,
   "metadata": {},
   "outputs": [],
   "source": []
  },
  {
   "cell_type": "code",
   "execution_count": null,
   "metadata": {},
   "outputs": [],
   "source": []
  },
  {
   "cell_type": "code",
   "execution_count": null,
   "metadata": {},
   "outputs": [],
   "source": []
  },
  {
   "cell_type": "code",
   "execution_count": null,
   "metadata": {},
   "outputs": [],
   "source": []
  },
  {
   "cell_type": "code",
   "execution_count": null,
   "metadata": {},
   "outputs": [],
   "source": []
  },
  {
   "cell_type": "code",
   "execution_count": null,
   "metadata": {},
   "outputs": [],
   "source": []
  },
  {
   "cell_type": "code",
   "execution_count": null,
   "metadata": {},
   "outputs": [],
   "source": []
  },
  {
   "cell_type": "code",
   "execution_count": null,
   "metadata": {},
   "outputs": [],
   "source": []
  },
  {
   "cell_type": "code",
   "execution_count": null,
   "metadata": {},
   "outputs": [],
   "source": []
  },
  {
   "cell_type": "code",
   "execution_count": null,
   "metadata": {},
   "outputs": [],
   "source": []
  },
  {
   "cell_type": "code",
   "execution_count": null,
   "metadata": {},
   "outputs": [],
   "source": []
  },
  {
   "cell_type": "code",
   "execution_count": null,
   "metadata": {},
   "outputs": [],
   "source": []
  },
  {
   "cell_type": "code",
   "execution_count": null,
   "metadata": {},
   "outputs": [],
   "source": []
  },
  {
   "cell_type": "code",
   "execution_count": null,
   "metadata": {},
   "outputs": [],
   "source": []
  },
  {
   "cell_type": "code",
   "execution_count": null,
   "metadata": {},
   "outputs": [],
   "source": []
  },
  {
   "cell_type": "code",
   "execution_count": null,
   "metadata": {},
   "outputs": [],
   "source": []
  },
  {
   "cell_type": "code",
   "execution_count": null,
   "metadata": {},
   "outputs": [],
   "source": []
  },
  {
   "cell_type": "code",
   "execution_count": null,
   "metadata": {},
   "outputs": [],
   "source": []
  },
  {
   "cell_type": "code",
   "execution_count": null,
   "metadata": {},
   "outputs": [],
   "source": []
  },
  {
   "cell_type": "code",
   "execution_count": null,
   "metadata": {},
   "outputs": [],
   "source": []
  },
  {
   "cell_type": "code",
   "execution_count": null,
   "metadata": {},
   "outputs": [],
   "source": []
  },
  {
   "cell_type": "code",
   "execution_count": null,
   "metadata": {},
   "outputs": [],
   "source": []
  },
  {
   "cell_type": "code",
   "execution_count": null,
   "metadata": {},
   "outputs": [],
   "source": []
  },
  {
   "cell_type": "code",
   "execution_count": null,
   "metadata": {},
   "outputs": [],
   "source": []
  },
  {
   "cell_type": "code",
   "execution_count": null,
   "metadata": {},
   "outputs": [],
   "source": []
  },
  {
   "cell_type": "code",
   "execution_count": null,
   "metadata": {},
   "outputs": [],
   "source": []
  },
  {
   "cell_type": "code",
   "execution_count": null,
   "metadata": {},
   "outputs": [],
   "source": []
  },
  {
   "cell_type": "code",
   "execution_count": null,
   "metadata": {},
   "outputs": [],
   "source": []
  },
  {
   "cell_type": "code",
   "execution_count": null,
   "metadata": {},
   "outputs": [],
   "source": []
  },
  {
   "cell_type": "code",
   "execution_count": null,
   "metadata": {},
   "outputs": [],
   "source": []
  },
  {
   "cell_type": "code",
   "execution_count": null,
   "metadata": {},
   "outputs": [],
   "source": []
  },
  {
   "cell_type": "code",
   "execution_count": null,
   "metadata": {},
   "outputs": [],
   "source": []
  },
  {
   "cell_type": "code",
   "execution_count": null,
   "metadata": {},
   "outputs": [],
   "source": []
  },
  {
   "cell_type": "code",
   "execution_count": null,
   "metadata": {},
   "outputs": [],
   "source": []
  },
  {
   "cell_type": "code",
   "execution_count": null,
   "metadata": {},
   "outputs": [],
   "source": []
  },
  {
   "cell_type": "code",
   "execution_count": null,
   "metadata": {},
   "outputs": [],
   "source": []
  },
  {
   "cell_type": "code",
   "execution_count": null,
   "metadata": {},
   "outputs": [],
   "source": []
  },
  {
   "cell_type": "code",
   "execution_count": null,
   "metadata": {},
   "outputs": [],
   "source": []
  },
  {
   "cell_type": "code",
   "execution_count": null,
   "metadata": {},
   "outputs": [],
   "source": []
  },
  {
   "cell_type": "code",
   "execution_count": null,
   "metadata": {},
   "outputs": [],
   "source": []
  },
  {
   "cell_type": "code",
   "execution_count": null,
   "metadata": {},
   "outputs": [],
   "source": []
  },
  {
   "cell_type": "code",
   "execution_count": null,
   "metadata": {},
   "outputs": [],
   "source": []
  },
  {
   "cell_type": "code",
   "execution_count": null,
   "metadata": {},
   "outputs": [],
   "source": []
  },
  {
   "cell_type": "code",
   "execution_count": null,
   "metadata": {},
   "outputs": [],
   "source": []
  },
  {
   "cell_type": "code",
   "execution_count": null,
   "metadata": {},
   "outputs": [],
   "source": []
  },
  {
   "cell_type": "code",
   "execution_count": null,
   "metadata": {},
   "outputs": [],
   "source": []
  },
  {
   "cell_type": "code",
   "execution_count": null,
   "metadata": {},
   "outputs": [],
   "source": [
    "\n",
    "\n"
   ]
  },
  {
   "cell_type": "code",
   "execution_count": null,
   "metadata": {},
   "outputs": [],
   "source": []
  },
  {
   "cell_type": "code",
   "execution_count": null,
   "metadata": {},
   "outputs": [],
   "source": []
  }
 ],
 "metadata": {
  "kernelspec": {
   "display_name": "Python 3",
   "language": "python",
   "name": "python3"
  }
 },
 "nbformat": 4,
 "nbformat_minor": 2
}
