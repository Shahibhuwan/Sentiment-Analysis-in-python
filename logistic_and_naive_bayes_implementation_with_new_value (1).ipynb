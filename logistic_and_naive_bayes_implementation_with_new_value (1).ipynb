{
  "nbformat": 4,
  "nbformat_minor": 0,
  "metadata": {
    "colab": {
      "name": "logistic and naive bayes implementation with new value.ipynb",
      "provenance": [],
      "collapsed_sections": [],
      "toc_visible": true
    },
    "kernelspec": {
      "display_name": "Python 3",
      "name": "python3"
    }
  },
  "cells": [
    {
      "cell_type": "code",
      "metadata": {
        "id": "1RYhg-867YKH",
        "colab": {
          "base_uri": "https://localhost:8080/"
        },
        "outputId": "3e537b2b-a8f6-4a8a-84bf-7785b654e2c4"
      },
      "source": [
        "from google.colab import drive\n",
        "drive.mount('/content/drive')\n"
      ],
      "execution_count": 1,
      "outputs": [
        {
          "output_type": "stream",
          "text": [
            "Drive already mounted at /content/drive; to attempt to forcibly remount, call drive.mount(\"/content/drive\", force_remount=True).\n"
          ],
          "name": "stdout"
        }
      ]
    },
    {
      "cell_type": "code",
      "metadata": {
        "id": "O5Ro8jgm7YRD",
        "colab": {
          "base_uri": "https://localhost:8080/"
        },
        "outputId": "e60a52b1-8cd1-4e54-9faa-935609ce507f"
      },
      "source": [
        "import nltk\n",
        "import numpy as np\n",
        "\n",
        "import pandas as pd\n",
        "from sklearn.pipeline import Pipeline\n",
        "from sklearn.naive_bayes import MultinomialNB\n",
        "from sklearn.feature_extraction.text import TfidfTransformer\n",
        "from sklearn.feature_extraction.text import CountVectorizer\n",
        "from sklearn.linear_model import LogisticRegression\n",
        "from matplotlib import pyplot as plt\n",
        "%matplotlib inline\n",
        "import seaborn as sns\n",
        "import re\n",
        "nltk.download('stopwords')\n",
        "nltk.download('wordnet')\n",
        "nltk.download('punkt')\n",
        "\n",
        "from wordcloud import WordCloud,STOPWORDS, ImageColorGenerator\n",
        "\n",
        "import matplotlib.pyplot as plt\n",
        "%matplotlib inline"
      ],
      "execution_count": 2,
      "outputs": [
        {
          "output_type": "stream",
          "text": [
            "[nltk_data] Downloading package stopwords to /root/nltk_data...\n",
            "[nltk_data]   Package stopwords is already up-to-date!\n",
            "[nltk_data] Downloading package wordnet to /root/nltk_data...\n",
            "[nltk_data]   Package wordnet is already up-to-date!\n",
            "[nltk_data] Downloading package punkt to /root/nltk_data...\n",
            "[nltk_data]   Package punkt is already up-to-date!\n"
          ],
          "name": "stdout"
        }
      ]
    },
    {
      "cell_type": "code",
      "metadata": {
        "id": "K-VyAmg_4lYS"
      },
      "source": [
        "\n",
        "\n"
      ],
      "execution_count": 2,
      "outputs": []
    },
    {
      "cell_type": "code",
      "metadata": {
        "id": "nhNmAVFE7YXB",
        "colab": {
          "base_uri": "https://localhost:8080/",
          "height": 255
        },
        "outputId": "2f6ae4ff-7384-4679-d309-2ad2269d2a17"
      },
      "source": [
        "import pandas as pd\n",
        "pd.set_option('display.max_colwidth',200)\n",
        "df=pd.read_csv(r'/content/drive/MyDrive/1st project googlecolab/GrammarandProductReviews.csv',encoding='UTF-8',sep=',')\n",
        "df.shape\n",
        "df.head()"
      ],
      "execution_count": 3,
      "outputs": [
        {
          "output_type": "execute_result",
          "data": {
            "text/html": [
              "<div>\n",
              "<style scoped>\n",
              "    .dataframe tbody tr th:only-of-type {\n",
              "        vertical-align: middle;\n",
              "    }\n",
              "\n",
              "    .dataframe tbody tr th {\n",
              "        vertical-align: top;\n",
              "    }\n",
              "\n",
              "    .dataframe thead th {\n",
              "        text-align: right;\n",
              "    }\n",
              "</style>\n",
              "<table border=\"1\" class=\"dataframe\">\n",
              "  <thead>\n",
              "    <tr style=\"text-align: right;\">\n",
              "      <th></th>\n",
              "      <th>reviews</th>\n",
              "      <th>rating</th>\n",
              "    </tr>\n",
              "  </thead>\n",
              "  <tbody>\n",
              "    <tr>\n",
              "      <th>0</th>\n",
              "      <td>!We enjoy watching this movie with our kids! It's enjoyable for the whole family</td>\n",
              "      <td>5</td>\n",
              "    </tr>\n",
              "    <tr>\n",
              "      <th>1</th>\n",
              "      <td>\" Not best sequel but one of better ones\" it builds on ID4 universe with explanation on what aliens wanted to do with earth and also a third party race but way too much chi which is expected with ...</td>\n",
              "      <td>3</td>\n",
              "    </tr>\n",
              "    <tr>\n",
              "      <th>2</th>\n",
              "      <td>\"Best pressed powder I've ever used. It is so smooth going on my face, and it looks natural.</td>\n",
              "      <td>5</td>\n",
              "    </tr>\n",
              "    <tr>\n",
              "      <th>3</th>\n",
              "      <td>\"Dark Shadows\" is Tim Burton's take on the TV show of the same name and a really cool one, at that. Great cast and a cameo of Alice Cooper. Doesn't get much better.Johnny Depp continues a successf...</td>\n",
              "      <td>4</td>\n",
              "    </tr>\n",
              "    <tr>\n",
              "      <th>4</th>\n",
              "      <td>\"Easy to assemble...lightweight....yet seems sturdyHome to sewing supplies, portable machine is on BOTTOM shelf, just in case!So far, so goodBegan with two Way basics products, now own five......L...</td>\n",
              "      <td>5</td>\n",
              "    </tr>\n",
              "  </tbody>\n",
              "</table>\n",
              "</div>"
            ],
            "text/plain": [
              "                                                                                                                                                                                                   reviews  rating\n",
              "0                                                                                                                         !We enjoy watching this movie with our kids! It's enjoyable for the whole family       5\n",
              "1  \" Not best sequel but one of better ones\" it builds on ID4 universe with explanation on what aliens wanted to do with earth and also a third party race but way too much chi which is expected with ...       3\n",
              "2                                                                                                             \"Best pressed powder I've ever used. It is so smooth going on my face, and it looks natural.       5\n",
              "3  \"Dark Shadows\" is Tim Burton's take on the TV show of the same name and a really cool one, at that. Great cast and a cameo of Alice Cooper. Doesn't get much better.Johnny Depp continues a successf...       4\n",
              "4  \"Easy to assemble...lightweight....yet seems sturdyHome to sewing supplies, portable machine is on BOTTOM shelf, just in case!So far, so goodBegan with two Way basics products, now own five......L...       5"
            ]
          },
          "metadata": {
            "tags": []
          },
          "execution_count": 3
        }
      ]
    },
    {
      "cell_type": "code",
      "metadata": {
        "id": "yvpqwyPririj",
        "colab": {
          "base_uri": "https://localhost:8080/"
        },
        "outputId": "8c450566-aecd-4e87-fea7-757e304a566f"
      },
      "source": [
        "df.isna().sum()"
      ],
      "execution_count": 4,
      "outputs": [
        {
          "output_type": "execute_result",
          "data": {
            "text/plain": [
              "reviews    49\n",
              "rating      0\n",
              "dtype: int64"
            ]
          },
          "metadata": {
            "tags": []
          },
          "execution_count": 4
        }
      ]
    },
    {
      "cell_type": "code",
      "metadata": {
        "id": "fTvm1SnBir96"
      },
      "source": [
        "df.dropna(subset = [\"reviews\"], inplace=True)"
      ],
      "execution_count": 5,
      "outputs": []
    },
    {
      "cell_type": "code",
      "metadata": {
        "id": "iN_uEqtF7YbC",
        "colab": {
          "base_uri": "https://localhost:8080/",
          "height": 255
        },
        "outputId": "90ae5553-da72-43a0-a737-e81469c0f81c"
      },
      "source": [
        "df.reviews = df.reviews.astype(str) \n",
        "df.rating = df.rating.astype(int) \n",
        "df.reviews = df.reviews.apply(lambda x: x.lower())\n",
        "df.head()"
      ],
      "execution_count": 6,
      "outputs": [
        {
          "output_type": "execute_result",
          "data": {
            "text/html": [
              "<div>\n",
              "<style scoped>\n",
              "    .dataframe tbody tr th:only-of-type {\n",
              "        vertical-align: middle;\n",
              "    }\n",
              "\n",
              "    .dataframe tbody tr th {\n",
              "        vertical-align: top;\n",
              "    }\n",
              "\n",
              "    .dataframe thead th {\n",
              "        text-align: right;\n",
              "    }\n",
              "</style>\n",
              "<table border=\"1\" class=\"dataframe\">\n",
              "  <thead>\n",
              "    <tr style=\"text-align: right;\">\n",
              "      <th></th>\n",
              "      <th>reviews</th>\n",
              "      <th>rating</th>\n",
              "    </tr>\n",
              "  </thead>\n",
              "  <tbody>\n",
              "    <tr>\n",
              "      <th>0</th>\n",
              "      <td>!we enjoy watching this movie with our kids! it's enjoyable for the whole family</td>\n",
              "      <td>5</td>\n",
              "    </tr>\n",
              "    <tr>\n",
              "      <th>1</th>\n",
              "      <td>\" not best sequel but one of better ones\" it builds on id4 universe with explanation on what aliens wanted to do with earth and also a third party race but way too much chi which is expected with ...</td>\n",
              "      <td>3</td>\n",
              "    </tr>\n",
              "    <tr>\n",
              "      <th>2</th>\n",
              "      <td>\"best pressed powder i've ever used. it is so smooth going on my face, and it looks natural.</td>\n",
              "      <td>5</td>\n",
              "    </tr>\n",
              "    <tr>\n",
              "      <th>3</th>\n",
              "      <td>\"dark shadows\" is tim burton's take on the tv show of the same name and a really cool one, at that. great cast and a cameo of alice cooper. doesn't get much better.johnny depp continues a successf...</td>\n",
              "      <td>4</td>\n",
              "    </tr>\n",
              "    <tr>\n",
              "      <th>4</th>\n",
              "      <td>\"easy to assemble...lightweight....yet seems sturdyhome to sewing supplies, portable machine is on bottom shelf, just in case!so far, so goodbegan with two way basics products, now own five......l...</td>\n",
              "      <td>5</td>\n",
              "    </tr>\n",
              "  </tbody>\n",
              "</table>\n",
              "</div>"
            ],
            "text/plain": [
              "                                                                                                                                                                                                   reviews  rating\n",
              "0                                                                                                                         !we enjoy watching this movie with our kids! it's enjoyable for the whole family       5\n",
              "1  \" not best sequel but one of better ones\" it builds on id4 universe with explanation on what aliens wanted to do with earth and also a third party race but way too much chi which is expected with ...       3\n",
              "2                                                                                                             \"best pressed powder i've ever used. it is so smooth going on my face, and it looks natural.       5\n",
              "3  \"dark shadows\" is tim burton's take on the tv show of the same name and a really cool one, at that. great cast and a cameo of alice cooper. doesn't get much better.johnny depp continues a successf...       4\n",
              "4  \"easy to assemble...lightweight....yet seems sturdyhome to sewing supplies, portable machine is on bottom shelf, just in case!so far, so goodbegan with two way basics products, now own five......l...       5"
            ]
          },
          "metadata": {
            "tags": []
          },
          "execution_count": 6
        }
      ]
    },
    {
      "cell_type": "code",
      "metadata": {
        "colab": {
          "base_uri": "https://localhost:8080/"
        },
        "id": "WRtbpOOHkk3Y",
        "outputId": "a3e50dd7-095f-42ad-83c6-bdf831e46b45"
      },
      "source": [
        "import sys  \n",
        "!{sys.executable} -m pip install contractions"
      ],
      "execution_count": 7,
      "outputs": [
        {
          "output_type": "stream",
          "text": [
            "Requirement already satisfied: contractions in /usr/local/lib/python3.7/dist-packages (0.0.48)\n",
            "Requirement already satisfied: textsearch>=0.0.21 in /usr/local/lib/python3.7/dist-packages (from contractions) (0.0.21)\n",
            "Requirement already satisfied: pyahocorasick in /usr/local/lib/python3.7/dist-packages (from textsearch>=0.0.21->contractions) (1.4.2)\n",
            "Requirement already satisfied: anyascii in /usr/local/lib/python3.7/dist-packages (from textsearch>=0.0.21->contractions) (0.1.7)\n"
          ],
          "name": "stdout"
        }
      ]
    },
    {
      "cell_type": "code",
      "metadata": {
        "id": "of4yQASmj6im"
      },
      "source": [
        "import contractions\n",
        "def contract(text):\n",
        "  txt = contractions.fix(text)\n",
        "  return txt\n",
        "\n",
        "df['decon'] = df['reviews'].apply(lambda com : contract(com))"
      ],
      "execution_count": 8,
      "outputs": []
    },
    {
      "cell_type": "code",
      "metadata": {
        "id": "TFCzgEFn7Yez",
        "colab": {
          "base_uri": "https://localhost:8080/",
          "height": 391
        },
        "outputId": "33c66de2-744b-4a38-f41e-0e731a68fb70"
      },
      "source": [
        "df.head()"
      ],
      "execution_count": 9,
      "outputs": [
        {
          "output_type": "execute_result",
          "data": {
            "text/html": [
              "<div>\n",
              "<style scoped>\n",
              "    .dataframe tbody tr th:only-of-type {\n",
              "        vertical-align: middle;\n",
              "    }\n",
              "\n",
              "    .dataframe tbody tr th {\n",
              "        vertical-align: top;\n",
              "    }\n",
              "\n",
              "    .dataframe thead th {\n",
              "        text-align: right;\n",
              "    }\n",
              "</style>\n",
              "<table border=\"1\" class=\"dataframe\">\n",
              "  <thead>\n",
              "    <tr style=\"text-align: right;\">\n",
              "      <th></th>\n",
              "      <th>reviews</th>\n",
              "      <th>rating</th>\n",
              "      <th>decon</th>\n",
              "    </tr>\n",
              "  </thead>\n",
              "  <tbody>\n",
              "    <tr>\n",
              "      <th>0</th>\n",
              "      <td>!we enjoy watching this movie with our kids! it's enjoyable for the whole family</td>\n",
              "      <td>5</td>\n",
              "      <td>!we enjoy watching this movie with our kids! it is enjoyable for the whole family</td>\n",
              "    </tr>\n",
              "    <tr>\n",
              "      <th>1</th>\n",
              "      <td>\" not best sequel but one of better ones\" it builds on id4 universe with explanation on what aliens wanted to do with earth and also a third party race but way too much chi which is expected with ...</td>\n",
              "      <td>3</td>\n",
              "      <td>\" not best sequel but one of better ones\" it builds on id4 universe with explanation on what aliens wanted to do with earth and also a third party race but way too much chi which is expected with ...</td>\n",
              "    </tr>\n",
              "    <tr>\n",
              "      <th>2</th>\n",
              "      <td>\"best pressed powder i've ever used. it is so smooth going on my face, and it looks natural.</td>\n",
              "      <td>5</td>\n",
              "      <td>\"best pressed powder I have ever used. it is so smooth going on my face, and it looks natural.</td>\n",
              "    </tr>\n",
              "    <tr>\n",
              "      <th>3</th>\n",
              "      <td>\"dark shadows\" is tim burton's take on the tv show of the same name and a really cool one, at that. great cast and a cameo of alice cooper. doesn't get much better.johnny depp continues a successf...</td>\n",
              "      <td>4</td>\n",
              "      <td>\"dark shadows\" is tim burton's take on the tv show of the same name and a really cool one, at that. great cast and a cameo of alice cooper. does not get much better.johnny depp continues a success...</td>\n",
              "    </tr>\n",
              "    <tr>\n",
              "      <th>4</th>\n",
              "      <td>\"easy to assemble...lightweight....yet seems sturdyhome to sewing supplies, portable machine is on bottom shelf, just in case!so far, so goodbegan with two way basics products, now own five......l...</td>\n",
              "      <td>5</td>\n",
              "      <td>\"easy to assemble...lightweight....yet seems sturdyhome to sewing supplies, portable machine is on bottom shelf, just in case!so far, so goodbegan with two way basics products, now own five......l...</td>\n",
              "    </tr>\n",
              "  </tbody>\n",
              "</table>\n",
              "</div>"
            ],
            "text/plain": [
              "                                                                                                                                                                                                   reviews  ...                                                                                                                                                                                                    decon\n",
              "0                                                                                                                         !we enjoy watching this movie with our kids! it's enjoyable for the whole family  ...                                                                                                                        !we enjoy watching this movie with our kids! it is enjoyable for the whole family\n",
              "1  \" not best sequel but one of better ones\" it builds on id4 universe with explanation on what aliens wanted to do with earth and also a third party race but way too much chi which is expected with ...  ...  \" not best sequel but one of better ones\" it builds on id4 universe with explanation on what aliens wanted to do with earth and also a third party race but way too much chi which is expected with ...\n",
              "2                                                                                                             \"best pressed powder i've ever used. it is so smooth going on my face, and it looks natural.  ...                                                                                                           \"best pressed powder I have ever used. it is so smooth going on my face, and it looks natural.\n",
              "3  \"dark shadows\" is tim burton's take on the tv show of the same name and a really cool one, at that. great cast and a cameo of alice cooper. doesn't get much better.johnny depp continues a successf...  ...  \"dark shadows\" is tim burton's take on the tv show of the same name and a really cool one, at that. great cast and a cameo of alice cooper. does not get much better.johnny depp continues a success...\n",
              "4  \"easy to assemble...lightweight....yet seems sturdyhome to sewing supplies, portable machine is on bottom shelf, just in case!so far, so goodbegan with two way basics products, now own five......l...  ...  \"easy to assemble...lightweight....yet seems sturdyhome to sewing supplies, portable machine is on bottom shelf, just in case!so far, so goodbegan with two way basics products, now own five......l...\n",
              "\n",
              "[5 rows x 3 columns]"
            ]
          },
          "metadata": {
            "tags": []
          },
          "execution_count": 9
        }
      ]
    },
    {
      "cell_type": "code",
      "metadata": {
        "id": "yfWJic-l7Yh_"
      },
      "source": [
        "def decontracted(phrase):\n",
        "    # phrase = re.sub(r\"\\'t\", \"not\", phrase)\n",
        "    # phrase = re.sub(r\"\\'re\", \" are\", phrase)\n",
        "    # phrase = re.sub(r\"\\'s\", \" is\", phrase)\n",
        "    # phrase = re.sub(r\"\\'d\", \" would\", phrase)\n",
        "    # phrase = re.sub(r\"\\'ll\", \" will\", phrase)\n",
        "    # phrase = re.sub(r\"\\'ve\", \" have\", phrase)\n",
        "    # phrase = re.sub(r\"\\'m\", \" am\", phrase)\n",
        "    phrase = re.sub('\\W', ' ', phrase)\n",
        "    phrase = re.sub('\\s+', ' ', phrase)\n",
        "    phrase = phrase.strip(' ')\n",
        "    return phrase\n",
        "df['decons'] = df['decon'].apply(lambda com : decontracted(com))\n"
      ],
      "execution_count": 10,
      "outputs": []
    },
    {
      "cell_type": "code",
      "metadata": {
        "id": "7CjWx9R74qr1",
        "colab": {
          "base_uri": "https://localhost:8080/",
          "height": 612
        },
        "outputId": "352b3d45-e450-4021-cf9f-d685eefad275"
      },
      "source": [
        "import string\n",
        "def remove_punctuations(txt):\n",
        "    txt = \"\".join([c for c in txt if c not in string.punctuation])\n",
        "    return txt\n",
        "df['RemovePunct'] = df['decons'].apply(remove_punctuations)\n",
        "df.head()"
      ],
      "execution_count": 11,
      "outputs": [
        {
          "output_type": "execute_result",
          "data": {
            "text/html": [
              "<div>\n",
              "<style scoped>\n",
              "    .dataframe tbody tr th:only-of-type {\n",
              "        vertical-align: middle;\n",
              "    }\n",
              "\n",
              "    .dataframe tbody tr th {\n",
              "        vertical-align: top;\n",
              "    }\n",
              "\n",
              "    .dataframe thead th {\n",
              "        text-align: right;\n",
              "    }\n",
              "</style>\n",
              "<table border=\"1\" class=\"dataframe\">\n",
              "  <thead>\n",
              "    <tr style=\"text-align: right;\">\n",
              "      <th></th>\n",
              "      <th>reviews</th>\n",
              "      <th>rating</th>\n",
              "      <th>decon</th>\n",
              "      <th>decons</th>\n",
              "      <th>RemovePunct</th>\n",
              "    </tr>\n",
              "  </thead>\n",
              "  <tbody>\n",
              "    <tr>\n",
              "      <th>0</th>\n",
              "      <td>!we enjoy watching this movie with our kids! it's enjoyable for the whole family</td>\n",
              "      <td>5</td>\n",
              "      <td>!we enjoy watching this movie with our kids! it is enjoyable for the whole family</td>\n",
              "      <td>we enjoy watching this movie with our kids it is enjoyable for the whole family</td>\n",
              "      <td>we enjoy watching this movie with our kids it is enjoyable for the whole family</td>\n",
              "    </tr>\n",
              "    <tr>\n",
              "      <th>1</th>\n",
              "      <td>\" not best sequel but one of better ones\" it builds on id4 universe with explanation on what aliens wanted to do with earth and also a third party race but way too much chi which is expected with ...</td>\n",
              "      <td>3</td>\n",
              "      <td>\" not best sequel but one of better ones\" it builds on id4 universe with explanation on what aliens wanted to do with earth and also a third party race but way too much chi which is expected with ...</td>\n",
              "      <td>not best sequel but one of better ones it builds on id4 universe with explanation on what aliens wanted to do with earth and also a third party race but way too much chi which is expected with any...</td>\n",
              "      <td>not best sequel but one of better ones it builds on id4 universe with explanation on what aliens wanted to do with earth and also a third party race but way too much chi which is expected with any...</td>\n",
              "    </tr>\n",
              "    <tr>\n",
              "      <th>2</th>\n",
              "      <td>\"best pressed powder i've ever used. it is so smooth going on my face, and it looks natural.</td>\n",
              "      <td>5</td>\n",
              "      <td>\"best pressed powder I have ever used. it is so smooth going on my face, and it looks natural.</td>\n",
              "      <td>best pressed powder I have ever used it is so smooth going on my face and it looks natural</td>\n",
              "      <td>best pressed powder I have ever used it is so smooth going on my face and it looks natural</td>\n",
              "    </tr>\n",
              "    <tr>\n",
              "      <th>3</th>\n",
              "      <td>\"dark shadows\" is tim burton's take on the tv show of the same name and a really cool one, at that. great cast and a cameo of alice cooper. doesn't get much better.johnny depp continues a successf...</td>\n",
              "      <td>4</td>\n",
              "      <td>\"dark shadows\" is tim burton's take on the tv show of the same name and a really cool one, at that. great cast and a cameo of alice cooper. does not get much better.johnny depp continues a success...</td>\n",
              "      <td>dark shadows is tim burton s take on the tv show of the same name and a really cool one at that great cast and a cameo of alice cooper does not get much better johnny depp continues a successful p...</td>\n",
              "      <td>dark shadows is tim burton s take on the tv show of the same name and a really cool one at that great cast and a cameo of alice cooper does not get much better johnny depp continues a successful p...</td>\n",
              "    </tr>\n",
              "    <tr>\n",
              "      <th>4</th>\n",
              "      <td>\"easy to assemble...lightweight....yet seems sturdyhome to sewing supplies, portable machine is on bottom shelf, just in case!so far, so goodbegan with two way basics products, now own five......l...</td>\n",
              "      <td>5</td>\n",
              "      <td>\"easy to assemble...lightweight....yet seems sturdyhome to sewing supplies, portable machine is on bottom shelf, just in case!so far, so goodbegan with two way basics products, now own five......l...</td>\n",
              "      <td>easy to assemble lightweight yet seems sturdyhome to sewing supplies portable machine is on bottom shelf just in case so far so goodbegan with two way basics products now own five love the clean l...</td>\n",
              "      <td>easy to assemble lightweight yet seems sturdyhome to sewing supplies portable machine is on bottom shelf just in case so far so goodbegan with two way basics products now own five love the clean l...</td>\n",
              "    </tr>\n",
              "  </tbody>\n",
              "</table>\n",
              "</div>"
            ],
            "text/plain": [
              "                                                                                                                                                                                                   reviews  ...                                                                                                                                                                                              RemovePunct\n",
              "0                                                                                                                         !we enjoy watching this movie with our kids! it's enjoyable for the whole family  ...                                                                                                                          we enjoy watching this movie with our kids it is enjoyable for the whole family\n",
              "1  \" not best sequel but one of better ones\" it builds on id4 universe with explanation on what aliens wanted to do with earth and also a third party race but way too much chi which is expected with ...  ...  not best sequel but one of better ones it builds on id4 universe with explanation on what aliens wanted to do with earth and also a third party race but way too much chi which is expected with any...\n",
              "2                                                                                                             \"best pressed powder i've ever used. it is so smooth going on my face, and it looks natural.  ...                                                                                                               best pressed powder I have ever used it is so smooth going on my face and it looks natural\n",
              "3  \"dark shadows\" is tim burton's take on the tv show of the same name and a really cool one, at that. great cast and a cameo of alice cooper. doesn't get much better.johnny depp continues a successf...  ...  dark shadows is tim burton s take on the tv show of the same name and a really cool one at that great cast and a cameo of alice cooper does not get much better johnny depp continues a successful p...\n",
              "4  \"easy to assemble...lightweight....yet seems sturdyhome to sewing supplies, portable machine is on bottom shelf, just in case!so far, so goodbegan with two way basics products, now own five......l...  ...  easy to assemble lightweight yet seems sturdyhome to sewing supplies portable machine is on bottom shelf just in case so far so goodbegan with two way basics products now own five love the clean l...\n",
              "\n",
              "[5 rows x 5 columns]"
            ]
          },
          "metadata": {
            "tags": []
          },
          "execution_count": 11
        }
      ]
    },
    {
      "cell_type": "code",
      "metadata": {
        "id": "dAhPGXvV1Bz7"
      },
      "source": [
        "\n",
        "#> the cat can be sit with the bat on the striped mat under many fly geese"
      ],
      "execution_count": 12,
      "outputs": []
    },
    {
      "cell_type": "code",
      "metadata": {
        "id": "iC_5_rnN1B5i"
      },
      "source": [
        ""
      ],
      "execution_count": 12,
      "outputs": []
    },
    {
      "cell_type": "code",
      "metadata": {
        "id": "X2cI68cf4E-a"
      },
      "source": [
        ""
      ],
      "execution_count": 12,
      "outputs": []
    },
    {
      "cell_type": "code",
      "metadata": {
        "id": "ZyOUP1ZS7YmA"
      },
      "source": [
        "# import nltk\n",
        "\n",
        "# w_tokenizer = nltk.tokenize.WhitespaceTokenizer()\n",
        "# lemmatizer = nltk.stem.WordNetLemmatizer()\n",
        "# def lemmatize_text(text):\n",
        "#   numList = [lemmatizer.lemmatize(w) for w in w_tokenizer.tokenize(text)]\n",
        "#   separator = ' '\n",
        "#   a=separator.join(numList)\n",
        "#   return a\n",
        "\n",
        "# df[\"text_lemmatizednew\"] = df['RemovePunct'].apply(lemmatize_text)\n",
        "# df.head()"
      ],
      "execution_count": 13,
      "outputs": []
    },
    {
      "cell_type": "code",
      "metadata": {
        "id": "UBslTKO-7Ype",
        "colab": {
          "base_uri": "https://localhost:8080/",
          "height": 765
        },
        "outputId": "3b10689d-ad10-4fe5-f1ff-27ef3f8f1fa6"
      },
      "source": [
        "stop =['i', 'me', 'my', 'myself', 'we', 'our', 'ours', 'ourselves', 'you', \"you're\", \"you've\", \"you'll\", \"you'd\", 'your', 'yours','by','hers', 'yourself', 'yourselves', 'he', 'him', 'his', 'himself', 'she', \"she's\", 'her', 'hers', 'herself', 'it', \"it's\", 'its', 'itself', 'they', 'them', 'their', 'theirs', 'themselves', 'what', 'which', 'who', 'whom', 'this', 'that', \"that'll\", 'these', 'those', 'am', 'is', 'are', 'was', 'were', 'be', 'been', 'being', 'have', 'has', 'had', 'having', 'do', 'does', 'did', 'doing', 'a', 'an', 'the', 'and', 'but', 'if', 'or', 'because', 'as', 'until', 'while', 'of', 'at', 'by', 'for', 'with', 'about', 'against', 'between', 'into', 'through', 'during', 'before', 'after', 'above', 'below', 'to', 'from', 'up', 'down', 'in', 'out', 'on', 'off', 'over', 'under', 'again', 'further', 'then', 'once', 'here', 'there', 'when', 'where', 'why', 'how', 'all', 'any', 'both', 'each', 'few', 'more', 'most', 'other', 'some', 'such',  'only', 'own', 'same', 'so', 'than', 'too', 'very', 's', 't', 'can', 'will', 'just', 'don', 'should', \"should've\", 'now', 'd', 'll', 'm', 'o', 're', 've', 'y', 'ain', 'aren',  'couldn',  'didn',  'doesn',  'hadn',  'hasn',  'haven',  'isn',  'ma', 'mightn', 'mustn',  'needn', 'shan', 'shouldn',  'wasn',  'weren',  'wouldn']\n",
        "\n",
        "df[\"sw\"] = df[\"RemovePunct\"].apply(lambda words: ' '.join(word.lower() for word in words.split() if word not in stop))\n",
        "df.head()"
      ],
      "execution_count": 14,
      "outputs": [
        {
          "output_type": "execute_result",
          "data": {
            "text/html": [
              "<div>\n",
              "<style scoped>\n",
              "    .dataframe tbody tr th:only-of-type {\n",
              "        vertical-align: middle;\n",
              "    }\n",
              "\n",
              "    .dataframe tbody tr th {\n",
              "        vertical-align: top;\n",
              "    }\n",
              "\n",
              "    .dataframe thead th {\n",
              "        text-align: right;\n",
              "    }\n",
              "</style>\n",
              "<table border=\"1\" class=\"dataframe\">\n",
              "  <thead>\n",
              "    <tr style=\"text-align: right;\">\n",
              "      <th></th>\n",
              "      <th>reviews</th>\n",
              "      <th>rating</th>\n",
              "      <th>decon</th>\n",
              "      <th>decons</th>\n",
              "      <th>RemovePunct</th>\n",
              "      <th>sw</th>\n",
              "    </tr>\n",
              "  </thead>\n",
              "  <tbody>\n",
              "    <tr>\n",
              "      <th>0</th>\n",
              "      <td>!we enjoy watching this movie with our kids! it's enjoyable for the whole family</td>\n",
              "      <td>5</td>\n",
              "      <td>!we enjoy watching this movie with our kids! it is enjoyable for the whole family</td>\n",
              "      <td>we enjoy watching this movie with our kids it is enjoyable for the whole family</td>\n",
              "      <td>we enjoy watching this movie with our kids it is enjoyable for the whole family</td>\n",
              "      <td>enjoy watching movie kids enjoyable whole family</td>\n",
              "    </tr>\n",
              "    <tr>\n",
              "      <th>1</th>\n",
              "      <td>\" not best sequel but one of better ones\" it builds on id4 universe with explanation on what aliens wanted to do with earth and also a third party race but way too much chi which is expected with ...</td>\n",
              "      <td>3</td>\n",
              "      <td>\" not best sequel but one of better ones\" it builds on id4 universe with explanation on what aliens wanted to do with earth and also a third party race but way too much chi which is expected with ...</td>\n",
              "      <td>not best sequel but one of better ones it builds on id4 universe with explanation on what aliens wanted to do with earth and also a third party race but way too much chi which is expected with any...</td>\n",
              "      <td>not best sequel but one of better ones it builds on id4 universe with explanation on what aliens wanted to do with earth and also a third party race but way too much chi which is expected with any...</td>\n",
              "      <td>not best sequel one better ones builds id4 universe explanation aliens wanted earth also third party race way much chi expected sci fi film day age</td>\n",
              "    </tr>\n",
              "    <tr>\n",
              "      <th>2</th>\n",
              "      <td>\"best pressed powder i've ever used. it is so smooth going on my face, and it looks natural.</td>\n",
              "      <td>5</td>\n",
              "      <td>\"best pressed powder I have ever used. it is so smooth going on my face, and it looks natural.</td>\n",
              "      <td>best pressed powder I have ever used it is so smooth going on my face and it looks natural</td>\n",
              "      <td>best pressed powder I have ever used it is so smooth going on my face and it looks natural</td>\n",
              "      <td>best pressed powder i ever used smooth going face looks natural</td>\n",
              "    </tr>\n",
              "    <tr>\n",
              "      <th>3</th>\n",
              "      <td>\"dark shadows\" is tim burton's take on the tv show of the same name and a really cool one, at that. great cast and a cameo of alice cooper. doesn't get much better.johnny depp continues a successf...</td>\n",
              "      <td>4</td>\n",
              "      <td>\"dark shadows\" is tim burton's take on the tv show of the same name and a really cool one, at that. great cast and a cameo of alice cooper. does not get much better.johnny depp continues a success...</td>\n",
              "      <td>dark shadows is tim burton s take on the tv show of the same name and a really cool one at that great cast and a cameo of alice cooper does not get much better johnny depp continues a successful p...</td>\n",
              "      <td>dark shadows is tim burton s take on the tv show of the same name and a really cool one at that great cast and a cameo of alice cooper does not get much better johnny depp continues a successful p...</td>\n",
              "      <td>dark shadows tim burton take tv show name really cool one great cast cameo alice cooper not get much better johnny depp continues successful partnership tim burton began ed wood back early 90 chec...</td>\n",
              "    </tr>\n",
              "    <tr>\n",
              "      <th>4</th>\n",
              "      <td>\"easy to assemble...lightweight....yet seems sturdyhome to sewing supplies, portable machine is on bottom shelf, just in case!so far, so goodbegan with two way basics products, now own five......l...</td>\n",
              "      <td>5</td>\n",
              "      <td>\"easy to assemble...lightweight....yet seems sturdyhome to sewing supplies, portable machine is on bottom shelf, just in case!so far, so goodbegan with two way basics products, now own five......l...</td>\n",
              "      <td>easy to assemble lightweight yet seems sturdyhome to sewing supplies portable machine is on bottom shelf just in case so far so goodbegan with two way basics products now own five love the clean l...</td>\n",
              "      <td>easy to assemble lightweight yet seems sturdyhome to sewing supplies portable machine is on bottom shelf just in case so far so goodbegan with two way basics products now own five love the clean l...</td>\n",
              "      <td>easy assemble lightweight yet seems sturdyhome sewing supplies portable machine bottom shelf case far goodbegan two way basics products five love clean look extra storage space</td>\n",
              "    </tr>\n",
              "  </tbody>\n",
              "</table>\n",
              "</div>"
            ],
            "text/plain": [
              "                                                                                                                                                                                                   reviews  ...                                                                                                                                                                                                       sw\n",
              "0                                                                                                                         !we enjoy watching this movie with our kids! it's enjoyable for the whole family  ...                                                                                                                                                         enjoy watching movie kids enjoyable whole family\n",
              "1  \" not best sequel but one of better ones\" it builds on id4 universe with explanation on what aliens wanted to do with earth and also a third party race but way too much chi which is expected with ...  ...                                                      not best sequel one better ones builds id4 universe explanation aliens wanted earth also third party race way much chi expected sci fi film day age\n",
              "2                                                                                                             \"best pressed powder i've ever used. it is so smooth going on my face, and it looks natural.  ...                                                                                                                                          best pressed powder i ever used smooth going face looks natural\n",
              "3  \"dark shadows\" is tim burton's take on the tv show of the same name and a really cool one, at that. great cast and a cameo of alice cooper. doesn't get much better.johnny depp continues a successf...  ...  dark shadows tim burton take tv show name really cool one great cast cameo alice cooper not get much better johnny depp continues successful partnership tim burton began ed wood back early 90 chec...\n",
              "4  \"easy to assemble...lightweight....yet seems sturdyhome to sewing supplies, portable machine is on bottom shelf, just in case!so far, so goodbegan with two way basics products, now own five......l...  ...                         easy assemble lightweight yet seems sturdyhome sewing supplies portable machine bottom shelf case far goodbegan two way basics products five love clean look extra storage space\n",
              "\n",
              "[5 rows x 6 columns]"
            ]
          },
          "metadata": {
            "tags": []
          },
          "execution_count": 14
        }
      ]
    },
    {
      "cell_type": "code",
      "metadata": {
        "id": "oLPytbhm7Ysw",
        "colab": {
          "base_uri": "https://localhost:8080/",
          "height": 1000
        },
        "outputId": "0075d782-21d0-4763-e06b-8d08bc669fd5"
      },
      "source": [
        "df['RemoveNumb'] = df['sw'].str.replace('\\d+', 'number') # to replace no. by \"\"\n",
        "df.head()"
      ],
      "execution_count": 15,
      "outputs": [
        {
          "output_type": "execute_result",
          "data": {
            "text/html": [
              "<div>\n",
              "<style scoped>\n",
              "    .dataframe tbody tr th:only-of-type {\n",
              "        vertical-align: middle;\n",
              "    }\n",
              "\n",
              "    .dataframe tbody tr th {\n",
              "        vertical-align: top;\n",
              "    }\n",
              "\n",
              "    .dataframe thead th {\n",
              "        text-align: right;\n",
              "    }\n",
              "</style>\n",
              "<table border=\"1\" class=\"dataframe\">\n",
              "  <thead>\n",
              "    <tr style=\"text-align: right;\">\n",
              "      <th></th>\n",
              "      <th>reviews</th>\n",
              "      <th>rating</th>\n",
              "      <th>decon</th>\n",
              "      <th>decons</th>\n",
              "      <th>RemovePunct</th>\n",
              "      <th>sw</th>\n",
              "      <th>RemoveNumb</th>\n",
              "    </tr>\n",
              "  </thead>\n",
              "  <tbody>\n",
              "    <tr>\n",
              "      <th>0</th>\n",
              "      <td>!we enjoy watching this movie with our kids! it's enjoyable for the whole family</td>\n",
              "      <td>5</td>\n",
              "      <td>!we enjoy watching this movie with our kids! it is enjoyable for the whole family</td>\n",
              "      <td>we enjoy watching this movie with our kids it is enjoyable for the whole family</td>\n",
              "      <td>we enjoy watching this movie with our kids it is enjoyable for the whole family</td>\n",
              "      <td>enjoy watching movie kids enjoyable whole family</td>\n",
              "      <td>enjoy watching movie kids enjoyable whole family</td>\n",
              "    </tr>\n",
              "    <tr>\n",
              "      <th>1</th>\n",
              "      <td>\" not best sequel but one of better ones\" it builds on id4 universe with explanation on what aliens wanted to do with earth and also a third party race but way too much chi which is expected with ...</td>\n",
              "      <td>3</td>\n",
              "      <td>\" not best sequel but one of better ones\" it builds on id4 universe with explanation on what aliens wanted to do with earth and also a third party race but way too much chi which is expected with ...</td>\n",
              "      <td>not best sequel but one of better ones it builds on id4 universe with explanation on what aliens wanted to do with earth and also a third party race but way too much chi which is expected with any...</td>\n",
              "      <td>not best sequel but one of better ones it builds on id4 universe with explanation on what aliens wanted to do with earth and also a third party race but way too much chi which is expected with any...</td>\n",
              "      <td>not best sequel one better ones builds id4 universe explanation aliens wanted earth also third party race way much chi expected sci fi film day age</td>\n",
              "      <td>not best sequel one better ones builds idnumber universe explanation aliens wanted earth also third party race way much chi expected sci fi film day age</td>\n",
              "    </tr>\n",
              "    <tr>\n",
              "      <th>2</th>\n",
              "      <td>\"best pressed powder i've ever used. it is so smooth going on my face, and it looks natural.</td>\n",
              "      <td>5</td>\n",
              "      <td>\"best pressed powder I have ever used. it is so smooth going on my face, and it looks natural.</td>\n",
              "      <td>best pressed powder I have ever used it is so smooth going on my face and it looks natural</td>\n",
              "      <td>best pressed powder I have ever used it is so smooth going on my face and it looks natural</td>\n",
              "      <td>best pressed powder i ever used smooth going face looks natural</td>\n",
              "      <td>best pressed powder i ever used smooth going face looks natural</td>\n",
              "    </tr>\n",
              "    <tr>\n",
              "      <th>3</th>\n",
              "      <td>\"dark shadows\" is tim burton's take on the tv show of the same name and a really cool one, at that. great cast and a cameo of alice cooper. doesn't get much better.johnny depp continues a successf...</td>\n",
              "      <td>4</td>\n",
              "      <td>\"dark shadows\" is tim burton's take on the tv show of the same name and a really cool one, at that. great cast and a cameo of alice cooper. does not get much better.johnny depp continues a success...</td>\n",
              "      <td>dark shadows is tim burton s take on the tv show of the same name and a really cool one at that great cast and a cameo of alice cooper does not get much better johnny depp continues a successful p...</td>\n",
              "      <td>dark shadows is tim burton s take on the tv show of the same name and a really cool one at that great cast and a cameo of alice cooper does not get much better johnny depp continues a successful p...</td>\n",
              "      <td>dark shadows tim burton take tv show name really cool one great cast cameo alice cooper not get much better johnny depp continues successful partnership tim burton began ed wood back early 90 chec...</td>\n",
              "      <td>dark shadows tim burton take tv show name really cool one great cast cameo alice cooper not get much better johnny depp continues successful partnership tim burton began ed wood back early number ...</td>\n",
              "    </tr>\n",
              "    <tr>\n",
              "      <th>4</th>\n",
              "      <td>\"easy to assemble...lightweight....yet seems sturdyhome to sewing supplies, portable machine is on bottom shelf, just in case!so far, so goodbegan with two way basics products, now own five......l...</td>\n",
              "      <td>5</td>\n",
              "      <td>\"easy to assemble...lightweight....yet seems sturdyhome to sewing supplies, portable machine is on bottom shelf, just in case!so far, so goodbegan with two way basics products, now own five......l...</td>\n",
              "      <td>easy to assemble lightweight yet seems sturdyhome to sewing supplies portable machine is on bottom shelf just in case so far so goodbegan with two way basics products now own five love the clean l...</td>\n",
              "      <td>easy to assemble lightweight yet seems sturdyhome to sewing supplies portable machine is on bottom shelf just in case so far so goodbegan with two way basics products now own five love the clean l...</td>\n",
              "      <td>easy assemble lightweight yet seems sturdyhome sewing supplies portable machine bottom shelf case far goodbegan two way basics products five love clean look extra storage space</td>\n",
              "      <td>easy assemble lightweight yet seems sturdyhome sewing supplies portable machine bottom shelf case far goodbegan two way basics products five love clean look extra storage space</td>\n",
              "    </tr>\n",
              "  </tbody>\n",
              "</table>\n",
              "</div>"
            ],
            "text/plain": [
              "                                                                                                                                                                                                   reviews  ...                                                                                                                                                                                               RemoveNumb\n",
              "0                                                                                                                         !we enjoy watching this movie with our kids! it's enjoyable for the whole family  ...                                                                                                                                                         enjoy watching movie kids enjoyable whole family\n",
              "1  \" not best sequel but one of better ones\" it builds on id4 universe with explanation on what aliens wanted to do with earth and also a third party race but way too much chi which is expected with ...  ...                                                 not best sequel one better ones builds idnumber universe explanation aliens wanted earth also third party race way much chi expected sci fi film day age\n",
              "2                                                                                                             \"best pressed powder i've ever used. it is so smooth going on my face, and it looks natural.  ...                                                                                                                                          best pressed powder i ever used smooth going face looks natural\n",
              "3  \"dark shadows\" is tim burton's take on the tv show of the same name and a really cool one, at that. great cast and a cameo of alice cooper. doesn't get much better.johnny depp continues a successf...  ...  dark shadows tim burton take tv show name really cool one great cast cameo alice cooper not get much better johnny depp continues successful partnership tim burton began ed wood back early number ...\n",
              "4  \"easy to assemble...lightweight....yet seems sturdyhome to sewing supplies, portable machine is on bottom shelf, just in case!so far, so goodbegan with two way basics products, now own five......l...  ...                         easy assemble lightweight yet seems sturdyhome sewing supplies portable machine bottom shelf case far goodbegan two way basics products five love clean look extra storage space\n",
              "\n",
              "[5 rows x 7 columns]"
            ]
          },
          "metadata": {
            "tags": []
          },
          "execution_count": 15
        }
      ]
    },
    {
      "cell_type": "code",
      "metadata": {
        "id": "K_h8Ty9cx14M"
      },
      "source": [
        ""
      ],
      "execution_count": 15,
      "outputs": []
    },
    {
      "cell_type": "code",
      "metadata": {
        "id": "KOjHDn9i7hCc",
        "colab": {
          "base_uri": "https://localhost:8080/",
          "height": 1000
        },
        "outputId": "94b5eca8-a2ea-498c-e8fb-f0f01eab1298"
      },
      "source": [
        "import nltk\n",
        "from nltk.stem import WordNetLemmatizer\n",
        "nltk.download('averaged_perceptron_tagger')\n",
        "from nltk.corpus import wordnet\n",
        "  \n",
        "lemmatizer = WordNetLemmatizer()\n",
        "  \n",
        "def lemma(sentence):\n",
        "  def pos_tagger(nltk_tag):\n",
        "    if nltk_tag.startswith('J'):\n",
        "        return wordnet.ADJ\n",
        "    elif nltk_tag.startswith('V'):\n",
        "        return wordnet.VERB\n",
        "    elif nltk_tag.startswith('N'):\n",
        "        return wordnet.NOUN\n",
        "    elif nltk_tag.startswith('R'):\n",
        "        return wordnet.ADV\n",
        "    else:          \n",
        "        return None\n",
        "  \n",
        "  \n",
        "  \n",
        "# tokenize the sentence and find the POS tag for each token\n",
        "  pos_tagged = nltk.pos_tag(nltk.word_tokenize(sentence))  \n",
        "  \n",
        "  wordnet_tagged = list(map(lambda x: (x[0], pos_tagger(x[1])), pos_tagged))\n",
        "  \n",
        "  lemmatized_sentence = []\n",
        "  for word, tag in wordnet_tagged:\n",
        "    if tag is None:\n",
        "        # if there is no available tag, append the token as is\n",
        "        lemmatized_sentence.append(word)\n",
        "    else:        \n",
        "        # else use the tag to lemmatize the token\n",
        "        lemmatized_sentence.append(lemmatizer.lemmatize(word, tag))\n",
        "  lemmatized_sentence = \" \".join(lemmatized_sentence)\n",
        "  \n",
        "  return lemmatized_sentence\n",
        "\n",
        "df[\"text_lemmatized\"] = df['RemoveNumb'].apply(lemma)\n",
        "df.head()"
      ],
      "execution_count": 16,
      "outputs": [
        {
          "output_type": "stream",
          "text": [
            "[nltk_data] Downloading package averaged_perceptron_tagger to\n",
            "[nltk_data]     /root/nltk_data...\n",
            "[nltk_data]   Package averaged_perceptron_tagger is already up-to-\n",
            "[nltk_data]       date!\n"
          ],
          "name": "stdout"
        },
        {
          "output_type": "execute_result",
          "data": {
            "text/html": [
              "<div>\n",
              "<style scoped>\n",
              "    .dataframe tbody tr th:only-of-type {\n",
              "        vertical-align: middle;\n",
              "    }\n",
              "\n",
              "    .dataframe tbody tr th {\n",
              "        vertical-align: top;\n",
              "    }\n",
              "\n",
              "    .dataframe thead th {\n",
              "        text-align: right;\n",
              "    }\n",
              "</style>\n",
              "<table border=\"1\" class=\"dataframe\">\n",
              "  <thead>\n",
              "    <tr style=\"text-align: right;\">\n",
              "      <th></th>\n",
              "      <th>reviews</th>\n",
              "      <th>rating</th>\n",
              "      <th>decon</th>\n",
              "      <th>decons</th>\n",
              "      <th>RemovePunct</th>\n",
              "      <th>sw</th>\n",
              "      <th>RemoveNumb</th>\n",
              "      <th>text_lemmatized</th>\n",
              "    </tr>\n",
              "  </thead>\n",
              "  <tbody>\n",
              "    <tr>\n",
              "      <th>0</th>\n",
              "      <td>!we enjoy watching this movie with our kids! it's enjoyable for the whole family</td>\n",
              "      <td>5</td>\n",
              "      <td>!we enjoy watching this movie with our kids! it is enjoyable for the whole family</td>\n",
              "      <td>we enjoy watching this movie with our kids it is enjoyable for the whole family</td>\n",
              "      <td>we enjoy watching this movie with our kids it is enjoyable for the whole family</td>\n",
              "      <td>enjoy watching movie kids enjoyable whole family</td>\n",
              "      <td>enjoy watching movie kids enjoyable whole family</td>\n",
              "      <td>enjoy watch movie kid enjoyable whole family</td>\n",
              "    </tr>\n",
              "    <tr>\n",
              "      <th>1</th>\n",
              "      <td>\" not best sequel but one of better ones\" it builds on id4 universe with explanation on what aliens wanted to do with earth and also a third party race but way too much chi which is expected with ...</td>\n",
              "      <td>3</td>\n",
              "      <td>\" not best sequel but one of better ones\" it builds on id4 universe with explanation on what aliens wanted to do with earth and also a third party race but way too much chi which is expected with ...</td>\n",
              "      <td>not best sequel but one of better ones it builds on id4 universe with explanation on what aliens wanted to do with earth and also a third party race but way too much chi which is expected with any...</td>\n",
              "      <td>not best sequel but one of better ones it builds on id4 universe with explanation on what aliens wanted to do with earth and also a third party race but way too much chi which is expected with any...</td>\n",
              "      <td>not best sequel one better ones builds id4 universe explanation aliens wanted earth also third party race way much chi expected sci fi film day age</td>\n",
              "      <td>not best sequel one better ones builds idnumber universe explanation aliens wanted earth also third party race way much chi expected sci fi film day age</td>\n",
              "      <td>not best sequel one good one build idnumber universe explanation alien want earth also third party race way much chi expect sci fi film day age</td>\n",
              "    </tr>\n",
              "    <tr>\n",
              "      <th>2</th>\n",
              "      <td>\"best pressed powder i've ever used. it is so smooth going on my face, and it looks natural.</td>\n",
              "      <td>5</td>\n",
              "      <td>\"best pressed powder I have ever used. it is so smooth going on my face, and it looks natural.</td>\n",
              "      <td>best pressed powder I have ever used it is so smooth going on my face and it looks natural</td>\n",
              "      <td>best pressed powder I have ever used it is so smooth going on my face and it looks natural</td>\n",
              "      <td>best pressed powder i ever used smooth going face looks natural</td>\n",
              "      <td>best pressed powder i ever used smooth going face looks natural</td>\n",
              "      <td>best pressed powder i ever use smooth go face look natural</td>\n",
              "    </tr>\n",
              "    <tr>\n",
              "      <th>3</th>\n",
              "      <td>\"dark shadows\" is tim burton's take on the tv show of the same name and a really cool one, at that. great cast and a cameo of alice cooper. doesn't get much better.johnny depp continues a successf...</td>\n",
              "      <td>4</td>\n",
              "      <td>\"dark shadows\" is tim burton's take on the tv show of the same name and a really cool one, at that. great cast and a cameo of alice cooper. does not get much better.johnny depp continues a success...</td>\n",
              "      <td>dark shadows is tim burton s take on the tv show of the same name and a really cool one at that great cast and a cameo of alice cooper does not get much better johnny depp continues a successful p...</td>\n",
              "      <td>dark shadows is tim burton s take on the tv show of the same name and a really cool one at that great cast and a cameo of alice cooper does not get much better johnny depp continues a successful p...</td>\n",
              "      <td>dark shadows tim burton take tv show name really cool one great cast cameo alice cooper not get much better johnny depp continues successful partnership tim burton began ed wood back early 90 chec...</td>\n",
              "      <td>dark shadows tim burton take tv show name really cool one great cast cameo alice cooper not get much better johnny depp continues successful partnership tim burton began ed wood back early number ...</td>\n",
              "      <td>dark shadow tim burton take tv show name really cool one great cast cameo alice cooper not get much well johnny depp continue successful partnership tim burton begin ed wood back early number chec...</td>\n",
              "    </tr>\n",
              "    <tr>\n",
              "      <th>4</th>\n",
              "      <td>\"easy to assemble...lightweight....yet seems sturdyhome to sewing supplies, portable machine is on bottom shelf, just in case!so far, so goodbegan with two way basics products, now own five......l...</td>\n",
              "      <td>5</td>\n",
              "      <td>\"easy to assemble...lightweight....yet seems sturdyhome to sewing supplies, portable machine is on bottom shelf, just in case!so far, so goodbegan with two way basics products, now own five......l...</td>\n",
              "      <td>easy to assemble lightweight yet seems sturdyhome to sewing supplies portable machine is on bottom shelf just in case so far so goodbegan with two way basics products now own five love the clean l...</td>\n",
              "      <td>easy to assemble lightweight yet seems sturdyhome to sewing supplies portable machine is on bottom shelf just in case so far so goodbegan with two way basics products now own five love the clean l...</td>\n",
              "      <td>easy assemble lightweight yet seems sturdyhome sewing supplies portable machine bottom shelf case far goodbegan two way basics products five love clean look extra storage space</td>\n",
              "      <td>easy assemble lightweight yet seems sturdyhome sewing supplies portable machine bottom shelf case far goodbegan two way basics products five love clean look extra storage space</td>\n",
              "      <td>easy assemble lightweight yet seem sturdyhome sew supply portable machine bottom shelf case far goodbegan two way basic product five love clean look extra storage space</td>\n",
              "    </tr>\n",
              "  </tbody>\n",
              "</table>\n",
              "</div>"
            ],
            "text/plain": [
              "                                                                                                                                                                                                   reviews  ...                                                                                                                                                                                          text_lemmatized\n",
              "0                                                                                                                         !we enjoy watching this movie with our kids! it's enjoyable for the whole family  ...                                                                                                                                                             enjoy watch movie kid enjoyable whole family\n",
              "1  \" not best sequel but one of better ones\" it builds on id4 universe with explanation on what aliens wanted to do with earth and also a third party race but way too much chi which is expected with ...  ...                                                          not best sequel one good one build idnumber universe explanation alien want earth also third party race way much chi expect sci fi film day age\n",
              "2                                                                                                             \"best pressed powder i've ever used. it is so smooth going on my face, and it looks natural.  ...                                                                                                                                               best pressed powder i ever use smooth go face look natural\n",
              "3  \"dark shadows\" is tim burton's take on the tv show of the same name and a really cool one, at that. great cast and a cameo of alice cooper. doesn't get much better.johnny depp continues a successf...  ...  dark shadow tim burton take tv show name really cool one great cast cameo alice cooper not get much well johnny depp continue successful partnership tim burton begin ed wood back early number chec...\n",
              "4  \"easy to assemble...lightweight....yet seems sturdyhome to sewing supplies, portable machine is on bottom shelf, just in case!so far, so goodbegan with two way basics products, now own five......l...  ...                                 easy assemble lightweight yet seem sturdyhome sew supply portable machine bottom shelf case far goodbegan two way basic product five love clean look extra storage space\n",
              "\n",
              "[5 rows x 8 columns]"
            ]
          },
          "metadata": {
            "tags": []
          },
          "execution_count": 16
        }
      ]
    },
    {
      "cell_type": "code",
      "metadata": {
        "id": "IAodiJgv5VYU"
      },
      "source": [
        "\n",
        "# from textblob import TextBlob\n",
        "\n",
        "# df[\"spell\"] =df[\"text_lemmatized\"].apply(lambda txt: ''.join(TextBlob(txt).correct()))\n",
        "\n",
        "# df.head()"
      ],
      "execution_count": 17,
      "outputs": []
    },
    {
      "cell_type": "code",
      "metadata": {
        "id": "TcKUuFwM5Vbh"
      },
      "source": [
        ""
      ],
      "execution_count": 17,
      "outputs": []
    },
    {
      "cell_type": "code",
      "metadata": {
        "id": "GIq3yUZz7Ywe"
      },
      "source": [
        "# Split the dataset into features data and target data\n",
        "\n",
        "y = df['rating']\n",
        "X = df['text_lemmatized']\n",
        "\n"
      ],
      "execution_count": 18,
      "outputs": []
    },
    {
      "cell_type": "code",
      "metadata": {
        "id": "1fhvNTFfTwv_"
      },
      "source": [
        "from sklearn.model_selection import train_test_split\n",
        "X_train, X_test, y_train, y_test = train_test_split(X,y, test_size=0.20, random_state=1)"
      ],
      "execution_count": 19,
      "outputs": []
    },
    {
      "cell_type": "code",
      "metadata": {
        "id": "StONBzO0WmcY",
        "colab": {
          "base_uri": "https://localhost:8080/"
        },
        "outputId": "4533a87e-7116-4fff-972a-828fb3f28cbd"
      },
      "source": [
        "print('X_train :', (len(X_train)))\n",
        "print('X_test :', (len(X_test)))\n",
        "print('y_train :', (len(y_train)))\n",
        "print('y_test :', (len(y_test)))"
      ],
      "execution_count": 20,
      "outputs": [
        {
          "output_type": "stream",
          "text": [
            "X_train : 62114\n",
            "X_test : 15529\n",
            "y_train : 62114\n",
            "y_test : 15529\n"
          ],
          "name": "stdout"
        }
      ]
    },
    {
      "cell_type": "code",
      "metadata": {
        "id": "MTCAXylXQKnZ",
        "colab": {
          "base_uri": "https://localhost:8080/"
        },
        "outputId": "0d6ead1d-a30d-4b61-affd-89e0814751a6"
      },
      "source": [
        "from sklearn.feature_extraction.text import TfidfVectorizer\n",
        "# Tfid_fVectorizer = TfidfVectorizer(lowercase = True)\n",
        "\n",
        "from sklearn.linear_model import LogisticRegression\n",
        "Logistic_Regression = LogisticRegression(solver = \"lbfgs\")\n",
        "P = Pipeline([('ngram', TfidfVectorizer(ngram_range=(1, 4))),('classifier',Logistic_Regression)])\n",
        "P.fit(X_train,y_train)\n",
        "\n",
        "Prediction = P.predict(X_test)\n",
        "\n",
        "# # P = Pipeline([('vectorizer',Tfid_fVectorizer),('classifier',Logistic_Regression)])\n",
        "# # P.fit(X_train,y_train)\n",
        "\n",
        "# # Prediction = P.predict(X_test)\n",
        "\n",
        "\n"
      ],
      "execution_count": 21,
      "outputs": [
        {
          "output_type": "stream",
          "text": [
            "/usr/local/lib/python3.7/dist-packages/sklearn/linear_model/_logistic.py:940: ConvergenceWarning: lbfgs failed to converge (status=1):\n",
            "STOP: TOTAL NO. of ITERATIONS REACHED LIMIT.\n",
            "\n",
            "Increase the number of iterations (max_iter) or scale the data as shown in:\n",
            "    https://scikit-learn.org/stable/modules/preprocessing.html\n",
            "Please also refer to the documentation for alternative solver options:\n",
            "    https://scikit-learn.org/stable/modules/linear_model.html#logistic-regression\n",
            "  extra_warning_msg=_LOGISTIC_SOLVER_CONVERGENCE_MSG)\n"
          ],
          "name": "stderr"
        }
      ]
    },
    {
      "cell_type": "code",
      "metadata": {
        "id": "c76YYUUpXT79",
        "colab": {
          "base_uri": "https://localhost:8080/"
        },
        "outputId": "d1a172ae-b094-4f11-9782-8d1d998c48e7"
      },
      "source": [
        "from sklearn.metrics import confusion_matrix\n",
        "confusion_matrix(Prediction, y_test)"
      ],
      "execution_count": 22,
      "outputs": [
        {
          "output_type": "execute_result",
          "data": {
            "text/plain": [
              "array([[ 610,  137,   79,   55,   61],\n",
              "       [ 126,  309,  138,   10,    5],\n",
              "       [  58,  122,  358,  156,   48],\n",
              "       [  34,   73,  341,  939,  443],\n",
              "       [ 150,  126,  342, 2048, 8761]])"
            ]
          },
          "metadata": {
            "tags": []
          },
          "execution_count": 22
        }
      ]
    },
    {
      "cell_type": "code",
      "metadata": {
        "id": "Ni0oOSLtXT-q",
        "colab": {
          "base_uri": "https://localhost:8080/"
        },
        "outputId": "dbe162a3-c391-47ce-ef86-4b24674f2057"
      },
      "source": [
        "from sklearn.metrics import accuracy_score, precision_score, recall_score\n",
        "\n",
        "accuracy_score = accuracy_score(y_test, Prediction)\n",
        "precision_score = precision_score(y_test, Prediction, average='weighted')\n",
        "recall_score = recall_score(y_test, Prediction, average='weighted')\n",
        "\n",
        "print(\"Model Accuracy on test dataset: \", accuracy_score)\n",
        "print(\"Model precision on test dataset: \", precision_score)\n",
        "print(\"Model recall on test dataset: \", recall_score)\n"
      ],
      "execution_count": 23,
      "outputs": [
        {
          "output_type": "stream",
          "text": [
            "Model Accuracy on test dataset:  0.7068710155193509\n",
            "Model precision on test dataset:  0.6718690681601466\n",
            "Model recall on test dataset:  0.7068710155193509\n"
          ],
          "name": "stdout"
        }
      ]
    },
    {
      "cell_type": "code",
      "metadata": {
        "id": "xhi0ljoaXUBa",
        "colab": {
          "base_uri": "https://localhost:8080/"
        },
        "outputId": "c501bd84-2213-488a-e520-c6a14dd9418d"
      },
      "source": [
        "new_review = [\"1st kindle screen failed & had to reboot often. Customer Service couldn't fix. Replaced. 2nd one screen reboots often. Customer service offered replace. Just want one that works. Can't get upgrade replacement\",\"1 dose of Tide HE Turbo Clean in quick cycle vs. 6 doses of the next leading liquid HE compatible detergent in normal cycle.\",\"...well I got it for my girlfriend and she likes it. I guess it was fun to watch\",\".but I have watched it a few times and it is growing on me.\",\"I bought four of these tablets two of them I need to return because as soon as my nephew's turn them on there were problems with screen being almost completely white and black in the corners you can't see anything I've checked the settings it's not the city it's the tablet SMH I am disappointed\",\"Storks was a film that tried to deliver a simple concept, but it fails due to characters that are unlikable. Some of it is still enjoyable, and has heart value. The jokes really fall flat at times, and it just gives you a silence look at the screen. Pigeon Toady was annoying!\",\"The Secret Life of Pets is a fun and harmless animated Comedy. Nothing more, nothing less.\",\"Enjoyed the sequel a phrase that is not always able to be said. Especially liked the veiled references to the first movie and loved the continuity between the two.\",\"Not best sequel but one of better ones it builds on ID4 universe with explanation on what aliens wanted to do with earth and also a third party race but way too much chi which is expected with any sci fi film this day a age.\",\"Dark Shadows is Tim Burton's take on the TV show of the same name and a really cool one, at that. Great cast and a cameo of Alice Cooper. Doesn't get much better.Johnny Depp continues a successful partnership with Tim Burton which began with Ed Wood back in the early 90's. Check this movie out.\",\"Character development was a major consideration in this latest version, and I actually liked the less-than-realistic/rubber-monster-suit look of the featured characters. It reminds me of the original Godzilla movie I saw as a child. Not a bad movie, but I was expecting more.\",\"Charge the device and was able to set up everything and when I came back to use it it would not work\",\"Change for the better is always appreciated..........in this case,....it failed miserably!!! The new formula along with its new scent misses the mark completely. You have \",\"Amazon replaced it as it had gray stripes and no picture on the screen. That one works so overall the Fire was a good purchase. Recommend a memory card, it does not hold much\",\"!we enjoy watching this movie with our kids! it's enjoyable for the whole family\t\",\"khiya lageko xa khat halka kuina lageko xa scratch xa stting purano vayera buzz sound aairako xa\",\"it's floppy soft n stylish ...best suited for summer n windy climate\",\"Fabric is thinner than I expected. Other than that, no issues. Product is ok overall.\",\"Work well for one two month then it decrease it's performance. So I recommend that this is not good product for used for long term\"]\n",
        "#new_review = [\"good\",\"bad\",\"worst\",\"okay\",\"great\",\"love\",\"extreme bad\"]\n",
        "result = P.predict(new_review)\n",
        "for x in result:\n",
        "  print(x)\n"
      ],
      "execution_count": 24,
      "outputs": [
        {
          "output_type": "stream",
          "text": [
            "4\n",
            "5\n",
            "5\n",
            "5\n",
            "1\n",
            "4\n",
            "5\n",
            "5\n",
            "4\n",
            "4\n",
            "4\n",
            "2\n",
            "1\n",
            "4\n",
            "5\n",
            "5\n",
            "5\n",
            "3\n",
            "4\n"
          ],
          "name": "stdout"
        }
      ]
    },
    {
      "cell_type": "code",
      "metadata": {
        "id": "sZThPMtLquB2"
      },
      "source": [
        "from sklearn.feature_extraction.text import TfidfVectorizer\n",
        "Tfid_fVectorizer = TfidfVectorizer(lowercase = True)\n",
        "\n",
        "from sklearn.naive_bayes import MultinomialNB\n",
        "Multi_nomialNB = MultinomialNB()"
      ],
      "execution_count": 25,
      "outputs": []
    },
    {
      "cell_type": "code",
      "metadata": {
        "id": "8dfGtxRAquGb"
      },
      "source": [
        "from sklearn.pipeline import Pipeline\n",
        "\n",
        "# P1 = Pipeline([('vectorizer',Tfid_fVectorizer),('classifier', Multi_nomialNB)])\n",
        "# P1.fit(X_train,y_train)\n",
        "\n",
        "# Predictions = P1.predict(X_test)\n",
        "\n",
        "P1 = Pipeline([('ngram', TfidfVectorizer(ngram_range=(1, 3))),('clf',Multi_nomialNB)])\n",
        "P1.fit(X_train,y_train)\n",
        "\n",
        "Prediction1 = P1.predict(X_test)"
      ],
      "execution_count": 26,
      "outputs": []
    },
    {
      "cell_type": "code",
      "metadata": {
        "id": "AUqj1Bz1quKm",
        "colab": {
          "base_uri": "https://localhost:8080/"
        },
        "outputId": "a52a6b93-30ed-4b92-ebf9-9513a5c5e2e0"
      },
      "source": [
        "from sklearn.metrics import confusion_matrix\n",
        "confusion_matrix(Prediction1, y_test)"
      ],
      "execution_count": 27,
      "outputs": [
        {
          "output_type": "execute_result",
          "data": {
            "text/plain": [
              "array([[  21,    1,    0,    0,    0],\n",
              "       [   0,    0,    0,    0,    0],\n",
              "       [   0,    0,    1,    0,    0],\n",
              "       [   5,    7,   35,   43,    0],\n",
              "       [ 952,  759, 1222, 3165, 9318]])"
            ]
          },
          "metadata": {
            "tags": []
          },
          "execution_count": 27
        }
      ]
    },
    {
      "cell_type": "code",
      "metadata": {
        "id": "q1XyG5Bkrrm7",
        "colab": {
          "base_uri": "https://localhost:8080/"
        },
        "outputId": "54caad5c-ccfb-4f0e-8d9f-f8ff54035706"
      },
      "source": [
        "new_reviews = [\".but I have watched it a few times and it is growing on me.\",\"I bought four of these tablets two of them I need to return because as soon as my nephew's turn them on there were problems with screen being almost completely white and black in the corners you can't see anything I've checked the settings it's not the city it's the tablet SMH I am disappointed\",\"Storks was a film that tried to deliver a simple concept, but it fails due to characters that are unlikable. Some of it is still enjoyable, and has heart value. The jokes really fall flat at times, and it just gives you a silence look at the screen. Pigeon Toady was annoying!\",\"The Secret Life of Pets is a fun and harmless animated Comedy. Nothing more, nothing less.\",\"Enjoyed the sequel a phrase that is not always able to be said. Especially liked the veiled references to the first movie and loved the continuity between the two.\",\"Not best sequel but one of better ones it builds on ID4 universe with explanation on what aliens wanted to do with earth and also a third party race but way too much chi which is expected with any sci fi film this day a age.\",\"Dark Shadows is Tim Burton's take on the TV show of the same name and a really cool one, at that. Great cast and a cameo of Alice Cooper. Doesn't get much better.Johnny Depp continues a successful partnership with Tim Burton which began with Ed Wood back in the early 90's. Check this movie out.\",\"Character development was a major consideration in this latest version, and I actually liked the less-than-realistic/rubber-monster-suit look of the featured characters. It reminds me of the original Godzilla movie I saw as a child. Not a bad movie, but I was expecting more.\",\"Charge the device and was able to set up everything and when I came back to use it it would not work\",\"Change for the better is always appreciated..........in this case,....it failed miserably!!! The new formula along with its new scent misses the mark completely. You have \",\"Amazon replaced it as it had gray stripes and no picture on the screen. That one works so overall the Fire was a good purchase. Recommend a memory card, it does not hold much\",\"!we enjoy watching this movie with our kids! it's enjoyable for the whole family\t\",\"khiya lageko xa khat halka kuina lageko xa scratch xa stting purano vayera buzz sound aairako xa\",\"it's floppy soft n stylish ...best suited for summer n windy climate\",\"Fabric is thinner than I expected. Other than that, no issues. Product is ok overall.\",\"Work well for one two month then it decrease it's performance. So I recommend that this is not good product for used for long term\"]\n",
        "result = P1.predict(new_reviews)\n",
        "for x in result:\n",
        "  print(x)"
      ],
      "execution_count": 28,
      "outputs": [
        {
          "output_type": "stream",
          "text": [
            "5\n",
            "5\n",
            "5\n",
            "5\n",
            "5\n",
            "5\n",
            "5\n",
            "5\n",
            "5\n",
            "5\n",
            "5\n",
            "5\n",
            "5\n",
            "5\n",
            "5\n",
            "5\n"
          ],
          "name": "stdout"
        }
      ]
    },
    {
      "cell_type": "code",
      "metadata": {
        "id": "nmG9eYASrrsF"
      },
      "source": [
        ""
      ],
      "execution_count": 28,
      "outputs": []
    },
    {
      "cell_type": "code",
      "metadata": {
        "id": "5b2c-4IwXUD8",
        "colab": {
          "base_uri": "https://localhost:8080/"
        },
        "outputId": "c2cbe293-823d-40ab-d055-8150aeaf1629"
      },
      "source": [
        "from sklearn.metrics import accuracy_score, precision_score, recall_score\n",
        "\n",
        "accuracy_score = accuracy_score(y_test, Prediction1)\n",
        "precision_score = precision_score(y_test, Prediction1, average='weighted')\n",
        "recall_score = recall_score(y_test, Prediction1, average='weighted')\n",
        "\n",
        "print(\"Model Accuracy on test dataset: \", accuracy_score)\n",
        "print(\"Model precision on test dataset: \", precision_score)\n",
        "print(\"Model recall on test dataset: \", recall_score)\n"
      ],
      "execution_count": 29,
      "outputs": [
        {
          "output_type": "stream",
          "text": [
            "Model Accuracy on test dataset:  0.6042243544336403\n",
            "Model precision on test dataset:  0.6025114336365833\n",
            "Model recall on test dataset:  0.6042243544336403\n"
          ],
          "name": "stdout"
        },
        {
          "output_type": "stream",
          "text": [
            "/usr/local/lib/python3.7/dist-packages/sklearn/metrics/_classification.py:1272: UndefinedMetricWarning: Precision is ill-defined and being set to 0.0 in labels with no predicted samples. Use `zero_division` parameter to control this behavior.\n",
            "  _warn_prf(average, modifier, msg_start, len(result))\n"
          ],
          "name": "stderr"
        }
      ]
    },
    {
      "cell_type": "code",
      "metadata": {
        "id": "HYls6eMmqsI-"
      },
      "source": [
        ""
      ],
      "execution_count": 29,
      "outputs": []
    },
    {
      "cell_type": "code",
      "metadata": {
        "id": "wO75v20yqsZO"
      },
      "source": [
        ""
      ],
      "execution_count": 29,
      "outputs": []
    },
    {
      "cell_type": "code",
      "metadata": {
        "id": "0xcxWOj1qsdL"
      },
      "source": [
        ""
      ],
      "execution_count": 29,
      "outputs": []
    }
  ]
}