{
 "cells": [
  {
   "cell_type": "code",
   "execution_count": 1,
   "metadata": {},
   "outputs": [
    {
     "data": {
      "text/html": [
       "<div>\n",
       "<style scoped>\n",
       "    .dataframe tbody tr th:only-of-type {\n",
       "        vertical-align: middle;\n",
       "    }\n",
       "\n",
       "    .dataframe tbody tr th {\n",
       "        vertical-align: top;\n",
       "    }\n",
       "\n",
       "    .dataframe thead th {\n",
       "        text-align: right;\n",
       "    }\n",
       "</style>\n",
       "<table border=\"1\" class=\"dataframe\">\n",
       "  <thead>\n",
       "    <tr style=\"text-align: right;\">\n",
       "      <th></th>\n",
       "      <th>reviews</th>\n",
       "      <th>rating</th>\n",
       "    </tr>\n",
       "  </thead>\n",
       "  <tbody>\n",
       "    <tr>\n",
       "      <th>0</th>\n",
       "      <td>This product so far has not disappointed. My c...</td>\n",
       "      <td>5.0</td>\n",
       "    </tr>\n",
       "    <tr>\n",
       "      <th>1</th>\n",
       "      <td>great for beginner or experienced person. Boug...</td>\n",
       "      <td>5.0</td>\n",
       "    </tr>\n",
       "    <tr>\n",
       "      <th>2</th>\n",
       "      <td>Inexpensive tablet for him to use and learn on...</td>\n",
       "      <td>5.0</td>\n",
       "    </tr>\n",
       "    <tr>\n",
       "      <th>3</th>\n",
       "      <td>I've had my Fire HD 8 two weeks now and I love...</td>\n",
       "      <td>4.0</td>\n",
       "    </tr>\n",
       "    <tr>\n",
       "      <th>4</th>\n",
       "      <td>I bought this for my grand daughter when she c...</td>\n",
       "      <td>5.0</td>\n",
       "    </tr>\n",
       "  </tbody>\n",
       "</table>\n",
       "</div>"
      ],
      "text/plain": [
       "                                             reviews  rating\n",
       "0  This product so far has not disappointed. My c...     5.0\n",
       "1  great for beginner or experienced person. Boug...     5.0\n",
       "2  Inexpensive tablet for him to use and learn on...     5.0\n",
       "3  I've had my Fire HD 8 two weeks now and I love...     4.0\n",
       "4  I bought this for my grand daughter when she c...     5.0"
      ]
     },
     "execution_count": 1,
     "metadata": {},
     "output_type": "execute_result"
    }
   ],
   "source": [
    " import pandas as pd\n",
    "df=pd.read_csv(r\"C:\\Users\\Dell\\Desktop\\1429_1.csv\",encoding='UTF-8',sep=',')\n",
    "df.drop(['id','title'],axis='columns',inplace=True)\n",
    "df.head()"
   ]
  },
  {
   "cell_type": "code",
   "execution_count": 3,
   "metadata": {
    "scrolled": false
   },
   "outputs": [
    {
     "name": "stdout",
     "output_type": "stream",
     "text": [
      "Shape: (34660, 2)\n",
      "\n",
      "Features: Index(['reviews', 'rating'], dtype='object')\n",
      "\n",
      "Feature matrix:\n",
      "                                              reviews\n",
      "0  This product so far has not disappointed. My c...\n",
      "1  great for beginner or experienced person. Boug...\n",
      "2  Inexpensive tablet for him to use and learn on...\n",
      "3  I've had my Fire HD 8 two weeks now and I love...\n",
      "4  I bought this for my grand daughter when she c...\n",
      "\n",
      "Response vector:\n",
      " 0    5.0\n",
      "1    5.0\n",
      "2    5.0\n",
      "3    4.0\n",
      "4    5.0\n",
      "Name: rating, dtype: float64\n"
     ]
    }
   ],
   "source": [
    "print(\"Shape:\", df.shape)\n",
    "\n",
    "print(\"\\nFeatures:\", df.columns) \n",
    "\n",
    "\n",
    "# storing the feature matrix (X) and response vector (y) \n",
    "X = df[df.columns[:-1]] \n",
    "y = df[df.columns[-1]] \n",
    "  \n",
    "# printing first 5 rows of feature matrix \n",
    "print(\"\\nFeature matrix:\\n\", X.head()) \n",
    "  \n",
    "# printing first 5 values of response vector \n",
    "print(\"\\nResponse vector:\\n\", y.head())"
   ]
  },
  {
   "cell_type": "code",
   "execution_count": 4,
   "metadata": {},
   "outputs": [
    {
     "data": {
      "text/plain": [
       "0    5.0\n",
       "1    5.0\n",
       "2    5.0\n",
       "3    4.0\n",
       "4    5.0\n",
       "Name: rating, dtype: float64"
      ]
     },
     "execution_count": 4,
     "metadata": {},
     "output_type": "execute_result"
    }
   ],
   "source": [
    "target=df.rating\n",
    "inputs=df.drop('rating',axis='columns')\n",
    "target.head()"
   ]
  },
  {
   "cell_type": "code",
   "execution_count": 5,
   "metadata": {},
   "outputs": [
    {
     "data": {
      "text/plain": [
       "Index(['reviews'], dtype='object')"
      ]
     },
     "execution_count": 5,
     "metadata": {},
     "output_type": "execute_result"
    }
   ],
   "source": [
    "inputs.columns[inputs.isna().any()]"
   ]
  },
  {
   "cell_type": "code",
   "execution_count": 6,
   "metadata": {},
   "outputs": [],
   "source": [
    "from sklearn.model_selection import train_test_split\n",
    "X_train, X_test, y_train, y_test = train_test_split(inputs,target,test_size=0.2)"
   ]
  },
  {
   "cell_type": "code",
   "execution_count": 7,
   "metadata": {},
   "outputs": [
    {
     "data": {
      "text/plain": [
       "27728"
      ]
     },
     "execution_count": 7,
     "metadata": {},
     "output_type": "execute_result"
    }
   ],
   "source": [
    "len(X_train)"
   ]
  },
  {
   "cell_type": "code",
   "execution_count": 8,
   "metadata": {
    "scrolled": true
   },
   "outputs": [
    {
     "data": {
      "text/plain": [
       "34660"
      ]
     },
     "execution_count": 8,
     "metadata": {},
     "output_type": "execute_result"
    }
   ],
   "source": [
    "len(inputs)"
   ]
  },
  {
   "cell_type": "code",
   "execution_count": 9,
   "metadata": {},
   "outputs": [
    {
     "data": {
      "text/plain": [
       "['reviews']"
      ]
     },
     "execution_count": 9,
     "metadata": {},
     "output_type": "execute_result"
    }
   ],
   "source": [
    "from sklearn.feature_extraction.text import CountVectorizer\n",
    "v = CountVectorizer()\n",
    "X_train_count = v.fit_transform(X_train)\n",
    "v.get_feature_names()"
   ]
  },
  {
   "cell_type": "code",
   "execution_count": 10,
   "metadata": {},
   "outputs": [
    {
     "data": {
      "text/plain": [
       "array([[1.]])"
      ]
     },
     "execution_count": 10,
     "metadata": {},
     "output_type": "execute_result"
    }
   ],
   "source": [
    "vectorizer = CountVectorizer(\n",
    "    stop_words='english',\n",
    "    ngram_range=(1, 1),  #ngram_range=(1, 1) is the default\n",
    "    dtype='double',\n",
    ")\n",
    "X_train_count = vectorizer.fit_transform(X_train)\n",
    "X_train_count.toarray()"
   ]
  },
  {
   "cell_type": "code",
   "execution_count": 11,
   "metadata": {},
   "outputs": [
    {
     "name": "stdout",
     "output_type": "stream",
     "text": [
      "                                                 reviews\n",
      "31156  I love this device! Its very easy to use and m...\n",
      "23365  I was a hesitant buyer of these devices until ...\n",
      "26023  Excellent sound and great value. Used every da...\n",
      "25479  I purchased one few months ago and this is my ...\n",
      "32468  This is an awesome purchase. You can watch a l...\n",
      "17263  Overall, the tablet is well constructed and we...\n",
      "27557  Already own one and a dot. Bought this one as ...\n",
      "12989  Bought 3 PS4 games for a great price. And I ju...\n",
      "1575   I bought this tablet as a replacement for my w...\n",
      "10164  Very impressed with this tablet. I usually onl...\n",
      "23387  Great concept and easy for kids to use but it ...\n",
      "33969  This Amazon Fire TV controller was a cinch to ...\n",
      "17440  They learned how to use it very quickly! Great...\n",
      "22855  Very easy to set up. Sound is really good. The...\n",
      "10414  Very nice tablet. It does everything I need it...\n",
      "21058  This is my very first kindle. I am enjoying re...\n",
      "9477   I was severely disappointed that the tablet ha...\n",
      "23154  Good for music, but thought it would do a lot ...\n",
      "7128   I can't imagine a day without my Fire reader. ...\n",
      "33577  Amazon TV is a great streaming devise and it h...\n",
      "29998  much faster and stable than the fire tv stick....\n",
      "24269  I'd been using a 15+ year old stereo that was ...\n",
      "27358  Great device.=================================...\n",
      "23594  Alexa has become part of the family and her ab...\n",
      "3037   I am really enjoying my new kindle fire hd 8. ...\n",
      "385    My mother, husband, and daughter all enjoy usi...\n",
      "28114  Amazon Echo so great, I have it running my air...\n",
      "30096  Love it!!! works very well.. I already had ama...\n",
      "21747  The 7\" Amazon Kindle Fire is the best starter ...\n",
      "4087   Great price for a tablet I got two of them one...\n",
      "...                                                  ...\n",
      "23374  Love how easy it was to setup and use. Sounds ...\n",
      "19339  I wanted a simple device strictly for books. I...\n",
      "2757   I bought one and gave this one as a gift- much...\n",
      "30908  Love it and have never had any issues with the...\n",
      "27941  Great device: perfect sound, very accurate voi...\n",
      "33429  Bought the voice fire stick, that is a nice fe...\n",
      "12143  got this for my mom and she loves it good for ...\n",
      "7792   This is a good purchase for online surfing and...\n",
      "13062  Like the price. We have 5 kids so these tablet...\n",
      "23413  Gave the Amazon Echo for my grandson for Chris...\n",
      "19331  This kindle is a huge step up from my original...\n",
      "975    This was a BIRTHDAY GIFT for my LITTLE one and...\n",
      "30871  Ive always used apple devices, but this little...\n",
      "14359  If you have Amazon Prime, this is an excellent...\n",
      "2552   I was always an IPad person but after having t...\n",
      "21168  Went back and forth between this and the Oasis...\n",
      "29548  My Echo hasn't updated to the latest version t...\n",
      "994    I got this for my husband for his birthday. He...\n",
      "14661  This was a gift for my friend. My friend likes...\n",
      "29980  The box works great it was a great buy. I'm ab...\n",
      "15330  Easy to use. Intuitive to figure out most func...\n",
      "21096  This is my third Kindle and by far the best. I...\n",
      "30273  Can't recommend the Fire TV enough. This is th...\n",
      "20277  Makes book downloading and reading easy as eve...\n",
      "23007  It was very easy to set up. We are still in th...\n",
      "29222  Got this for the family and we all love it. Gr...\n",
      "1273   Great little tablet for cruzing the internet a...\n",
      "11214  I bought this onblack friday for $35 AND ABSOL...\n",
      "30564  I love my Firestick! I dropped my cable a year...\n",
      "7665   basic tablet. Good for beginners. Easy to carr...\n",
      "\n",
      "[27728 rows x 1 columns]\n"
     ]
    }
   ],
   "source": [
    "print(X_train)"
   ]
  },
  {
   "cell_type": "code",
   "execution_count": 57,
   "metadata": {},
   "outputs": [
    {
     "name": "stdout",
     "output_type": "stream",
     "text": [
      "['and', 'document', 'first', 'is', 'one', 'second', 'the', 'third', 'this']\n"
     ]
    }
   ],
   "source": [
    "from sklearn.feature_extraction.text import CountVectorizer\n",
    ">>> corpus = [\n",
    "...     'This is the first document.',\n",
    "...     'This document is the second document.',\n",
    "...     'And this is the third one.',\n",
    "...     'Is this the first document?',\n",
    "... ]\n",
    ">>> vectorizer = CountVectorizer()\n",
    ">>> X = vectorizer.fit_transform(corpus)\n",
    ">>> print(vectorizer.get_feature_names())"
   ]
  },
  {
   "cell_type": "code",
   "execution_count": null,
   "metadata": {},
   "outputs": [],
   "source": []
  }
 ],
 "metadata": {
  "kernelspec": {
   "display_name": "Python 3",
   "language": "python",
   "name": "python3"
  },
  "language_info": {
   "codemirror_mode": {
    "name": "ipython",
    "version": 3
   },
   "file_extension": ".py",
   "mimetype": "text/x-python",
   "name": "python",
   "nbconvert_exporter": "python",
   "pygments_lexer": "ipython3",
   "version": "3.6.5"
  }
 },
 "nbformat": 4,
 "nbformat_minor": 2
}
