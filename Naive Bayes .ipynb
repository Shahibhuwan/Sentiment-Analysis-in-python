{
 "cells": [
  {
   "cell_type": "code",
   "execution_count": 7,
   "metadata": {},
   "outputs": [
    {
     "name": "stdout",
     "output_type": "stream",
     "text": [
      "\n",
      "Naive Bayes\n",
      "Accuracy Score: 98.91618497109826%\n",
      "Confusion Matrix: \n",
      "[[586  12]\n",
      " [  3 783]]\n"
     ]
    }
   ],
   "source": [
    "\n",
    "import pandas as pd\n",
    "from sklearn import metrics\n",
    "from sklearn.model_selection import train_test_split\n",
    "from sklearn.feature_extraction.text import CountVectorizer\n",
    "from sklearn.svm import LinearSVC\n",
    "from sklearn.naive_bayes import MultinomialNB\n",
    "from sklearn.linear_model import LogisticRegression\n",
    "from sklearn.neighbors import KNeighborsClassifier\n",
    "\n",
    "\n",
    "# data = pd.read_csv(r\"C:\\Users\\Dell\\Desktop\\Womens Clothing E-Commerce Reviews.csv\",encoding='UTF-8',sep=',')\n",
    "# path = 'data/opinions.tsv'\n",
    "data = pd.read_table(r\"C:\\Users\\Dell\\opinions.tsv\",header=None,skiprows=1,names=['Sentiment','Review'])\n",
    "X = data.Review\n",
    "y = data.Sentiment\n",
    "y = data.Sentiment.fillna(data.Sentiment.mean())\n",
    "X=X.astype(str)\n",
    "y=y.astype(int)\n",
    "#Using CountVectorizer to convert text into tokens/features\n",
    "vect = CountVectorizer(stop_words='english', ngram_range = (1,1), max_df = .80, min_df = 4)\n",
    "X_train, X_test, y_train, y_test = train_test_split(X,y,random_state=1, test_size= 0.2)\n",
    "#Using training data to transform text into counts of features for each message\n",
    "vect.fit(X_train)\n",
    "X_train_dtm = vect.transform(X_train) \n",
    "X_test_dtm = vect.transform(X_test)\n",
    "\n",
    "#Accuracy using Naive Bayes Model\n",
    "NB = MultinomialNB()\n",
    "NB.fit(X_train_dtm, y_train)\n",
    "y_pred = NB.predict(X_test_dtm)\n",
    "print('\\nNaive Bayes')\n",
    "print('Accuracy Score: ',metrics.accuracy_score(y_test,y_pred)*100,'%',sep='')\n",
    "print('Confusion Matrix: ',metrics.confusion_matrix(y_test,y_pred), sep = '\\n')"
   ]
  },
  {
   "cell_type": "code",
   "execution_count": null,
   "metadata": {},
   "outputs": [],
   "source": [
    "from sklearn import metrics\n",
    "print(metrics.classification_report(y_test,y_pred))"
   ]
  },
  {
   "cell_type": "code",
   "execution_count": null,
   "metadata": {},
   "outputs": [],
   "source": []
  }
 ],
 "metadata": {
  "kernelspec": {
   "display_name": "Python 3",
   "language": "python",
   "name": "python3"
  },
  "language_info": {
   "codemirror_mode": {
    "name": "ipython",
    "version": 3
   },
   "file_extension": ".py",
   "mimetype": "text/x-python",
   "name": "python",
   "nbconvert_exporter": "python",
   "pygments_lexer": "ipython3",
   "version": "3.6.5"
  }
 },
 "nbformat": 4,
 "nbformat_minor": 2
}
