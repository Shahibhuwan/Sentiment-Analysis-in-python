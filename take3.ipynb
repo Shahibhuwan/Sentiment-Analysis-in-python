{
 "cells": [
  {
   "cell_type": "code",
   "execution_count": 2,
   "metadata": {},
   "outputs": [
    {
     "name": "stdout",
     "output_type": "stream",
     "text": [
      "[nltk_data] Downloading package stopwords to\n",
      "[nltk_data]     C:\\Users\\Dell\\AppData\\Roaming\\nltk_data...\n",
      "[nltk_data]   Package stopwords is already up-to-date!\n",
      "[nltk_data] Downloading package wordnet to\n",
      "[nltk_data]     C:\\Users\\Dell\\AppData\\Roaming\\nltk_data...\n",
      "[nltk_data]   Package wordnet is already up-to-date!\n"
     ]
    },
    {
     "data": {
      "text/plain": [
       "True"
      ]
     },
     "execution_count": 2,
     "metadata": {},
     "output_type": "execute_result"
    }
   ],
   "source": [
    "import nltk\n",
    "nltk.download('stopwords')\n",
    "nltk.download('wordnet')\n"
   ]
  },
  {
   "cell_type": "code",
   "execution_count": 3,
   "metadata": {},
   "outputs": [
    {
     "data": {
      "text/html": [
       "<div>\n",
       "<style scoped>\n",
       "    .dataframe tbody tr th:only-of-type {\n",
       "        vertical-align: middle;\n",
       "    }\n",
       "\n",
       "    .dataframe tbody tr th {\n",
       "        vertical-align: top;\n",
       "    }\n",
       "\n",
       "    .dataframe thead th {\n",
       "        text-align: right;\n",
       "    }\n",
       "</style>\n",
       "<table border=\"1\" class=\"dataframe\">\n",
       "  <thead>\n",
       "    <tr style=\"text-align: right;\">\n",
       "      <th></th>\n",
       "      <th>reviews</th>\n",
       "      <th>rating</th>\n",
       "    </tr>\n",
       "  </thead>\n",
       "  <tbody>\n",
       "    <tr>\n",
       "      <th>0</th>\n",
       "      <td>1 This product so far has not disappointed. My children love to use it and I like the ability to monitor control what content they see with ease.</td>\n",
       "      <td>5.0</td>\n",
       "    </tr>\n",
       "    <tr>\n",
       "      <th>1</th>\n",
       "      <td>great for beginner or experienced person. Bought as a gift and she loves it</td>\n",
       "      <td>5.0</td>\n",
       "    </tr>\n",
       "    <tr>\n",
       "      <th>2</th>\n",
       "      <td>Inexpensive tablet for him to use and learn on, step up from the NABI. He was thrilled with it, learn how to Skype on it already...</td>\n",
       "      <td>5.0</td>\n",
       "    </tr>\n",
       "    <tr>\n",
       "      <th>3</th>\n",
       "      <td>I've had my Fire HD 8 two weeks now and I love it. This tablet is a great value.We are Prime Members and that is where this tablet SHINES. I love being able to easily access all of the Prime conte...</td>\n",
       "      <td>4.0</td>\n",
       "    </tr>\n",
       "    <tr>\n",
       "      <th>4</th>\n",
       "      <td>I bought this for my grand daughter when she comes over to visit. I set it up with her as the user, entered her age and name and now Amazon makes sure that she only accesses sites and content that...</td>\n",
       "      <td>5.0</td>\n",
       "    </tr>\n",
       "  </tbody>\n",
       "</table>\n",
       "</div>"
      ],
      "text/plain": [
       "                                                                                                                                                                                                   reviews  \\\n",
       "0                                                        1 This product so far has not disappointed. My children love to use it and I like the ability to monitor control what content they see with ease.   \n",
       "1                                                                                                                              great for beginner or experienced person. Bought as a gift and she loves it   \n",
       "2                                                                      Inexpensive tablet for him to use and learn on, step up from the NABI. He was thrilled with it, learn how to Skype on it already...   \n",
       "3  I've had my Fire HD 8 two weeks now and I love it. This tablet is a great value.We are Prime Members and that is where this tablet SHINES. I love being able to easily access all of the Prime conte...   \n",
       "4  I bought this for my grand daughter when she comes over to visit. I set it up with her as the user, entered her age and name and now Amazon makes sure that she only accesses sites and content that...   \n",
       "\n",
       "   rating  \n",
       "0     5.0  \n",
       "1     5.0  \n",
       "2     5.0  \n",
       "3     4.0  \n",
       "4     5.0  "
      ]
     },
     "execution_count": 3,
     "metadata": {},
     "output_type": "execute_result"
    }
   ],
   "source": [
    "import pandas as pd\n",
    "pd.set_option('display.max_colwidth',200)\n",
    "df=pd.read_csv(r\"C:\\Users\\Dell\\Desktop\\1429_1.csv\",encoding='UTF-8',sep=',')\n",
    "\n",
    "df.drop(['id','title'],axis='columns',inplace=True)\n",
    "df.head()"
   ]
  },
  {
   "cell_type": "code",
   "execution_count": 4,
   "metadata": {},
   "outputs": [
    {
     "data": {
      "text/html": [
       "<div>\n",
       "<style scoped>\n",
       "    .dataframe tbody tr th:only-of-type {\n",
       "        vertical-align: middle;\n",
       "    }\n",
       "\n",
       "    .dataframe tbody tr th {\n",
       "        vertical-align: top;\n",
       "    }\n",
       "\n",
       "    .dataframe thead th {\n",
       "        text-align: right;\n",
       "    }\n",
       "</style>\n",
       "<table border=\"1\" class=\"dataframe\">\n",
       "  <thead>\n",
       "    <tr style=\"text-align: right;\">\n",
       "      <th></th>\n",
       "      <th>reviews</th>\n",
       "      <th>rating</th>\n",
       "    </tr>\n",
       "  </thead>\n",
       "  <tbody>\n",
       "    <tr>\n",
       "      <th>0</th>\n",
       "      <td>1 this product so far has not disappointed. my children love to use it and i like the ability to monitor control what content they see with ease.</td>\n",
       "      <td>5.0</td>\n",
       "    </tr>\n",
       "    <tr>\n",
       "      <th>1</th>\n",
       "      <td>great for beginner or experienced person. bought as a gift and she loves it</td>\n",
       "      <td>5.0</td>\n",
       "    </tr>\n",
       "    <tr>\n",
       "      <th>2</th>\n",
       "      <td>inexpensive tablet for him to use and learn on, step up from the nabi. he was thrilled with it, learn how to skype on it already...</td>\n",
       "      <td>5.0</td>\n",
       "    </tr>\n",
       "    <tr>\n",
       "      <th>3</th>\n",
       "      <td>i've had my fire hd 8 two weeks now and i love it. this tablet is a great value.we are prime members and that is where this tablet shines. i love being able to easily access all of the prime conte...</td>\n",
       "      <td>4.0</td>\n",
       "    </tr>\n",
       "    <tr>\n",
       "      <th>4</th>\n",
       "      <td>i bought this for my grand daughter when she comes over to visit. i set it up with her as the user, entered her age and name and now amazon makes sure that she only accesses sites and content that...</td>\n",
       "      <td>5.0</td>\n",
       "    </tr>\n",
       "  </tbody>\n",
       "</table>\n",
       "</div>"
      ],
      "text/plain": [
       "                                                                                                                                                                                                   reviews  \\\n",
       "0                                                        1 this product so far has not disappointed. my children love to use it and i like the ability to monitor control what content they see with ease.   \n",
       "1                                                                                                                              great for beginner or experienced person. bought as a gift and she loves it   \n",
       "2                                                                      inexpensive tablet for him to use and learn on, step up from the nabi. he was thrilled with it, learn how to skype on it already...   \n",
       "3  i've had my fire hd 8 two weeks now and i love it. this tablet is a great value.we are prime members and that is where this tablet shines. i love being able to easily access all of the prime conte...   \n",
       "4  i bought this for my grand daughter when she comes over to visit. i set it up with her as the user, entered her age and name and now amazon makes sure that she only accesses sites and content that...   \n",
       "\n",
       "   rating  \n",
       "0     5.0  \n",
       "1     5.0  \n",
       "2     5.0  \n",
       "3     4.0  \n",
       "4     5.0  "
      ]
     },
     "execution_count": 4,
     "metadata": {},
     "output_type": "execute_result"
    }
   ],
   "source": [
    "df.reviews = df.reviews.astype(str) \n",
    "df.reviews = df.reviews.apply(lambda x: x.lower())\n",
    "df.head()"
   ]
  },
  {
   "cell_type": "code",
   "execution_count": 5,
   "metadata": {},
   "outputs": [],
   "source": [
    "import string\n",
    "def remove_punctuations(txt):\n",
    "    txt = \"\".join([c for c in txt if c not in string.punctuation])\n",
    "    return txt"
   ]
  },
  {
   "cell_type": "code",
   "execution_count": 6,
   "metadata": {},
   "outputs": [
    {
     "data": {
      "text/html": [
       "<div>\n",
       "<style scoped>\n",
       "    .dataframe tbody tr th:only-of-type {\n",
       "        vertical-align: middle;\n",
       "    }\n",
       "\n",
       "    .dataframe tbody tr th {\n",
       "        vertical-align: top;\n",
       "    }\n",
       "\n",
       "    .dataframe thead th {\n",
       "        text-align: right;\n",
       "    }\n",
       "</style>\n",
       "<table border=\"1\" class=\"dataframe\">\n",
       "  <thead>\n",
       "    <tr style=\"text-align: right;\">\n",
       "      <th></th>\n",
       "      <th>reviews</th>\n",
       "      <th>rating</th>\n",
       "      <th>new_column</th>\n",
       "    </tr>\n",
       "  </thead>\n",
       "  <tbody>\n",
       "    <tr>\n",
       "      <th>0</th>\n",
       "      <td>1 this product so far has not disappointed. my children love to use it and i like the ability to monitor control what content they see with ease.</td>\n",
       "      <td>5.0</td>\n",
       "      <td>1 this product so far has not disappointed my children love to use it and i like the ability to monitor control what content they see with ease</td>\n",
       "    </tr>\n",
       "    <tr>\n",
       "      <th>1</th>\n",
       "      <td>great for beginner or experienced person. bought as a gift and she loves it</td>\n",
       "      <td>5.0</td>\n",
       "      <td>great for beginner or experienced person bought as a gift and she loves it</td>\n",
       "    </tr>\n",
       "    <tr>\n",
       "      <th>2</th>\n",
       "      <td>inexpensive tablet for him to use and learn on, step up from the nabi. he was thrilled with it, learn how to skype on it already...</td>\n",
       "      <td>5.0</td>\n",
       "      <td>inexpensive tablet for him to use and learn on step up from the nabi he was thrilled with it learn how to skype on it already</td>\n",
       "    </tr>\n",
       "    <tr>\n",
       "      <th>3</th>\n",
       "      <td>i've had my fire hd 8 two weeks now and i love it. this tablet is a great value.we are prime members and that is where this tablet shines. i love being able to easily access all of the prime conte...</td>\n",
       "      <td>4.0</td>\n",
       "      <td>ive had my fire hd 8 two weeks now and i love it this tablet is a great valuewe are prime members and that is where this tablet shines i love being able to easily access all of the prime content a...</td>\n",
       "    </tr>\n",
       "    <tr>\n",
       "      <th>4</th>\n",
       "      <td>i bought this for my grand daughter when she comes over to visit. i set it up with her as the user, entered her age and name and now amazon makes sure that she only accesses sites and content that...</td>\n",
       "      <td>5.0</td>\n",
       "      <td>i bought this for my grand daughter when she comes over to visit i set it up with her as the user entered her age and name and now amazon makes sure that she only accesses sites and content that a...</td>\n",
       "    </tr>\n",
       "  </tbody>\n",
       "</table>\n",
       "</div>"
      ],
      "text/plain": [
       "                                                                                                                                                                                                   reviews  \\\n",
       "0                                                        1 this product so far has not disappointed. my children love to use it and i like the ability to monitor control what content they see with ease.   \n",
       "1                                                                                                                              great for beginner or experienced person. bought as a gift and she loves it   \n",
       "2                                                                      inexpensive tablet for him to use and learn on, step up from the nabi. he was thrilled with it, learn how to skype on it already...   \n",
       "3  i've had my fire hd 8 two weeks now and i love it. this tablet is a great value.we are prime members and that is where this tablet shines. i love being able to easily access all of the prime conte...   \n",
       "4  i bought this for my grand daughter when she comes over to visit. i set it up with her as the user, entered her age and name and now amazon makes sure that she only accesses sites and content that...   \n",
       "\n",
       "   rating  \\\n",
       "0     5.0   \n",
       "1     5.0   \n",
       "2     5.0   \n",
       "3     4.0   \n",
       "4     5.0   \n",
       "\n",
       "                                                                                                                                                                                                new_column  \n",
       "0                                                          1 this product so far has not disappointed my children love to use it and i like the ability to monitor control what content they see with ease  \n",
       "1                                                                                                                               great for beginner or experienced person bought as a gift and she loves it  \n",
       "2                                                                            inexpensive tablet for him to use and learn on step up from the nabi he was thrilled with it learn how to skype on it already  \n",
       "3  ive had my fire hd 8 two weeks now and i love it this tablet is a great valuewe are prime members and that is where this tablet shines i love being able to easily access all of the prime content a...  \n",
       "4  i bought this for my grand daughter when she comes over to visit i set it up with her as the user entered her age and name and now amazon makes sure that she only accesses sites and content that a...  "
      ]
     },
     "execution_count": 6,
     "metadata": {},
     "output_type": "execute_result"
    }
   ],
   "source": [
    "df[\"new_column\"] = df['reviews'].apply(remove_punctuations)\n",
    "df.head()"
   ]
  },
  {
   "cell_type": "code",
   "execution_count": 7,
   "metadata": {},
   "outputs": [
    {
     "data": {
      "text/html": [
       "<div>\n",
       "<style scoped>\n",
       "    .dataframe tbody tr th:only-of-type {\n",
       "        vertical-align: middle;\n",
       "    }\n",
       "\n",
       "    .dataframe tbody tr th {\n",
       "        vertical-align: top;\n",
       "    }\n",
       "\n",
       "    .dataframe thead th {\n",
       "        text-align: right;\n",
       "    }\n",
       "</style>\n",
       "<table border=\"1\" class=\"dataframe\">\n",
       "  <thead>\n",
       "    <tr style=\"text-align: right;\">\n",
       "      <th></th>\n",
       "      <th>reviews</th>\n",
       "      <th>rating</th>\n",
       "      <th>new_column</th>\n",
       "      <th>new_cloumns</th>\n",
       "    </tr>\n",
       "  </thead>\n",
       "  <tbody>\n",
       "    <tr>\n",
       "      <th>0</th>\n",
       "      <td>1 this product so far has not disappointed. my children love to use it and i like the ability to monitor control what content they see with ease.</td>\n",
       "      <td>5.0</td>\n",
       "      <td>1 this product so far has not disappointed my children love to use it and i like the ability to monitor control what content they see with ease</td>\n",
       "      <td>number this product so far has not disappointed my children love to use it and i like the ability to monitor control what content they see with ease</td>\n",
       "    </tr>\n",
       "    <tr>\n",
       "      <th>1</th>\n",
       "      <td>great for beginner or experienced person. bought as a gift and she loves it</td>\n",
       "      <td>5.0</td>\n",
       "      <td>great for beginner or experienced person bought as a gift and she loves it</td>\n",
       "      <td>great for beginner or experienced person bought as a gift and she loves it</td>\n",
       "    </tr>\n",
       "    <tr>\n",
       "      <th>2</th>\n",
       "      <td>inexpensive tablet for him to use and learn on, step up from the nabi. he was thrilled with it, learn how to skype on it already...</td>\n",
       "      <td>5.0</td>\n",
       "      <td>inexpensive tablet for him to use and learn on step up from the nabi he was thrilled with it learn how to skype on it already</td>\n",
       "      <td>inexpensive tablet for him to use and learn on step up from the nabi he was thrilled with it learn how to skype on it already</td>\n",
       "    </tr>\n",
       "    <tr>\n",
       "      <th>3</th>\n",
       "      <td>i've had my fire hd 8 two weeks now and i love it. this tablet is a great value.we are prime members and that is where this tablet shines. i love being able to easily access all of the prime conte...</td>\n",
       "      <td>4.0</td>\n",
       "      <td>ive had my fire hd 8 two weeks now and i love it this tablet is a great valuewe are prime members and that is where this tablet shines i love being able to easily access all of the prime content a...</td>\n",
       "      <td>ive had my fire hd number two weeks now and i love it this tablet is a great valuewe are prime members and that is where this tablet shines i love being able to easily access all of the prime cont...</td>\n",
       "    </tr>\n",
       "    <tr>\n",
       "      <th>4</th>\n",
       "      <td>i bought this for my grand daughter when she comes over to visit. i set it up with her as the user, entered her age and name and now amazon makes sure that she only accesses sites and content that...</td>\n",
       "      <td>5.0</td>\n",
       "      <td>i bought this for my grand daughter when she comes over to visit i set it up with her as the user entered her age and name and now amazon makes sure that she only accesses sites and content that a...</td>\n",
       "      <td>i bought this for my grand daughter when she comes over to visit i set it up with her as the user entered her age and name and now amazon makes sure that she only accesses sites and content that a...</td>\n",
       "    </tr>\n",
       "  </tbody>\n",
       "</table>\n",
       "</div>"
      ],
      "text/plain": [
       "                                                                                                                                                                                                   reviews  \\\n",
       "0                                                        1 this product so far has not disappointed. my children love to use it and i like the ability to monitor control what content they see with ease.   \n",
       "1                                                                                                                              great for beginner or experienced person. bought as a gift and she loves it   \n",
       "2                                                                      inexpensive tablet for him to use and learn on, step up from the nabi. he was thrilled with it, learn how to skype on it already...   \n",
       "3  i've had my fire hd 8 two weeks now and i love it. this tablet is a great value.we are prime members and that is where this tablet shines. i love being able to easily access all of the prime conte...   \n",
       "4  i bought this for my grand daughter when she comes over to visit. i set it up with her as the user, entered her age and name and now amazon makes sure that she only accesses sites and content that...   \n",
       "\n",
       "   rating  \\\n",
       "0     5.0   \n",
       "1     5.0   \n",
       "2     5.0   \n",
       "3     4.0   \n",
       "4     5.0   \n",
       "\n",
       "                                                                                                                                                                                                new_column  \\\n",
       "0                                                          1 this product so far has not disappointed my children love to use it and i like the ability to monitor control what content they see with ease   \n",
       "1                                                                                                                               great for beginner or experienced person bought as a gift and she loves it   \n",
       "2                                                                            inexpensive tablet for him to use and learn on step up from the nabi he was thrilled with it learn how to skype on it already   \n",
       "3  ive had my fire hd 8 two weeks now and i love it this tablet is a great valuewe are prime members and that is where this tablet shines i love being able to easily access all of the prime content a...   \n",
       "4  i bought this for my grand daughter when she comes over to visit i set it up with her as the user entered her age and name and now amazon makes sure that she only accesses sites and content that a...   \n",
       "\n",
       "                                                                                                                                                                                               new_cloumns  \n",
       "0                                                     number this product so far has not disappointed my children love to use it and i like the ability to monitor control what content they see with ease  \n",
       "1                                                                                                                               great for beginner or experienced person bought as a gift and she loves it  \n",
       "2                                                                            inexpensive tablet for him to use and learn on step up from the nabi he was thrilled with it learn how to skype on it already  \n",
       "3  ive had my fire hd number two weeks now and i love it this tablet is a great valuewe are prime members and that is where this tablet shines i love being able to easily access all of the prime cont...  \n",
       "4  i bought this for my grand daughter when she comes over to visit i set it up with her as the user entered her age and name and now amazon makes sure that she only accesses sites and content that a...  "
      ]
     },
     "execution_count": 7,
     "metadata": {},
     "output_type": "execute_result"
    }
   ],
   "source": [
    "df['new_cloumns'] = df['new_column'].str.replace('\\d+', 'number') # to replace no. by \"\"\n",
    "df.head()"
   ]
  },
  {
   "cell_type": "code",
   "execution_count": 8,
   "metadata": {},
   "outputs": [
    {
     "data": {
      "text/html": [
       "<div>\n",
       "<style scoped>\n",
       "    .dataframe tbody tr th:only-of-type {\n",
       "        vertical-align: middle;\n",
       "    }\n",
       "\n",
       "    .dataframe tbody tr th {\n",
       "        vertical-align: top;\n",
       "    }\n",
       "\n",
       "    .dataframe thead th {\n",
       "        text-align: right;\n",
       "    }\n",
       "</style>\n",
       "<table border=\"1\" class=\"dataframe\">\n",
       "  <thead>\n",
       "    <tr style=\"text-align: right;\">\n",
       "      <th></th>\n",
       "      <th>reviews</th>\n",
       "      <th>rating</th>\n",
       "      <th>new_column</th>\n",
       "      <th>new_cloumns</th>\n",
       "      <th>tokenize</th>\n",
       "    </tr>\n",
       "  </thead>\n",
       "  <tbody>\n",
       "    <tr>\n",
       "      <th>0</th>\n",
       "      <td>1 this product so far has not disappointed. my children love to use it and i like the ability to monitor control what content they see with ease.</td>\n",
       "      <td>5.0</td>\n",
       "      <td>1 this product so far has not disappointed my children love to use it and i like the ability to monitor control what content they see with ease</td>\n",
       "      <td>number this product so far has not disappointed my children love to use it and i like the ability to monitor control what content they see with ease</td>\n",
       "      <td>[number, this, product, so, far, has, not, disappointed, my, children, love, to, use, it, and, i, like, the, ability, to, monitor, control, what, content, they, see, with, ease]</td>\n",
       "    </tr>\n",
       "    <tr>\n",
       "      <th>1</th>\n",
       "      <td>great for beginner or experienced person. bought as a gift and she loves it</td>\n",
       "      <td>5.0</td>\n",
       "      <td>great for beginner or experienced person bought as a gift and she loves it</td>\n",
       "      <td>great for beginner or experienced person bought as a gift and she loves it</td>\n",
       "      <td>[great, for, beginner, or, experienced, person, bought, as, a, gift, and, she, loves, it]</td>\n",
       "    </tr>\n",
       "    <tr>\n",
       "      <th>2</th>\n",
       "      <td>inexpensive tablet for him to use and learn on, step up from the nabi. he was thrilled with it, learn how to skype on it already...</td>\n",
       "      <td>5.0</td>\n",
       "      <td>inexpensive tablet for him to use and learn on step up from the nabi he was thrilled with it learn how to skype on it already</td>\n",
       "      <td>inexpensive tablet for him to use and learn on step up from the nabi he was thrilled with it learn how to skype on it already</td>\n",
       "      <td>[inexpensive, tablet, for, him, to, use, and, learn, on, step, up, from, the, nabi, he, was, thrilled, with, it, learn, how, to, skype, on, it, already]</td>\n",
       "    </tr>\n",
       "    <tr>\n",
       "      <th>3</th>\n",
       "      <td>i've had my fire hd 8 two weeks now and i love it. this tablet is a great value.we are prime members and that is where this tablet shines. i love being able to easily access all of the prime conte...</td>\n",
       "      <td>4.0</td>\n",
       "      <td>ive had my fire hd 8 two weeks now and i love it this tablet is a great valuewe are prime members and that is where this tablet shines i love being able to easily access all of the prime content a...</td>\n",
       "      <td>ive had my fire hd number two weeks now and i love it this tablet is a great valuewe are prime members and that is where this tablet shines i love being able to easily access all of the prime cont...</td>\n",
       "      <td>[ive, had, my, fire, hd, number, two, weeks, now, and, i, love, it, this, tablet, is, a, great, valuewe, are, prime, members, and, that, is, where, this, tablet, shines, i, love, being, able, to, ...</td>\n",
       "    </tr>\n",
       "    <tr>\n",
       "      <th>4</th>\n",
       "      <td>i bought this for my grand daughter when she comes over to visit. i set it up with her as the user, entered her age and name and now amazon makes sure that she only accesses sites and content that...</td>\n",
       "      <td>5.0</td>\n",
       "      <td>i bought this for my grand daughter when she comes over to visit i set it up with her as the user entered her age and name and now amazon makes sure that she only accesses sites and content that a...</td>\n",
       "      <td>i bought this for my grand daughter when she comes over to visit i set it up with her as the user entered her age and name and now amazon makes sure that she only accesses sites and content that a...</td>\n",
       "      <td>[i, bought, this, for, my, grand, daughter, when, she, comes, over, to, visit, i, set, it, up, with, her, as, the, user, entered, her, age, and, name, and, now, amazon, makes, sure, that, she, onl...</td>\n",
       "    </tr>\n",
       "  </tbody>\n",
       "</table>\n",
       "</div>"
      ],
      "text/plain": [
       "                                                                                                                                                                                                   reviews  \\\n",
       "0                                                        1 this product so far has not disappointed. my children love to use it and i like the ability to monitor control what content they see with ease.   \n",
       "1                                                                                                                              great for beginner or experienced person. bought as a gift and she loves it   \n",
       "2                                                                      inexpensive tablet for him to use and learn on, step up from the nabi. he was thrilled with it, learn how to skype on it already...   \n",
       "3  i've had my fire hd 8 two weeks now and i love it. this tablet is a great value.we are prime members and that is where this tablet shines. i love being able to easily access all of the prime conte...   \n",
       "4  i bought this for my grand daughter when she comes over to visit. i set it up with her as the user, entered her age and name and now amazon makes sure that she only accesses sites and content that...   \n",
       "\n",
       "   rating  \\\n",
       "0     5.0   \n",
       "1     5.0   \n",
       "2     5.0   \n",
       "3     4.0   \n",
       "4     5.0   \n",
       "\n",
       "                                                                                                                                                                                                new_column  \\\n",
       "0                                                          1 this product so far has not disappointed my children love to use it and i like the ability to monitor control what content they see with ease   \n",
       "1                                                                                                                               great for beginner or experienced person bought as a gift and she loves it   \n",
       "2                                                                            inexpensive tablet for him to use and learn on step up from the nabi he was thrilled with it learn how to skype on it already   \n",
       "3  ive had my fire hd 8 two weeks now and i love it this tablet is a great valuewe are prime members and that is where this tablet shines i love being able to easily access all of the prime content a...   \n",
       "4  i bought this for my grand daughter when she comes over to visit i set it up with her as the user entered her age and name and now amazon makes sure that she only accesses sites and content that a...   \n",
       "\n",
       "                                                                                                                                                                                               new_cloumns  \\\n",
       "0                                                     number this product so far has not disappointed my children love to use it and i like the ability to monitor control what content they see with ease   \n",
       "1                                                                                                                               great for beginner or experienced person bought as a gift and she loves it   \n",
       "2                                                                            inexpensive tablet for him to use and learn on step up from the nabi he was thrilled with it learn how to skype on it already   \n",
       "3  ive had my fire hd number two weeks now and i love it this tablet is a great valuewe are prime members and that is where this tablet shines i love being able to easily access all of the prime cont...   \n",
       "4  i bought this for my grand daughter when she comes over to visit i set it up with her as the user entered her age and name and now amazon makes sure that she only accesses sites and content that a...   \n",
       "\n",
       "                                                                                                                                                                                                  tokenize  \n",
       "0                        [number, this, product, so, far, has, not, disappointed, my, children, love, to, use, it, and, i, like, the, ability, to, monitor, control, what, content, they, see, with, ease]  \n",
       "1                                                                                                                [great, for, beginner, or, experienced, person, bought, as, a, gift, and, she, loves, it]  \n",
       "2                                                 [inexpensive, tablet, for, him, to, use, and, learn, on, step, up, from, the, nabi, he, was, thrilled, with, it, learn, how, to, skype, on, it, already]  \n",
       "3  [ive, had, my, fire, hd, number, two, weeks, now, and, i, love, it, this, tablet, is, a, great, valuewe, are, prime, members, and, that, is, where, this, tablet, shines, i, love, being, able, to, ...  \n",
       "4  [i, bought, this, for, my, grand, daughter, when, she, comes, over, to, visit, i, set, it, up, with, her, as, the, user, entered, her, age, and, name, and, now, amazon, makes, sure, that, she, onl...  "
      ]
     },
     "execution_count": 8,
     "metadata": {},
     "output_type": "execute_result"
    }
   ],
   "source": [
    "import re\n",
    "\n",
    "def tokenize(txt):\n",
    "    tokens = re.split('\\W+' , txt)\n",
    "    return tokens\n",
    "df['tokenize']=df['new_cloumns'].apply(lambda x: tokenize(x.lower()))\n",
    "df.head()"
   ]
  },
  {
   "cell_type": "code",
   "execution_count": 9,
   "metadata": {},
   "outputs": [
    {
     "data": {
      "text/plain": [
       "['i', 'me', 'my', 'myself', 'we', 'our', 'ours', 'ourselves', 'you', \"you're\"]"
      ]
     },
     "execution_count": 9,
     "metadata": {},
     "output_type": "execute_result"
    }
   ],
   "source": [
    "import nltk\n",
    "stopwords = nltk.corpus.stopwords.words('english')\n",
    "stopwords[0:10]"
   ]
  },
  {
   "cell_type": "code",
   "execution_count": 10,
   "metadata": {},
   "outputs": [],
   "source": [
    "def remove_stopwords(txt_tokenized):\n",
    "    txt_clean = [word for word in txt_tokenized if word not in stopwords]\n",
    "    return txt_clean\n",
    "df['sw']=df['tokenize'].apply(lambda x: remove_stopwords(x))"
   ]
  },
  {
   "cell_type": "code",
   "execution_count": 11,
   "metadata": {},
   "outputs": [],
   "source": [
    "from nltk.stem import WordNetLemmatizer\n",
    "wn=WordNetLemmatizer()"
   ]
  },
  {
   "cell_type": "code",
   "execution_count": 12,
   "metadata": {},
   "outputs": [
    {
     "data": {
      "text/html": [
       "<div>\n",
       "<style scoped>\n",
       "    .dataframe tbody tr th:only-of-type {\n",
       "        vertical-align: middle;\n",
       "    }\n",
       "\n",
       "    .dataframe tbody tr th {\n",
       "        vertical-align: top;\n",
       "    }\n",
       "\n",
       "    .dataframe thead th {\n",
       "        text-align: right;\n",
       "    }\n",
       "</style>\n",
       "<table border=\"1\" class=\"dataframe\">\n",
       "  <thead>\n",
       "    <tr style=\"text-align: right;\">\n",
       "      <th></th>\n",
       "      <th>reviews</th>\n",
       "      <th>rating</th>\n",
       "      <th>new_column</th>\n",
       "      <th>new_cloumns</th>\n",
       "      <th>tokenize</th>\n",
       "      <th>sw</th>\n",
       "      <th>lemmatize</th>\n",
       "    </tr>\n",
       "  </thead>\n",
       "  <tbody>\n",
       "    <tr>\n",
       "      <th>0</th>\n",
       "      <td>1 this product so far has not disappointed. my children love to use it and i like the ability to monitor control what content they see with ease.</td>\n",
       "      <td>5.0</td>\n",
       "      <td>1 this product so far has not disappointed my children love to use it and i like the ability to monitor control what content they see with ease</td>\n",
       "      <td>number this product so far has not disappointed my children love to use it and i like the ability to monitor control what content they see with ease</td>\n",
       "      <td>[number, this, product, so, far, has, not, disappointed, my, children, love, to, use, it, and, i, like, the, ability, to, monitor, control, what, content, they, see, with, ease]</td>\n",
       "      <td>[number, product, far, disappointed, children, love, use, like, ability, monitor, control, content, see, ease]</td>\n",
       "      <td>[number, product, far, disappointed, child, love, use, like, ability, monitor, control, content, see, ease]</td>\n",
       "    </tr>\n",
       "    <tr>\n",
       "      <th>1</th>\n",
       "      <td>great for beginner or experienced person. bought as a gift and she loves it</td>\n",
       "      <td>5.0</td>\n",
       "      <td>great for beginner or experienced person bought as a gift and she loves it</td>\n",
       "      <td>great for beginner or experienced person bought as a gift and she loves it</td>\n",
       "      <td>[great, for, beginner, or, experienced, person, bought, as, a, gift, and, she, loves, it]</td>\n",
       "      <td>[great, beginner, experienced, person, bought, gift, loves]</td>\n",
       "      <td>[great, beginner, experienced, person, bought, gift, love]</td>\n",
       "    </tr>\n",
       "    <tr>\n",
       "      <th>2</th>\n",
       "      <td>inexpensive tablet for him to use and learn on, step up from the nabi. he was thrilled with it, learn how to skype on it already...</td>\n",
       "      <td>5.0</td>\n",
       "      <td>inexpensive tablet for him to use and learn on step up from the nabi he was thrilled with it learn how to skype on it already</td>\n",
       "      <td>inexpensive tablet for him to use and learn on step up from the nabi he was thrilled with it learn how to skype on it already</td>\n",
       "      <td>[inexpensive, tablet, for, him, to, use, and, learn, on, step, up, from, the, nabi, he, was, thrilled, with, it, learn, how, to, skype, on, it, already]</td>\n",
       "      <td>[inexpensive, tablet, use, learn, step, nabi, thrilled, learn, skype, already]</td>\n",
       "      <td>[inexpensive, tablet, use, learn, step, nabi, thrilled, learn, skype, already]</td>\n",
       "    </tr>\n",
       "    <tr>\n",
       "      <th>3</th>\n",
       "      <td>i've had my fire hd 8 two weeks now and i love it. this tablet is a great value.we are prime members and that is where this tablet shines. i love being able to easily access all of the prime conte...</td>\n",
       "      <td>4.0</td>\n",
       "      <td>ive had my fire hd 8 two weeks now and i love it this tablet is a great valuewe are prime members and that is where this tablet shines i love being able to easily access all of the prime content a...</td>\n",
       "      <td>ive had my fire hd number two weeks now and i love it this tablet is a great valuewe are prime members and that is where this tablet shines i love being able to easily access all of the prime cont...</td>\n",
       "      <td>[ive, had, my, fire, hd, number, two, weeks, now, and, i, love, it, this, tablet, is, a, great, valuewe, are, prime, members, and, that, is, where, this, tablet, shines, i, love, being, able, to, ...</td>\n",
       "      <td>[ive, fire, hd, number, two, weeks, love, tablet, great, valuewe, prime, members, tablet, shines, love, able, easily, access, prime, content, well, movies, download, watch, laterthis, number, scre...</td>\n",
       "      <td>[ive, fire, hd, number, two, week, love, tablet, great, valuewe, prime, member, tablet, shine, love, able, easily, access, prime, content, well, movie, download, watch, laterthis, number, screen, ...</td>\n",
       "    </tr>\n",
       "    <tr>\n",
       "      <th>4</th>\n",
       "      <td>i bought this for my grand daughter when she comes over to visit. i set it up with her as the user, entered her age and name and now amazon makes sure that she only accesses sites and content that...</td>\n",
       "      <td>5.0</td>\n",
       "      <td>i bought this for my grand daughter when she comes over to visit i set it up with her as the user entered her age and name and now amazon makes sure that she only accesses sites and content that a...</td>\n",
       "      <td>i bought this for my grand daughter when she comes over to visit i set it up with her as the user entered her age and name and now amazon makes sure that she only accesses sites and content that a...</td>\n",
       "      <td>[i, bought, this, for, my, grand, daughter, when, she, comes, over, to, visit, i, set, it, up, with, her, as, the, user, entered, her, age, and, name, and, now, amazon, makes, sure, that, she, onl...</td>\n",
       "      <td>[bought, grand, daughter, comes, visit, set, user, entered, age, name, amazon, makes, sure, accesses, sites, content, appropriate, age, simple, loves, capabilities, also, bought, installed, number...</td>\n",
       "      <td>[bought, grand, daughter, come, visit, set, user, entered, age, name, amazon, make, sure, access, site, content, appropriate, age, simple, love, capability, also, bought, installed, numbergig, sd,...</td>\n",
       "    </tr>\n",
       "  </tbody>\n",
       "</table>\n",
       "</div>"
      ],
      "text/plain": [
       "                                                                                                                                                                                                   reviews  \\\n",
       "0                                                        1 this product so far has not disappointed. my children love to use it and i like the ability to monitor control what content they see with ease.   \n",
       "1                                                                                                                              great for beginner or experienced person. bought as a gift and she loves it   \n",
       "2                                                                      inexpensive tablet for him to use and learn on, step up from the nabi. he was thrilled with it, learn how to skype on it already...   \n",
       "3  i've had my fire hd 8 two weeks now and i love it. this tablet is a great value.we are prime members and that is where this tablet shines. i love being able to easily access all of the prime conte...   \n",
       "4  i bought this for my grand daughter when she comes over to visit. i set it up with her as the user, entered her age and name and now amazon makes sure that she only accesses sites and content that...   \n",
       "\n",
       "   rating  \\\n",
       "0     5.0   \n",
       "1     5.0   \n",
       "2     5.0   \n",
       "3     4.0   \n",
       "4     5.0   \n",
       "\n",
       "                                                                                                                                                                                                new_column  \\\n",
       "0                                                          1 this product so far has not disappointed my children love to use it and i like the ability to monitor control what content they see with ease   \n",
       "1                                                                                                                               great for beginner or experienced person bought as a gift and she loves it   \n",
       "2                                                                            inexpensive tablet for him to use and learn on step up from the nabi he was thrilled with it learn how to skype on it already   \n",
       "3  ive had my fire hd 8 two weeks now and i love it this tablet is a great valuewe are prime members and that is where this tablet shines i love being able to easily access all of the prime content a...   \n",
       "4  i bought this for my grand daughter when she comes over to visit i set it up with her as the user entered her age and name and now amazon makes sure that she only accesses sites and content that a...   \n",
       "\n",
       "                                                                                                                                                                                               new_cloumns  \\\n",
       "0                                                     number this product so far has not disappointed my children love to use it and i like the ability to monitor control what content they see with ease   \n",
       "1                                                                                                                               great for beginner or experienced person bought as a gift and she loves it   \n",
       "2                                                                            inexpensive tablet for him to use and learn on step up from the nabi he was thrilled with it learn how to skype on it already   \n",
       "3  ive had my fire hd number two weeks now and i love it this tablet is a great valuewe are prime members and that is where this tablet shines i love being able to easily access all of the prime cont...   \n",
       "4  i bought this for my grand daughter when she comes over to visit i set it up with her as the user entered her age and name and now amazon makes sure that she only accesses sites and content that a...   \n",
       "\n",
       "                                                                                                                                                                                                  tokenize  \\\n",
       "0                        [number, this, product, so, far, has, not, disappointed, my, children, love, to, use, it, and, i, like, the, ability, to, monitor, control, what, content, they, see, with, ease]   \n",
       "1                                                                                                                [great, for, beginner, or, experienced, person, bought, as, a, gift, and, she, loves, it]   \n",
       "2                                                 [inexpensive, tablet, for, him, to, use, and, learn, on, step, up, from, the, nabi, he, was, thrilled, with, it, learn, how, to, skype, on, it, already]   \n",
       "3  [ive, had, my, fire, hd, number, two, weeks, now, and, i, love, it, this, tablet, is, a, great, valuewe, are, prime, members, and, that, is, where, this, tablet, shines, i, love, being, able, to, ...   \n",
       "4  [i, bought, this, for, my, grand, daughter, when, she, comes, over, to, visit, i, set, it, up, with, her, as, the, user, entered, her, age, and, name, and, now, amazon, makes, sure, that, she, onl...   \n",
       "\n",
       "                                                                                                                                                                                                        sw  \\\n",
       "0                                                                                           [number, product, far, disappointed, children, love, use, like, ability, monitor, control, content, see, ease]   \n",
       "1                                                                                                                                              [great, beginner, experienced, person, bought, gift, loves]   \n",
       "2                                                                                                                           [inexpensive, tablet, use, learn, step, nabi, thrilled, learn, skype, already]   \n",
       "3  [ive, fire, hd, number, two, weeks, love, tablet, great, valuewe, prime, members, tablet, shines, love, able, easily, access, prime, content, well, movies, download, watch, laterthis, number, scre...   \n",
       "4  [bought, grand, daughter, comes, visit, set, user, entered, age, name, amazon, makes, sure, accesses, sites, content, appropriate, age, simple, loves, capabilities, also, bought, installed, number...   \n",
       "\n",
       "                                                                                                                                                                                                 lemmatize  \n",
       "0                                                                                              [number, product, far, disappointed, child, love, use, like, ability, monitor, control, content, see, ease]  \n",
       "1                                                                                                                                               [great, beginner, experienced, person, bought, gift, love]  \n",
       "2                                                                                                                           [inexpensive, tablet, use, learn, step, nabi, thrilled, learn, skype, already]  \n",
       "3  [ive, fire, hd, number, two, week, love, tablet, great, valuewe, prime, member, tablet, shine, love, able, easily, access, prime, content, well, movie, download, watch, laterthis, number, screen, ...  \n",
       "4  [bought, grand, daughter, come, visit, set, user, entered, age, name, amazon, make, sure, access, site, content, appropriate, age, simple, love, capability, also, bought, installed, numbergig, sd,...  "
      ]
     },
     "execution_count": 12,
     "metadata": {},
     "output_type": "execute_result"
    }
   ],
   "source": [
    "def lemmatization(token_txt):\n",
    "    text = [wn.lemmatize(word) for word in token_txt]\n",
    "    \n",
    "    return text\n",
    "\n",
    "df['lemmatize']= df['sw'].apply(lambda x : lemmatization(x))\n",
    "df.head()"
   ]
  },
  {
   "cell_type": "code",
   "execution_count": 13,
   "metadata": {},
   "outputs": [
    {
     "data": {
      "text/plain": [
       "Index(['rating'], dtype='object')"
      ]
     },
     "execution_count": 13,
     "metadata": {},
     "output_type": "execute_result"
    }
   ],
   "source": [
    "df.columns[df.isna().any()]"
   ]
  },
  {
   "cell_type": "code",
   "execution_count": 14,
   "metadata": {},
   "outputs": [
    {
     "data": {
      "text/plain": [
       "reviews         0\n",
       "rating         33\n",
       "new_column      0\n",
       "new_cloumns     0\n",
       "tokenize        0\n",
       "sw              0\n",
       "lemmatize       0\n",
       "dtype: int64"
      ]
     },
     "execution_count": 14,
     "metadata": {},
     "output_type": "execute_result"
    }
   ],
   "source": [
    "df.isna().sum()"
   ]
  },
  {
   "cell_type": "code",
   "execution_count": 15,
   "metadata": {},
   "outputs": [
    {
     "name": "stdout",
     "output_type": "stream",
     "text": [
      "<class 'pandas.core.frame.DataFrame'>\n",
      "RangeIndex: 34660 entries, 0 to 34659\n",
      "Data columns (total 7 columns):\n",
      "reviews        34660 non-null object\n",
      "rating         34627 non-null float64\n",
      "new_column     34660 non-null object\n",
      "new_cloumns    34660 non-null object\n",
      "tokenize       34660 non-null object\n",
      "sw             34660 non-null object\n",
      "lemmatize      34660 non-null object\n",
      "dtypes: float64(1), object(6)\n",
      "memory usage: 1.9+ MB\n"
     ]
    }
   ],
   "source": [
    "df.info() #provides info of null fields"
   ]
  },
  {
   "cell_type": "code",
   "execution_count": 16,
   "metadata": {},
   "outputs": [],
   "source": [
    "df.rating = df.rating.fillna(df.rating.mean())"
   ]
  },
  {
   "cell_type": "code",
   "execution_count": 17,
   "metadata": {},
   "outputs": [
    {
     "data": {
      "text/plain": [
       "reviews        0\n",
       "rating         0\n",
       "new_column     0\n",
       "new_cloumns    0\n",
       "tokenize       0\n",
       "sw             0\n",
       "lemmatize      0\n",
       "dtype: int64"
      ]
     },
     "execution_count": 17,
     "metadata": {},
     "output_type": "execute_result"
    }
   ],
   "source": [
    "df.isna().sum()"
   ]
  },
  {
   "cell_type": "code",
   "execution_count": 18,
   "metadata": {},
   "outputs": [],
   "source": [
    "from sklearn.model_selection import train_test_split\n",
    "X_train, X_test, y_train, y_test = train_test_split(df.lemmatize,df.rating,test_size=0.2,random_state=1)"
   ]
  },
  {
   "cell_type": "code",
   "execution_count": 19,
   "metadata": {},
   "outputs": [
    {
     "data": {
      "text/plain": [
       "Int64Index([  918, 11726,  9592, 17123,  6868,  2097,  3125, 33009, 15401,\n",
       "             9131,\n",
       "            ...\n",
       "            31228,  7751, 20609, 32912, 21440,  7813, 32511,  5192, 12172,\n",
       "            33003],\n",
       "           dtype='int64', length=27728)"
      ]
     },
     "execution_count": 19,
     "metadata": {},
     "output_type": "execute_result"
    }
   ],
   "source": [
    "X_train.keys()"
   ]
  },
  {
   "cell_type": "code",
   "execution_count": 20,
   "metadata": {},
   "outputs": [
    {
     "name": "stdout",
     "output_type": "stream",
     "text": [
      "918                                                                                                                                               [better, expected, price, work, good, would, fully, recommend]\n",
      "11726        [would, recommend, product, anyone, budget, want, something, bigger, iphone, searching, purpose, everything, iphone, wanted, tablet, reading, spotify, netflix, ease, bigger, screen, number, buck]\n",
      "9592                                                                                                                                            [bought, mom, love, using, kindle, past, needed, something, new]\n",
      "17123                                                                                      [kindle, fire, great, especially, kid, version, free, time, app, keep, kid, file, prevents, messing, tablet, setting]\n",
      "6868                                                                                                                                                             [number, year, old, love, easy, use, lot, apps]\n",
      "2097     [last, got, fire, number, kid, amazon, freetime, subscription, good, price, two, flaw, screen, good, much, better, android, device, number, great, got, number, mb, version, would, recommend, hinds...\n",
      "3125                                                                                                                                                        [really, expected, chord, price, paid, dissapointed]\n",
      "33009                                                                              [purchased, box, replacement, roku, number, box, awesome, thing, roku, cannot, best, decision, ever, made, term, electronics]\n",
      "15401                                                                                                                                                              [perfect, secondary, tablet, son, take, road]\n",
      "9131         [gave, tablet, christmas, gift, us, time, love, thrilled, get, bought, extended, warranty, tablet, would, covererd, case, something, happened, mother, seen, advertised, bought, thanksgiving, day]\n",
      "12558                                                                                                                                                               [ok, would, recommend, friend, sure, future]\n",
      "30215                                                                                                                                 [great, device, medium, need, plug, right, ready, go, isnt, hard, operate]\n",
      "20688                          [excellent, ereader, looking, probably, bit, priced, casual, reader, voyage, wonderful, looking, best, reading, experience, willing, pay, price, tag, trade, lack, functionality]\n",
      "32829                                                                                                                                       [bought, get, rid, uverse, installed, playstation, vue, work, great]\n",
      "18562                                                                                             [wanted, kindle, light, feature, reading, bed, night, done, homework, would, purchased, kindle, bell, whistle]\n",
      "4088                                                                                                                                         [purchased, dad, complaint, he, able, download, game, easily, fast]\n",
      "25706                                                                                                                                                            [small, issue, setting, start, kid, took, care]\n",
      "13991                                                                                                                                                   [got, tablet, great, price, work, well, fast, processor]\n",
      "24715                                                                             [echo, great, companion, without, fail, brings, smile, face, say, good, night, good, morning, tell, joke, lakers, last, night]\n",
      "20070                                                                                                                                          [love, kindle, screen, good, low, light, reading, also, sunlight]\n",
      "34012                                                                                                                                            [really, love, product, fast, portable, stream, favorite, show]\n",
      "20261                                                                                                                                                  [easy, replace, old, kindle, like, larger, screen, light]\n",
      "2963                                                                                                                                                     [bought, grandkids, christmas, like, parental, control]\n",
      "24335    [alexa, pretty, fun, feel, though, update, skill, come, future, even, helpful, actual, speaker, sound, system, ok, dont, really, get, deep, rich, tone, would, larger, higher, quality, system, like...\n",
      "28293                                                                                                                                                         [great, product, best, buy, best, place, purchase]\n",
      "17126                                                                                                                                 [durable, easy, work, love, functionality, kid, love, tablet, good, stuff]\n",
      "18039                                                                                                                                                   [little, improved, previous, version, good, deal, price]\n",
      "21555                                                                                 [used, time, far, like, lightweight, pretty, easy, navigate, perfect, screen, size, ended, purchasing, second, one, fianc]\n",
      "12652                                                                                                                                            [nice, simple, great, deal, money, good, buy, would, recommend]\n",
      "6053                                                                                                                                                                               [thing, cant, download, good]\n",
      "                                                                                                          ...                                                                                                   \n",
      "9287                                                                                                                                                            [onsale, number, cheap, good, new, star, tablet]\n",
      "16926                                                                                                                                                            [grandson, happy, kindle, case, protects, well]\n",
      "431                                                                                                                          [good, starter, unit, easy, beginner, use, priced, low, give, taste, tablet, world]\n",
      "32397                    [box, give, everything, fire, tv, stick, lot, expandable, sd, storage, usb, storage, used, apps, personal, video, also, connect, gaming, controller, psnumber, controller, work, great]\n",
      "29960                                                                                                                                                                  [worth, price, easy, use, user, friendly]\n",
      "2561                                                                                                                                                 [simple, use, great, dad, want, play, game, check, weather]\n",
      "3606                                                    [use, every, day, commute, great, battery, life, backlight, readable, normal, lighting, like, built, dictionary, email, pdf, mobi, file, easy, transfer]\n",
      "33799                                                                                                                                                       [love, firestick, great, product, price, bad, offer]\n",
      "33878                                                                                                                                                                          [really, like, watch, lot, movie]\n",
      "26103                                                                                                                                      [happy, purchase, easy, setup, request, information, music, anything]\n",
      "17137    [number, year, old, boy, broke, le, number, month, even, bumper, guard, wont, power, working, limited, storage, ran, space, number, hour, wifi, wouldnt, work, go, explain, couldnt, download, hand,...\n",
      "19433                                                                                                                                      [absolutely, love, kindle, paper, white, read, ton, book, love, time]\n",
      "24535                                                                                                                                                      [love, alexa, amazon, echo, would, highly, recommend]\n",
      "31959                                                                                          [excellent, picture, speed, overall, quality, movie, selection, range, number, date, uhd, reason, made, purchase]\n",
      "27204                                                                                                                                                         [great, product, useful, weather, traffic, report]\n",
      "22926                                                                            [exceeds, expectation, great, fun, whole, family, daily, jepordy, lot, fun, add, nest, thermostat, light, control, wont, sorry]\n",
      "19946                                                                                                                                [sunlight, still, read, clarity, dont, need, extra, perfect, reading, book]\n",
      "8444                                                                                                                                                   [great, birthday, gift, number, year, old, enjoyed, much]\n",
      "21758                                                                                                                              [good, kid, number, buck, wont, hurt, much, kid, accidentally, break, damage]\n",
      "32025                                                [replaced, fire, stick, hoping, would, faster, definitely, keep, apps, opened, last, left, loading, app, every, time, turn, tv, well, worth, extra, number]\n",
      "31228                                                                                                                                                         [great, product, easy, use, installed, kodi, love]\n",
      "7751                                                                                                                                [cant, number, use, plane, kid, scrolling, kinda, sluggish, compared, phone]\n",
      "20609                                                                                                                                 [gen, number, kindle, glad, moved, great, outdoor, sunny, reading, must, ]\n",
      "32912    [work, well, however, sometimes, doesnt, connect, requiring, user, unplug, replug, get, connection, need, simpler, way, store, home, video, background, sound, music, weakens, dialog, sound, requir...\n",
      "21440                                                                                       [great, inexpensive, tablet, beginner, also, access, amazon, prime, library, music, video, would, highly, recommend]\n",
      "7813                                                                                                                                      [three, year, old, one, make, work, like, dinosaur, many, improvement]\n",
      "32511                                                                                                                           [amazon, fire, tv, great, product, wish, voice, command, option, user, friendly]\n",
      "5192                                                                                                                                                                          [gave, gift, heard, working, well]\n",
      "12172                                                                                                                                       [kind, slowbut, price, acceptable, bought, son, doesnt, care, speed]\n",
      "33003                                                                                                                               [way, faster, stick, better, quality, worth, extra, money, especially, kodi]\n",
      "Name: lemmatize, Length: 27728, dtype: object\n"
     ]
    }
   ],
   "source": [
    "print(X_train)"
   ]
  },
  {
   "cell_type": "code",
   "execution_count": 21,
   "metadata": {},
   "outputs": [],
   "source": [
    "from sklearn.feature_extraction.text import CountVectorizer\n",
    "cv = CountVectorizer(analyzer = lemmatization)\n",
    "\n",
    "training_data = cv.fit_transform(X_train)\n",
    "training_data_toarray= training_data.toarray()"
   ]
  },
  {
   "cell_type": "markdown",
   "metadata": {},
   "source": []
  },
  {
   "cell_type": "code",
   "execution_count": 24,
   "metadata": {},
   "outputs": [],
   "source": [
    "testing_data = cv.transform(X_test)"
   ]
  },
  {
   "cell_type": "code",
   "execution_count": 25,
   "metadata": {},
   "outputs": [],
   "source": [
    "from sklearn.feature_extraction.text import TfidfTransformer\n",
    "tfidf_transformer = TfidfTransformer()\n",
    "Xtrain_tfidf = tfidf_transformer.fit_transform(training_data)"
   ]
  },
  {
   "cell_type": "code",
   "execution_count": 26,
   "metadata": {},
   "outputs": [
    {
     "data": {
      "text/plain": [
       "(27728, 14450)"
      ]
     },
     "execution_count": 26,
     "metadata": {},
     "output_type": "execute_result"
    }
   ],
   "source": [
    "Xtrain_tfidf.shape\n"
   ]
  },
  {
   "cell_type": "code",
   "execution_count": 27,
   "metadata": {},
   "outputs": [],
   "source": [
    "# print(Xtrain_tfidf.toarray())"
   ]
  },
  {
   "cell_type": "code",
   "execution_count": 28,
   "metadata": {},
   "outputs": [],
   "source": [
    "y_train=y_train.astype('int')"
   ]
  },
  {
   "cell_type": "code",
   "execution_count": 29,
   "metadata": {},
   "outputs": [],
   "source": [
    "from sklearn.naive_bayes import MultinomialNB\n",
    "clf = MultinomialNB().fit(Xtrain_tfidf, y_train)\n"
   ]
  },
  {
   "cell_type": "code",
   "execution_count": 30,
   "metadata": {},
   "outputs": [],
   "source": [
    "doc = ['I hate this item', 'electronics product are bad']\n",
    "doc_counts = cv.transform(doc)\n",
    "doc_tfidf=tfidf_transformer.transform(doc_counts)\n",
    "predicted= clf.predict(doc_tfidf)"
   ]
  },
  {
   "cell_type": "code",
   "execution_count": 31,
   "metadata": {},
   "outputs": [
    {
     "name": "stdout",
     "output_type": "stream",
     "text": [
      "5\n",
      "5\n"
     ]
    }
   ],
   "source": [
    "for x in predicted:\n",
    "    print(x)"
   ]
  },
  {
   "cell_type": "code",
   "execution_count": null,
   "metadata": {},
   "outputs": [],
   "source": []
  }
 ],
 "metadata": {
  "kernelspec": {
   "display_name": "Python 3",
   "language": "python",
   "name": "python3"
  },
  "language_info": {
   "codemirror_mode": {
    "name": "ipython",
    "version": 3
   },
   "file_extension": ".py",
   "mimetype": "text/x-python",
   "name": "python",
   "nbconvert_exporter": "python",
   "pygments_lexer": "ipython3",
   "version": "3.6.5"
  }
 },
 "nbformat": 4,
 "nbformat_minor": 2
}
