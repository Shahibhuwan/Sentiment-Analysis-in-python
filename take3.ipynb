{
 "cells": [
  {
   "cell_type": "markdown",
   "metadata": {},
   "source": [
    "# Sentiment Analysis for product rating\n",
    "\n"
   ]
  },
  {
   "cell_type": "markdown",
   "metadata": {},
   "source": [
    "Importing the necessary Libraries to implement Sentiment Analysis"
   ]
  },
  {
   "cell_type": "code",
   "execution_count": 1,
   "metadata": {},
   "outputs": [
    {
     "name": "stdout",
     "output_type": "stream",
     "text": [
      "[nltk_data] Downloading package stopwords to\n",
      "[nltk_data]     C:\\Users\\Dell\\AppData\\Roaming\\nltk_data...\n",
      "[nltk_data]   Package stopwords is already up-to-date!\n",
      "[nltk_data] Downloading package wordnet to\n",
      "[nltk_data]     C:\\Users\\Dell\\AppData\\Roaming\\nltk_data...\n",
      "[nltk_data]   Package wordnet is already up-to-date!\n"
     ]
    },
    {
     "data": {
      "text/plain": [
       "True"
      ]
     },
     "execution_count": 1,
     "metadata": {},
     "output_type": "execute_result"
    }
   ],
   "source": [
    "import nltk\n",
    "import numpy as np\n",
    "\n",
    "import pandas as pd\n",
    "from matplotlib import pyplot as plt\n",
    "%matplotlib inline\n",
    "import seaborn as sns\n",
    "import re\n",
    "nltk.download('stopwords')\n",
    "nltk.download('wordnet')\n"
   ]
  },
  {
   "cell_type": "markdown",
   "metadata": {},
   "source": [
    "\n",
    "\n",
    "\n",
    "\n",
    "\n",
    "\n",
    "\n",
    "Importing pandas to read CSV file (Dataset) from the computer.\n",
    "\n",
    "Also the display size of the text in the table is increased using 'set_option('display.max_colwidth',200)' in pandas library"
   ]
  },
  {
   "cell_type": "code",
   "execution_count": 2,
   "metadata": {},
   "outputs": [
    {
     "data": {
      "text/html": [
       "<div>\n",
       "<style scoped>\n",
       "    .dataframe tbody tr th:only-of-type {\n",
       "        vertical-align: middle;\n",
       "    }\n",
       "\n",
       "    .dataframe tbody tr th {\n",
       "        vertical-align: top;\n",
       "    }\n",
       "\n",
       "    .dataframe thead th {\n",
       "        text-align: right;\n",
       "    }\n",
       "</style>\n",
       "<table border=\"1\" class=\"dataframe\">\n",
       "  <thead>\n",
       "    <tr style=\"text-align: right;\">\n",
       "      <th></th>\n",
       "      <th>rating</th>\n",
       "      <th>reviews</th>\n",
       "    </tr>\n",
       "  </thead>\n",
       "  <tbody>\n",
       "    <tr>\n",
       "      <th>0</th>\n",
       "      <td>5</td>\n",
       "      <td>i love this album. it's very good. more to the hip hop side than her current pop sound.. SO HYPE! i listen to this everyday at the gym! i give it 5star rating all the way. her metaphors are just c...</td>\n",
       "    </tr>\n",
       "    <tr>\n",
       "      <th>1</th>\n",
       "      <td>5</td>\n",
       "      <td>Good flavor. This review was collected as part of a promotion.</td>\n",
       "    </tr>\n",
       "    <tr>\n",
       "      <th>2</th>\n",
       "      <td>5</td>\n",
       "      <td>Good flavor.</td>\n",
       "    </tr>\n",
       "    <tr>\n",
       "      <th>3</th>\n",
       "      <td>1</td>\n",
       "      <td>I read through the reviews on here before looking in to buying one of the couples lubricants, and was ultimately disappointed that it didn't even live up to the reviews I had read. For starters, n...</td>\n",
       "    </tr>\n",
       "    <tr>\n",
       "      <th>4</th>\n",
       "      <td>1</td>\n",
       "      <td>My husband bought this gel for us. The gel caused irritation and it felt like it was burning my skin. I wouldn't recommend this gel.</td>\n",
       "    </tr>\n",
       "  </tbody>\n",
       "</table>\n",
       "</div>"
      ],
      "text/plain": [
       "   rating  \\\n",
       "0       5   \n",
       "1       5   \n",
       "2       5   \n",
       "3       1   \n",
       "4       1   \n",
       "\n",
       "                                                                                                                                                                                                   reviews  \n",
       "0  i love this album. it's very good. more to the hip hop side than her current pop sound.. SO HYPE! i listen to this everyday at the gym! i give it 5star rating all the way. her metaphors are just c...  \n",
       "1                                                                                                                                           Good flavor. This review was collected as part of a promotion.  \n",
       "2                                                                                                                                                                                             Good flavor.  \n",
       "3  I read through the reviews on here before looking in to buying one of the couples lubricants, and was ultimately disappointed that it didn't even live up to the reviews I had read. For starters, n...  \n",
       "4                                                                     My husband bought this gel for us. The gel caused irritation and it felt like it was burning my skin. I wouldn't recommend this gel.  "
      ]
     },
     "execution_count": 2,
     "metadata": {},
     "output_type": "execute_result"
    }
   ],
   "source": [
    "import pandas as pd\n",
    "pd.set_option('display.max_colwidth',200)\n",
    "df=pd.read_csv(r\"C:\\Users\\Dell\\Desktop\\GrammarandProductReviews.csv\",encoding='UTF-8',sep=',')\n",
    "\n",
    "# df.drop(['id','title'],axis='columns',inplace=True)\n",
    "df.head()"
   ]
  },
  {
   "cell_type": "markdown",
   "metadata": {},
   "source": [
    "# Preprocessing\n",
    "The columns in Dataframe are converted into integer and string datatype.\n",
    "also the text in the review column are converted into lower cases because our model can predict the word 'THE' an 'the' as different entites\n"
   ]
  },
  {
   "cell_type": "code",
   "execution_count": 3,
   "metadata": {},
   "outputs": [
    {
     "data": {
      "text/html": [
       "<div>\n",
       "<style scoped>\n",
       "    .dataframe tbody tr th:only-of-type {\n",
       "        vertical-align: middle;\n",
       "    }\n",
       "\n",
       "    .dataframe tbody tr th {\n",
       "        vertical-align: top;\n",
       "    }\n",
       "\n",
       "    .dataframe thead th {\n",
       "        text-align: right;\n",
       "    }\n",
       "</style>\n",
       "<table border=\"1\" class=\"dataframe\">\n",
       "  <thead>\n",
       "    <tr style=\"text-align: right;\">\n",
       "      <th></th>\n",
       "      <th>rating</th>\n",
       "      <th>reviews</th>\n",
       "    </tr>\n",
       "  </thead>\n",
       "  <tbody>\n",
       "    <tr>\n",
       "      <th>0</th>\n",
       "      <td>5</td>\n",
       "      <td>i love this album. it's very good. more to the hip hop side than her current pop sound.. so hype! i listen to this everyday at the gym! i give it 5star rating all the way. her metaphors are just c...</td>\n",
       "    </tr>\n",
       "    <tr>\n",
       "      <th>1</th>\n",
       "      <td>5</td>\n",
       "      <td>good flavor. this review was collected as part of a promotion.</td>\n",
       "    </tr>\n",
       "    <tr>\n",
       "      <th>2</th>\n",
       "      <td>5</td>\n",
       "      <td>good flavor.</td>\n",
       "    </tr>\n",
       "    <tr>\n",
       "      <th>3</th>\n",
       "      <td>1</td>\n",
       "      <td>i read through the reviews on here before looking in to buying one of the couples lubricants, and was ultimately disappointed that it didn't even live up to the reviews i had read. for starters, n...</td>\n",
       "    </tr>\n",
       "    <tr>\n",
       "      <th>4</th>\n",
       "      <td>1</td>\n",
       "      <td>my husband bought this gel for us. the gel caused irritation and it felt like it was burning my skin. i wouldn't recommend this gel.</td>\n",
       "    </tr>\n",
       "  </tbody>\n",
       "</table>\n",
       "</div>"
      ],
      "text/plain": [
       "   rating  \\\n",
       "0       5   \n",
       "1       5   \n",
       "2       5   \n",
       "3       1   \n",
       "4       1   \n",
       "\n",
       "                                                                                                                                                                                                   reviews  \n",
       "0  i love this album. it's very good. more to the hip hop side than her current pop sound.. so hype! i listen to this everyday at the gym! i give it 5star rating all the way. her metaphors are just c...  \n",
       "1                                                                                                                                           good flavor. this review was collected as part of a promotion.  \n",
       "2                                                                                                                                                                                             good flavor.  \n",
       "3  i read through the reviews on here before looking in to buying one of the couples lubricants, and was ultimately disappointed that it didn't even live up to the reviews i had read. for starters, n...  \n",
       "4                                                                     my husband bought this gel for us. the gel caused irritation and it felt like it was burning my skin. i wouldn't recommend this gel.  "
      ]
     },
     "execution_count": 3,
     "metadata": {},
     "output_type": "execute_result"
    }
   ],
   "source": [
    "df.reviews = df.reviews.astype(str) \n",
    "df.rating = df.rating.astype(int) \n",
    "df.reviews = df.reviews.apply(lambda x: x.lower())\n",
    "df.head()"
   ]
  },
  {
   "cell_type": "code",
   "execution_count": 4,
   "metadata": {},
   "outputs": [],
   "source": [
    "# df['char_length'] = df['reviews'].apply(lambda x: len(str(x)))"
   ]
  },
  {
   "cell_type": "code",
   "execution_count": 5,
   "metadata": {},
   "outputs": [],
   "source": [
    "# sns.set()\n",
    "# df['char_length'].hist()\n",
    "# plt.show()"
   ]
  },
  {
   "cell_type": "markdown",
   "metadata": {},
   "source": [
    "\n",
    "Using Regular Expression for correcting the word so that word redundancy can reduced"
   ]
  },
  {
   "cell_type": "code",
   "execution_count": 6,
   "metadata": {},
   "outputs": [],
   "source": [
    " def clean_text(text):\n",
    "     text = text.lower()\n",
    "     text = re.sub(r\"what's\", \"what is \", text)\n",
    "     text = re.sub(r\"\\'s\", \" \", text)\n",
    "     text = re.sub(r\"\\'ve\", \" have \", text)\n",
    "     text = re.sub(r\"can't\", \"cannot \", text)\n",
    "     text = re.sub(r\"n't\", \" not \", text)\n",
    "     text = re.sub(r\"i'm\", \"i am \", text)\n",
    "     text = re.sub(r\"\\'re\", \" are \", text)\n",
    "     text = re.sub(r\"\\'d\", \" would \", text)\n",
    "     text = re.sub(r\"\\'ll\", \" will \", text)\n",
    "     text = re.sub(r\"\\'scuse\", \" excuse \", text)\n",
    "     text = re.sub('\\W', ' ', text)\n",
    "     text = re.sub('\\s+', ' ', text)\n",
    "     text = text.strip(' ')\n",
    "     return text"
   ]
  },
  {
   "cell_type": "code",
   "execution_count": 7,
   "metadata": {},
   "outputs": [],
   "source": [
    " df['reviews'] = df['reviews'].apply(lambda com : clean_text(com))"
   ]
  },
  {
   "cell_type": "code",
   "execution_count": 8,
   "metadata": {},
   "outputs": [],
   "source": [
    "# df.head()"
   ]
  },
  {
   "cell_type": "markdown",
   "metadata": {},
   "source": [
    "# Removing Punctuation "
   ]
  },
  {
   "cell_type": "code",
   "execution_count": 9,
   "metadata": {},
   "outputs": [],
   "source": [
    "import string\n",
    "def remove_punctuations(txt):\n",
    "    txt = \"\".join([c for c in txt if c not in string.punctuation])\n",
    "    return txt"
   ]
  },
  {
   "cell_type": "code",
   "execution_count": 10,
   "metadata": {},
   "outputs": [
    {
     "data": {
      "text/html": [
       "<div>\n",
       "<style scoped>\n",
       "    .dataframe tbody tr th:only-of-type {\n",
       "        vertical-align: middle;\n",
       "    }\n",
       "\n",
       "    .dataframe tbody tr th {\n",
       "        vertical-align: top;\n",
       "    }\n",
       "\n",
       "    .dataframe thead th {\n",
       "        text-align: right;\n",
       "    }\n",
       "</style>\n",
       "<table border=\"1\" class=\"dataframe\">\n",
       "  <thead>\n",
       "    <tr style=\"text-align: right;\">\n",
       "      <th></th>\n",
       "      <th>rating</th>\n",
       "      <th>reviews</th>\n",
       "      <th>new_column</th>\n",
       "    </tr>\n",
       "  </thead>\n",
       "  <tbody>\n",
       "    <tr>\n",
       "      <th>0</th>\n",
       "      <td>5</td>\n",
       "      <td>i love this album it very good more to the hip hop side than her current pop sound so hype i listen to this everyday at the gym i give it 5star rating all the way her metaphors are just crazy</td>\n",
       "      <td>i love this album it very good more to the hip hop side than her current pop sound so hype i listen to this everyday at the gym i give it 5star rating all the way her metaphors are just crazy</td>\n",
       "    </tr>\n",
       "    <tr>\n",
       "      <th>1</th>\n",
       "      <td>5</td>\n",
       "      <td>good flavor this review was collected as part of a promotion</td>\n",
       "      <td>good flavor this review was collected as part of a promotion</td>\n",
       "    </tr>\n",
       "    <tr>\n",
       "      <th>2</th>\n",
       "      <td>5</td>\n",
       "      <td>good flavor</td>\n",
       "      <td>good flavor</td>\n",
       "    </tr>\n",
       "    <tr>\n",
       "      <th>3</th>\n",
       "      <td>1</td>\n",
       "      <td>i read through the reviews on here before looking in to buying one of the couples lubricants and was ultimately disappointed that it did not even live up to the reviews i had read for starters nei...</td>\n",
       "      <td>i read through the reviews on here before looking in to buying one of the couples lubricants and was ultimately disappointed that it did not even live up to the reviews i had read for starters nei...</td>\n",
       "    </tr>\n",
       "    <tr>\n",
       "      <th>4</th>\n",
       "      <td>1</td>\n",
       "      <td>my husband bought this gel for us the gel caused irritation and it felt like it was burning my skin i would not recommend this gel</td>\n",
       "      <td>my husband bought this gel for us the gel caused irritation and it felt like it was burning my skin i would not recommend this gel</td>\n",
       "    </tr>\n",
       "  </tbody>\n",
       "</table>\n",
       "</div>"
      ],
      "text/plain": [
       "   rating  \\\n",
       "0       5   \n",
       "1       5   \n",
       "2       5   \n",
       "3       1   \n",
       "4       1   \n",
       "\n",
       "                                                                                                                                                                                                   reviews  \\\n",
       "0          i love this album it very good more to the hip hop side than her current pop sound so hype i listen to this everyday at the gym i give it 5star rating all the way her metaphors are just crazy   \n",
       "1                                                                                                                                             good flavor this review was collected as part of a promotion   \n",
       "2                                                                                                                                                                                              good flavor   \n",
       "3  i read through the reviews on here before looking in to buying one of the couples lubricants and was ultimately disappointed that it did not even live up to the reviews i had read for starters nei...   \n",
       "4                                                                       my husband bought this gel for us the gel caused irritation and it felt like it was burning my skin i would not recommend this gel   \n",
       "\n",
       "                                                                                                                                                                                                new_column  \n",
       "0          i love this album it very good more to the hip hop side than her current pop sound so hype i listen to this everyday at the gym i give it 5star rating all the way her metaphors are just crazy  \n",
       "1                                                                                                                                             good flavor this review was collected as part of a promotion  \n",
       "2                                                                                                                                                                                              good flavor  \n",
       "3  i read through the reviews on here before looking in to buying one of the couples lubricants and was ultimately disappointed that it did not even live up to the reviews i had read for starters nei...  \n",
       "4                                                                       my husband bought this gel for us the gel caused irritation and it felt like it was burning my skin i would not recommend this gel  "
      ]
     },
     "execution_count": 10,
     "metadata": {},
     "output_type": "execute_result"
    }
   ],
   "source": [
    "df['new_column'] = df['reviews'].apply(remove_punctuations)\n",
    "df.head()"
   ]
  },
  {
   "cell_type": "markdown",
   "metadata": {},
   "source": [
    "# Removing Number \n",
    "Because the Number will not that helpul to reflect the sentiment / emotion "
   ]
  },
  {
   "cell_type": "code",
   "execution_count": 11,
   "metadata": {},
   "outputs": [
    {
     "data": {
      "text/html": [
       "<div>\n",
       "<style scoped>\n",
       "    .dataframe tbody tr th:only-of-type {\n",
       "        vertical-align: middle;\n",
       "    }\n",
       "\n",
       "    .dataframe tbody tr th {\n",
       "        vertical-align: top;\n",
       "    }\n",
       "\n",
       "    .dataframe thead th {\n",
       "        text-align: right;\n",
       "    }\n",
       "</style>\n",
       "<table border=\"1\" class=\"dataframe\">\n",
       "  <thead>\n",
       "    <tr style=\"text-align: right;\">\n",
       "      <th></th>\n",
       "      <th>rating</th>\n",
       "      <th>reviews</th>\n",
       "      <th>new_column</th>\n",
       "      <th>new_cloumns</th>\n",
       "    </tr>\n",
       "  </thead>\n",
       "  <tbody>\n",
       "    <tr>\n",
       "      <th>0</th>\n",
       "      <td>5</td>\n",
       "      <td>i love this album it very good more to the hip hop side than her current pop sound so hype i listen to this everyday at the gym i give it 5star rating all the way her metaphors are just crazy</td>\n",
       "      <td>i love this album it very good more to the hip hop side than her current pop sound so hype i listen to this everyday at the gym i give it 5star rating all the way her metaphors are just crazy</td>\n",
       "      <td>i love this album it very good more to the hip hop side than her current pop sound so hype i listen to this everyday at the gym i give it numberstar rating all the way her metaphors are just crazy</td>\n",
       "    </tr>\n",
       "    <tr>\n",
       "      <th>1</th>\n",
       "      <td>5</td>\n",
       "      <td>good flavor this review was collected as part of a promotion</td>\n",
       "      <td>good flavor this review was collected as part of a promotion</td>\n",
       "      <td>good flavor this review was collected as part of a promotion</td>\n",
       "    </tr>\n",
       "    <tr>\n",
       "      <th>2</th>\n",
       "      <td>5</td>\n",
       "      <td>good flavor</td>\n",
       "      <td>good flavor</td>\n",
       "      <td>good flavor</td>\n",
       "    </tr>\n",
       "    <tr>\n",
       "      <th>3</th>\n",
       "      <td>1</td>\n",
       "      <td>i read through the reviews on here before looking in to buying one of the couples lubricants and was ultimately disappointed that it did not even live up to the reviews i had read for starters nei...</td>\n",
       "      <td>i read through the reviews on here before looking in to buying one of the couples lubricants and was ultimately disappointed that it did not even live up to the reviews i had read for starters nei...</td>\n",
       "      <td>i read through the reviews on here before looking in to buying one of the couples lubricants and was ultimately disappointed that it did not even live up to the reviews i had read for starters nei...</td>\n",
       "    </tr>\n",
       "    <tr>\n",
       "      <th>4</th>\n",
       "      <td>1</td>\n",
       "      <td>my husband bought this gel for us the gel caused irritation and it felt like it was burning my skin i would not recommend this gel</td>\n",
       "      <td>my husband bought this gel for us the gel caused irritation and it felt like it was burning my skin i would not recommend this gel</td>\n",
       "      <td>my husband bought this gel for us the gel caused irritation and it felt like it was burning my skin i would not recommend this gel</td>\n",
       "    </tr>\n",
       "  </tbody>\n",
       "</table>\n",
       "</div>"
      ],
      "text/plain": [
       "   rating  \\\n",
       "0       5   \n",
       "1       5   \n",
       "2       5   \n",
       "3       1   \n",
       "4       1   \n",
       "\n",
       "                                                                                                                                                                                                   reviews  \\\n",
       "0          i love this album it very good more to the hip hop side than her current pop sound so hype i listen to this everyday at the gym i give it 5star rating all the way her metaphors are just crazy   \n",
       "1                                                                                                                                             good flavor this review was collected as part of a promotion   \n",
       "2                                                                                                                                                                                              good flavor   \n",
       "3  i read through the reviews on here before looking in to buying one of the couples lubricants and was ultimately disappointed that it did not even live up to the reviews i had read for starters nei...   \n",
       "4                                                                       my husband bought this gel for us the gel caused irritation and it felt like it was burning my skin i would not recommend this gel   \n",
       "\n",
       "                                                                                                                                                                                                new_column  \\\n",
       "0          i love this album it very good more to the hip hop side than her current pop sound so hype i listen to this everyday at the gym i give it 5star rating all the way her metaphors are just crazy   \n",
       "1                                                                                                                                             good flavor this review was collected as part of a promotion   \n",
       "2                                                                                                                                                                                              good flavor   \n",
       "3  i read through the reviews on here before looking in to buying one of the couples lubricants and was ultimately disappointed that it did not even live up to the reviews i had read for starters nei...   \n",
       "4                                                                       my husband bought this gel for us the gel caused irritation and it felt like it was burning my skin i would not recommend this gel   \n",
       "\n",
       "                                                                                                                                                                                               new_cloumns  \n",
       "0     i love this album it very good more to the hip hop side than her current pop sound so hype i listen to this everyday at the gym i give it numberstar rating all the way her metaphors are just crazy  \n",
       "1                                                                                                                                             good flavor this review was collected as part of a promotion  \n",
       "2                                                                                                                                                                                              good flavor  \n",
       "3  i read through the reviews on here before looking in to buying one of the couples lubricants and was ultimately disappointed that it did not even live up to the reviews i had read for starters nei...  \n",
       "4                                                                       my husband bought this gel for us the gel caused irritation and it felt like it was burning my skin i would not recommend this gel  "
      ]
     },
     "execution_count": 11,
     "metadata": {},
     "output_type": "execute_result"
    }
   ],
   "source": [
    "df['new_cloumns'] = df['new_column'].str.replace('\\d+', 'number') # to replace no. by \"\"\n",
    "df.head()"
   ]
  },
  {
   "cell_type": "markdown",
   "metadata": {},
   "source": [
    "# Tokenization\n",
    "we have to iterate through each and every word in the sentence of the dataset "
   ]
  },
  {
   "cell_type": "code",
   "execution_count": 12,
   "metadata": {
    "scrolled": true
   },
   "outputs": [
    {
     "data": {
      "text/html": [
       "<div>\n",
       "<style scoped>\n",
       "    .dataframe tbody tr th:only-of-type {\n",
       "        vertical-align: middle;\n",
       "    }\n",
       "\n",
       "    .dataframe tbody tr th {\n",
       "        vertical-align: top;\n",
       "    }\n",
       "\n",
       "    .dataframe thead th {\n",
       "        text-align: right;\n",
       "    }\n",
       "</style>\n",
       "<table border=\"1\" class=\"dataframe\">\n",
       "  <thead>\n",
       "    <tr style=\"text-align: right;\">\n",
       "      <th></th>\n",
       "      <th>rating</th>\n",
       "      <th>reviews</th>\n",
       "      <th>new_column</th>\n",
       "      <th>new_cloumns</th>\n",
       "      <th>tokenize</th>\n",
       "    </tr>\n",
       "  </thead>\n",
       "  <tbody>\n",
       "    <tr>\n",
       "      <th>0</th>\n",
       "      <td>5</td>\n",
       "      <td>i love this album it very good more to the hip hop side than her current pop sound so hype i listen to this everyday at the gym i give it 5star rating all the way her metaphors are just crazy</td>\n",
       "      <td>i love this album it very good more to the hip hop side than her current pop sound so hype i listen to this everyday at the gym i give it 5star rating all the way her metaphors are just crazy</td>\n",
       "      <td>i love this album it very good more to the hip hop side than her current pop sound so hype i listen to this everyday at the gym i give it numberstar rating all the way her metaphors are just crazy</td>\n",
       "      <td>[i, love, this, album, it, very, good, more, to, the, hip, hop, side, than, her, current, pop, sound, so, hype, i, listen, to, this, everyday, at, the, gym, i, give, it, numberstar, rating, all, t...</td>\n",
       "    </tr>\n",
       "    <tr>\n",
       "      <th>1</th>\n",
       "      <td>5</td>\n",
       "      <td>good flavor this review was collected as part of a promotion</td>\n",
       "      <td>good flavor this review was collected as part of a promotion</td>\n",
       "      <td>good flavor this review was collected as part of a promotion</td>\n",
       "      <td>[good, flavor, this, review, was, collected, as, part, of, a, promotion]</td>\n",
       "    </tr>\n",
       "    <tr>\n",
       "      <th>2</th>\n",
       "      <td>5</td>\n",
       "      <td>good flavor</td>\n",
       "      <td>good flavor</td>\n",
       "      <td>good flavor</td>\n",
       "      <td>[good, flavor]</td>\n",
       "    </tr>\n",
       "    <tr>\n",
       "      <th>3</th>\n",
       "      <td>1</td>\n",
       "      <td>i read through the reviews on here before looking in to buying one of the couples lubricants and was ultimately disappointed that it did not even live up to the reviews i had read for starters nei...</td>\n",
       "      <td>i read through the reviews on here before looking in to buying one of the couples lubricants and was ultimately disappointed that it did not even live up to the reviews i had read for starters nei...</td>\n",
       "      <td>i read through the reviews on here before looking in to buying one of the couples lubricants and was ultimately disappointed that it did not even live up to the reviews i had read for starters nei...</td>\n",
       "      <td>[i, read, through, the, reviews, on, here, before, looking, in, to, buying, one, of, the, couples, lubricants, and, was, ultimately, disappointed, that, it, did, not, even, live, up, to, the, revi...</td>\n",
       "    </tr>\n",
       "    <tr>\n",
       "      <th>4</th>\n",
       "      <td>1</td>\n",
       "      <td>my husband bought this gel for us the gel caused irritation and it felt like it was burning my skin i would not recommend this gel</td>\n",
       "      <td>my husband bought this gel for us the gel caused irritation and it felt like it was burning my skin i would not recommend this gel</td>\n",
       "      <td>my husband bought this gel for us the gel caused irritation and it felt like it was burning my skin i would not recommend this gel</td>\n",
       "      <td>[my, husband, bought, this, gel, for, us, the, gel, caused, irritation, and, it, felt, like, it, was, burning, my, skin, i, would, not, recommend, this, gel]</td>\n",
       "    </tr>\n",
       "  </tbody>\n",
       "</table>\n",
       "</div>"
      ],
      "text/plain": [
       "   rating  \\\n",
       "0       5   \n",
       "1       5   \n",
       "2       5   \n",
       "3       1   \n",
       "4       1   \n",
       "\n",
       "                                                                                                                                                                                                   reviews  \\\n",
       "0          i love this album it very good more to the hip hop side than her current pop sound so hype i listen to this everyday at the gym i give it 5star rating all the way her metaphors are just crazy   \n",
       "1                                                                                                                                             good flavor this review was collected as part of a promotion   \n",
       "2                                                                                                                                                                                              good flavor   \n",
       "3  i read through the reviews on here before looking in to buying one of the couples lubricants and was ultimately disappointed that it did not even live up to the reviews i had read for starters nei...   \n",
       "4                                                                       my husband bought this gel for us the gel caused irritation and it felt like it was burning my skin i would not recommend this gel   \n",
       "\n",
       "                                                                                                                                                                                                new_column  \\\n",
       "0          i love this album it very good more to the hip hop side than her current pop sound so hype i listen to this everyday at the gym i give it 5star rating all the way her metaphors are just crazy   \n",
       "1                                                                                                                                             good flavor this review was collected as part of a promotion   \n",
       "2                                                                                                                                                                                              good flavor   \n",
       "3  i read through the reviews on here before looking in to buying one of the couples lubricants and was ultimately disappointed that it did not even live up to the reviews i had read for starters nei...   \n",
       "4                                                                       my husband bought this gel for us the gel caused irritation and it felt like it was burning my skin i would not recommend this gel   \n",
       "\n",
       "                                                                                                                                                                                               new_cloumns  \\\n",
       "0     i love this album it very good more to the hip hop side than her current pop sound so hype i listen to this everyday at the gym i give it numberstar rating all the way her metaphors are just crazy   \n",
       "1                                                                                                                                             good flavor this review was collected as part of a promotion   \n",
       "2                                                                                                                                                                                              good flavor   \n",
       "3  i read through the reviews on here before looking in to buying one of the couples lubricants and was ultimately disappointed that it did not even live up to the reviews i had read for starters nei...   \n",
       "4                                                                       my husband bought this gel for us the gel caused irritation and it felt like it was burning my skin i would not recommend this gel   \n",
       "\n",
       "                                                                                                                                                                                                  tokenize  \n",
       "0  [i, love, this, album, it, very, good, more, to, the, hip, hop, side, than, her, current, pop, sound, so, hype, i, listen, to, this, everyday, at, the, gym, i, give, it, numberstar, rating, all, t...  \n",
       "1                                                                                                                                 [good, flavor, this, review, was, collected, as, part, of, a, promotion]  \n",
       "2                                                                                                                                                                                           [good, flavor]  \n",
       "3  [i, read, through, the, reviews, on, here, before, looking, in, to, buying, one, of, the, couples, lubricants, and, was, ultimately, disappointed, that, it, did, not, even, live, up, to, the, revi...  \n",
       "4                                            [my, husband, bought, this, gel, for, us, the, gel, caused, irritation, and, it, felt, like, it, was, burning, my, skin, i, would, not, recommend, this, gel]  "
      ]
     },
     "execution_count": 12,
     "metadata": {},
     "output_type": "execute_result"
    }
   ],
   "source": [
    "import re\n",
    "\n",
    "def tokenize(txt):\n",
    "    tokens = re.split('\\W+' , txt)\n",
    "    return tokens\n",
    "df['tokenize']=df['new_cloumns'].apply(lambda x: tokenize(x.lower()))\n",
    "df.head()"
   ]
  },
  {
   "cell_type": "markdown",
   "metadata": {},
   "source": [
    "# Removing Stopword "
   ]
  },
  {
   "cell_type": "code",
   "execution_count": 13,
   "metadata": {},
   "outputs": [
    {
     "data": {
      "text/plain": [
       "['i', 'me', 'my', 'myself', 'we', 'our', 'ours', 'ourselves', 'you', \"you're\"]"
      ]
     },
     "execution_count": 13,
     "metadata": {},
     "output_type": "execute_result"
    }
   ],
   "source": [
    "import nltk\n",
    "stopwords = nltk.corpus.stopwords.words('english')\n",
    "stopwords[0:10]"
   ]
  },
  {
   "cell_type": "code",
   "execution_count": 14,
   "metadata": {},
   "outputs": [],
   "source": [
    "def remove_stopwords(txt_tokenized):\n",
    "    txt_clean = [word for word in txt_tokenized if word not in stopwords]\n",
    "    return txt_clean\n",
    "df['sw']=df['tokenize'].apply(lambda x: remove_stopwords(x))"
   ]
  },
  {
   "cell_type": "markdown",
   "metadata": {},
   "source": [
    "# Lemattization\n",
    "Finds root word of the similar words which helps to reduce the computation of our model"
   ]
  },
  {
   "cell_type": "code",
   "execution_count": 15,
   "metadata": {},
   "outputs": [],
   "source": [
    "from nltk.stem import WordNetLemmatizer\n",
    "wn=WordNetLemmatizer()"
   ]
  },
  {
   "cell_type": "code",
   "execution_count": 16,
   "metadata": {},
   "outputs": [
    {
     "data": {
      "text/html": [
       "<div>\n",
       "<style scoped>\n",
       "    .dataframe tbody tr th:only-of-type {\n",
       "        vertical-align: middle;\n",
       "    }\n",
       "\n",
       "    .dataframe tbody tr th {\n",
       "        vertical-align: top;\n",
       "    }\n",
       "\n",
       "    .dataframe thead th {\n",
       "        text-align: right;\n",
       "    }\n",
       "</style>\n",
       "<table border=\"1\" class=\"dataframe\">\n",
       "  <thead>\n",
       "    <tr style=\"text-align: right;\">\n",
       "      <th></th>\n",
       "      <th>rating</th>\n",
       "      <th>reviews</th>\n",
       "      <th>new_column</th>\n",
       "      <th>new_cloumns</th>\n",
       "      <th>tokenize</th>\n",
       "      <th>sw</th>\n",
       "      <th>lemmatize</th>\n",
       "    </tr>\n",
       "  </thead>\n",
       "  <tbody>\n",
       "    <tr>\n",
       "      <th>0</th>\n",
       "      <td>5</td>\n",
       "      <td>i love this album it very good more to the hip hop side than her current pop sound so hype i listen to this everyday at the gym i give it 5star rating all the way her metaphors are just crazy</td>\n",
       "      <td>i love this album it very good more to the hip hop side than her current pop sound so hype i listen to this everyday at the gym i give it 5star rating all the way her metaphors are just crazy</td>\n",
       "      <td>i love this album it very good more to the hip hop side than her current pop sound so hype i listen to this everyday at the gym i give it numberstar rating all the way her metaphors are just crazy</td>\n",
       "      <td>[i, love, this, album, it, very, good, more, to, the, hip, hop, side, than, her, current, pop, sound, so, hype, i, listen, to, this, everyday, at, the, gym, i, give, it, numberstar, rating, all, t...</td>\n",
       "      <td>[love, album, good, hip, hop, side, current, pop, sound, hype, listen, everyday, gym, give, numberstar, rating, way, metaphors, crazy]</td>\n",
       "      <td>[love, album, good, hip, hop, side, current, pop, sound, hype, listen, everyday, gym, give, numberstar, rating, way, metaphor, crazy]</td>\n",
       "    </tr>\n",
       "    <tr>\n",
       "      <th>1</th>\n",
       "      <td>5</td>\n",
       "      <td>good flavor this review was collected as part of a promotion</td>\n",
       "      <td>good flavor this review was collected as part of a promotion</td>\n",
       "      <td>good flavor this review was collected as part of a promotion</td>\n",
       "      <td>[good, flavor, this, review, was, collected, as, part, of, a, promotion]</td>\n",
       "      <td>[good, flavor, review, collected, part, promotion]</td>\n",
       "      <td>[good, flavor, review, collected, part, promotion]</td>\n",
       "    </tr>\n",
       "    <tr>\n",
       "      <th>2</th>\n",
       "      <td>5</td>\n",
       "      <td>good flavor</td>\n",
       "      <td>good flavor</td>\n",
       "      <td>good flavor</td>\n",
       "      <td>[good, flavor]</td>\n",
       "      <td>[good, flavor]</td>\n",
       "      <td>[good, flavor]</td>\n",
       "    </tr>\n",
       "    <tr>\n",
       "      <th>3</th>\n",
       "      <td>1</td>\n",
       "      <td>i read through the reviews on here before looking in to buying one of the couples lubricants and was ultimately disappointed that it did not even live up to the reviews i had read for starters nei...</td>\n",
       "      <td>i read through the reviews on here before looking in to buying one of the couples lubricants and was ultimately disappointed that it did not even live up to the reviews i had read for starters nei...</td>\n",
       "      <td>i read through the reviews on here before looking in to buying one of the couples lubricants and was ultimately disappointed that it did not even live up to the reviews i had read for starters nei...</td>\n",
       "      <td>[i, read, through, the, reviews, on, here, before, looking, in, to, buying, one, of, the, couples, lubricants, and, was, ultimately, disappointed, that, it, did, not, even, live, up, to, the, revi...</td>\n",
       "      <td>[read, reviews, looking, buying, one, couples, lubricants, ultimately, disappointed, even, live, reviews, read, starters, neither, boyfriend, could, notice, sort, enhanced, captivating, sensation,...</td>\n",
       "      <td>[read, review, looking, buying, one, couple, lubricant, ultimately, disappointed, even, live, review, read, starter, neither, boyfriend, could, notice, sort, enhanced, captivating, sensation, noti...</td>\n",
       "    </tr>\n",
       "    <tr>\n",
       "      <th>4</th>\n",
       "      <td>1</td>\n",
       "      <td>my husband bought this gel for us the gel caused irritation and it felt like it was burning my skin i would not recommend this gel</td>\n",
       "      <td>my husband bought this gel for us the gel caused irritation and it felt like it was burning my skin i would not recommend this gel</td>\n",
       "      <td>my husband bought this gel for us the gel caused irritation and it felt like it was burning my skin i would not recommend this gel</td>\n",
       "      <td>[my, husband, bought, this, gel, for, us, the, gel, caused, irritation, and, it, felt, like, it, was, burning, my, skin, i, would, not, recommend, this, gel]</td>\n",
       "      <td>[husband, bought, gel, us, gel, caused, irritation, felt, like, burning, skin, would, recommend, gel]</td>\n",
       "      <td>[husband, bought, gel, u, gel, caused, irritation, felt, like, burning, skin, would, recommend, gel]</td>\n",
       "    </tr>\n",
       "  </tbody>\n",
       "</table>\n",
       "</div>"
      ],
      "text/plain": [
       "   rating  \\\n",
       "0       5   \n",
       "1       5   \n",
       "2       5   \n",
       "3       1   \n",
       "4       1   \n",
       "\n",
       "                                                                                                                                                                                                   reviews  \\\n",
       "0          i love this album it very good more to the hip hop side than her current pop sound so hype i listen to this everyday at the gym i give it 5star rating all the way her metaphors are just crazy   \n",
       "1                                                                                                                                             good flavor this review was collected as part of a promotion   \n",
       "2                                                                                                                                                                                              good flavor   \n",
       "3  i read through the reviews on here before looking in to buying one of the couples lubricants and was ultimately disappointed that it did not even live up to the reviews i had read for starters nei...   \n",
       "4                                                                       my husband bought this gel for us the gel caused irritation and it felt like it was burning my skin i would not recommend this gel   \n",
       "\n",
       "                                                                                                                                                                                                new_column  \\\n",
       "0          i love this album it very good more to the hip hop side than her current pop sound so hype i listen to this everyday at the gym i give it 5star rating all the way her metaphors are just crazy   \n",
       "1                                                                                                                                             good flavor this review was collected as part of a promotion   \n",
       "2                                                                                                                                                                                              good flavor   \n",
       "3  i read through the reviews on here before looking in to buying one of the couples lubricants and was ultimately disappointed that it did not even live up to the reviews i had read for starters nei...   \n",
       "4                                                                       my husband bought this gel for us the gel caused irritation and it felt like it was burning my skin i would not recommend this gel   \n",
       "\n",
       "                                                                                                                                                                                               new_cloumns  \\\n",
       "0     i love this album it very good more to the hip hop side than her current pop sound so hype i listen to this everyday at the gym i give it numberstar rating all the way her metaphors are just crazy   \n",
       "1                                                                                                                                             good flavor this review was collected as part of a promotion   \n",
       "2                                                                                                                                                                                              good flavor   \n",
       "3  i read through the reviews on here before looking in to buying one of the couples lubricants and was ultimately disappointed that it did not even live up to the reviews i had read for starters nei...   \n",
       "4                                                                       my husband bought this gel for us the gel caused irritation and it felt like it was burning my skin i would not recommend this gel   \n",
       "\n",
       "                                                                                                                                                                                                  tokenize  \\\n",
       "0  [i, love, this, album, it, very, good, more, to, the, hip, hop, side, than, her, current, pop, sound, so, hype, i, listen, to, this, everyday, at, the, gym, i, give, it, numberstar, rating, all, t...   \n",
       "1                                                                                                                                 [good, flavor, this, review, was, collected, as, part, of, a, promotion]   \n",
       "2                                                                                                                                                                                           [good, flavor]   \n",
       "3  [i, read, through, the, reviews, on, here, before, looking, in, to, buying, one, of, the, couples, lubricants, and, was, ultimately, disappointed, that, it, did, not, even, live, up, to, the, revi...   \n",
       "4                                            [my, husband, bought, this, gel, for, us, the, gel, caused, irritation, and, it, felt, like, it, was, burning, my, skin, i, would, not, recommend, this, gel]   \n",
       "\n",
       "                                                                                                                                                                                                        sw  \\\n",
       "0                                                                   [love, album, good, hip, hop, side, current, pop, sound, hype, listen, everyday, gym, give, numberstar, rating, way, metaphors, crazy]   \n",
       "1                                                                                                                                                       [good, flavor, review, collected, part, promotion]   \n",
       "2                                                                                                                                                                                           [good, flavor]   \n",
       "3  [read, reviews, looking, buying, one, couples, lubricants, ultimately, disappointed, even, live, reviews, read, starters, neither, boyfriend, could, notice, sort, enhanced, captivating, sensation,...   \n",
       "4                                                                                                    [husband, bought, gel, us, gel, caused, irritation, felt, like, burning, skin, would, recommend, gel]   \n",
       "\n",
       "                                                                                                                                                                                                 lemmatize  \n",
       "0                                                                    [love, album, good, hip, hop, side, current, pop, sound, hype, listen, everyday, gym, give, numberstar, rating, way, metaphor, crazy]  \n",
       "1                                                                                                                                                       [good, flavor, review, collected, part, promotion]  \n",
       "2                                                                                                                                                                                           [good, flavor]  \n",
       "3  [read, review, looking, buying, one, couple, lubricant, ultimately, disappointed, even, live, review, read, starter, neither, boyfriend, could, notice, sort, enhanced, captivating, sensation, noti...  \n",
       "4                                                                                                     [husband, bought, gel, u, gel, caused, irritation, felt, like, burning, skin, would, recommend, gel]  "
      ]
     },
     "execution_count": 16,
     "metadata": {},
     "output_type": "execute_result"
    }
   ],
   "source": [
    "def lemmatization(token_txt):\n",
    "    text = [wn.lemmatize(word) for word in token_txt]\n",
    "    \n",
    "    return text\n",
    "\n",
    "df['lemmatize']= df['sw'].apply(lambda x : lemmatization(x))\n",
    "df.head()"
   ]
  },
  {
   "cell_type": "markdown",
   "metadata": {},
   "source": [
    "# Finding NA values in our huge dataset\n",
    "we find those ones and fill them with the average value in the dataset i.e. rating "
   ]
  },
  {
   "cell_type": "code",
   "execution_count": 17,
   "metadata": {},
   "outputs": [
    {
     "data": {
      "text/plain": [
       "Index([], dtype='object')"
      ]
     },
     "execution_count": 17,
     "metadata": {},
     "output_type": "execute_result"
    }
   ],
   "source": [
    "df.columns[df.isna().any()]"
   ]
  },
  {
   "cell_type": "code",
   "execution_count": 18,
   "metadata": {},
   "outputs": [
    {
     "data": {
      "text/plain": [
       "rating         0\n",
       "reviews        0\n",
       "new_column     0\n",
       "new_cloumns    0\n",
       "tokenize       0\n",
       "sw             0\n",
       "lemmatize      0\n",
       "dtype: int64"
      ]
     },
     "execution_count": 18,
     "metadata": {},
     "output_type": "execute_result"
    }
   ],
   "source": [
    "df.isna().sum()"
   ]
  },
  {
   "cell_type": "code",
   "execution_count": 19,
   "metadata": {},
   "outputs": [
    {
     "name": "stdout",
     "output_type": "stream",
     "text": [
      "<class 'pandas.core.frame.DataFrame'>\n",
      "RangeIndex: 71044 entries, 0 to 71043\n",
      "Data columns (total 7 columns):\n",
      "rating         71044 non-null int32\n",
      "reviews        71044 non-null object\n",
      "new_column     71044 non-null object\n",
      "new_cloumns    71044 non-null object\n",
      "tokenize       71044 non-null object\n",
      "sw             71044 non-null object\n",
      "lemmatize      71044 non-null object\n",
      "dtypes: int32(1), object(6)\n",
      "memory usage: 3.5+ MB\n"
     ]
    }
   ],
   "source": [
    "df.info() #provides info of null fields"
   ]
  },
  {
   "cell_type": "code",
   "execution_count": 20,
   "metadata": {},
   "outputs": [],
   "source": [
    "df.rating = df.rating.fillna(df.rating.mean())"
   ]
  },
  {
   "cell_type": "code",
   "execution_count": 21,
   "metadata": {
    "scrolled": true
   },
   "outputs": [
    {
     "data": {
      "text/plain": [
       "rating         0\n",
       "reviews        0\n",
       "new_column     0\n",
       "new_cloumns    0\n",
       "tokenize       0\n",
       "sw             0\n",
       "lemmatize      0\n",
       "dtype: int64"
      ]
     },
     "execution_count": 21,
     "metadata": {},
     "output_type": "execute_result"
    }
   ],
   "source": [
    "df.isna().sum()"
   ]
  },
  {
   "cell_type": "markdown",
   "metadata": {},
   "source": [
    "# Splitting Dataset for Training and Testing "
   ]
  },
  {
   "cell_type": "code",
   "execution_count": 22,
   "metadata": {},
   "outputs": [],
   "source": [
    "from sklearn.model_selection import train_test_split\n",
    "X_train, X_test, y_train, y_test = train_test_split(df.lemmatize,df.rating,test_size=0.3,random_state=1)"
   ]
  },
  {
   "cell_type": "code",
   "execution_count": 23,
   "metadata": {},
   "outputs": [
    {
     "data": {
      "text/plain": [
       "21314"
      ]
     },
     "execution_count": 23,
     "metadata": {},
     "output_type": "execute_result"
    }
   ],
   "source": [
    "len(X_test)"
   ]
  },
  {
   "cell_type": "code",
   "execution_count": 24,
   "metadata": {},
   "outputs": [
    {
     "name": "stdout",
     "output_type": "stream",
     "text": [
      "21393                                                                                                                                                                    [great, combo, tostitos, chunky, salsa]\n",
      "10375                                                                                              [love, keep, bathroom, always, quick, clean, especially, surprise, guest, review, collected, part, promotion]\n",
      "47564                                                                                                                                                                                       [work, wonder, skin]\n",
      "14738                                                                                                          [love, product, wonderful, best, ever, cannot, live, without, review, collected, part, promotion]\n",
      "15488                                                                                                                                                         [work, great, easy, use, would, highly, recommend]\n",
      "8625                                                                                                                       [one, favorite, quick, clean, item, everyday, use, household, always, container, car]\n",
      "14890                                                                                                                            [love, product, buy, lot, wipe, use, house, review, collected, part, promotion]\n",
      "58101    [drawn, product, promised, triple, power, instead, using, number, product, would, used, everyday, past, number, week, see, dramatic, result, think, feel, smell, good, moisturizing, alone, benefici...\n",
      "7523                                                                                                                                 [pleased, seems, work, well, cut, germ, review, collected, part, promotion]\n",
      "66648                                                                                                                                                      [adult, based, humor, pretty, funny, wife, impressed]\n",
      "57990                                                                                                 [used, trial, packet, amazed, skin, looked, younger, moist, wirhin, number, day, wpuld, recommend, anyone]\n",
      "39547                                                                                                                                                          [good, story, voice, hillarious, graphic, number]\n",
      "41621                                                                                                                                                       [good, movie, funny, quality, dvd, blue, ray, sharp]\n",
      "876                                                                         [used, windex, mirror, well, granite, counter, tile, floor, clean, well, streak, leave, residue, review, collected, part, promotion]\n",
      "66955                                                                                                                                                      [bought, number, year, old, son, loved, funny, movie]\n",
      "47811    [please, bring, back, old, original, scent, using, tide, original, scent, last, number, year, last, week, load, new, detergent, thought, imagination, smelled, stronger, opened, bottle, clothes, do...\n",
      "66237                                                                                                                                                      [great, movie, would, buy, may, buy, christmas, gift]\n",
      "6135                                                                                                              [watched, movie, multiple, time, great, character, great, actor, witty, funny, action, packed]\n",
      "36170                                                                                                                                                                   [awesome, movie, price, best, buy, best]\n",
      "36299                                                                                                                                                                                 [great, price, would, buy]\n",
      "49919                                           [loved, product, left, clothes, feeling, soft, scent, fantastic, noticed, dramatic, reduction, static, load, great, product, review, collected, part, promotion]\n",
      "62521    [really, gravitate, towards, suave, deodorant, hardest, time, puberty, finding, something, would, keep, dry, fresh, well, well, number, tried, suave, night, keeping, dry, well, fresh, throughout, ...\n",
      "69367                                                                                                                  [bought, gift, sister, law, absolutely, love, story, line, play, close, role, real, life]\n",
      "20620                                                                                                                                                                               [great, many, purpose, love]\n",
      "70902                                                                                                                                                                           [always, great, saving, walmart]\n",
      "64034                                                                                                                                 [liked, original, great, seeing, original, character, show, effect, great]\n",
      "52360    [product, seemed, great, first, super, soft, mosturized, skin, within, week, bad, breakout, stop, using, large, painful, boil, like, acne, taking, forever, get, clear, washed, face, well, applicat...\n",
      "50070                                                                                                                                                   [great, neat, clean, hate, messiness, bottle, detergent]\n",
      "20327                                                   [use, everywhere, home, love, overwhelming, smell, know, use, everything, clean, free, germ, garbage, can, bathroom, basement, kitchen, use, everywhere]\n",
      "45663                                                                                         [quilted, northern, tissue, priced, reasonably, quality, tissue, soft, strong, review, collected, part, promotion]\n",
      "                                                                                                          ...                                                                                                   \n",
      "58072                                                  [purchased, revivalivt, triple, power, week, ago, already, see, softening, wrinkle, firmness, around, jaw, line, use, bottom, jaw, love, way, feel, skin]\n",
      "63697                                                                                                                                                                   [waited, long, time, movie, worth, wait]\n",
      "61756                                                                                                                                           [love, sleekness, great, hearing, product, trying, talk, listen]\n",
      "68097    [room, white, grey, accent, dark, blue, lamp, perfect, addition, even, beige, lamp, shade, mix, well, grey, tried, two, others, target, one, two, tiny, thin, one, gave, presence, table, color, add...\n",
      "3606                                                                                                                                   [love, characterization, writing, series, quality, series, start, finish]\n",
      "37183                                                                           [really, like, tide, pod, easy, use, pop, one, machine, scent, nice, lingers, love, product, review, collected, part, promotion]\n",
      "33878                                                                        [lovely, behold, engrossing, watch, jungle, book, rare, remake, actually, improves, upon, predecessor, setting, new, standard, cgi]\n",
      "51040    [finally, tide, pod, detergent, easy, hassel, free, way, clean, laundry, tossing, pod, washer, soooo, much, easier, lugging, big, heavy, container, around, trying, pour, liquid, cap, enough, stren...\n",
      "44510                                         [animation, fun, inventive, numberd, really, pop, really, make, one, worth, hype, great, voice, cast, great, script, perform, weak, performance, wild, bunch, pet]\n",
      "26103                                                                                                                                                    [great, action, packed, movie, scene, intense, awesome]\n",
      "17137                                                                                                                                                                                      [tremendous, product]\n",
      "19433                                                                                                                                      [product, awesome, use, everywhere, kitchen, bathroom, laundry, room]\n",
      "31959    [tell, everyone, great, conditioner, work, started, using, h, came, mail, free, mention, got, free, product, would, say, using, product, hair, soft, cant, remember, hair, ever, felt, great, smell,...\n",
      "57245                                                     [couple, year, love, use, hardwood, floor, tile, pergo, love, choose, cleaner, recommend, everyone, unfortunately, mine, broke, use, almost, everyday]\n",
      "19946                                                                            [disinfecting, wipe, quick, easy, way, clean, disinfect, variety, surface, including, one, might, expect, like, finished, wood]\n",
      "8444     [little, kid, fun, mess, wipe, great, quick, clean, wherever, kitchen, bathroom, car, simple, enough, little, one, clean, mess, made, toss, trash, teen, actually, use, clean, review, collected, pa...\n",
      "64395                                                                                                                                      [played, yet, like, fact, tell, many, character, write, hope, enough]\n",
      "51668                                                                                                                                                                    [tried, liked, light, soft, feel, hair]\n",
      "35730                                                                                                                                   [easy, follow, instruction, smell, okay, leaf, skin, feeling, refreshed]\n",
      "45413                                                                                                                       [could, use, mega, roll, last, long, time, soft, review, collected, part, promotion]\n",
      "21758                                                                                                                   [lousy, gel, used, old, formula, number, yr, new, formula, smell, bad, seem, hold, well]\n",
      "36230                                                                                                                                                       [dialog, plot, acting, make, best, tarantino, movie]\n",
      "31228    [conditioner, great, slip, left, thick, hair, hair, soft, manageable, love, light, scent, really, gentle, definitely, worth, try, received, product, complimentary, testing, purpose, opinion, revie...\n",
      "43757                                                                                                                                                                      [movie, cute, funny, one, great, age]\n",
      "7751                                                                                     [new, baby, great, help, wiping, diapering, surface, area, make, feel, lot, better, review, collected, part, promotion]\n",
      "49100                                                                                                                                                      [pod, always, dissoling, gel, stick, clothes, rewash]\n",
      "20609    [use, clorox, wipe, kitchen, daily, basis, wipe, hold, well, scrubbing, dirty, kitchen, counter, top, leave, nice, smell, also, use, polish, kitchen, faucet, handle, work, great, leave, streak, be...\n",
      "21440                                                                                                                                       [bad, product, hair, felt, brittle, easy, comb, like, smell, either]\n",
      "50057                                                                                                                                      [love, using, type, tide, get, clothes, clean, leaf, smelling, great]\n",
      "5192                                                                               [fan, dumb, admit, story, got, box, set, fine, good, enough, space, could, small, edition, fan, look, way, maybe, underworld]\n",
      "Name: lemmatize, Length: 49730, dtype: object\n"
     ]
    }
   ],
   "source": [
    "print(X_train)"
   ]
  },
  {
   "cell_type": "markdown",
   "metadata": {},
   "source": [
    "# Feature Extraction\n",
    "generating matrix value of text Dataset using Countvectorizer then converting them into TFIDF (term frequency–inverse document frequency) "
   ]
  },
  {
   "cell_type": "code",
   "execution_count": 25,
   "metadata": {},
   "outputs": [
    {
     "name": "stdout",
     "output_type": "stream",
     "text": [
      "[[0 0 0 ... 0 0 0]\n",
      " [0 0 0 ... 0 0 0]\n",
      " [0 0 0 ... 0 0 0]\n",
      " ...\n",
      " [0 0 0 ... 0 0 0]\n",
      " [0 0 0 ... 0 0 0]\n",
      " [0 0 0 ... 0 0 0]]\n"
     ]
    }
   ],
   "source": [
    "from sklearn.feature_extraction.text import CountVectorizer\n",
    "cv = CountVectorizer(analyzer = lemmatization)\n",
    "\n",
    "training_data = cv.fit_transform(X_train)\n",
    "training_data_toarray= training_data.toarray()\n",
    "print(training_data_toarray)"
   ]
  },
  {
   "cell_type": "code",
   "execution_count": 26,
   "metadata": {},
   "outputs": [],
   "source": [
    "from sklearn.feature_extraction.text import TfidfTransformer\n",
    "tfidf_transformer = TfidfTransformer()\n",
    "Xtrain_tfidf = tfidf_transformer.fit_transform(training_data)"
   ]
  },
  {
   "cell_type": "code",
   "execution_count": 27,
   "metadata": {},
   "outputs": [
    {
     "data": {
      "text/plain": [
       "(49730, 20295)"
      ]
     },
     "execution_count": 27,
     "metadata": {},
     "output_type": "execute_result"
    }
   ],
   "source": [
    "Xtrain_tfidf.shape"
   ]
  },
  {
   "cell_type": "code",
   "execution_count": 28,
   "metadata": {},
   "outputs": [],
   "source": [
    "# print(Xtrain_tfidf.toarray())"
   ]
  },
  {
   "cell_type": "markdown",
   "metadata": {},
   "source": [
    "# Implementing the Naive Bayes model and fitting the taining dataset "
   ]
  },
  {
   "cell_type": "code",
   "execution_count": 29,
   "metadata": {},
   "outputs": [],
   "source": [
    "from sklearn.naive_bayes import MultinomialNB\n",
    "clf = MultinomialNB().fit(Xtrain_tfidf, y_train)\n"
   ]
  },
  {
   "cell_type": "markdown",
   "metadata": {},
   "source": [
    "# Testing the model"
   ]
  },
  {
   "cell_type": "code",
   "execution_count": 30,
   "metadata": {},
   "outputs": [],
   "source": [
    "X_test_tf = cv.transform(X_test)\n",
    "X_test_tfidf=tfidf_transformer.transform(X_test_tf)\n",
    "predicted= clf.predict(X_test_tfidf)"
   ]
  },
  {
   "cell_type": "code",
   "execution_count": 31,
   "metadata": {},
   "outputs": [],
   "source": [
    "# from sklearn import metrics\n",
    "# from sklearn.metrics import accuracy_score\n",
    "# target_names = ['1' , '2', '3', '4', '5']\n",
    "# print(\"Accuracy:\", accuracy_score(y_test, predicted))\n",
    "# print(metrics.classification_report((y_test, predicted, target_names= y_test.target_names)),metrics.confusion_matrix(y_train, predicted))"
   ]
  },
  {
   "cell_type": "markdown",
   "metadata": {},
   "source": [
    "# Precision\n",
    "# Confusion matrix"
   ]
  },
  {
   "cell_type": "code",
   "execution_count": 32,
   "metadata": {},
   "outputs": [
    {
     "name": "stdout",
     "output_type": "stream",
     "text": [
      "             precision    recall  f1-score   support\n",
      "\n",
      "          1       0.86      0.18      0.30      1089\n",
      "          2       0.00      0.00      0.00       528\n",
      "          3       0.50      0.00      0.00      1308\n",
      "          4       0.41      0.03      0.06      4369\n",
      "          5       0.67      0.99      0.80     14020\n",
      "\n",
      "avg / total       0.60      0.67      0.56     21314\n",
      "\n"
     ]
    },
    {
     "name": "stderr",
     "output_type": "stream",
     "text": [
      "C:\\Users\\Dell\\Anaconda3\\lib\\site-packages\\sklearn\\metrics\\classification.py:1135: UndefinedMetricWarning: Precision and F-score are ill-defined and being set to 0.0 in labels with no predicted samples.\n",
      "  'precision', 'predicted', average, warn_for)\n"
     ]
    }
   ],
   "source": [
    "from sklearn import metrics\n",
    "print(metrics.classification_report(y_test, predicted)) #target nameko list banaune then yo code ma tagetnames= targetname list garne\n",
    "# print(metrics.confusion_matrix((y_test, predicted))\n"
   ]
  },
  {
   "cell_type": "code",
   "execution_count": 33,
   "metadata": {},
   "outputs": [
    {
     "name": "stdout",
     "output_type": "stream",
     "text": [
      "Accuracy score:  0.6696068311907666\n"
     ]
    }
   ],
   "source": [
    "from sklearn.metrics import accuracy_score\n",
    "print(\"Accuracy score: \", accuracy_score(y_test,predicted))"
   ]
  },
  {
   "cell_type": "code",
   "execution_count": 34,
   "metadata": {},
   "outputs": [
    {
     "name": "stdout",
     "output_type": "stream",
     "text": [
      "[[  196     0     0     6   887]\n",
      " [   23     0     0    17   488]\n",
      " [    6     0     2    98  1202]\n",
      " [    3     0     0   146  4220]\n",
      " [    1     0     2    89 13928]]\n"
     ]
    }
   ],
   "source": [
    "print(metrics.confusion_matrix(y_test, predicted))"
   ]
  },
  {
   "cell_type": "markdown",
   "metadata": {},
   "source": [
    "# Implementing the Naive Bayes model and fitting the taining dataset"
   ]
  },
  {
   "cell_type": "code",
   "execution_count": 35,
   "metadata": {},
   "outputs": [],
   "source": [
    "# from sklearn.svm import SVC\n",
    "# svc = SVC()\n",
    "# svc.fit(Xtrain_tfidf, y_train)"
   ]
  },
  {
   "cell_type": "code",
   "execution_count": 36,
   "metadata": {},
   "outputs": [
    {
     "ename": "NameError",
     "evalue": "name 'svc' is not defined",
     "output_type": "error",
     "traceback": [
      "\u001b[1;31m---------------------------------------------------------------------------\u001b[0m",
      "\u001b[1;31mNameError\u001b[0m                                 Traceback (most recent call last)",
      "\u001b[1;32m<ipython-input-36-86e6fd5ba549>\u001b[0m in \u001b[0;36m<module>\u001b[1;34m()\u001b[0m\n\u001b[1;32m----> 1\u001b[1;33m \u001b[0mpredict\u001b[0m \u001b[1;33m=\u001b[0m \u001b[0msvc\u001b[0m\u001b[1;33m.\u001b[0m\u001b[0mpredict\u001b[0m\u001b[1;33m(\u001b[0m\u001b[0mX_test_tfidf\u001b[0m\u001b[1;33m)\u001b[0m\u001b[1;33m\u001b[0m\u001b[0m\n\u001b[0m",
      "\u001b[1;31mNameError\u001b[0m: name 'svc' is not defined"
     ]
    }
   ],
   "source": [
    "predict = svc.predict(X_test_tfidf)"
   ]
  },
  {
   "cell_type": "markdown",
   "metadata": {},
   "source": [
    "# Precision And COnfusion Matrix"
   ]
  },
  {
   "cell_type": "code",
   "execution_count": 37,
   "metadata": {},
   "outputs": [
    {
     "ename": "NameError",
     "evalue": "name 'predict' is not defined",
     "output_type": "error",
     "traceback": [
      "\u001b[1;31m---------------------------------------------------------------------------\u001b[0m",
      "\u001b[1;31mNameError\u001b[0m                                 Traceback (most recent call last)",
      "\u001b[1;32m<ipython-input-37-90f03c53fa85>\u001b[0m in \u001b[0;36m<module>\u001b[1;34m()\u001b[0m\n\u001b[0;32m      1\u001b[0m \u001b[1;32mfrom\u001b[0m \u001b[0msklearn\u001b[0m \u001b[1;32mimport\u001b[0m \u001b[0mmetrics\u001b[0m\u001b[1;33m\u001b[0m\u001b[0m\n\u001b[1;32m----> 2\u001b[1;33m \u001b[0mprint\u001b[0m\u001b[1;33m(\u001b[0m\u001b[0mmetrics\u001b[0m\u001b[1;33m.\u001b[0m\u001b[0mclassification_report\u001b[0m\u001b[1;33m(\u001b[0m\u001b[0my_test\u001b[0m\u001b[1;33m,\u001b[0m \u001b[0mpredict\u001b[0m\u001b[1;33m)\u001b[0m\u001b[1;33m)\u001b[0m\u001b[1;33m\u001b[0m\u001b[0m\n\u001b[0m",
      "\u001b[1;31mNameError\u001b[0m: name 'predict' is not defined"
     ]
    }
   ],
   "source": [
    "from sklearn import metrics\n",
    "print(metrics.classification_report(y_test, predict))"
   ]
  },
  {
   "cell_type": "code",
   "execution_count": 38,
   "metadata": {},
   "outputs": [
    {
     "ename": "NameError",
     "evalue": "name 'predict' is not defined",
     "output_type": "error",
     "traceback": [
      "\u001b[1;31m---------------------------------------------------------------------------\u001b[0m",
      "\u001b[1;31mNameError\u001b[0m                                 Traceback (most recent call last)",
      "\u001b[1;32m<ipython-input-38-cf974f791b3e>\u001b[0m in \u001b[0;36m<module>\u001b[1;34m()\u001b[0m\n\u001b[0;32m      1\u001b[0m \u001b[1;32mfrom\u001b[0m \u001b[0msklearn\u001b[0m\u001b[1;33m.\u001b[0m\u001b[0mmetrics\u001b[0m \u001b[1;32mimport\u001b[0m \u001b[0maccuracy_score\u001b[0m\u001b[1;33m\u001b[0m\u001b[0m\n\u001b[1;32m----> 2\u001b[1;33m \u001b[0mprint\u001b[0m\u001b[1;33m(\u001b[0m\u001b[1;34m\"Accuracy score: \"\u001b[0m\u001b[1;33m,\u001b[0m \u001b[0maccuracy_score\u001b[0m\u001b[1;33m(\u001b[0m\u001b[0my_test\u001b[0m\u001b[1;33m,\u001b[0m\u001b[0mpredict\u001b[0m\u001b[1;33m)\u001b[0m\u001b[1;33m)\u001b[0m\u001b[1;33m\u001b[0m\u001b[0m\n\u001b[0m",
      "\u001b[1;31mNameError\u001b[0m: name 'predict' is not defined"
     ]
    }
   ],
   "source": [
    "from sklearn.metrics import accuracy_score\n",
    "print(\"Accuracy score: \", accuracy_score(y_test,predict))"
   ]
  },
  {
   "cell_type": "code",
   "execution_count": 39,
   "metadata": {},
   "outputs": [],
   "source": [
    "from sklearn.linear_model import LogisticRegression"
   ]
  },
  {
   "cell_type": "code",
   "execution_count": 40,
   "metadata": {},
   "outputs": [],
   "source": [
    "LR = LogisticRegression()\n",
    "LR.fit(Xtrain_tfidf, y_train)\n",
    "pred = LR.predict(X_test_tfidf)"
   ]
  },
  {
   "cell_type": "code",
   "execution_count": 41,
   "metadata": {},
   "outputs": [
    {
     "name": "stdout",
     "output_type": "stream",
     "text": [
      "             precision    recall  f1-score   support\n",
      "\n",
      "          1       0.70      0.60      0.64      1089\n",
      "          2       0.28      0.02      0.04       528\n",
      "          3       0.48      0.11      0.19      1308\n",
      "          4       0.47      0.20      0.28      4369\n",
      "          5       0.74      0.96      0.84     14020\n",
      "\n",
      "avg / total       0.66      0.71      0.65     21314\n",
      "\n"
     ]
    }
   ],
   "source": [
    "from sklearn import metrics\n",
    "print(metrics.classification_report(y_test, pred))"
   ]
  },
  {
   "cell_type": "code",
   "execution_count": null,
   "metadata": {},
   "outputs": [],
   "source": []
  },
  {
   "cell_type": "markdown",
   "metadata": {},
   "source": [
    "# Testing the external input"
   ]
  },
  {
   "cell_type": "code",
   "execution_count": 42,
   "metadata": {},
   "outputs": [],
   "source": [
    "# doc = ['This product so far has not disappointed', 'electronics product are bad']\n",
    "# doc_counts = cv.transform(doc)\n",
    "# doc_tfidf=tfidf_transformer.transform(doc_counts)\n",
    "# predicted= clf.predict(doc_tfidf)\n"
   ]
  },
  {
   "cell_type": "code",
   "execution_count": 43,
   "metadata": {},
   "outputs": [],
   "source": [
    "# for x in predicted:\n",
    "#     print(x)"
   ]
  },
  {
   "cell_type": "markdown",
   "metadata": {},
   "source": [
    "How it worked ?\n",
    "Dataframe class provides a constructor to create Dataframe object by passing column names , index names & data in argument like this,\n",
    "def __init__(self, data=None, index=None, columns=None, dtype=None,"
   ]
  },
  {
   "cell_type": "code",
   "execution_count": 44,
   "metadata": {},
   "outputs": [
    {
     "name": "stdout",
     "output_type": "stream",
     "text": [
      "Empty Dataframe \n",
      "Empty DataFrame\n",
      "Columns: [User_ID, UserName, Action]\n",
      "Index: []\n"
     ]
    }
   ],
   "source": [
    "import pandas as pd\n",
    "dfObj = pd.DataFrame(columns=['User_ID', 'UserName', 'Action'])\n",
    "print(\"Empty Dataframe \", dfObj, sep='\\n')\n"
   ]
  },
  {
   "cell_type": "code",
   "execution_count": 45,
   "metadata": {},
   "outputs": [
    {
     "data": {
      "text/html": [
       "<div>\n",
       "<style scoped>\n",
       "    .dataframe tbody tr th:only-of-type {\n",
       "        vertical-align: middle;\n",
       "    }\n",
       "\n",
       "    .dataframe tbody tr th {\n",
       "        vertical-align: top;\n",
       "    }\n",
       "\n",
       "    .dataframe thead th {\n",
       "        text-align: right;\n",
       "    }\n",
       "</style>\n",
       "<table border=\"1\" class=\"dataframe\">\n",
       "  <thead>\n",
       "    <tr style=\"text-align: right;\">\n",
       "      <th></th>\n",
       "      <th>User_ID</th>\n",
       "      <th>UserName</th>\n",
       "      <th>Action</th>\n",
       "    </tr>\n",
       "  </thead>\n",
       "  <tbody>\n",
       "  </tbody>\n",
       "</table>\n",
       "</div>"
      ],
      "text/plain": [
       "Empty DataFrame\n",
       "Columns: [User_ID, UserName, Action]\n",
       "Index: []"
      ]
     },
     "execution_count": 45,
     "metadata": {},
     "output_type": "execute_result"
    }
   ],
   "source": [
    "dfObj.head()"
   ]
  },
  {
   "cell_type": "code",
   "execution_count": 46,
   "metadata": {},
   "outputs": [],
   "source": [
    "dfObj = dfObj.append({'User_ID': 23, 'UserName': 'Riti', 'Action': 'Login'}, ignore_index=True)"
   ]
  },
  {
   "cell_type": "code",
   "execution_count": 47,
   "metadata": {},
   "outputs": [
    {
     "data": {
      "text/html": [
       "<div>\n",
       "<style scoped>\n",
       "    .dataframe tbody tr th:only-of-type {\n",
       "        vertical-align: middle;\n",
       "    }\n",
       "\n",
       "    .dataframe tbody tr th {\n",
       "        vertical-align: top;\n",
       "    }\n",
       "\n",
       "    .dataframe thead th {\n",
       "        text-align: right;\n",
       "    }\n",
       "</style>\n",
       "<table border=\"1\" class=\"dataframe\">\n",
       "  <thead>\n",
       "    <tr style=\"text-align: right;\">\n",
       "      <th></th>\n",
       "      <th>User_ID</th>\n",
       "      <th>UserName</th>\n",
       "      <th>Action</th>\n",
       "    </tr>\n",
       "  </thead>\n",
       "  <tbody>\n",
       "    <tr>\n",
       "      <th>0</th>\n",
       "      <td>23</td>\n",
       "      <td>Riti</td>\n",
       "      <td>Login</td>\n",
       "    </tr>\n",
       "  </tbody>\n",
       "</table>\n",
       "</div>"
      ],
      "text/plain": [
       "  User_ID UserName Action\n",
       "0      23     Riti  Login"
      ]
     },
     "execution_count": 47,
     "metadata": {},
     "output_type": "execute_result"
    }
   ],
   "source": [
    "dfObj.head()"
   ]
  },
  {
   "cell_type": "code",
   "execution_count": 48,
   "metadata": {},
   "outputs": [],
   "source": [
    "Doc = pd.DataFrame(columns=['testing'])"
   ]
  },
  {
   "cell_type": "code",
   "execution_count": 49,
   "metadata": {},
   "outputs": [],
   "source": [
    "Doc = Doc.append({'testing':'Absolutely worthless - not silky and dim and uncomfortable' }, ignore_index=True)"
   ]
  },
  {
   "cell_type": "code",
   "execution_count": 50,
   "metadata": {},
   "outputs": [],
   "source": [
    "Doc = Doc.append({'testing':'I had such high hopes for this dress and really wanted it to work for me. i initially ordered the petite small (my usual size) but i found this to be outrageously small. so small in fact that i could not zip it up! i reordered it in petite medium, which was just ok. overall, the top half was comfortable and fit nicely, but the bottom half had a very tight under layer and several somewhat cheap (net) over layers. imo, a major design flaw was the net over layer sewn directly into the zipper - it c' }, ignore_index=True)"
   ]
  },
  {
   "cell_type": "code",
   "execution_count": 51,
   "metadata": {},
   "outputs": [
    {
     "data": {
      "text/html": [
       "<div>\n",
       "<style scoped>\n",
       "    .dataframe tbody tr th:only-of-type {\n",
       "        vertical-align: middle;\n",
       "    }\n",
       "\n",
       "    .dataframe tbody tr th {\n",
       "        vertical-align: top;\n",
       "    }\n",
       "\n",
       "    .dataframe thead th {\n",
       "        text-align: right;\n",
       "    }\n",
       "</style>\n",
       "<table border=\"1\" class=\"dataframe\">\n",
       "  <thead>\n",
       "    <tr style=\"text-align: right;\">\n",
       "      <th></th>\n",
       "      <th>testing</th>\n",
       "    </tr>\n",
       "  </thead>\n",
       "  <tbody>\n",
       "    <tr>\n",
       "      <th>0</th>\n",
       "      <td>Absolutely worthless - not silky and dim and uncomfortable</td>\n",
       "    </tr>\n",
       "    <tr>\n",
       "      <th>1</th>\n",
       "      <td>I had such high hopes for this dress and really wanted it to work for me. i initially ordered the petite small (my usual size) but i found this to be outrageously small. so small in fact that i co...</td>\n",
       "    </tr>\n",
       "  </tbody>\n",
       "</table>\n",
       "</div>"
      ],
      "text/plain": [
       "                                                                                                                                                                                                   testing\n",
       "0                                                                                                                                               Absolutely worthless - not silky and dim and uncomfortable\n",
       "1  I had such high hopes for this dress and really wanted it to work for me. i initially ordered the petite small (my usual size) but i found this to be outrageously small. so small in fact that i co..."
      ]
     },
     "execution_count": 51,
     "metadata": {},
     "output_type": "execute_result"
    }
   ],
   "source": [
    "Doc.head()"
   ]
  },
  {
   "cell_type": "code",
   "execution_count": 52,
   "metadata": {},
   "outputs": [
    {
     "data": {
      "text/html": [
       "<div>\n",
       "<style scoped>\n",
       "    .dataframe tbody tr th:only-of-type {\n",
       "        vertical-align: middle;\n",
       "    }\n",
       "\n",
       "    .dataframe tbody tr th {\n",
       "        vertical-align: top;\n",
       "    }\n",
       "\n",
       "    .dataframe thead th {\n",
       "        text-align: right;\n",
       "    }\n",
       "</style>\n",
       "<table border=\"1\" class=\"dataframe\">\n",
       "  <thead>\n",
       "    <tr style=\"text-align: right;\">\n",
       "      <th></th>\n",
       "      <th>testing</th>\n",
       "    </tr>\n",
       "  </thead>\n",
       "  <tbody>\n",
       "    <tr>\n",
       "      <th>0</th>\n",
       "      <td>absolutely worthless - not silky and dim and uncomfortable</td>\n",
       "    </tr>\n",
       "    <tr>\n",
       "      <th>1</th>\n",
       "      <td>i had such high hopes for this dress and really wanted it to work for me. i initially ordered the petite small (my usual size) but i found this to be outrageously small. so small in fact that i co...</td>\n",
       "    </tr>\n",
       "  </tbody>\n",
       "</table>\n",
       "</div>"
      ],
      "text/plain": [
       "                                                                                                                                                                                                   testing\n",
       "0                                                                                                                                               absolutely worthless - not silky and dim and uncomfortable\n",
       "1  i had such high hopes for this dress and really wanted it to work for me. i initially ordered the petite small (my usual size) but i found this to be outrageously small. so small in fact that i co..."
      ]
     },
     "execution_count": 52,
     "metadata": {},
     "output_type": "execute_result"
    }
   ],
   "source": [
    "Doc.testing = Doc.testing.astype(str) \n",
    " \n",
    "Doc.testing = Doc.testing.apply(lambda x: x.lower())\n",
    "Doc.head()"
   ]
  },
  {
   "cell_type": "code",
   "execution_count": 53,
   "metadata": {},
   "outputs": [],
   "source": [
    "import string\n",
    "def remove_punctuations(txt):\n",
    "    txt = \"\".join([c for c in txt if c not in string.punctuation])\n",
    "    return txt\n",
    "\n"
   ]
  },
  {
   "cell_type": "code",
   "execution_count": 54,
   "metadata": {},
   "outputs": [
    {
     "data": {
      "text/html": [
       "<div>\n",
       "<style scoped>\n",
       "    .dataframe tbody tr th:only-of-type {\n",
       "        vertical-align: middle;\n",
       "    }\n",
       "\n",
       "    .dataframe tbody tr th {\n",
       "        vertical-align: top;\n",
       "    }\n",
       "\n",
       "    .dataframe thead th {\n",
       "        text-align: right;\n",
       "    }\n",
       "</style>\n",
       "<table border=\"1\" class=\"dataframe\">\n",
       "  <thead>\n",
       "    <tr style=\"text-align: right;\">\n",
       "      <th></th>\n",
       "      <th>testing</th>\n",
       "    </tr>\n",
       "  </thead>\n",
       "  <tbody>\n",
       "    <tr>\n",
       "      <th>0</th>\n",
       "      <td>absolutely worthless  not silky and dim and uncomfortable</td>\n",
       "    </tr>\n",
       "    <tr>\n",
       "      <th>1</th>\n",
       "      <td>i had such high hopes for this dress and really wanted it to work for me i initially ordered the petite small my usual size but i found this to be outrageously small so small in fact that i could ...</td>\n",
       "    </tr>\n",
       "  </tbody>\n",
       "</table>\n",
       "</div>"
      ],
      "text/plain": [
       "                                                                                                                                                                                                   testing\n",
       "0                                                                                                                                                absolutely worthless  not silky and dim and uncomfortable\n",
       "1  i had such high hopes for this dress and really wanted it to work for me i initially ordered the petite small my usual size but i found this to be outrageously small so small in fact that i could ..."
      ]
     },
     "execution_count": 54,
     "metadata": {},
     "output_type": "execute_result"
    }
   ],
   "source": [
    "Doc['testing'] = Doc['testing'].apply(remove_punctuations)\n",
    "Doc.head()"
   ]
  },
  {
   "cell_type": "code",
   "execution_count": 55,
   "metadata": {},
   "outputs": [
    {
     "data": {
      "text/html": [
       "<div>\n",
       "<style scoped>\n",
       "    .dataframe tbody tr th:only-of-type {\n",
       "        vertical-align: middle;\n",
       "    }\n",
       "\n",
       "    .dataframe tbody tr th {\n",
       "        vertical-align: top;\n",
       "    }\n",
       "\n",
       "    .dataframe thead th {\n",
       "        text-align: right;\n",
       "    }\n",
       "</style>\n",
       "<table border=\"1\" class=\"dataframe\">\n",
       "  <thead>\n",
       "    <tr style=\"text-align: right;\">\n",
       "      <th></th>\n",
       "      <th>testing</th>\n",
       "    </tr>\n",
       "  </thead>\n",
       "  <tbody>\n",
       "    <tr>\n",
       "      <th>0</th>\n",
       "      <td>[absolutely, worthless, not, silky, and, dim, and, uncomfortable]</td>\n",
       "    </tr>\n",
       "    <tr>\n",
       "      <th>1</th>\n",
       "      <td>[i, had, such, high, hopes, for, this, dress, and, really, wanted, it, to, work, for, me, i, initially, ordered, the, petite, small, my, usual, size, but, i, found, this, to, be, outrageously, sma...</td>\n",
       "    </tr>\n",
       "  </tbody>\n",
       "</table>\n",
       "</div>"
      ],
      "text/plain": [
       "                                                                                                                                                                                                   testing\n",
       "0                                                                                                                                        [absolutely, worthless, not, silky, and, dim, and, uncomfortable]\n",
       "1  [i, had, such, high, hopes, for, this, dress, and, really, wanted, it, to, work, for, me, i, initially, ordered, the, petite, small, my, usual, size, but, i, found, this, to, be, outrageously, sma..."
      ]
     },
     "execution_count": 55,
     "metadata": {},
     "output_type": "execute_result"
    }
   ],
   "source": [
    "import re\n",
    "\n",
    "def tokenize(txt):\n",
    "    tokens = re.split('\\W+' , txt)\n",
    "    return tokens\n",
    "Doc['testing']=Doc['testing'].apply(lambda x: tokenize(x.lower()))\n",
    "Doc.head()"
   ]
  },
  {
   "cell_type": "code",
   "execution_count": 56,
   "metadata": {},
   "outputs": [
    {
     "data": {
      "text/plain": [
       "['i', 'me', 'my', 'myself', 'we', 'our', 'ours', 'ourselves', 'you', \"you're\"]"
      ]
     },
     "execution_count": 56,
     "metadata": {},
     "output_type": "execute_result"
    }
   ],
   "source": [
    "import nltk\n",
    "stopwords = nltk.corpus.stopwords.words('english')\n",
    "stopwords[0:10]"
   ]
  },
  {
   "cell_type": "code",
   "execution_count": 57,
   "metadata": {},
   "outputs": [
    {
     "data": {
      "text/html": [
       "<div>\n",
       "<style scoped>\n",
       "    .dataframe tbody tr th:only-of-type {\n",
       "        vertical-align: middle;\n",
       "    }\n",
       "\n",
       "    .dataframe tbody tr th {\n",
       "        vertical-align: top;\n",
       "    }\n",
       "\n",
       "    .dataframe thead th {\n",
       "        text-align: right;\n",
       "    }\n",
       "</style>\n",
       "<table border=\"1\" class=\"dataframe\">\n",
       "  <thead>\n",
       "    <tr style=\"text-align: right;\">\n",
       "      <th></th>\n",
       "      <th>testing</th>\n",
       "    </tr>\n",
       "  </thead>\n",
       "  <tbody>\n",
       "    <tr>\n",
       "      <th>0</th>\n",
       "      <td>[absolutely, worthless, silky, dim, uncomfortable]</td>\n",
       "    </tr>\n",
       "    <tr>\n",
       "      <th>1</th>\n",
       "      <td>[high, hopes, dress, really, wanted, work, initially, ordered, petite, small, usual, size, found, outrageously, small, small, fact, could, zip, reordered, petite, medium, ok, overall, top, half, c...</td>\n",
       "    </tr>\n",
       "  </tbody>\n",
       "</table>\n",
       "</div>"
      ],
      "text/plain": [
       "                                                                                                                                                                                                   testing\n",
       "0                                                                                                                                                       [absolutely, worthless, silky, dim, uncomfortable]\n",
       "1  [high, hopes, dress, really, wanted, work, initially, ordered, petite, small, usual, size, found, outrageously, small, small, fact, could, zip, reordered, petite, medium, ok, overall, top, half, c..."
      ]
     },
     "execution_count": 57,
     "metadata": {},
     "output_type": "execute_result"
    }
   ],
   "source": [
    "def remove_stopwords(txt_tokenized):\n",
    "    txt_clean = [word for word in txt_tokenized if word not in stopwords]\n",
    "    return txt_clean\n",
    "Doc['testing']=Doc['testing'].apply(lambda x: remove_stopwords(x))\n",
    "Doc.head()"
   ]
  },
  {
   "cell_type": "code",
   "execution_count": 58,
   "metadata": {},
   "outputs": [
    {
     "data": {
      "text/html": [
       "<div>\n",
       "<style scoped>\n",
       "    .dataframe tbody tr th:only-of-type {\n",
       "        vertical-align: middle;\n",
       "    }\n",
       "\n",
       "    .dataframe tbody tr th {\n",
       "        vertical-align: top;\n",
       "    }\n",
       "\n",
       "    .dataframe thead th {\n",
       "        text-align: right;\n",
       "    }\n",
       "</style>\n",
       "<table border=\"1\" class=\"dataframe\">\n",
       "  <thead>\n",
       "    <tr style=\"text-align: right;\">\n",
       "      <th></th>\n",
       "      <th>testing</th>\n",
       "    </tr>\n",
       "  </thead>\n",
       "  <tbody>\n",
       "    <tr>\n",
       "      <th>0</th>\n",
       "      <td>[absolutely, worthless, silky, dim, uncomfortable]</td>\n",
       "    </tr>\n",
       "    <tr>\n",
       "      <th>1</th>\n",
       "      <td>[high, hope, dress, really, wanted, work, initially, ordered, petite, small, usual, size, found, outrageously, small, small, fact, could, zip, reordered, petite, medium, ok, overall, top, half, co...</td>\n",
       "    </tr>\n",
       "  </tbody>\n",
       "</table>\n",
       "</div>"
      ],
      "text/plain": [
       "                                                                                                                                                                                                   testing\n",
       "0                                                                                                                                                       [absolutely, worthless, silky, dim, uncomfortable]\n",
       "1  [high, hope, dress, really, wanted, work, initially, ordered, petite, small, usual, size, found, outrageously, small, small, fact, could, zip, reordered, petite, medium, ok, overall, top, half, co..."
      ]
     },
     "execution_count": 58,
     "metadata": {},
     "output_type": "execute_result"
    }
   ],
   "source": [
    "def lemmatization(token_txt):\n",
    "    text = [wn.lemmatize(word) for word in token_txt]\n",
    "    return text\n",
    "\n",
    "Doc['testing']= Doc['testing'].apply(lambda x : lemmatization(x))\n",
    "Doc.head()"
   ]
  },
  {
   "cell_type": "code",
   "execution_count": 59,
   "metadata": {},
   "outputs": [],
   "source": [
    "doc_counts = cv.transform(Doc.testing)\n",
    "doc_tfidf=tfidf_transformer.transform(doc_counts)\n",
    "predicts= c.predict(doc_tfidf)\n"
   ]
  },
  {
   "cell_type": "code",
   "execution_count": 60,
   "metadata": {},
   "outputs": [
    {
     "name": "stdout",
     "output_type": "stream",
     "text": [
      "5\n",
      "5\n"
     ]
    }
   ],
   "source": [
    "for x in predicts:\n",
    "    print(x)"
   ]
  },
  {
   "cell_type": "code",
   "execution_count": null,
   "metadata": {},
   "outputs": [],
   "source": []
  },
  {
   "cell_type": "code",
   "execution_count": null,
   "metadata": {},
   "outputs": [],
   "source": []
  }
 ],
 "metadata": {
  "kernelspec": {
   "display_name": "Python 3",
   "language": "python",
   "name": "python3"
  },
  "language_info": {
   "codemirror_mode": {
    "name": "ipython",
    "version": 3
   },
   "file_extension": ".py",
   "mimetype": "text/x-python",
   "name": "python",
   "nbconvert_exporter": "python",
   "pygments_lexer": "ipython3",
   "version": "3.6.5"
  }
 },
 "nbformat": 4,
 "nbformat_minor": 2
}
