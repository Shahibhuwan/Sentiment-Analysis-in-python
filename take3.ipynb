{
 "cells": [
  {
   "cell_type": "markdown",
   "metadata": {},
   "source": [
    "# Sentiment Analysis for product rating\n",
    "\n"
   ]
  },
  {
   "cell_type": "markdown",
   "metadata": {},
   "source": [
    "Importing the necessary Libraries to implement Sentiment Analysis"
   ]
  },
  {
   "cell_type": "code",
   "execution_count": 1,
   "metadata": {},
   "outputs": [
    {
     "name": "stdout",
     "output_type": "stream",
     "text": [
      "[nltk_data] Downloading package stopwords to\n",
      "[nltk_data]     C:\\Users\\Dell\\AppData\\Roaming\\nltk_data...\n",
      "[nltk_data]   Package stopwords is already up-to-date!\n",
      "[nltk_data] Downloading package wordnet to\n",
      "[nltk_data]     C:\\Users\\Dell\\AppData\\Roaming\\nltk_data...\n",
      "[nltk_data]   Package wordnet is already up-to-date!\n"
     ]
    },
    {
     "data": {
      "text/plain": [
       "True"
      ]
     },
     "execution_count": 1,
     "metadata": {},
     "output_type": "execute_result"
    }
   ],
   "source": [
    "import nltk\n",
    "import numpy as np\n",
    "import pandas as pd\n",
    "from matplotlib import pyplot as plt\n",
    "%matplotlib inline\n",
    "import seaborn as sns\n",
    "import re\n",
    "nltk.download('stopwords')\n",
    "nltk.download('wordnet')\n"
   ]
  },
  {
   "cell_type": "markdown",
   "metadata": {},
   "source": [
    "Importing pandas to read CSV file (Dataset) from the computer.\n",
    "\n",
    "Also the display size of the text in the table is increased using 'set_option('display.max_colwidth',200)' in pandas library"
   ]
  },
  {
   "cell_type": "code",
   "execution_count": 2,
   "metadata": {},
   "outputs": [
    {
     "data": {
      "text/html": [
       "<div>\n",
       "<style scoped>\n",
       "    .dataframe tbody tr th:only-of-type {\n",
       "        vertical-align: middle;\n",
       "    }\n",
       "\n",
       "    .dataframe tbody tr th {\n",
       "        vertical-align: top;\n",
       "    }\n",
       "\n",
       "    .dataframe thead th {\n",
       "        text-align: right;\n",
       "    }\n",
       "</style>\n",
       "<table border=\"1\" class=\"dataframe\">\n",
       "  <thead>\n",
       "    <tr style=\"text-align: right;\">\n",
       "      <th></th>\n",
       "      <th>reviews</th>\n",
       "      <th>rating</th>\n",
       "    </tr>\n",
       "  </thead>\n",
       "  <tbody>\n",
       "    <tr>\n",
       "      <th>0</th>\n",
       "      <td>Absolutely wonderful - silky and sexy and comfortable</td>\n",
       "      <td>4</td>\n",
       "    </tr>\n",
       "    <tr>\n",
       "      <th>1</th>\n",
       "      <td>Love this dress!  it's sooo pretty.  i happened to find it in a store, and i'm glad i did bc i never would have ordered it online bc it's petite.  i bought a petite and am 5'8\".  i love the length...</td>\n",
       "      <td>5</td>\n",
       "    </tr>\n",
       "    <tr>\n",
       "      <th>2</th>\n",
       "      <td>I had such high hopes for this dress and really wanted it to work for me. i initially ordered the petite small (my usual size) but i found this to be outrageously small. so small in fact that i co...</td>\n",
       "      <td>3</td>\n",
       "    </tr>\n",
       "    <tr>\n",
       "      <th>3</th>\n",
       "      <td>I love, love, love this jumpsuit. it's fun, flirty, and fabulous! every time i wear it, i get nothing but great compliments!</td>\n",
       "      <td>5</td>\n",
       "    </tr>\n",
       "    <tr>\n",
       "      <th>4</th>\n",
       "      <td>This shirt is very flattering to all due to the adjustable front tie. it is the perfect length to wear with leggings and it is sleeveless so it pairs well with any cardigan. love this shirt!!!</td>\n",
       "      <td>5</td>\n",
       "    </tr>\n",
       "  </tbody>\n",
       "</table>\n",
       "</div>"
      ],
      "text/plain": [
       "                                                                                                                                                                                                   reviews  \\\n",
       "0                                                                                                                                                    Absolutely wonderful - silky and sexy and comfortable   \n",
       "1  Love this dress!  it's sooo pretty.  i happened to find it in a store, and i'm glad i did bc i never would have ordered it online bc it's petite.  i bought a petite and am 5'8\".  i love the length...   \n",
       "2  I had such high hopes for this dress and really wanted it to work for me. i initially ordered the petite small (my usual size) but i found this to be outrageously small. so small in fact that i co...   \n",
       "3                                                                             I love, love, love this jumpsuit. it's fun, flirty, and fabulous! every time i wear it, i get nothing but great compliments!   \n",
       "4         This shirt is very flattering to all due to the adjustable front tie. it is the perfect length to wear with leggings and it is sleeveless so it pairs well with any cardigan. love this shirt!!!   \n",
       "\n",
       "   rating  \n",
       "0       4  \n",
       "1       5  \n",
       "2       3  \n",
       "3       5  \n",
       "4       5  "
      ]
     },
     "execution_count": 2,
     "metadata": {},
     "output_type": "execute_result"
    }
   ],
   "source": [
    "import pandas as pd\n",
    "pd.set_option('display.max_colwidth',200)\n",
    "df=pd.read_csv(r\"C:\\Users\\Dell\\Desktop\\Womens Clothing E-Commerce Reviews.csv\",encoding='UTF-8',sep=',')\n",
    "\n",
    "df.drop(['id','title'],axis='columns',inplace=True)\n",
    "df.head()"
   ]
  },
  {
   "cell_type": "markdown",
   "metadata": {},
   "source": [
    "# Preprocessing\n",
    "The columns in Dataframe are converted into integer and string datatype.\n",
    "also the text in the review column are converted into lower cases because our model can predict the word 'THE' an 'the' as different entites\n"
   ]
  },
  {
   "cell_type": "code",
   "execution_count": 3,
   "metadata": {},
   "outputs": [
    {
     "data": {
      "text/html": [
       "<div>\n",
       "<style scoped>\n",
       "    .dataframe tbody tr th:only-of-type {\n",
       "        vertical-align: middle;\n",
       "    }\n",
       "\n",
       "    .dataframe tbody tr th {\n",
       "        vertical-align: top;\n",
       "    }\n",
       "\n",
       "    .dataframe thead th {\n",
       "        text-align: right;\n",
       "    }\n",
       "</style>\n",
       "<table border=\"1\" class=\"dataframe\">\n",
       "  <thead>\n",
       "    <tr style=\"text-align: right;\">\n",
       "      <th></th>\n",
       "      <th>reviews</th>\n",
       "      <th>rating</th>\n",
       "    </tr>\n",
       "  </thead>\n",
       "  <tbody>\n",
       "    <tr>\n",
       "      <th>0</th>\n",
       "      <td>absolutely wonderful - silky and sexy and comfortable</td>\n",
       "      <td>4</td>\n",
       "    </tr>\n",
       "    <tr>\n",
       "      <th>1</th>\n",
       "      <td>love this dress!  it's sooo pretty.  i happened to find it in a store, and i'm glad i did bc i never would have ordered it online bc it's petite.  i bought a petite and am 5'8\".  i love the length...</td>\n",
       "      <td>5</td>\n",
       "    </tr>\n",
       "    <tr>\n",
       "      <th>2</th>\n",
       "      <td>i had such high hopes for this dress and really wanted it to work for me. i initially ordered the petite small (my usual size) but i found this to be outrageously small. so small in fact that i co...</td>\n",
       "      <td>3</td>\n",
       "    </tr>\n",
       "    <tr>\n",
       "      <th>3</th>\n",
       "      <td>i love, love, love this jumpsuit. it's fun, flirty, and fabulous! every time i wear it, i get nothing but great compliments!</td>\n",
       "      <td>5</td>\n",
       "    </tr>\n",
       "    <tr>\n",
       "      <th>4</th>\n",
       "      <td>this shirt is very flattering to all due to the adjustable front tie. it is the perfect length to wear with leggings and it is sleeveless so it pairs well with any cardigan. love this shirt!!!</td>\n",
       "      <td>5</td>\n",
       "    </tr>\n",
       "  </tbody>\n",
       "</table>\n",
       "</div>"
      ],
      "text/plain": [
       "                                                                                                                                                                                                   reviews  \\\n",
       "0                                                                                                                                                    absolutely wonderful - silky and sexy and comfortable   \n",
       "1  love this dress!  it's sooo pretty.  i happened to find it in a store, and i'm glad i did bc i never would have ordered it online bc it's petite.  i bought a petite and am 5'8\".  i love the length...   \n",
       "2  i had such high hopes for this dress and really wanted it to work for me. i initially ordered the petite small (my usual size) but i found this to be outrageously small. so small in fact that i co...   \n",
       "3                                                                             i love, love, love this jumpsuit. it's fun, flirty, and fabulous! every time i wear it, i get nothing but great compliments!   \n",
       "4         this shirt is very flattering to all due to the adjustable front tie. it is the perfect length to wear with leggings and it is sleeveless so it pairs well with any cardigan. love this shirt!!!   \n",
       "\n",
       "   rating  \n",
       "0       4  \n",
       "1       5  \n",
       "2       3  \n",
       "3       5  \n",
       "4       5  "
      ]
     },
     "execution_count": 3,
     "metadata": {},
     "output_type": "execute_result"
    }
   ],
   "source": [
    "df.reviews = df.reviews.astype(str) \n",
    "df.rating = df.rating.astype(int) \n",
    "df.reviews = df.reviews.apply(lambda x: x.lower())\n",
    "df.head()"
   ]
  },
  {
   "cell_type": "code",
   "execution_count": 4,
   "metadata": {},
   "outputs": [],
   "source": [
    "df['char_length'] = df['reviews'].apply(lambda x: len(str(x)))"
   ]
  },
  {
   "cell_type": "code",
   "execution_count": 5,
   "metadata": {},
   "outputs": [
    {
     "data": {
      "image/png": "[encoded data removed]",
      "text/plain": [
       "<Figure size 432x288 with 1 Axes>"
      ]
     },
     "metadata": {},
     "output_type": "display_data"
    }
   ],
   "source": [
    "sns.set()\n",
    "df['char_length'].hist()\n",
    "plt.show()"
   ]
  },
  {
   "cell_type": "markdown",
   "metadata": {},
   "source": [
    "\n",
    "Using Regular Expression for correcting the word so that word redundancy can reduced"
   ]
  },
  {
   "cell_type": "code",
   "execution_count": 6,
   "metadata": {},
   "outputs": [],
   "source": [
    "def clean_text(text):\n",
    "    text = text.lower()\n",
    "    text = re.sub(r\"what's\", \"what is \", text)\n",
    "    text = re.sub(r\"\\'s\", \" \", text)\n",
    "    text = re.sub(r\"\\'ve\", \" have \", text)\n",
    "    text = re.sub(r\"can't\", \"cannot \", text)\n",
    "    text = re.sub(r\"n't\", \" not \", text)\n",
    "    text = re.sub(r\"i'm\", \"i am \", text)\n",
    "    text = re.sub(r\"\\'re\", \" are \", text)\n",
    "    text = re.sub(r\"\\'d\", \" would \", text)\n",
    "    text = re.sub(r\"\\'ll\", \" will \", text)\n",
    "    text = re.sub(r\"\\'scuse\", \" excuse \", text)\n",
    "    text = re.sub('\\W', ' ', text)\n",
    "    text = re.sub('\\s+', ' ', text)\n",
    "    text = text.strip(' ')\n",
    "    return text"
   ]
  },
  {
   "cell_type": "code",
   "execution_count": 7,
   "metadata": {},
   "outputs": [],
   "source": [
    "df['reviews'] = df['reviews'].apply(lambda com : clean_text(com))"
   ]
  },
  {
   "cell_type": "code",
   "execution_count": 8,
   "metadata": {},
   "outputs": [
    {
     "data": {
      "text/html": [
       "<div>\n",
       "<style scoped>\n",
       "    .dataframe tbody tr th:only-of-type {\n",
       "        vertical-align: middle;\n",
       "    }\n",
       "\n",
       "    .dataframe tbody tr th {\n",
       "        vertical-align: top;\n",
       "    }\n",
       "\n",
       "    .dataframe thead th {\n",
       "        text-align: right;\n",
       "    }\n",
       "</style>\n",
       "<table border=\"1\" class=\"dataframe\">\n",
       "  <thead>\n",
       "    <tr style=\"text-align: right;\">\n",
       "      <th></th>\n",
       "      <th>reviews</th>\n",
       "      <th>rating</th>\n",
       "      <th>char_length</th>\n",
       "    </tr>\n",
       "  </thead>\n",
       "  <tbody>\n",
       "    <tr>\n",
       "      <th>0</th>\n",
       "      <td>absolutely wonderful silky and sexy and comfortable</td>\n",
       "      <td>4</td>\n",
       "      <td>53</td>\n",
       "    </tr>\n",
       "    <tr>\n",
       "      <th>1</th>\n",
       "      <td>love this dress it sooo pretty i happened to find it in a store and i am glad i did bc i never would have ordered it online bc it petite i bought a petite and am 5 8 i love the length on me hits j...</td>\n",
       "      <td>5</td>\n",
       "      <td>303</td>\n",
       "    </tr>\n",
       "    <tr>\n",
       "      <th>2</th>\n",
       "      <td>i had such high hopes for this dress and really wanted it to work for me i initially ordered the petite small my usual size but i found this to be outrageously small so small in fact that i could ...</td>\n",
       "      <td>3</td>\n",
       "      <td>500</td>\n",
       "    </tr>\n",
       "    <tr>\n",
       "      <th>3</th>\n",
       "      <td>i love love love this jumpsuit it fun flirty and fabulous every time i wear it i get nothing but great compliments</td>\n",
       "      <td>5</td>\n",
       "      <td>124</td>\n",
       "    </tr>\n",
       "    <tr>\n",
       "      <th>4</th>\n",
       "      <td>this shirt is very flattering to all due to the adjustable front tie it is the perfect length to wear with leggings and it is sleeveless so it pairs well with any cardigan love this shirt</td>\n",
       "      <td>5</td>\n",
       "      <td>192</td>\n",
       "    </tr>\n",
       "  </tbody>\n",
       "</table>\n",
       "</div>"
      ],
      "text/plain": [
       "                                                                                                                                                                                                   reviews  \\\n",
       "0                                                                                                                                                      absolutely wonderful silky and sexy and comfortable   \n",
       "1  love this dress it sooo pretty i happened to find it in a store and i am glad i did bc i never would have ordered it online bc it petite i bought a petite and am 5 8 i love the length on me hits j...   \n",
       "2  i had such high hopes for this dress and really wanted it to work for me i initially ordered the petite small my usual size but i found this to be outrageously small so small in fact that i could ...   \n",
       "3                                                                                       i love love love this jumpsuit it fun flirty and fabulous every time i wear it i get nothing but great compliments   \n",
       "4              this shirt is very flattering to all due to the adjustable front tie it is the perfect length to wear with leggings and it is sleeveless so it pairs well with any cardigan love this shirt   \n",
       "\n",
       "   rating  char_length  \n",
       "0       4           53  \n",
       "1       5          303  \n",
       "2       3          500  \n",
       "3       5          124  \n",
       "4       5          192  "
      ]
     },
     "execution_count": 8,
     "metadata": {},
     "output_type": "execute_result"
    }
   ],
   "source": [
    "df.head()"
   ]
  },
  {
   "cell_type": "markdown",
   "metadata": {},
   "source": [
    "# Removing Punctuation "
   ]
  },
  {
   "cell_type": "code",
   "execution_count": 9,
   "metadata": {},
   "outputs": [],
   "source": [
    "import string\n",
    "def remove_punctuations(txt):\n",
    "    txt = \"\".join([c for c in txt if c not in string.punctuation])\n",
    "    return txt"
   ]
  },
  {
   "cell_type": "code",
   "execution_count": 10,
   "metadata": {},
   "outputs": [
    {
     "data": {
      "text/html": [
       "<div>\n",
       "<style scoped>\n",
       "    .dataframe tbody tr th:only-of-type {\n",
       "        vertical-align: middle;\n",
       "    }\n",
       "\n",
       "    .dataframe tbody tr th {\n",
       "        vertical-align: top;\n",
       "    }\n",
       "\n",
       "    .dataframe thead th {\n",
       "        text-align: right;\n",
       "    }\n",
       "</style>\n",
       "<table border=\"1\" class=\"dataframe\">\n",
       "  <thead>\n",
       "    <tr style=\"text-align: right;\">\n",
       "      <th></th>\n",
       "      <th>reviews</th>\n",
       "      <th>rating</th>\n",
       "      <th>char_length</th>\n",
       "      <th>new_column</th>\n",
       "    </tr>\n",
       "  </thead>\n",
       "  <tbody>\n",
       "    <tr>\n",
       "      <th>0</th>\n",
       "      <td>absolutely wonderful silky and sexy and comfortable</td>\n",
       "      <td>4</td>\n",
       "      <td>53</td>\n",
       "      <td>absolutely wonderful silky and sexy and comfortable</td>\n",
       "    </tr>\n",
       "    <tr>\n",
       "      <th>1</th>\n",
       "      <td>love this dress it sooo pretty i happened to find it in a store and i am glad i did bc i never would have ordered it online bc it petite i bought a petite and am 5 8 i love the length on me hits j...</td>\n",
       "      <td>5</td>\n",
       "      <td>303</td>\n",
       "      <td>love this dress it sooo pretty i happened to find it in a store and i am glad i did bc i never would have ordered it online bc it petite i bought a petite and am 5 8 i love the length on me hits j...</td>\n",
       "    </tr>\n",
       "    <tr>\n",
       "      <th>2</th>\n",
       "      <td>i had such high hopes for this dress and really wanted it to work for me i initially ordered the petite small my usual size but i found this to be outrageously small so small in fact that i could ...</td>\n",
       "      <td>3</td>\n",
       "      <td>500</td>\n",
       "      <td>i had such high hopes for this dress and really wanted it to work for me i initially ordered the petite small my usual size but i found this to be outrageously small so small in fact that i could ...</td>\n",
       "    </tr>\n",
       "    <tr>\n",
       "      <th>3</th>\n",
       "      <td>i love love love this jumpsuit it fun flirty and fabulous every time i wear it i get nothing but great compliments</td>\n",
       "      <td>5</td>\n",
       "      <td>124</td>\n",
       "      <td>i love love love this jumpsuit it fun flirty and fabulous every time i wear it i get nothing but great compliments</td>\n",
       "    </tr>\n",
       "    <tr>\n",
       "      <th>4</th>\n",
       "      <td>this shirt is very flattering to all due to the adjustable front tie it is the perfect length to wear with leggings and it is sleeveless so it pairs well with any cardigan love this shirt</td>\n",
       "      <td>5</td>\n",
       "      <td>192</td>\n",
       "      <td>this shirt is very flattering to all due to the adjustable front tie it is the perfect length to wear with leggings and it is sleeveless so it pairs well with any cardigan love this shirt</td>\n",
       "    </tr>\n",
       "  </tbody>\n",
       "</table>\n",
       "</div>"
      ],
      "text/plain": [
       "                                                                                                                                                                                                   reviews  \\\n",
       "0                                                                                                                                                      absolutely wonderful silky and sexy and comfortable   \n",
       "1  love this dress it sooo pretty i happened to find it in a store and i am glad i did bc i never would have ordered it online bc it petite i bought a petite and am 5 8 i love the length on me hits j...   \n",
       "2  i had such high hopes for this dress and really wanted it to work for me i initially ordered the petite small my usual size but i found this to be outrageously small so small in fact that i could ...   \n",
       "3                                                                                       i love love love this jumpsuit it fun flirty and fabulous every time i wear it i get nothing but great compliments   \n",
       "4              this shirt is very flattering to all due to the adjustable front tie it is the perfect length to wear with leggings and it is sleeveless so it pairs well with any cardigan love this shirt   \n",
       "\n",
       "   rating  char_length  \\\n",
       "0       4           53   \n",
       "1       5          303   \n",
       "2       3          500   \n",
       "3       5          124   \n",
       "4       5          192   \n",
       "\n",
       "                                                                                                                                                                                                new_column  \n",
       "0                                                                                                                                                      absolutely wonderful silky and sexy and comfortable  \n",
       "1  love this dress it sooo pretty i happened to find it in a store and i am glad i did bc i never would have ordered it online bc it petite i bought a petite and am 5 8 i love the length on me hits j...  \n",
       "2  i had such high hopes for this dress and really wanted it to work for me i initially ordered the petite small my usual size but i found this to be outrageously small so small in fact that i could ...  \n",
       "3                                                                                       i love love love this jumpsuit it fun flirty and fabulous every time i wear it i get nothing but great compliments  \n",
       "4              this shirt is very flattering to all due to the adjustable front tie it is the perfect length to wear with leggings and it is sleeveless so it pairs well with any cardigan love this shirt  "
      ]
     },
     "execution_count": 10,
     "metadata": {},
     "output_type": "execute_result"
    }
   ],
   "source": [
    "df['new_column'] = df['reviews'].apply(remove_punctuations)\n",
    "df.head()"
   ]
  },
  {
   "cell_type": "markdown",
   "metadata": {},
   "source": [
    "# Removing Number \n",
    "Because the Number will not that helpul to reflect the sentiment / emotion "
   ]
  },
  {
   "cell_type": "code",
   "execution_count": 11,
   "metadata": {},
   "outputs": [
    {
     "data": {
      "text/html": [
       "<div>\n",
       "<style scoped>\n",
       "    .dataframe tbody tr th:only-of-type {\n",
       "        vertical-align: middle;\n",
       "    }\n",
       "\n",
       "    .dataframe tbody tr th {\n",
       "        vertical-align: top;\n",
       "    }\n",
       "\n",
       "    .dataframe thead th {\n",
       "        text-align: right;\n",
       "    }\n",
       "</style>\n",
       "<table border=\"1\" class=\"dataframe\">\n",
       "  <thead>\n",
       "    <tr style=\"text-align: right;\">\n",
       "      <th></th>\n",
       "      <th>reviews</th>\n",
       "      <th>rating</th>\n",
       "      <th>char_length</th>\n",
       "      <th>new_column</th>\n",
       "      <th>new_cloumns</th>\n",
       "    </tr>\n",
       "  </thead>\n",
       "  <tbody>\n",
       "    <tr>\n",
       "      <th>0</th>\n",
       "      <td>absolutely wonderful silky and sexy and comfortable</td>\n",
       "      <td>4</td>\n",
       "      <td>53</td>\n",
       "      <td>absolutely wonderful silky and sexy and comfortable</td>\n",
       "      <td>absolutely wonderful silky and sexy and comfortable</td>\n",
       "    </tr>\n",
       "    <tr>\n",
       "      <th>1</th>\n",
       "      <td>love this dress it sooo pretty i happened to find it in a store and i am glad i did bc i never would have ordered it online bc it petite i bought a petite and am 5 8 i love the length on me hits j...</td>\n",
       "      <td>5</td>\n",
       "      <td>303</td>\n",
       "      <td>love this dress it sooo pretty i happened to find it in a store and i am glad i did bc i never would have ordered it online bc it petite i bought a petite and am 5 8 i love the length on me hits j...</td>\n",
       "      <td>love this dress it sooo pretty i happened to find it in a store and i am glad i did bc i never would have ordered it online bc it petite i bought a petite and am number number i love the length on...</td>\n",
       "    </tr>\n",
       "    <tr>\n",
       "      <th>2</th>\n",
       "      <td>i had such high hopes for this dress and really wanted it to work for me i initially ordered the petite small my usual size but i found this to be outrageously small so small in fact that i could ...</td>\n",
       "      <td>3</td>\n",
       "      <td>500</td>\n",
       "      <td>i had such high hopes for this dress and really wanted it to work for me i initially ordered the petite small my usual size but i found this to be outrageously small so small in fact that i could ...</td>\n",
       "      <td>i had such high hopes for this dress and really wanted it to work for me i initially ordered the petite small my usual size but i found this to be outrageously small so small in fact that i could ...</td>\n",
       "    </tr>\n",
       "    <tr>\n",
       "      <th>3</th>\n",
       "      <td>i love love love this jumpsuit it fun flirty and fabulous every time i wear it i get nothing but great compliments</td>\n",
       "      <td>5</td>\n",
       "      <td>124</td>\n",
       "      <td>i love love love this jumpsuit it fun flirty and fabulous every time i wear it i get nothing but great compliments</td>\n",
       "      <td>i love love love this jumpsuit it fun flirty and fabulous every time i wear it i get nothing but great compliments</td>\n",
       "    </tr>\n",
       "    <tr>\n",
       "      <th>4</th>\n",
       "      <td>this shirt is very flattering to all due to the adjustable front tie it is the perfect length to wear with leggings and it is sleeveless so it pairs well with any cardigan love this shirt</td>\n",
       "      <td>5</td>\n",
       "      <td>192</td>\n",
       "      <td>this shirt is very flattering to all due to the adjustable front tie it is the perfect length to wear with leggings and it is sleeveless so it pairs well with any cardigan love this shirt</td>\n",
       "      <td>this shirt is very flattering to all due to the adjustable front tie it is the perfect length to wear with leggings and it is sleeveless so it pairs well with any cardigan love this shirt</td>\n",
       "    </tr>\n",
       "  </tbody>\n",
       "</table>\n",
       "</div>"
      ],
      "text/plain": [
       "                                                                                                                                                                                                   reviews  \\\n",
       "0                                                                                                                                                      absolutely wonderful silky and sexy and comfortable   \n",
       "1  love this dress it sooo pretty i happened to find it in a store and i am glad i did bc i never would have ordered it online bc it petite i bought a petite and am 5 8 i love the length on me hits j...   \n",
       "2  i had such high hopes for this dress and really wanted it to work for me i initially ordered the petite small my usual size but i found this to be outrageously small so small in fact that i could ...   \n",
       "3                                                                                       i love love love this jumpsuit it fun flirty and fabulous every time i wear it i get nothing but great compliments   \n",
       "4              this shirt is very flattering to all due to the adjustable front tie it is the perfect length to wear with leggings and it is sleeveless so it pairs well with any cardigan love this shirt   \n",
       "\n",
       "   rating  char_length  \\\n",
       "0       4           53   \n",
       "1       5          303   \n",
       "2       3          500   \n",
       "3       5          124   \n",
       "4       5          192   \n",
       "\n",
       "                                                                                                                                                                                                new_column  \\\n",
       "0                                                                                                                                                      absolutely wonderful silky and sexy and comfortable   \n",
       "1  love this dress it sooo pretty i happened to find it in a store and i am glad i did bc i never would have ordered it online bc it petite i bought a petite and am 5 8 i love the length on me hits j...   \n",
       "2  i had such high hopes for this dress and really wanted it to work for me i initially ordered the petite small my usual size but i found this to be outrageously small so small in fact that i could ...   \n",
       "3                                                                                       i love love love this jumpsuit it fun flirty and fabulous every time i wear it i get nothing but great compliments   \n",
       "4              this shirt is very flattering to all due to the adjustable front tie it is the perfect length to wear with leggings and it is sleeveless so it pairs well with any cardigan love this shirt   \n",
       "\n",
       "                                                                                                                                                                                               new_cloumns  \n",
       "0                                                                                                                                                      absolutely wonderful silky and sexy and comfortable  \n",
       "1  love this dress it sooo pretty i happened to find it in a store and i am glad i did bc i never would have ordered it online bc it petite i bought a petite and am number number i love the length on...  \n",
       "2  i had such high hopes for this dress and really wanted it to work for me i initially ordered the petite small my usual size but i found this to be outrageously small so small in fact that i could ...  \n",
       "3                                                                                       i love love love this jumpsuit it fun flirty and fabulous every time i wear it i get nothing but great compliments  \n",
       "4              this shirt is very flattering to all due to the adjustable front tie it is the perfect length to wear with leggings and it is sleeveless so it pairs well with any cardigan love this shirt  "
      ]
     },
     "execution_count": 11,
     "metadata": {},
     "output_type": "execute_result"
    }
   ],
   "source": [
    "df['new_cloumns'] = df['new_column'].str.replace('\\d+', 'number') # to replace no. by \"\"\n",
    "df.head()"
   ]
  },
  {
   "cell_type": "markdown",
   "metadata": {},
   "source": [
    "# Tokenization\n",
    "we have to iterate through each and every word in the sentence of the dataset "
   ]
  },
  {
   "cell_type": "code",
   "execution_count": 12,
   "metadata": {},
   "outputs": [
    {
     "data": {
      "text/html": [
       "<div>\n",
       "<style scoped>\n",
       "    .dataframe tbody tr th:only-of-type {\n",
       "        vertical-align: middle;\n",
       "    }\n",
       "\n",
       "    .dataframe tbody tr th {\n",
       "        vertical-align: top;\n",
       "    }\n",
       "\n",
       "    .dataframe thead th {\n",
       "        text-align: right;\n",
       "    }\n",
       "</style>\n",
       "<table border=\"1\" class=\"dataframe\">\n",
       "  <thead>\n",
       "    <tr style=\"text-align: right;\">\n",
       "      <th></th>\n",
       "      <th>reviews</th>\n",
       "      <th>rating</th>\n",
       "      <th>char_length</th>\n",
       "      <th>new_column</th>\n",
       "      <th>new_cloumns</th>\n",
       "      <th>tokenize</th>\n",
       "    </tr>\n",
       "  </thead>\n",
       "  <tbody>\n",
       "    <tr>\n",
       "      <th>0</th>\n",
       "      <td>absolutely wonderful silky and sexy and comfortable</td>\n",
       "      <td>4</td>\n",
       "      <td>53</td>\n",
       "      <td>absolutely wonderful silky and sexy and comfortable</td>\n",
       "      <td>absolutely wonderful silky and sexy and comfortable</td>\n",
       "      <td>[absolutely, wonderful, silky, and, sexy, and, comfortable]</td>\n",
       "    </tr>\n",
       "    <tr>\n",
       "      <th>1</th>\n",
       "      <td>love this dress it sooo pretty i happened to find it in a store and i am glad i did bc i never would have ordered it online bc it petite i bought a petite and am 5 8 i love the length on me hits j...</td>\n",
       "      <td>5</td>\n",
       "      <td>303</td>\n",
       "      <td>love this dress it sooo pretty i happened to find it in a store and i am glad i did bc i never would have ordered it online bc it petite i bought a petite and am 5 8 i love the length on me hits j...</td>\n",
       "      <td>love this dress it sooo pretty i happened to find it in a store and i am glad i did bc i never would have ordered it online bc it petite i bought a petite and am number number i love the length on...</td>\n",
       "      <td>[love, this, dress, it, sooo, pretty, i, happened, to, find, it, in, a, store, and, i, am, glad, i, did, bc, i, never, would, have, ordered, it, online, bc, it, petite, i, bought, a, petite, and, ...</td>\n",
       "    </tr>\n",
       "    <tr>\n",
       "      <th>2</th>\n",
       "      <td>i had such high hopes for this dress and really wanted it to work for me i initially ordered the petite small my usual size but i found this to be outrageously small so small in fact that i could ...</td>\n",
       "      <td>3</td>\n",
       "      <td>500</td>\n",
       "      <td>i had such high hopes for this dress and really wanted it to work for me i initially ordered the petite small my usual size but i found this to be outrageously small so small in fact that i could ...</td>\n",
       "      <td>i had such high hopes for this dress and really wanted it to work for me i initially ordered the petite small my usual size but i found this to be outrageously small so small in fact that i could ...</td>\n",
       "      <td>[i, had, such, high, hopes, for, this, dress, and, really, wanted, it, to, work, for, me, i, initially, ordered, the, petite, small, my, usual, size, but, i, found, this, to, be, outrageously, sma...</td>\n",
       "    </tr>\n",
       "    <tr>\n",
       "      <th>3</th>\n",
       "      <td>i love love love this jumpsuit it fun flirty and fabulous every time i wear it i get nothing but great compliments</td>\n",
       "      <td>5</td>\n",
       "      <td>124</td>\n",
       "      <td>i love love love this jumpsuit it fun flirty and fabulous every time i wear it i get nothing but great compliments</td>\n",
       "      <td>i love love love this jumpsuit it fun flirty and fabulous every time i wear it i get nothing but great compliments</td>\n",
       "      <td>[i, love, love, love, this, jumpsuit, it, fun, flirty, and, fabulous, every, time, i, wear, it, i, get, nothing, but, great, compliments]</td>\n",
       "    </tr>\n",
       "    <tr>\n",
       "      <th>4</th>\n",
       "      <td>this shirt is very flattering to all due to the adjustable front tie it is the perfect length to wear with leggings and it is sleeveless so it pairs well with any cardigan love this shirt</td>\n",
       "      <td>5</td>\n",
       "      <td>192</td>\n",
       "      <td>this shirt is very flattering to all due to the adjustable front tie it is the perfect length to wear with leggings and it is sleeveless so it pairs well with any cardigan love this shirt</td>\n",
       "      <td>this shirt is very flattering to all due to the adjustable front tie it is the perfect length to wear with leggings and it is sleeveless so it pairs well with any cardigan love this shirt</td>\n",
       "      <td>[this, shirt, is, very, flattering, to, all, due, to, the, adjustable, front, tie, it, is, the, perfect, length, to, wear, with, leggings, and, it, is, sleeveless, so, it, pairs, well, with, any, ...</td>\n",
       "    </tr>\n",
       "  </tbody>\n",
       "</table>\n",
       "</div>"
      ],
      "text/plain": [
       "                                                                                                                                                                                                   reviews  \\\n",
       "0                                                                                                                                                      absolutely wonderful silky and sexy and comfortable   \n",
       "1  love this dress it sooo pretty i happened to find it in a store and i am glad i did bc i never would have ordered it online bc it petite i bought a petite and am 5 8 i love the length on me hits j...   \n",
       "2  i had such high hopes for this dress and really wanted it to work for me i initially ordered the petite small my usual size but i found this to be outrageously small so small in fact that i could ...   \n",
       "3                                                                                       i love love love this jumpsuit it fun flirty and fabulous every time i wear it i get nothing but great compliments   \n",
       "4              this shirt is very flattering to all due to the adjustable front tie it is the perfect length to wear with leggings and it is sleeveless so it pairs well with any cardigan love this shirt   \n",
       "\n",
       "   rating  char_length  \\\n",
       "0       4           53   \n",
       "1       5          303   \n",
       "2       3          500   \n",
       "3       5          124   \n",
       "4       5          192   \n",
       "\n",
       "                                                                                                                                                                                                new_column  \\\n",
       "0                                                                                                                                                      absolutely wonderful silky and sexy and comfortable   \n",
       "1  love this dress it sooo pretty i happened to find it in a store and i am glad i did bc i never would have ordered it online bc it petite i bought a petite and am 5 8 i love the length on me hits j...   \n",
       "2  i had such high hopes for this dress and really wanted it to work for me i initially ordered the petite small my usual size but i found this to be outrageously small so small in fact that i could ...   \n",
       "3                                                                                       i love love love this jumpsuit it fun flirty and fabulous every time i wear it i get nothing but great compliments   \n",
       "4              this shirt is very flattering to all due to the adjustable front tie it is the perfect length to wear with leggings and it is sleeveless so it pairs well with any cardigan love this shirt   \n",
       "\n",
       "                                                                                                                                                                                               new_cloumns  \\\n",
       "0                                                                                                                                                      absolutely wonderful silky and sexy and comfortable   \n",
       "1  love this dress it sooo pretty i happened to find it in a store and i am glad i did bc i never would have ordered it online bc it petite i bought a petite and am number number i love the length on...   \n",
       "2  i had such high hopes for this dress and really wanted it to work for me i initially ordered the petite small my usual size but i found this to be outrageously small so small in fact that i could ...   \n",
       "3                                                                                       i love love love this jumpsuit it fun flirty and fabulous every time i wear it i get nothing but great compliments   \n",
       "4              this shirt is very flattering to all due to the adjustable front tie it is the perfect length to wear with leggings and it is sleeveless so it pairs well with any cardigan love this shirt   \n",
       "\n",
       "                                                                                                                                                                                                  tokenize  \n",
       "0                                                                                                                                              [absolutely, wonderful, silky, and, sexy, and, comfortable]  \n",
       "1  [love, this, dress, it, sooo, pretty, i, happened, to, find, it, in, a, store, and, i, am, glad, i, did, bc, i, never, would, have, ordered, it, online, bc, it, petite, i, bought, a, petite, and, ...  \n",
       "2  [i, had, such, high, hopes, for, this, dress, and, really, wanted, it, to, work, for, me, i, initially, ordered, the, petite, small, my, usual, size, but, i, found, this, to, be, outrageously, sma...  \n",
       "3                                                                [i, love, love, love, this, jumpsuit, it, fun, flirty, and, fabulous, every, time, i, wear, it, i, get, nothing, but, great, compliments]  \n",
       "4  [this, shirt, is, very, flattering, to, all, due, to, the, adjustable, front, tie, it, is, the, perfect, length, to, wear, with, leggings, and, it, is, sleeveless, so, it, pairs, well, with, any, ...  "
      ]
     },
     "execution_count": 12,
     "metadata": {},
     "output_type": "execute_result"
    }
   ],
   "source": [
    "import re\n",
    "\n",
    "def tokenize(txt):\n",
    "    tokens = re.split('\\W+' , txt)\n",
    "    return tokens\n",
    "df['tokenize']=df['new_cloumns'].apply(lambda x: tokenize(x.lower()))\n",
    "df.head()"
   ]
  },
  {
   "cell_type": "markdown",
   "metadata": {},
   "source": [
    "# Removing Stopword "
   ]
  },
  {
   "cell_type": "code",
   "execution_count": 13,
   "metadata": {},
   "outputs": [
    {
     "data": {
      "text/plain": [
       "['i', 'me', 'my', 'myself', 'we', 'our', 'ours', 'ourselves', 'you', \"you're\"]"
      ]
     },
     "execution_count": 13,
     "metadata": {},
     "output_type": "execute_result"
    }
   ],
   "source": [
    "import nltk\n",
    "stopwords = nltk.corpus.stopwords.words('english')\n",
    "stopwords[0:10]"
   ]
  },
  {
   "cell_type": "code",
   "execution_count": 14,
   "metadata": {},
   "outputs": [],
   "source": [
    "def remove_stopwords(txt_tokenized):\n",
    "    txt_clean = [word for word in txt_tokenized if word not in stopwords]\n",
    "    return txt_clean\n",
    "df['sw']=df['tokenize'].apply(lambda x: remove_stopwords(x))"
   ]
  },
  {
   "cell_type": "markdown",
   "metadata": {},
   "source": [
    "# Lemattization\n",
    "Finds root word of the similar words which helps to reduce the computation of our model"
   ]
  },
  {
   "cell_type": "code",
   "execution_count": 15,
   "metadata": {},
   "outputs": [],
   "source": [
    "from nltk.stem import WordNetLemmatizer\n",
    "wn=WordNetLemmatizer()"
   ]
  },
  {
   "cell_type": "code",
   "execution_count": 16,
   "metadata": {},
   "outputs": [
    {
     "data": {
      "text/html": [
       "<div>\n",
       "<style scoped>\n",
       "    .dataframe tbody tr th:only-of-type {\n",
       "        vertical-align: middle;\n",
       "    }\n",
       "\n",
       "    .dataframe tbody tr th {\n",
       "        vertical-align: top;\n",
       "    }\n",
       "\n",
       "    .dataframe thead th {\n",
       "        text-align: right;\n",
       "    }\n",
       "</style>\n",
       "<table border=\"1\" class=\"dataframe\">\n",
       "  <thead>\n",
       "    <tr style=\"text-align: right;\">\n",
       "      <th></th>\n",
       "      <th>reviews</th>\n",
       "      <th>rating</th>\n",
       "      <th>char_length</th>\n",
       "      <th>new_column</th>\n",
       "      <th>new_cloumns</th>\n",
       "      <th>tokenize</th>\n",
       "      <th>sw</th>\n",
       "      <th>lemmatize</th>\n",
       "    </tr>\n",
       "  </thead>\n",
       "  <tbody>\n",
       "    <tr>\n",
       "      <th>0</th>\n",
       "      <td>absolutely wonderful silky and sexy and comfortable</td>\n",
       "      <td>4</td>\n",
       "      <td>53</td>\n",
       "      <td>absolutely wonderful silky and sexy and comfortable</td>\n",
       "      <td>absolutely wonderful silky and sexy and comfortable</td>\n",
       "      <td>[absolutely, wonderful, silky, and, sexy, and, comfortable]</td>\n",
       "      <td>[absolutely, wonderful, silky, sexy, comfortable]</td>\n",
       "      <td>[absolutely, wonderful, silky, sexy, comfortable]</td>\n",
       "    </tr>\n",
       "    <tr>\n",
       "      <th>1</th>\n",
       "      <td>love this dress it sooo pretty i happened to find it in a store and i am glad i did bc i never would have ordered it online bc it petite i bought a petite and am 5 8 i love the length on me hits j...</td>\n",
       "      <td>5</td>\n",
       "      <td>303</td>\n",
       "      <td>love this dress it sooo pretty i happened to find it in a store and i am glad i did bc i never would have ordered it online bc it petite i bought a petite and am 5 8 i love the length on me hits j...</td>\n",
       "      <td>love this dress it sooo pretty i happened to find it in a store and i am glad i did bc i never would have ordered it online bc it petite i bought a petite and am number number i love the length on...</td>\n",
       "      <td>[love, this, dress, it, sooo, pretty, i, happened, to, find, it, in, a, store, and, i, am, glad, i, did, bc, i, never, would, have, ordered, it, online, bc, it, petite, i, bought, a, petite, and, ...</td>\n",
       "      <td>[love, dress, sooo, pretty, happened, find, store, glad, bc, never, would, ordered, online, bc, petite, bought, petite, number, number, love, length, hits, little, knee, would, definitely, true, m...</td>\n",
       "      <td>[love, dress, sooo, pretty, happened, find, store, glad, bc, never, would, ordered, online, bc, petite, bought, petite, number, number, love, length, hit, little, knee, would, definitely, true, mi...</td>\n",
       "    </tr>\n",
       "    <tr>\n",
       "      <th>2</th>\n",
       "      <td>i had such high hopes for this dress and really wanted it to work for me i initially ordered the petite small my usual size but i found this to be outrageously small so small in fact that i could ...</td>\n",
       "      <td>3</td>\n",
       "      <td>500</td>\n",
       "      <td>i had such high hopes for this dress and really wanted it to work for me i initially ordered the petite small my usual size but i found this to be outrageously small so small in fact that i could ...</td>\n",
       "      <td>i had such high hopes for this dress and really wanted it to work for me i initially ordered the petite small my usual size but i found this to be outrageously small so small in fact that i could ...</td>\n",
       "      <td>[i, had, such, high, hopes, for, this, dress, and, really, wanted, it, to, work, for, me, i, initially, ordered, the, petite, small, my, usual, size, but, i, found, this, to, be, outrageously, sma...</td>\n",
       "      <td>[high, hopes, dress, really, wanted, work, initially, ordered, petite, small, usual, size, found, outrageously, small, small, fact, could, zip, reordered, petite, medium, ok, overall, top, half, c...</td>\n",
       "      <td>[high, hope, dress, really, wanted, work, initially, ordered, petite, small, usual, size, found, outrageously, small, small, fact, could, zip, reordered, petite, medium, ok, overall, top, half, co...</td>\n",
       "    </tr>\n",
       "    <tr>\n",
       "      <th>3</th>\n",
       "      <td>i love love love this jumpsuit it fun flirty and fabulous every time i wear it i get nothing but great compliments</td>\n",
       "      <td>5</td>\n",
       "      <td>124</td>\n",
       "      <td>i love love love this jumpsuit it fun flirty and fabulous every time i wear it i get nothing but great compliments</td>\n",
       "      <td>i love love love this jumpsuit it fun flirty and fabulous every time i wear it i get nothing but great compliments</td>\n",
       "      <td>[i, love, love, love, this, jumpsuit, it, fun, flirty, and, fabulous, every, time, i, wear, it, i, get, nothing, but, great, compliments]</td>\n",
       "      <td>[love, love, love, jumpsuit, fun, flirty, fabulous, every, time, wear, get, nothing, great, compliments]</td>\n",
       "      <td>[love, love, love, jumpsuit, fun, flirty, fabulous, every, time, wear, get, nothing, great, compliment]</td>\n",
       "    </tr>\n",
       "    <tr>\n",
       "      <th>4</th>\n",
       "      <td>this shirt is very flattering to all due to the adjustable front tie it is the perfect length to wear with leggings and it is sleeveless so it pairs well with any cardigan love this shirt</td>\n",
       "      <td>5</td>\n",
       "      <td>192</td>\n",
       "      <td>this shirt is very flattering to all due to the adjustable front tie it is the perfect length to wear with leggings and it is sleeveless so it pairs well with any cardigan love this shirt</td>\n",
       "      <td>this shirt is very flattering to all due to the adjustable front tie it is the perfect length to wear with leggings and it is sleeveless so it pairs well with any cardigan love this shirt</td>\n",
       "      <td>[this, shirt, is, very, flattering, to, all, due, to, the, adjustable, front, tie, it, is, the, perfect, length, to, wear, with, leggings, and, it, is, sleeveless, so, it, pairs, well, with, any, ...</td>\n",
       "      <td>[shirt, flattering, due, adjustable, front, tie, perfect, length, wear, leggings, sleeveless, pairs, well, cardigan, love, shirt]</td>\n",
       "      <td>[shirt, flattering, due, adjustable, front, tie, perfect, length, wear, legging, sleeveless, pair, well, cardigan, love, shirt]</td>\n",
       "    </tr>\n",
       "  </tbody>\n",
       "</table>\n",
       "</div>"
      ],
      "text/plain": [
       "                                                                                                                                                                                                   reviews  \\\n",
       "0                                                                                                                                                      absolutely wonderful silky and sexy and comfortable   \n",
       "1  love this dress it sooo pretty i happened to find it in a store and i am glad i did bc i never would have ordered it online bc it petite i bought a petite and am 5 8 i love the length on me hits j...   \n",
       "2  i had such high hopes for this dress and really wanted it to work for me i initially ordered the petite small my usual size but i found this to be outrageously small so small in fact that i could ...   \n",
       "3                                                                                       i love love love this jumpsuit it fun flirty and fabulous every time i wear it i get nothing but great compliments   \n",
       "4              this shirt is very flattering to all due to the adjustable front tie it is the perfect length to wear with leggings and it is sleeveless so it pairs well with any cardigan love this shirt   \n",
       "\n",
       "   rating  char_length  \\\n",
       "0       4           53   \n",
       "1       5          303   \n",
       "2       3          500   \n",
       "3       5          124   \n",
       "4       5          192   \n",
       "\n",
       "                                                                                                                                                                                                new_column  \\\n",
       "0                                                                                                                                                      absolutely wonderful silky and sexy and comfortable   \n",
       "1  love this dress it sooo pretty i happened to find it in a store and i am glad i did bc i never would have ordered it online bc it petite i bought a petite and am 5 8 i love the length on me hits j...   \n",
       "2  i had such high hopes for this dress and really wanted it to work for me i initially ordered the petite small my usual size but i found this to be outrageously small so small in fact that i could ...   \n",
       "3                                                                                       i love love love this jumpsuit it fun flirty and fabulous every time i wear it i get nothing but great compliments   \n",
       "4              this shirt is very flattering to all due to the adjustable front tie it is the perfect length to wear with leggings and it is sleeveless so it pairs well with any cardigan love this shirt   \n",
       "\n",
       "                                                                                                                                                                                               new_cloumns  \\\n",
       "0                                                                                                                                                      absolutely wonderful silky and sexy and comfortable   \n",
       "1  love this dress it sooo pretty i happened to find it in a store and i am glad i did bc i never would have ordered it online bc it petite i bought a petite and am number number i love the length on...   \n",
       "2  i had such high hopes for this dress and really wanted it to work for me i initially ordered the petite small my usual size but i found this to be outrageously small so small in fact that i could ...   \n",
       "3                                                                                       i love love love this jumpsuit it fun flirty and fabulous every time i wear it i get nothing but great compliments   \n",
       "4              this shirt is very flattering to all due to the adjustable front tie it is the perfect length to wear with leggings and it is sleeveless so it pairs well with any cardigan love this shirt   \n",
       "\n",
       "                                                                                                                                                                                                  tokenize  \\\n",
       "0                                                                                                                                              [absolutely, wonderful, silky, and, sexy, and, comfortable]   \n",
       "1  [love, this, dress, it, sooo, pretty, i, happened, to, find, it, in, a, store, and, i, am, glad, i, did, bc, i, never, would, have, ordered, it, online, bc, it, petite, i, bought, a, petite, and, ...   \n",
       "2  [i, had, such, high, hopes, for, this, dress, and, really, wanted, it, to, work, for, me, i, initially, ordered, the, petite, small, my, usual, size, but, i, found, this, to, be, outrageously, sma...   \n",
       "3                                                                [i, love, love, love, this, jumpsuit, it, fun, flirty, and, fabulous, every, time, i, wear, it, i, get, nothing, but, great, compliments]   \n",
       "4  [this, shirt, is, very, flattering, to, all, due, to, the, adjustable, front, tie, it, is, the, perfect, length, to, wear, with, leggings, and, it, is, sleeveless, so, it, pairs, well, with, any, ...   \n",
       "\n",
       "                                                                                                                                                                                                        sw  \\\n",
       "0                                                                                                                                                        [absolutely, wonderful, silky, sexy, comfortable]   \n",
       "1  [love, dress, sooo, pretty, happened, find, store, glad, bc, never, would, ordered, online, bc, petite, bought, petite, number, number, love, length, hits, little, knee, would, definitely, true, m...   \n",
       "2  [high, hopes, dress, really, wanted, work, initially, ordered, petite, small, usual, size, found, outrageously, small, small, fact, could, zip, reordered, petite, medium, ok, overall, top, half, c...   \n",
       "3                                                                                                 [love, love, love, jumpsuit, fun, flirty, fabulous, every, time, wear, get, nothing, great, compliments]   \n",
       "4                                                                        [shirt, flattering, due, adjustable, front, tie, perfect, length, wear, leggings, sleeveless, pairs, well, cardigan, love, shirt]   \n",
       "\n",
       "                                                                                                                                                                                                 lemmatize  \n",
       "0                                                                                                                                                        [absolutely, wonderful, silky, sexy, comfortable]  \n",
       "1  [love, dress, sooo, pretty, happened, find, store, glad, bc, never, would, ordered, online, bc, petite, bought, petite, number, number, love, length, hit, little, knee, would, definitely, true, mi...  \n",
       "2  [high, hope, dress, really, wanted, work, initially, ordered, petite, small, usual, size, found, outrageously, small, small, fact, could, zip, reordered, petite, medium, ok, overall, top, half, co...  \n",
       "3                                                                                                  [love, love, love, jumpsuit, fun, flirty, fabulous, every, time, wear, get, nothing, great, compliment]  \n",
       "4                                                                          [shirt, flattering, due, adjustable, front, tie, perfect, length, wear, legging, sleeveless, pair, well, cardigan, love, shirt]  "
      ]
     },
     "execution_count": 16,
     "metadata": {},
     "output_type": "execute_result"
    }
   ],
   "source": [
    "def lemmatization(token_txt):\n",
    "    text = [wn.lemmatize(word) for word in token_txt]\n",
    "    \n",
    "    return text\n",
    "\n",
    "df['lemmatize']= df['sw'].apply(lambda x : lemmatization(x))\n",
    "df.head()"
   ]
  },
  {
   "cell_type": "markdown",
   "metadata": {},
   "source": [
    "# Finding NA values in our huge dataset\n",
    "we find those ones and fill them with the average value in the dataset i.e. rating "
   ]
  },
  {
   "cell_type": "code",
   "execution_count": 17,
   "metadata": {},
   "outputs": [
    {
     "data": {
      "text/plain": [
       "Index([], dtype='object')"
      ]
     },
     "execution_count": 17,
     "metadata": {},
     "output_type": "execute_result"
    }
   ],
   "source": [
    "df.columns[df.isna().any()]"
   ]
  },
  {
   "cell_type": "code",
   "execution_count": 18,
   "metadata": {},
   "outputs": [
    {
     "data": {
      "text/plain": [
       "reviews        0\n",
       "rating         0\n",
       "char_length    0\n",
       "new_column     0\n",
       "new_cloumns    0\n",
       "tokenize       0\n",
       "sw             0\n",
       "lemmatize      0\n",
       "dtype: int64"
      ]
     },
     "execution_count": 18,
     "metadata": {},
     "output_type": "execute_result"
    }
   ],
   "source": [
    "df.isna().sum()"
   ]
  },
  {
   "cell_type": "code",
   "execution_count": 19,
   "metadata": {},
   "outputs": [
    {
     "name": "stdout",
     "output_type": "stream",
     "text": [
      "<class 'pandas.core.frame.DataFrame'>\n",
      "RangeIndex: 23486 entries, 0 to 23485\n",
      "Data columns (total 8 columns):\n",
      "reviews        23486 non-null object\n",
      "rating         23486 non-null int32\n",
      "char_length    23486 non-null int64\n",
      "new_column     23486 non-null object\n",
      "new_cloumns    23486 non-null object\n",
      "tokenize       23486 non-null object\n",
      "sw             23486 non-null object\n",
      "lemmatize      23486 non-null object\n",
      "dtypes: int32(1), int64(1), object(6)\n",
      "memory usage: 1.3+ MB\n"
     ]
    }
   ],
   "source": [
    "df.info() #provides info of null fields"
   ]
  },
  {
   "cell_type": "code",
   "execution_count": 20,
   "metadata": {},
   "outputs": [],
   "source": [
    "df.rating = df.rating.fillna(df.rating.mean())"
   ]
  },
  {
   "cell_type": "code",
   "execution_count": 21,
   "metadata": {},
   "outputs": [
    {
     "data": {
      "text/plain": [
       "reviews        0\n",
       "rating         0\n",
       "char_length    0\n",
       "new_column     0\n",
       "new_cloumns    0\n",
       "tokenize       0\n",
       "sw             0\n",
       "lemmatize      0\n",
       "dtype: int64"
      ]
     },
     "execution_count": 21,
     "metadata": {},
     "output_type": "execute_result"
    }
   ],
   "source": [
    "df.isna().sum()"
   ]
  },
  {
   "cell_type": "markdown",
   "metadata": {},
   "source": [
    "# Splitting Dataset for Training and Testing "
   ]
  },
  {
   "cell_type": "code",
   "execution_count": 22,
   "metadata": {},
   "outputs": [],
   "source": [
    "from sklearn.model_selection import train_test_split\n",
    "X_train, X_test, y_train, y_test = train_test_split(df.lemmatize,df.rating,test_size=0.2,random_state=1)"
   ]
  },
  {
   "cell_type": "code",
   "execution_count": 23,
   "metadata": {},
   "outputs": [
    {
     "data": {
      "text/plain": [
       "4698"
      ]
     },
     "execution_count": 23,
     "metadata": {},
     "output_type": "execute_result"
    }
   ],
   "source": [
    "len(X_test)"
   ]
  },
  {
   "cell_type": "code",
   "execution_count": 24,
   "metadata": {},
   "outputs": [
    {
     "name": "stdout",
     "output_type": "stream",
     "text": [
      "17668    [wow, huge, tent, look, right, style, absurd, could, fit, two, width, peplum, style, extra, width, flatter, anyone, fabric, also, thin, hang, nicely, kind, float, around, body, want, wide, top, pe...\n",
      "5824                                  [softest, denim, feel, like, wash, hundred, time, already, pleased, belt, removable, add, bit, much, bulk, number, number, bought, petite, perfect, fit, become, go, pair]\n",
      "10122    [saw, store, purchased, right, spot, even, see, review, wear, either, small, x, small, retailer, top, x, small, better, fit, draped, nicely, still, loose, number, number, number, lb, numberb, worr...\n",
      "8894            [skirt, beautiful, sizing, kind, usually, wear, number, number, number, number, lb, ordered, number, though, since, sometimes, athropologie, clothes, run, small, even, number, tight, exchange]\n",
      "22124                                                                                                                                                                                                      [nan]\n",
      "6762                                                                                                                                                                [loved, loved, loved, shirt, material, thin]\n",
      "20796    [describe, two, word, would, material, stiff, give, material, nbut, rahter, soft, stretchy, material, depth, design, groove, sure, explain, short, would, definitely, go, petite, though, little, lo...\n",
      "20234                                                                                                                             [wonderful, slimming, legging, snappy, great, accessory, professional, outfit]\n",
      "11877    [great, causal, tank, back, bitter, longer, front, number, number, back, model, shot, right, hip, butt, material, poly, spandex, rayon, mix, feel, predominately, like, polyester, rayon, little, bi...\n",
      "11153    [tried, hard, make, work, beautiful, ended, returning, first, delicate, material, terrified, trying, second, could, make, drawstring, work, achieve, fit, wanted, third, low, would, need, cami, sli...\n",
      "1366                                                                                                                                                                                                       [nan]\n",
      "14647                                                                                                                                                               [love, dress, comfortable, soft, absolutely]\n",
      "10460                                                                                                                [way, oversized, several, pair, pilcro, jean, run, way, large, wasted, money, shipping, wo]\n",
      "17095    [sad, return, legging, adorable, much, fiancã, commented, favorably, reviewer, pointed, elastic, string, waistband, walk, around, holding, one, hand, fall, sleeping, snow, whyyyyyyyyyyy, great, ot...\n",
      "13106               [material, beautiful, others, said, bit, fuller, one, might, think, returning, high, waisted, thick, elastic, waist, band, style, suppose, would, work, thick, belt, said, beautiful, style]\n",
      "10831    [dress, look, plain, model, would, never, guess, look, adorable, saw, walked, local, retailer, tried, quickly, skinny, jean, wearing, grey, suede, boot, looked, amazing, perfect, teacher, dress, w...\n",
      "5850     [excited, receive, sweater, mail, since, local, store, carry, cute, design, smaller, frame, curly, top, lay, way, model, plenty, stretch, unfortunately, fabric, shed, itch, terribly, could, wear, ...\n",
      "22       [first, pullover, styling, side, zipper, would, purchased, knew, side, zipper, large, bust, side, zipper, next, impossible, second, tulle, feel, look, cheap, slip, awkward, tight, shape, underneat...\n",
      "2530                                                                                    [beautifully, fitting, simple, flattering, athletic, size, number, number, number, fit, well, strap, may, taken, little]\n",
      "10370    [normally, one, spend, number, number, dress, retailer, dress, arrived, mail, brainer, would, keep, hang, beautifully, body, fabric, extremely, comfortable, tie, waist, really, flattering, necklin...\n",
      "19215                                                                                      [bought, skirt, end, summer, caribbean, party, floral, detail, even, fun, person, look, great, red, top, black, tank]\n",
      "15000    [number, number, number, pound, ordered, number, petite, jean, fabulous, flattering, comfortable, could, go, fabric, super, soft, fit, hug, right, place, nice, flare, bottom, wear, heel, wedge, lo...\n",
      "16949    [agree, positive, review, fit, nicely, casual, lifestyle, ordered, xl, grey, although, generally, wear, large, bit, oversized, plenty, room, layering, bulge, bit, back, knit, waistband, still, hit...\n",
      "18323    [decided, take, advantage, free, shipping, despite, seeing, review, yet, received, dress, today, exactly, pictured, number, inch, shorter, usually, x, chose, x, late, everything, seem, order, huge...\n",
      "13261                                                                                     [even, wait, sale, top, adorable, fit, great, bought, medium, wear, small, thing, like, touch, big, hang, better, way]\n",
      "525                                                                               [horizontal, line, skirt, top, give, wearer, nice, dress, short, got, number, petite, fit, perfectly, fabric, thick, stretchy]\n",
      "815                                                                             [love, back, detail, feel, comfortable, bought, green, fitted, get, size, larger, plan, layer, number, bought, x, size, ordered]\n",
      "5774                                                                                                                                      [shade, orange, quite, muddy, vibrant, like, photo, show, going, back]\n",
      "22033    [reading, review, sized, number, received, loved, fabric, color, however, ill, fitting, like, designer, even, use, female, measurement, used, box, make, top, wide, liked, much, sized, way, number,...\n",
      "20745    [skirt, classic, high, quality, even, better, person, run, true, size, material, slightly, thick, great, fall, winter, early, spring, complaint, wish, pocket, love, tracy, reese, design, cannot, w...\n",
      "                                                                                                          ...                                                                                                   \n",
      "6285            [dress, beautiful, meant, super, form, fitting, opinion, true, size, altho, could, see, others, may, want, case, size, came, wrinkled, make, petite, forgiven, material, sure, could, prevented]\n",
      "1110                      [oh, yes, another, sequin, top, add, collection, sparkly, without, glittery, know, mean, definitely, dress, tee, shirt, like, lot, option, one, tt, much, better, person, online, pic]\n",
      "18272    [lovely, looking, sweater, unfortunately, run, incredibly, small, number, number, size, small, hit, mid, rise, jean, fit, shown, model, also, delicate, fabric, seems, like, would, snag, easily, re...\n",
      "11742                      [material, velvety, smooth, quite, pink, pictured, website, dusty, brown, rose, well, made, nice, fit, flattering, petite, frame, wonderful, third, piece, complete, elevate, outfit]\n",
      "17137                                                                                                   [heavy, cotton, great, fall, design, cute, pocket, interesting, fit, boxy, look, bulky, recommend, sale]\n",
      "19433    [bought, white, sp, mp, number, number, ended, keeping, mp, usually, size, numberc, broad, shoulder, found, top, sleeve, bit, snug, normal, size, arm, look, model, shot, see, tight, top, also, fou...\n",
      "16946                                                  [ordered, x, regular, barely, skim, floor, wearing, wedge, heel, perfect, form, fitting, clingy, think, pretty, comfortable, dress, glad, made, purchase]\n",
      "22926    [dress, absolutely, stunning, number, foot, curvy, flowy, lightweight, sparkle, mixed, gorgeous, print, fit, everywhere, except, got, zipper, chest, numberdd, going, finish, zipping, sad, even, tr...\n",
      "4764                                                                              [bought, girlfriend, could, happier, size, number, numberc, small, fit, perfectly, flattering, comfortable, highly, recommend]\n",
      "19946    [thsi, ginormous, looked, like, mu, mu, pretty, much, fabric, even, smallest, size, quality, seems, nice, look, pretty, overwhelming, say, think, would, work, tail, lean, people, pretty, muscular,...\n",
      "8444                                                                                                                           [super, cute, fabric, thin, flimsy, afraid, would, fall, apart, washed, returned]\n",
      "18900           [saw, dress, retailer, store, fell, love, tried, even, though, wearing, jean, desert, boot, dress, looked, terrific, great, obviously, dressed, wonderful, addition, wardrobe, thanks, retailer]\n",
      "2962     [picture, dress, justice, color, store, much, vibrant, embroidered, flower, orange, coral, colored, also, certain, angle, depending, lighting, dress, look, navy, blue, versus, black, enjoyed, sizi...\n",
      "12645                                                                                                                                                            [great, piece, many, thing, wore, work, church]\n",
      "21758    [expecting, love, based, review, prior, experience, brand, little, unsure, front, part, hang, bit, low, number, number, frame, yet, think, petite, would, slit, high, side, sure, hang, right, fitte...\n",
      "21780                                                                                                [dress, true, size, generous, stretch, absolutely, love, dress, compliment, needed, hide, need, hid, tummy]\n",
      "3462     [top, gorgeous, color, embroidery, neckline, perfect, worn, casually, jean, dressed, special, occasion, wore, thanksgiving, part, also, take, final, exam, comfy, piece, definitely, run, small, ord...\n",
      "10989                                                                                                                                                          [love, dress, color, eye, catching, flow, nicely]\n",
      "7751                                                                                  [amazing, looking, skirt, exciting, pattern, flattering, light, weight, though, almost, flimsy, deal, breaker, wear, love]\n",
      "16332                                                                         [sweater, would, better, fit, sleeve, slightly, larger, button, snap, front, material, soft, comfortable, black, pair, well, jean]\n",
      "20609    [sweater, feel, good, itchy, long, waisted, small, hit, right, hip, bone, top, low, waisted, jean, kinda, shorter, side, liked, way, bc, baggy, bottom, figure, flattering, tied, tie, twice, though...\n",
      "144                                                                          [firned, tried, first, comment, take, scratchy, bother, trying, however, beautiful, sensitive, scratchy, material, fit, true, size]\n",
      "21440                                                                                                                                                       [soft, sized, able, wear, without, cami, underneath]\n",
      "19279    [sucker, good, swing, top, many, style, retailer, similar, retailer, carry, weight, stomach, butt, hip, style, always, good, soon, saw, online, fell, hard, waited, patiently, arrive, store, finall...\n",
      "7813                                                                                                        [like, pattern, material, top, bubble, hem, flattering, figure, would, recommend, top, tiny, petite]\n",
      "10955                                                                                                                           [beautiful, dress, except, expected, flowy, fabric, much, stuff, thought, would]\n",
      "17289    [thought, top, would, little, form, fitting, much, extra, fabric, near, bottom, almost, like, swing, style, top, fabric, definitely, snag, linen, cotton, top, material, rather, silky, type, also, ...\n",
      "5192                                                                       [bought, top, date, night, something, little, special, also, comfortable, broad, shoulder, style, accommodates, easy, dress, perfect]\n",
      "12172                                  [wanted, like, much, great, good, girl, dress, church, dress, however, make, sense, summer, dress, massively, thick, lining, snag, petite, busty, made, look, feel, wide]\n",
      "235                                                                          [blush, stripe, subtle, definitely, give, elongating, effect, leg, comfortable, pair, crop, pant, calf, definitely, feeling, tight]\n",
      "Name: lemmatize, Length: 18788, dtype: object\n"
     ]
    }
   ],
   "source": [
    "print(X_train)"
   ]
  },
  {
   "cell_type": "markdown",
   "metadata": {},
   "source": [
    "# Feature Extraction\n",
    "generating matrix value of text Dataset using Countvectorizer then converting them into TFIDF (term frequency–inverse document frequency) "
   ]
  },
  {
   "cell_type": "code",
   "execution_count": 25,
   "metadata": {},
   "outputs": [
    {
     "name": "stdout",
     "output_type": "stream",
     "text": [
      "[[0 0 0 ... 0 0 0]\n",
      " [0 0 0 ... 0 0 0]\n",
      " [0 0 0 ... 0 0 0]\n",
      " ...\n",
      " [0 0 0 ... 0 0 0]\n",
      " [0 0 0 ... 0 0 0]\n",
      " [0 0 0 ... 0 0 0]]\n"
     ]
    }
   ],
   "source": [
    "from sklearn.feature_extraction.text import CountVectorizer\n",
    "cv = CountVectorizer(analyzer = lemmatization)\n",
    "\n",
    "training_data = cv.fit_transform(X_train)\n",
    "training_data_toarray= training_data.toarray()\n",
    "print(training_data_toarray)"
   ]
  },
  {
   "cell_type": "code",
   "execution_count": 26,
   "metadata": {},
   "outputs": [],
   "source": [
    "from sklearn.feature_extraction.text import TfidfTransformer\n",
    "tfidf_transformer = TfidfTransformer()\n",
    "Xtrain_tfidf = tfidf_transformer.fit_transform(training_data)"
   ]
  },
  {
   "cell_type": "code",
   "execution_count": 27,
   "metadata": {},
   "outputs": [
    {
     "data": {
      "text/plain": [
       "(18788, 11077)"
      ]
     },
     "execution_count": 27,
     "metadata": {},
     "output_type": "execute_result"
    }
   ],
   "source": [
    "Xtrain_tfidf.shape"
   ]
  },
  {
   "cell_type": "code",
   "execution_count": 28,
   "metadata": {},
   "outputs": [],
   "source": [
    "# print(Xtrain_tfidf.toarray())"
   ]
  },
  {
   "cell_type": "markdown",
   "metadata": {},
   "source": [
    "# Implementing the Naive Bayes model and fitting the taining dataset "
   ]
  },
  {
   "cell_type": "code",
   "execution_count": 29,
   "metadata": {},
   "outputs": [],
   "source": [
    "from sklearn.naive_bayes import MultinomialNB\n",
    "clf = MultinomialNB().fit(Xtrain_tfidf, y_train)\n"
   ]
  },
  {
   "cell_type": "markdown",
   "metadata": {},
   "source": [
    "# Testing the model"
   ]
  },
  {
   "cell_type": "code",
   "execution_count": 30,
   "metadata": {},
   "outputs": [],
   "source": [
    "X_test_tf = cv.transform(X_test)\n",
    "X_test_tfidf=tfidf_transformer.transform(X_test_tf)\n",
    "predicted= clf.predict(X_test_tfidf)"
   ]
  },
  {
   "cell_type": "code",
   "execution_count": 31,
   "metadata": {},
   "outputs": [],
   "source": [
    "# from sklearn import metrics\n",
    "# from sklearn.metrics import accuracy_score\n",
    "# target_names = ['1' , '2', '3', '4', '5']\n",
    "# print(\"Accuracy:\", accuracy_score(y_test, predicted))\n",
    "# print(metrics.classification_report((y_test, predicted, target_names= y_test.target_names)),metrics.confusion_matrix(y_train, predicted))"
   ]
  },
  {
   "cell_type": "markdown",
   "metadata": {},
   "source": [
    "# Precision\n",
    "# Confusion matrix"
   ]
  },
  {
   "cell_type": "code",
   "execution_count": 32,
   "metadata": {},
   "outputs": [
    {
     "name": "stdout",
     "output_type": "stream",
     "text": [
      "             precision    recall  f1-score   support\n",
      "\n",
      "          1       0.00      0.00      0.00       185\n",
      "          2       0.00      0.00      0.00       299\n",
      "          3       0.36      0.01      0.03       601\n",
      "          4       0.28      0.01      0.02      1027\n",
      "          5       0.56      1.00      0.72      2586\n",
      "\n",
      "avg / total       0.41      0.55      0.40      4698\n",
      "\n"
     ]
    },
    {
     "name": "stderr",
     "output_type": "stream",
     "text": [
      "C:\\Users\\Dell\\Anaconda3\\lib\\site-packages\\sklearn\\metrics\\classification.py:1135: UndefinedMetricWarning: Precision and F-score are ill-defined and being set to 0.0 in labels with no predicted samples.\n",
      "  'precision', 'predicted', average, warn_for)\n"
     ]
    }
   ],
   "source": [
    "from sklearn import metrics\n",
    "print(metrics.classification_report(y_test, predicted)) #target nameko list banaune then yo code ma tagetnames= targetname list garne\n",
    "# print(metrics.confusion_matrix((y_test, predicted))\n"
   ]
  },
  {
   "cell_type": "code",
   "execution_count": 33,
   "metadata": {},
   "outputs": [
    {
     "name": "stdout",
     "output_type": "stream",
     "text": [
      "[[   0    0    9    7  169]\n",
      " [   0    0    6    7  286]\n",
      " [   0    0    9   13  579]\n",
      " [   0    0    1   11 1015]\n",
      " [   0    0    0    1 2585]]\n"
     ]
    }
   ],
   "source": [
    "print(metrics.confusion_matrix(y_test, predicted))"
   ]
  },
  {
   "cell_type": "markdown",
   "metadata": {},
   "source": [
    "# Implementing the Naive Bayes model and fitting the taining dataset"
   ]
  },
  {
   "cell_type": "code",
   "execution_count": 34,
   "metadata": {},
   "outputs": [
    {
     "data": {
      "text/plain": [
       "SVC(C=1.0, cache_size=200, class_weight=None, coef0=0.0,\n",
       "  decision_function_shape='ovr', degree=3, gamma='auto', kernel='rbf',\n",
       "  max_iter=-1, probability=False, random_state=None, shrinking=True,\n",
       "  tol=0.001, verbose=False)"
      ]
     },
     "execution_count": 34,
     "metadata": {},
     "output_type": "execute_result"
    }
   ],
   "source": [
    "from sklearn.svm import SVC\n",
    "svc = SVC()\n",
    "svc.fit(Xtrain_tfidf, y_train)"
   ]
  },
  {
   "cell_type": "code",
   "execution_count": 35,
   "metadata": {},
   "outputs": [],
   "source": [
    "predict = svc.predict(X_test_tfidf)"
   ]
  },
  {
   "cell_type": "markdown",
   "metadata": {},
   "source": [
    "# Precision And COnfusion Matrix"
   ]
  },
  {
   "cell_type": "code",
   "execution_count": 36,
   "metadata": {},
   "outputs": [
    {
     "name": "stdout",
     "output_type": "stream",
     "text": [
      "             precision    recall  f1-score   support\n",
      "\n",
      "          1       0.00      0.00      0.00       185\n",
      "          2       0.00      0.00      0.00       299\n",
      "          3       0.00      0.00      0.00       601\n",
      "          4       0.00      0.00      0.00      1027\n",
      "          5       0.55      1.00      0.71      2586\n",
      "\n",
      "avg / total       0.30      0.55      0.39      4698\n",
      "\n"
     ]
    },
    {
     "name": "stderr",
     "output_type": "stream",
     "text": [
      "C:\\Users\\Dell\\Anaconda3\\lib\\site-packages\\sklearn\\metrics\\classification.py:1135: UndefinedMetricWarning: Precision and F-score are ill-defined and being set to 0.0 in labels with no predicted samples.\n",
      "  'precision', 'predicted', average, warn_for)\n"
     ]
    }
   ],
   "source": [
    "from sklearn import metrics\n",
    "print(metrics.classification_report(y_test, predict))"
   ]
  },
  {
   "cell_type": "markdown",
   "metadata": {},
   "source": [
    "# Testing the external input"
   ]
  },
  {
   "cell_type": "code",
   "execution_count": 37,
   "metadata": {},
   "outputs": [],
   "source": [
    "# doc = ['This product so far has not disappointed', 'electronics product are bad']\n",
    "# doc_counts = cv.transform(doc)\n",
    "# doc_tfidf=tfidf_transformer.transform(doc_counts)\n",
    "# predicted= clf.predict(doc_tfidf)\n"
   ]
  },
  {
   "cell_type": "code",
   "execution_count": 38,
   "metadata": {},
   "outputs": [
    {
     "name": "stdout",
     "output_type": "stream",
     "text": [
      "5\n",
      "4\n"
     ]
    }
   ],
   "source": [
    "# for x in predicted:\n",
    "#     print(x)"
   ]
  },
  {
   "cell_type": "markdown",
   "metadata": {},
   "source": [
    "How it worked ?\n",
    "Dataframe class provides a constructor to create Dataframe object by passing column names , index names & data in argument like this,\n",
    "def __init__(self, data=None, index=None, columns=None, dtype=None,"
   ]
  },
  {
   "cell_type": "code",
   "execution_count": 39,
   "metadata": {},
   "outputs": [
    {
     "name": "stdout",
     "output_type": "stream",
     "text": [
      "Empty Dataframe \n",
      "Empty DataFrame\n",
      "Columns: [User_ID, UserName, Action]\n",
      "Index: []\n"
     ]
    }
   ],
   "source": [
    "import pandas as pd\n",
    "dfObj = pd.DataFrame(columns=['User_ID', 'UserName', 'Action'])\n",
    "print(\"Empty Dataframe \", dfObj, sep='\\n')\n"
   ]
  },
  {
   "cell_type": "code",
   "execution_count": 40,
   "metadata": {},
   "outputs": [
    {
     "data": {
      "text/html": [
       "<div>\n",
       "<style scoped>\n",
       "    .dataframe tbody tr th:only-of-type {\n",
       "        vertical-align: middle;\n",
       "    }\n",
       "\n",
       "    .dataframe tbody tr th {\n",
       "        vertical-align: top;\n",
       "    }\n",
       "\n",
       "    .dataframe thead th {\n",
       "        text-align: right;\n",
       "    }\n",
       "</style>\n",
       "<table border=\"1\" class=\"dataframe\">\n",
       "  <thead>\n",
       "    <tr style=\"text-align: right;\">\n",
       "      <th></th>\n",
       "      <th>User_ID</th>\n",
       "      <th>UserName</th>\n",
       "      <th>Action</th>\n",
       "    </tr>\n",
       "  </thead>\n",
       "  <tbody>\n",
       "  </tbody>\n",
       "</table>\n",
       "</div>"
      ],
      "text/plain": [
       "Empty DataFrame\n",
       "Columns: [User_ID, UserName, Action]\n",
       "Index: []"
      ]
     },
     "execution_count": 40,
     "metadata": {},
     "output_type": "execute_result"
    }
   ],
   "source": [
    "dfObj.head()"
   ]
  },
  {
   "cell_type": "code",
   "execution_count": 41,
   "metadata": {},
   "outputs": [],
   "source": [
    "dfObj = dfObj.append({'User_ID': 23, 'UserName': 'Riti', 'Action': 'Login'}, ignore_index=True)"
   ]
  },
  {
   "cell_type": "code",
   "execution_count": 42,
   "metadata": {},
   "outputs": [
    {
     "data": {
      "text/html": [
       "<div>\n",
       "<style scoped>\n",
       "    .dataframe tbody tr th:only-of-type {\n",
       "        vertical-align: middle;\n",
       "    }\n",
       "\n",
       "    .dataframe tbody tr th {\n",
       "        vertical-align: top;\n",
       "    }\n",
       "\n",
       "    .dataframe thead th {\n",
       "        text-align: right;\n",
       "    }\n",
       "</style>\n",
       "<table border=\"1\" class=\"dataframe\">\n",
       "  <thead>\n",
       "    <tr style=\"text-align: right;\">\n",
       "      <th></th>\n",
       "      <th>User_ID</th>\n",
       "      <th>UserName</th>\n",
       "      <th>Action</th>\n",
       "    </tr>\n",
       "  </thead>\n",
       "  <tbody>\n",
       "    <tr>\n",
       "      <th>0</th>\n",
       "      <td>23</td>\n",
       "      <td>Riti</td>\n",
       "      <td>Login</td>\n",
       "    </tr>\n",
       "  </tbody>\n",
       "</table>\n",
       "</div>"
      ],
      "text/plain": [
       "  User_ID UserName Action\n",
       "0      23     Riti  Login"
      ]
     },
     "execution_count": 42,
     "metadata": {},
     "output_type": "execute_result"
    }
   ],
   "source": [
    "dfObj.head()"
   ]
  },
  {
   "cell_type": "code",
   "execution_count": 43,
   "metadata": {},
   "outputs": [],
   "source": [
    "Doc = pd.DataFrame(columns=['testing'])"
   ]
  },
  {
   "cell_type": "code",
   "execution_count": 44,
   "metadata": {},
   "outputs": [],
   "source": [
    "Doc = Doc.append({'testing':'Absolutely wonderful - silky and sexy and comfortable' }, ignore_index=True)"
   ]
  },
  {
   "cell_type": "code",
   "execution_count": 45,
   "metadata": {},
   "outputs": [],
   "source": [
    "Doc = Doc.append({'testing':'I had such high hopes for this dress and really wanted it to work for me. i initially ordered the petite small (my usual size) but i found this to be outrageously small. so small in fact that i could not zip it up! i reordered it in petite medium, which was just ok. overall, the top half was comfortable and fit nicely, but the bottom half had a very tight under layer and several somewhat cheap (net) over layers. imo, a major design flaw was the net over layer sewn directly into the zipper - it c' }, ignore_index=True)"
   ]
  },
  {
   "cell_type": "code",
   "execution_count": 46,
   "metadata": {},
   "outputs": [
    {
     "data": {
      "text/html": [
       "<div>\n",
       "<style scoped>\n",
       "    .dataframe tbody tr th:only-of-type {\n",
       "        vertical-align: middle;\n",
       "    }\n",
       "\n",
       "    .dataframe tbody tr th {\n",
       "        vertical-align: top;\n",
       "    }\n",
       "\n",
       "    .dataframe thead th {\n",
       "        text-align: right;\n",
       "    }\n",
       "</style>\n",
       "<table border=\"1\" class=\"dataframe\">\n",
       "  <thead>\n",
       "    <tr style=\"text-align: right;\">\n",
       "      <th></th>\n",
       "      <th>testing</th>\n",
       "    </tr>\n",
       "  </thead>\n",
       "  <tbody>\n",
       "    <tr>\n",
       "      <th>0</th>\n",
       "      <td>Absolutely wonderful - silky and sexy and comfortable</td>\n",
       "    </tr>\n",
       "    <tr>\n",
       "      <th>1</th>\n",
       "      <td>I had such high hopes for this dress and really wanted it to work for me. i initially ordered the petite small (my usual size) but i found this to be outrageously small. so small in fact that i co...</td>\n",
       "    </tr>\n",
       "  </tbody>\n",
       "</table>\n",
       "</div>"
      ],
      "text/plain": [
       "                                                                                                                                                                                                   testing\n",
       "0                                                                                                                                                    Absolutely wonderful - silky and sexy and comfortable\n",
       "1  I had such high hopes for this dress and really wanted it to work for me. i initially ordered the petite small (my usual size) but i found this to be outrageously small. so small in fact that i co..."
      ]
     },
     "execution_count": 46,
     "metadata": {},
     "output_type": "execute_result"
    }
   ],
   "source": [
    "Doc.head()"
   ]
  },
  {
   "cell_type": "code",
   "execution_count": 47,
   "metadata": {},
   "outputs": [
    {
     "data": {
      "text/html": [
       "<div>\n",
       "<style scoped>\n",
       "    .dataframe tbody tr th:only-of-type {\n",
       "        vertical-align: middle;\n",
       "    }\n",
       "\n",
       "    .dataframe tbody tr th {\n",
       "        vertical-align: top;\n",
       "    }\n",
       "\n",
       "    .dataframe thead th {\n",
       "        text-align: right;\n",
       "    }\n",
       "</style>\n",
       "<table border=\"1\" class=\"dataframe\">\n",
       "  <thead>\n",
       "    <tr style=\"text-align: right;\">\n",
       "      <th></th>\n",
       "      <th>testing</th>\n",
       "    </tr>\n",
       "  </thead>\n",
       "  <tbody>\n",
       "    <tr>\n",
       "      <th>0</th>\n",
       "      <td>absolutely wonderful - silky and sexy and comfortable</td>\n",
       "    </tr>\n",
       "    <tr>\n",
       "      <th>1</th>\n",
       "      <td>i had such high hopes for this dress and really wanted it to work for me. i initially ordered the petite small (my usual size) but i found this to be outrageously small. so small in fact that i co...</td>\n",
       "    </tr>\n",
       "  </tbody>\n",
       "</table>\n",
       "</div>"
      ],
      "text/plain": [
       "                                                                                                                                                                                                   testing\n",
       "0                                                                                                                                                    absolutely wonderful - silky and sexy and comfortable\n",
       "1  i had such high hopes for this dress and really wanted it to work for me. i initially ordered the petite small (my usual size) but i found this to be outrageously small. so small in fact that i co..."
      ]
     },
     "execution_count": 47,
     "metadata": {},
     "output_type": "execute_result"
    }
   ],
   "source": [
    "Doc.testing = Doc.testing.astype(str) \n",
    " \n",
    "Doc.testing = Doc.testing.apply(lambda x: x.lower())\n",
    "Doc.head()"
   ]
  },
  {
   "cell_type": "code",
   "execution_count": 48,
   "metadata": {},
   "outputs": [],
   "source": [
    "import string\n",
    "def remove_punctuations(txt):\n",
    "    txt = \"\".join([c for c in txt if c not in string.punctuation])\n",
    "    return txt\n",
    "\n"
   ]
  },
  {
   "cell_type": "code",
   "execution_count": 49,
   "metadata": {},
   "outputs": [
    {
     "data": {
      "text/html": [
       "<div>\n",
       "<style scoped>\n",
       "    .dataframe tbody tr th:only-of-type {\n",
       "        vertical-align: middle;\n",
       "    }\n",
       "\n",
       "    .dataframe tbody tr th {\n",
       "        vertical-align: top;\n",
       "    }\n",
       "\n",
       "    .dataframe thead th {\n",
       "        text-align: right;\n",
       "    }\n",
       "</style>\n",
       "<table border=\"1\" class=\"dataframe\">\n",
       "  <thead>\n",
       "    <tr style=\"text-align: right;\">\n",
       "      <th></th>\n",
       "      <th>testing</th>\n",
       "    </tr>\n",
       "  </thead>\n",
       "  <tbody>\n",
       "    <tr>\n",
       "      <th>0</th>\n",
       "      <td>absolutely wonderful  silky and sexy and comfortable</td>\n",
       "    </tr>\n",
       "    <tr>\n",
       "      <th>1</th>\n",
       "      <td>i had such high hopes for this dress and really wanted it to work for me i initially ordered the petite small my usual size but i found this to be outrageously small so small in fact that i could ...</td>\n",
       "    </tr>\n",
       "  </tbody>\n",
       "</table>\n",
       "</div>"
      ],
      "text/plain": [
       "                                                                                                                                                                                                   testing\n",
       "0                                                                                                                                                     absolutely wonderful  silky and sexy and comfortable\n",
       "1  i had such high hopes for this dress and really wanted it to work for me i initially ordered the petite small my usual size but i found this to be outrageously small so small in fact that i could ..."
      ]
     },
     "execution_count": 49,
     "metadata": {},
     "output_type": "execute_result"
    }
   ],
   "source": [
    "Doc['testing'] = Doc['testing'].apply(remove_punctuations)\n",
    "Doc.head()"
   ]
  },
  {
   "cell_type": "code",
   "execution_count": 50,
   "metadata": {},
   "outputs": [
    {
     "data": {
      "text/html": [
       "<div>\n",
       "<style scoped>\n",
       "    .dataframe tbody tr th:only-of-type {\n",
       "        vertical-align: middle;\n",
       "    }\n",
       "\n",
       "    .dataframe tbody tr th {\n",
       "        vertical-align: top;\n",
       "    }\n",
       "\n",
       "    .dataframe thead th {\n",
       "        text-align: right;\n",
       "    }\n",
       "</style>\n",
       "<table border=\"1\" class=\"dataframe\">\n",
       "  <thead>\n",
       "    <tr style=\"text-align: right;\">\n",
       "      <th></th>\n",
       "      <th>testing</th>\n",
       "    </tr>\n",
       "  </thead>\n",
       "  <tbody>\n",
       "    <tr>\n",
       "      <th>0</th>\n",
       "      <td>[absolutely, wonderful, silky, and, sexy, and, comfortable]</td>\n",
       "    </tr>\n",
       "    <tr>\n",
       "      <th>1</th>\n",
       "      <td>[i, had, such, high, hopes, for, this, dress, and, really, wanted, it, to, work, for, me, i, initially, ordered, the, petite, small, my, usual, size, but, i, found, this, to, be, outrageously, sma...</td>\n",
       "    </tr>\n",
       "  </tbody>\n",
       "</table>\n",
       "</div>"
      ],
      "text/plain": [
       "                                                                                                                                                                                                   testing\n",
       "0                                                                                                                                              [absolutely, wonderful, silky, and, sexy, and, comfortable]\n",
       "1  [i, had, such, high, hopes, for, this, dress, and, really, wanted, it, to, work, for, me, i, initially, ordered, the, petite, small, my, usual, size, but, i, found, this, to, be, outrageously, sma..."
      ]
     },
     "execution_count": 50,
     "metadata": {},
     "output_type": "execute_result"
    }
   ],
   "source": [
    "import re\n",
    "\n",
    "def tokenize(txt):\n",
    "    tokens = re.split('\\W+' , txt)\n",
    "    return tokens\n",
    "Doc['testing']=Doc['testing'].apply(lambda x: tokenize(x.lower()))\n",
    "Doc.head()"
   ]
  },
  {
   "cell_type": "code",
   "execution_count": 51,
   "metadata": {},
   "outputs": [
    {
     "data": {
      "text/plain": [
       "['i', 'me', 'my', 'myself', 'we', 'our', 'ours', 'ourselves', 'you', \"you're\"]"
      ]
     },
     "execution_count": 51,
     "metadata": {},
     "output_type": "execute_result"
    }
   ],
   "source": [
    "import nltk\n",
    "stopwords = nltk.corpus.stopwords.words('english')\n",
    "stopwords[0:10]"
   ]
  },
  {
   "cell_type": "code",
   "execution_count": 52,
   "metadata": {},
   "outputs": [
    {
     "data": {
      "text/html": [
       "<div>\n",
       "<style scoped>\n",
       "    .dataframe tbody tr th:only-of-type {\n",
       "        vertical-align: middle;\n",
       "    }\n",
       "\n",
       "    .dataframe tbody tr th {\n",
       "        vertical-align: top;\n",
       "    }\n",
       "\n",
       "    .dataframe thead th {\n",
       "        text-align: right;\n",
       "    }\n",
       "</style>\n",
       "<table border=\"1\" class=\"dataframe\">\n",
       "  <thead>\n",
       "    <tr style=\"text-align: right;\">\n",
       "      <th></th>\n",
       "      <th>testing</th>\n",
       "    </tr>\n",
       "  </thead>\n",
       "  <tbody>\n",
       "    <tr>\n",
       "      <th>0</th>\n",
       "      <td>[absolutely, wonderful, silky, sexy, comfortable]</td>\n",
       "    </tr>\n",
       "    <tr>\n",
       "      <th>1</th>\n",
       "      <td>[high, hopes, dress, really, wanted, work, initially, ordered, petite, small, usual, size, found, outrageously, small, small, fact, could, zip, reordered, petite, medium, ok, overall, top, half, c...</td>\n",
       "    </tr>\n",
       "  </tbody>\n",
       "</table>\n",
       "</div>"
      ],
      "text/plain": [
       "                                                                                                                                                                                                   testing\n",
       "0                                                                                                                                                        [absolutely, wonderful, silky, sexy, comfortable]\n",
       "1  [high, hopes, dress, really, wanted, work, initially, ordered, petite, small, usual, size, found, outrageously, small, small, fact, could, zip, reordered, petite, medium, ok, overall, top, half, c..."
      ]
     },
     "execution_count": 52,
     "metadata": {},
     "output_type": "execute_result"
    }
   ],
   "source": [
    "def remove_stopwords(txt_tokenized):\n",
    "    txt_clean = [word for word in txt_tokenized if word not in stopwords]\n",
    "    return txt_clean\n",
    "Doc['testing']=Doc['testing'].apply(lambda x: remove_stopwords(x))\n",
    "Doc.head()"
   ]
  },
  {
   "cell_type": "code",
   "execution_count": 53,
   "metadata": {},
   "outputs": [
    {
     "data": {
      "text/html": [
       "<div>\n",
       "<style scoped>\n",
       "    .dataframe tbody tr th:only-of-type {\n",
       "        vertical-align: middle;\n",
       "    }\n",
       "\n",
       "    .dataframe tbody tr th {\n",
       "        vertical-align: top;\n",
       "    }\n",
       "\n",
       "    .dataframe thead th {\n",
       "        text-align: right;\n",
       "    }\n",
       "</style>\n",
       "<table border=\"1\" class=\"dataframe\">\n",
       "  <thead>\n",
       "    <tr style=\"text-align: right;\">\n",
       "      <th></th>\n",
       "      <th>testing</th>\n",
       "    </tr>\n",
       "  </thead>\n",
       "  <tbody>\n",
       "    <tr>\n",
       "      <th>0</th>\n",
       "      <td>[absolutely, wonderful, silky, sexy, comfortable]</td>\n",
       "    </tr>\n",
       "    <tr>\n",
       "      <th>1</th>\n",
       "      <td>[high, hope, dress, really, wanted, work, initially, ordered, petite, small, usual, size, found, outrageously, small, small, fact, could, zip, reordered, petite, medium, ok, overall, top, half, co...</td>\n",
       "    </tr>\n",
       "  </tbody>\n",
       "</table>\n",
       "</div>"
      ],
      "text/plain": [
       "                                                                                                                                                                                                   testing\n",
       "0                                                                                                                                                        [absolutely, wonderful, silky, sexy, comfortable]\n",
       "1  [high, hope, dress, really, wanted, work, initially, ordered, petite, small, usual, size, found, outrageously, small, small, fact, could, zip, reordered, petite, medium, ok, overall, top, half, co..."
      ]
     },
     "execution_count": 53,
     "metadata": {},
     "output_type": "execute_result"
    }
   ],
   "source": [
    "def lemmatization(token_txt):\n",
    "    text = [wn.lemmatize(word) for word in token_txt]\n",
    "    return text\n",
    "\n",
    "Doc['testing']= Doc['testing'].apply(lambda x : lemmatization(x))\n",
    "Doc.head()"
   ]
  },
  {
   "cell_type": "code",
   "execution_count": 54,
   "metadata": {},
   "outputs": [],
   "source": [
    "doc_counts = cv.transform(Doc.testing)\n",
    "doc_tfidf=tfidf_transformer.transform(doc_counts)\n",
    "predicted= clf.predict(doc_tfidf)\n"
   ]
  },
  {
   "cell_type": "code",
   "execution_count": 55,
   "metadata": {},
   "outputs": [
    {
     "name": "stdout",
     "output_type": "stream",
     "text": [
      "5\n",
      "5\n"
     ]
    }
   ],
   "source": [
    "for x in predicted:\n",
    "    print(x)"
   ]
  },
  {
   "cell_type": "code",
   "execution_count": null,
   "metadata": {},
   "outputs": [],
   "source": []
  }
 ],
 "metadata": {
  "kernelspec": {
   "display_name": "Python 3",
   "language": "python",
   "name": "python3"
  },
  "language_info": {
   "codemirror_mode": {
    "name": "ipython",
    "version": 3
   },
   "file_extension": ".py",
   "mimetype": "text/x-python",
   "name": "python",
   "nbconvert_exporter": "python",
   "pygments_lexer": "ipython3",
   "version": "3.6.5"
  }
 },
 "nbformat": 4,
 "nbformat_minor": 2
}
